{
  "nbformat": 4,
  "nbformat_minor": 0,
  "metadata": {
    "colab": {
      "provenance": [],
      "collapsed_sections": []
    },
    "kernelspec": {
      "name": "python3",
      "display_name": "Python 3"
    },
    "language_info": {
      "name": "python"
    },
    "accelerator": "GPU",
    "gpuClass": "standard"
  },
  "cells": [
    {
      "cell_type": "markdown",
      "source": [
        "# Setup and Config"
      ],
      "metadata": {
        "id": "atRLS09jLI3t"
      }
    },
    {
      "cell_type": "code",
      "source": [
        "!pip install deepface"
      ],
      "metadata": {
        "colab": {
          "base_uri": "https://localhost:8080/"
        },
        "id": "wURDc6AAFrYD",
        "outputId": "cb398684-8df1-4f14-b0c4-1ab82e251d97"
      },
      "execution_count": 1,
      "outputs": [
        {
          "output_type": "stream",
          "name": "stdout",
          "text": [
            "Looking in indexes: https://pypi.org/simple, https://us-python.pkg.dev/colab-wheels/public/simple/\n",
            "Collecting deepface\n",
            "  Downloading deepface-0.0.75-py3-none-any.whl (65 kB)\n",
            "\u001b[K     |████████████████████████████████| 65 kB 2.3 MB/s \n",
            "\u001b[?25hRequirement already satisfied: Flask>=1.1.2 in /usr/local/lib/python3.7/dist-packages (from deepface) (1.1.4)\n",
            "Collecting fire>=0.4.0\n",
            "  Downloading fire-0.4.0.tar.gz (87 kB)\n",
            "\u001b[K     |████████████████████████████████| 87 kB 5.1 MB/s \n",
            "\u001b[?25hRequirement already satisfied: opencv-python>=4.5.5.64 in /usr/local/lib/python3.7/dist-packages (from deepface) (4.6.0.66)\n",
            "Requirement already satisfied: gdown>=3.10.1 in /usr/local/lib/python3.7/dist-packages (from deepface) (4.4.0)\n",
            "Collecting retina-face>=0.0.1\n",
            "  Downloading retina_face-0.0.12-py3-none-any.whl (15 kB)\n",
            "Requirement already satisfied: tensorflow>=1.9.0 in /usr/local/lib/python3.7/dist-packages (from deepface) (2.9.2)\n",
            "Collecting mtcnn>=0.1.0\n",
            "  Downloading mtcnn-0.1.1-py3-none-any.whl (2.3 MB)\n",
            "\u001b[K     |████████████████████████████████| 2.3 MB 50.0 MB/s \n",
            "\u001b[?25hRequirement already satisfied: keras>=2.2.0 in /usr/local/lib/python3.7/dist-packages (from deepface) (2.9.0)\n",
            "Requirement already satisfied: Pillow>=5.2.0 in /usr/local/lib/python3.7/dist-packages (from deepface) (7.1.2)\n",
            "Requirement already satisfied: numpy>=1.14.0 in /usr/local/lib/python3.7/dist-packages (from deepface) (1.21.6)\n",
            "Requirement already satisfied: tqdm>=4.30.0 in /usr/local/lib/python3.7/dist-packages (from deepface) (4.64.1)\n",
            "Requirement already satisfied: pandas>=0.23.4 in /usr/local/lib/python3.7/dist-packages (from deepface) (1.3.5)\n",
            "Requirement already satisfied: six in /usr/local/lib/python3.7/dist-packages (from fire>=0.4.0->deepface) (1.15.0)\n",
            "Requirement already satisfied: termcolor in /usr/local/lib/python3.7/dist-packages (from fire>=0.4.0->deepface) (2.1.0)\n",
            "Requirement already satisfied: Werkzeug<2.0,>=0.15 in /usr/local/lib/python3.7/dist-packages (from Flask>=1.1.2->deepface) (1.0.1)\n",
            "Requirement already satisfied: itsdangerous<2.0,>=0.24 in /usr/local/lib/python3.7/dist-packages (from Flask>=1.1.2->deepface) (1.1.0)\n",
            "Requirement already satisfied: click<8.0,>=5.1 in /usr/local/lib/python3.7/dist-packages (from Flask>=1.1.2->deepface) (7.1.2)\n",
            "Requirement already satisfied: Jinja2<3.0,>=2.10.1 in /usr/local/lib/python3.7/dist-packages (from Flask>=1.1.2->deepface) (2.11.3)\n",
            "Requirement already satisfied: beautifulsoup4 in /usr/local/lib/python3.7/dist-packages (from gdown>=3.10.1->deepface) (4.6.3)\n",
            "Requirement already satisfied: requests[socks] in /usr/local/lib/python3.7/dist-packages (from gdown>=3.10.1->deepface) (2.23.0)\n",
            "Requirement already satisfied: filelock in /usr/local/lib/python3.7/dist-packages (from gdown>=3.10.1->deepface) (3.8.0)\n",
            "Requirement already satisfied: MarkupSafe>=0.23 in /usr/local/lib/python3.7/dist-packages (from Jinja2<3.0,>=2.10.1->Flask>=1.1.2->deepface) (2.0.1)\n",
            "Requirement already satisfied: python-dateutil>=2.7.3 in /usr/local/lib/python3.7/dist-packages (from pandas>=0.23.4->deepface) (2.8.2)\n",
            "Requirement already satisfied: pytz>=2017.3 in /usr/local/lib/python3.7/dist-packages (from pandas>=0.23.4->deepface) (2022.6)\n",
            "Requirement already satisfied: flatbuffers<2,>=1.12 in /usr/local/lib/python3.7/dist-packages (from tensorflow>=1.9.0->deepface) (1.12)\n",
            "Requirement already satisfied: grpcio<2.0,>=1.24.3 in /usr/local/lib/python3.7/dist-packages (from tensorflow>=1.9.0->deepface) (1.50.0)\n",
            "Requirement already satisfied: packaging in /usr/local/lib/python3.7/dist-packages (from tensorflow>=1.9.0->deepface) (21.3)\n",
            "Requirement already satisfied: absl-py>=1.0.0 in /usr/local/lib/python3.7/dist-packages (from tensorflow>=1.9.0->deepface) (1.3.0)\n",
            "Requirement already satisfied: h5py>=2.9.0 in /usr/local/lib/python3.7/dist-packages (from tensorflow>=1.9.0->deepface) (3.1.0)\n",
            "Requirement already satisfied: google-pasta>=0.1.1 in /usr/local/lib/python3.7/dist-packages (from tensorflow>=1.9.0->deepface) (0.2.0)\n",
            "Requirement already satisfied: wrapt>=1.11.0 in /usr/local/lib/python3.7/dist-packages (from tensorflow>=1.9.0->deepface) (1.14.1)\n",
            "Requirement already satisfied: astunparse>=1.6.0 in /usr/local/lib/python3.7/dist-packages (from tensorflow>=1.9.0->deepface) (1.6.3)\n",
            "Requirement already satisfied: gast<=0.4.0,>=0.2.1 in /usr/local/lib/python3.7/dist-packages (from tensorflow>=1.9.0->deepface) (0.4.0)\n",
            "Requirement already satisfied: opt-einsum>=2.3.2 in /usr/local/lib/python3.7/dist-packages (from tensorflow>=1.9.0->deepface) (3.3.0)\n",
            "Requirement already satisfied: protobuf<3.20,>=3.9.2 in /usr/local/lib/python3.7/dist-packages (from tensorflow>=1.9.0->deepface) (3.19.6)\n",
            "Requirement already satisfied: setuptools in /usr/local/lib/python3.7/dist-packages (from tensorflow>=1.9.0->deepface) (57.4.0)\n",
            "Requirement already satisfied: typing-extensions>=3.6.6 in /usr/local/lib/python3.7/dist-packages (from tensorflow>=1.9.0->deepface) (4.1.1)\n",
            "Requirement already satisfied: tensorflow-estimator<2.10.0,>=2.9.0rc0 in /usr/local/lib/python3.7/dist-packages (from tensorflow>=1.9.0->deepface) (2.9.0)\n",
            "Requirement already satisfied: libclang>=13.0.0 in /usr/local/lib/python3.7/dist-packages (from tensorflow>=1.9.0->deepface) (14.0.6)\n",
            "Requirement already satisfied: tensorflow-io-gcs-filesystem>=0.23.1 in /usr/local/lib/python3.7/dist-packages (from tensorflow>=1.9.0->deepface) (0.27.0)\n",
            "Requirement already satisfied: keras-preprocessing>=1.1.1 in /usr/local/lib/python3.7/dist-packages (from tensorflow>=1.9.0->deepface) (1.1.2)\n",
            "Requirement already satisfied: tensorboard<2.10,>=2.9 in /usr/local/lib/python3.7/dist-packages (from tensorflow>=1.9.0->deepface) (2.9.1)\n",
            "Requirement already satisfied: wheel<1.0,>=0.23.0 in /usr/local/lib/python3.7/dist-packages (from astunparse>=1.6.0->tensorflow>=1.9.0->deepface) (0.38.3)\n",
            "Requirement already satisfied: cached-property in /usr/local/lib/python3.7/dist-packages (from h5py>=2.9.0->tensorflow>=1.9.0->deepface) (1.5.2)\n",
            "Requirement already satisfied: tensorboard-plugin-wit>=1.6.0 in /usr/local/lib/python3.7/dist-packages (from tensorboard<2.10,>=2.9->tensorflow>=1.9.0->deepface) (1.8.1)\n",
            "Requirement already satisfied: tensorboard-data-server<0.7.0,>=0.6.0 in /usr/local/lib/python3.7/dist-packages (from tensorboard<2.10,>=2.9->tensorflow>=1.9.0->deepface) (0.6.1)\n",
            "Requirement already satisfied: google-auth<3,>=1.6.3 in /usr/local/lib/python3.7/dist-packages (from tensorboard<2.10,>=2.9->tensorflow>=1.9.0->deepface) (2.14.1)\n",
            "Requirement already satisfied: google-auth-oauthlib<0.5,>=0.4.1 in /usr/local/lib/python3.7/dist-packages (from tensorboard<2.10,>=2.9->tensorflow>=1.9.0->deepface) (0.4.6)\n",
            "Requirement already satisfied: markdown>=2.6.8 in /usr/local/lib/python3.7/dist-packages (from tensorboard<2.10,>=2.9->tensorflow>=1.9.0->deepface) (3.4.1)\n",
            "Requirement already satisfied: rsa<5,>=3.1.4 in /usr/local/lib/python3.7/dist-packages (from google-auth<3,>=1.6.3->tensorboard<2.10,>=2.9->tensorflow>=1.9.0->deepface) (4.9)\n",
            "Requirement already satisfied: pyasn1-modules>=0.2.1 in /usr/local/lib/python3.7/dist-packages (from google-auth<3,>=1.6.3->tensorboard<2.10,>=2.9->tensorflow>=1.9.0->deepface) (0.2.8)\n",
            "Requirement already satisfied: cachetools<6.0,>=2.0.0 in /usr/local/lib/python3.7/dist-packages (from google-auth<3,>=1.6.3->tensorboard<2.10,>=2.9->tensorflow>=1.9.0->deepface) (5.2.0)\n",
            "Requirement already satisfied: requests-oauthlib>=0.7.0 in /usr/local/lib/python3.7/dist-packages (from google-auth-oauthlib<0.5,>=0.4.1->tensorboard<2.10,>=2.9->tensorflow>=1.9.0->deepface) (1.3.1)\n",
            "Requirement already satisfied: importlib-metadata>=4.4 in /usr/local/lib/python3.7/dist-packages (from markdown>=2.6.8->tensorboard<2.10,>=2.9->tensorflow>=1.9.0->deepface) (4.13.0)\n",
            "Requirement already satisfied: zipp>=0.5 in /usr/local/lib/python3.7/dist-packages (from importlib-metadata>=4.4->markdown>=2.6.8->tensorboard<2.10,>=2.9->tensorflow>=1.9.0->deepface) (3.10.0)\n",
            "Requirement already satisfied: pyasn1<0.5.0,>=0.4.6 in /usr/local/lib/python3.7/dist-packages (from pyasn1-modules>=0.2.1->google-auth<3,>=1.6.3->tensorboard<2.10,>=2.9->tensorflow>=1.9.0->deepface) (0.4.8)\n",
            "Requirement already satisfied: chardet<4,>=3.0.2 in /usr/local/lib/python3.7/dist-packages (from requests[socks]->gdown>=3.10.1->deepface) (3.0.4)\n",
            "Requirement already satisfied: idna<3,>=2.5 in /usr/local/lib/python3.7/dist-packages (from requests[socks]->gdown>=3.10.1->deepface) (2.10)\n",
            "Requirement already satisfied: certifi>=2017.4.17 in /usr/local/lib/python3.7/dist-packages (from requests[socks]->gdown>=3.10.1->deepface) (2022.9.24)\n",
            "Requirement already satisfied: urllib3!=1.25.0,!=1.25.1,<1.26,>=1.21.1 in /usr/local/lib/python3.7/dist-packages (from requests[socks]->gdown>=3.10.1->deepface) (1.24.3)\n",
            "Requirement already satisfied: oauthlib>=3.0.0 in /usr/local/lib/python3.7/dist-packages (from requests-oauthlib>=0.7.0->google-auth-oauthlib<0.5,>=0.4.1->tensorboard<2.10,>=2.9->tensorflow>=1.9.0->deepface) (3.2.2)\n",
            "Requirement already satisfied: pyparsing!=3.0.5,>=2.0.2 in /usr/local/lib/python3.7/dist-packages (from packaging->tensorflow>=1.9.0->deepface) (3.0.9)\n",
            "Requirement already satisfied: PySocks!=1.5.7,>=1.5.6 in /usr/local/lib/python3.7/dist-packages (from requests[socks]->gdown>=3.10.1->deepface) (1.7.1)\n",
            "Building wheels for collected packages: fire\n",
            "  Building wheel for fire (setup.py) ... \u001b[?25l\u001b[?25hdone\n",
            "  Created wheel for fire: filename=fire-0.4.0-py2.py3-none-any.whl size=115940 sha256=06572090d86c19001625f9e3e6fb58ba0a437b23e783ad7159cb56ffe00cb2c6\n",
            "  Stored in directory: /root/.cache/pip/wheels/8a/67/fb/2e8a12fa16661b9d5af1f654bd199366799740a85c64981226\n",
            "Successfully built fire\n",
            "Installing collected packages: retina-face, mtcnn, fire, deepface\n",
            "Successfully installed deepface-0.0.75 fire-0.4.0 mtcnn-0.1.1 retina-face-0.0.12\n"
          ]
        }
      ]
    },
    {
      "cell_type": "code",
      "source": [
        "import numpy as np\n",
        "import pandas as pd\n",
        "import matplotlib.pyplot as plt\n",
        "import seaborn as sns\n",
        "\n",
        "import os\n",
        "from pprint import pprint"
      ],
      "metadata": {
        "id": "pwcE072CxrjU"
      },
      "execution_count": 2,
      "outputs": []
    },
    {
      "cell_type": "code",
      "source": [
        "from deepface import DeepFace"
      ],
      "metadata": {
        "id": "VKAqB8tbGA_X",
        "colab": {
          "base_uri": "https://localhost:8080/"
        },
        "outputId": "a7c8ae89-d862-4ff1-a541-067470f3db11"
      },
      "execution_count": 3,
      "outputs": [
        {
          "output_type": "stream",
          "name": "stdout",
          "text": [
            "Directory  /root /.deepface created\n",
            "Directory  /root /.deepface/weights created\n"
          ]
        }
      ]
    },
    {
      "cell_type": "code",
      "source": [
        "from IPython.core.interactiveshell import InteractiveShell\n",
        "InteractiveShell.ast_node_interactivity = \"all\"\n"
      ],
      "metadata": {
        "id": "x9OjLzgpXqqr"
      },
      "execution_count": 4,
      "outputs": []
    },
    {
      "cell_type": "markdown",
      "source": [
        "# Get Data"
      ],
      "metadata": {
        "id": "mYSejGqVTtjn"
      }
    },
    {
      "cell_type": "code",
      "source": [
        "# from google.colab import drive\n",
        "# drive.mount('/gdrive')"
      ],
      "metadata": {
        "id": "JfsCkdnZH4GI"
      },
      "execution_count": 6,
      "outputs": []
    },
    {
      "cell_type": "code",
      "source": [
        "# %cd /gdrive/MyDrive/"
      ],
      "metadata": {
        "id": "RjtElbPIIGkD"
      },
      "execution_count": 7,
      "outputs": []
    },
    {
      "cell_type": "code",
      "source": [
        "!git clone https://github.com/jillnoorily/playboy_covers.git"
      ],
      "metadata": {
        "colab": {
          "base_uri": "https://localhost:8080/"
        },
        "id": "kEQV5pcklnua",
        "outputId": "54c2196b-455a-4ebf-cdf1-2d3781c6646e"
      },
      "execution_count": 5,
      "outputs": [
        {
          "output_type": "stream",
          "name": "stdout",
          "text": [
            "Cloning into 'playboy_covers'...\n",
            "remote: Enumerating objects: 5, done.\u001b[K\n",
            "remote: Counting objects: 100% (5/5), done.\u001b[K\n",
            "remote: Compressing objects: 100% (4/4), done.\u001b[K\n",
            "remote: Total 5 (delta 0), reused 0 (delta 0), pack-reused 0\u001b[K\n",
            "Unpacking objects: 100% (5/5), done.\n"
          ]
        }
      ]
    },
    {
      "cell_type": "code",
      "source": [
        "%cd playboy_covers"
      ],
      "metadata": {
        "colab": {
          "base_uri": "https://localhost:8080/"
        },
        "id": "oZtucbHxlnmE",
        "outputId": "e40fe8a8-61ee-4fab-a5f6-fd7e99cb206c"
      },
      "execution_count": 6,
      "outputs": [
        {
          "output_type": "stream",
          "name": "stdout",
          "text": [
            "/content/playboy_covers\n"
          ]
        }
      ]
    },
    {
      "cell_type": "code",
      "source": [
        "!ls -al"
      ],
      "metadata": {
        "colab": {
          "base_uri": "https://localhost:8080/"
        },
        "id": "5KH-fgcdlnbs",
        "outputId": "7553bd1d-142a-458d-efb7-a6df7bdd562e"
      },
      "execution_count": 7,
      "outputs": [
        {
          "output_type": "stream",
          "name": "stdout",
          "text": [
            "total 24\n",
            "drwxr-xr-x 3 root root 4096 Nov 11 01:27 .\n",
            "drwxr-xr-x 1 root root 4096 Nov 11 01:27 ..\n",
            "drwxr-xr-x 8 root root 4096 Nov 11 01:27 .git\n",
            "-rw-r--r-- 1 root root 1799 Nov 11 01:27 .gitignore\n",
            "-rw-r--r-- 1 root root 1068 Nov 11 01:27 LICENSE\n",
            "-rw-r--r-- 1 root root   43 Nov 11 01:27 README.md\n"
          ]
        }
      ]
    },
    {
      "cell_type": "code",
      "source": [
        "!mkdir data"
      ],
      "metadata": {
        "id": "OE64T7WpvIou"
      },
      "execution_count": 8,
      "outputs": []
    },
    {
      "cell_type": "code",
      "source": [
        "%cd data"
      ],
      "metadata": {
        "colab": {
          "base_uri": "https://localhost:8080/"
        },
        "id": "0696nv6qvONX",
        "outputId": "63a6d912-76cd-4e7f-8cff-016986b4e2a8"
      },
      "execution_count": 9,
      "outputs": [
        {
          "output_type": "stream",
          "name": "stdout",
          "text": [
            "/content/playboy_covers/data\n"
          ]
        }
      ]
    },
    {
      "cell_type": "code",
      "source": [
        "!git clone https://github.com/jillnoorily/playboycovers_1950s.git"
      ],
      "metadata": {
        "colab": {
          "base_uri": "https://localhost:8080/"
        },
        "id": "A7wR2uXnvPo-",
        "outputId": "cdebb3f7-dd6a-4763-a5f9-fdc82d213703"
      },
      "execution_count": 10,
      "outputs": [
        {
          "output_type": "stream",
          "name": "stdout",
          "text": [
            "Cloning into 'playboycovers_1950s'...\n",
            "remote: Enumerating objects: 90, done.\u001b[K\n",
            "remote: Counting objects:  20% (1/5)\u001b[K\rremote: Counting objects:  40% (2/5)\u001b[K\rremote: Counting objects:  60% (3/5)\u001b[K\rremote: Counting objects:  80% (4/5)\u001b[K\rremote: Counting objects: 100% (5/5)\u001b[K\rremote: Counting objects: 100% (5/5), done.\u001b[K\n",
            "remote: Compressing objects: 100% (4/4), done.\u001b[K\n",
            "remote: Total 90 (delta 0), reused 5 (delta 0), pack-reused 85\u001b[K\n",
            "Unpacking objects: 100% (90/90), done.\n"
          ]
        }
      ]
    },
    {
      "cell_type": "code",
      "source": [
        "!git clone https://github.com/jillnoorily/playboycovers_1960s.git"
      ],
      "metadata": {
        "colab": {
          "base_uri": "https://localhost:8080/"
        },
        "id": "3ZVuxIQJvPmF",
        "outputId": "c518dd69-911c-49f7-ec9d-3154a00ee97a"
      },
      "execution_count": 11,
      "outputs": [
        {
          "output_type": "stream",
          "name": "stdout",
          "text": [
            "Cloning into 'playboycovers_1960s'...\n",
            "remote: Enumerating objects: 146, done.\u001b[K\n",
            "remote: Counting objects:  20% (1/5)\u001b[K\rremote: Counting objects:  40% (2/5)\u001b[K\rremote: Counting objects:  60% (3/5)\u001b[K\rremote: Counting objects:  80% (4/5)\u001b[K\rremote: Counting objects: 100% (5/5)\u001b[K\rremote: Counting objects: 100% (5/5), done.\u001b[K\n",
            "remote: Compressing objects: 100% (4/4), done.\u001b[K\n",
            "remote: Total 146 (delta 0), reused 5 (delta 0), pack-reused 141\u001b[K\n",
            "Receiving objects: 100% (146/146), 359.15 MiB | 47.25 MiB/s, done.\n",
            "Resolving deltas: 100% (8/8), done.\n"
          ]
        }
      ]
    },
    {
      "cell_type": "code",
      "source": [
        "!git clone https://github.com/jillnoorily/playboycovers_1970s.git"
      ],
      "metadata": {
        "colab": {
          "base_uri": "https://localhost:8080/"
        },
        "id": "U7pTfeKHvPjR",
        "outputId": "d754097d-ef13-4464-a236-892e8e9b82cc"
      },
      "execution_count": 12,
      "outputs": [
        {
          "output_type": "stream",
          "name": "stdout",
          "text": [
            "Cloning into 'playboycovers_1970s'...\n",
            "remote: Enumerating objects: 139, done.\u001b[K\n",
            "remote: Counting objects:  20% (1/5)\u001b[K\rremote: Counting objects:  40% (2/5)\u001b[K\rremote: Counting objects:  60% (3/5)\u001b[K\rremote: Counting objects:  80% (4/5)\u001b[K\rremote: Counting objects: 100% (5/5)\u001b[K\rremote: Counting objects: 100% (5/5), done.\u001b[K\n",
            "remote: Compressing objects: 100% (4/4), done.\u001b[K\n",
            "remote: Total 139 (delta 0), reused 5 (delta 0), pack-reused 134\u001b[K\n",
            "Receiving objects: 100% (139/139), 345.68 MiB | 47.59 MiB/s, done.\n",
            "Resolving deltas: 100% (1/1), done.\n"
          ]
        }
      ]
    },
    {
      "cell_type": "code",
      "source": [
        "!git clone https://github.com/jillnoorily/playboycovers_1980s.git"
      ],
      "metadata": {
        "colab": {
          "base_uri": "https://localhost:8080/"
        },
        "id": "lPvlalF1vPgy",
        "outputId": "5d0df98b-915f-4f57-f80a-7464c6f4edab"
      },
      "execution_count": 13,
      "outputs": [
        {
          "output_type": "stream",
          "name": "stdout",
          "text": [
            "Cloning into 'playboycovers_1980s'...\n",
            "remote: Enumerating objects: 139, done.\u001b[K\n",
            "remote: Counting objects: 100% (5/5), done.\u001b[K\n",
            "remote: Compressing objects: 100% (4/4), done.\u001b[K\n",
            "remote: Total 139 (delta 0), reused 5 (delta 0), pack-reused 134\u001b[K\n",
            "Receiving objects: 100% (139/139), 336.61 MiB | 47.01 MiB/s, done.\n",
            "Resolving deltas: 100% (1/1), done.\n"
          ]
        }
      ]
    },
    {
      "cell_type": "code",
      "source": [
        "!git clone https://github.com/jillnoorily/playboycovers_1990s.git"
      ],
      "metadata": {
        "colab": {
          "base_uri": "https://localhost:8080/"
        },
        "id": "fP8OvzLYvPdq",
        "outputId": "5b022da0-3b7e-44ef-ef5b-babbc485a734"
      },
      "execution_count": 14,
      "outputs": [
        {
          "output_type": "stream",
          "name": "stdout",
          "text": [
            "Cloning into 'playboycovers_1990s'...\n",
            "remote: Enumerating objects: 141, done.\u001b[K\n",
            "remote: Counting objects:  20% (1/5)\u001b[K\rremote: Counting objects:  40% (2/5)\u001b[K\rremote: Counting objects:  60% (3/5)\u001b[K\rremote: Counting objects:  80% (4/5)\u001b[K\rremote: Counting objects: 100% (5/5)\u001b[K\rremote: Counting objects: 100% (5/5), done.\u001b[K\n",
            "remote: Compressing objects: 100% (4/4), done.\u001b[K\n",
            "remote: Total 141 (delta 0), reused 5 (delta 0), pack-reused 136\u001b[K\n",
            "Receiving objects: 100% (141/141), 313.44 MiB | 46.52 MiB/s, done.\n",
            "Resolving deltas: 100% (2/2), done.\n"
          ]
        }
      ]
    },
    {
      "cell_type": "code",
      "source": [
        "!git clone https://github.com/jillnoorily/playboycovers_2000s.git"
      ],
      "metadata": {
        "colab": {
          "base_uri": "https://localhost:8080/"
        },
        "id": "ccKJ49TDIGgs",
        "outputId": "db617cee-bf8e-4df3-be83-48d734e7f570"
      },
      "execution_count": 15,
      "outputs": [
        {
          "output_type": "stream",
          "name": "stdout",
          "text": [
            "Cloning into 'playboycovers_2000s'...\n",
            "remote: Enumerating objects: 138, done.\u001b[K\n",
            "remote: Counting objects:  20% (1/5)\u001b[K\rremote: Counting objects:  40% (2/5)\u001b[K\rremote: Counting objects:  60% (3/5)\u001b[K\rremote: Counting objects:  80% (4/5)\u001b[K\rremote: Counting objects: 100% (5/5)\u001b[K\rremote: Counting objects: 100% (5/5), done.\u001b[K\n",
            "remote: Compressing objects: 100% (4/4), done.\u001b[K\n",
            "remote: Total 138 (delta 0), reused 5 (delta 0), pack-reused 133\u001b[K\n",
            "Receiving objects: 100% (138/138), 319.89 MiB | 46.79 MiB/s, done.\n",
            "Resolving deltas: 100% (1/1), done.\n"
          ]
        }
      ]
    },
    {
      "cell_type": "code",
      "source": [
        "!git clone https://github.com/jillnoorily/playboycovers_2010s.git"
      ],
      "metadata": {
        "colab": {
          "base_uri": "https://localhost:8080/"
        },
        "id": "b5QphqfsuVfc",
        "outputId": "891527a6-75fd-4fc1-9974-86e66d2572e1"
      },
      "execution_count": 16,
      "outputs": [
        {
          "output_type": "stream",
          "name": "stdout",
          "text": [
            "Cloning into 'playboycovers_2010s'...\n",
            "remote: Enumerating objects: 107, done.\u001b[K\n",
            "remote: Counting objects:  20% (1/5)\u001b[K\rremote: Counting objects:  40% (2/5)\u001b[K\rremote: Counting objects:  60% (3/5)\u001b[K\rremote: Counting objects:  80% (4/5)\u001b[K\rremote: Counting objects: 100% (5/5)\u001b[K\rremote: Counting objects: 100% (5/5), done.\u001b[K\n",
            "remote: Compressing objects: 100% (4/4), done.\u001b[K\n",
            "remote: Total 107 (delta 0), reused 5 (delta 0), pack-reused 102\u001b[K\n",
            "Receiving objects: 100% (107/107), 224.79 MiB | 46.46 MiB/s, done.\n"
          ]
        }
      ]
    },
    {
      "cell_type": "code",
      "source": [
        "!git clone https://github.com/jillnoorily/playboycovers_2020s.git"
      ],
      "metadata": {
        "colab": {
          "base_uri": "https://localhost:8080/"
        },
        "id": "mGlwb_r5ujw5",
        "outputId": "dff3b021-7aa7-4157-960c-3559335cd4b0"
      },
      "execution_count": 17,
      "outputs": [
        {
          "output_type": "stream",
          "name": "stdout",
          "text": [
            "Cloning into 'playboycovers_2020s'...\n",
            "remote: Enumerating objects: 11, done.\u001b[K\n",
            "remote: Counting objects: 100% (11/11), done.\u001b[K\n",
            "remote: Compressing objects: 100% (10/10), done.\u001b[K\n",
            "remote: Total 11 (delta 1), reused 6 (delta 0), pack-reused 0\u001b[K\n",
            "Unpacking objects: 100% (11/11), done.\n"
          ]
        }
      ]
    },
    {
      "cell_type": "markdown",
      "source": [
        "# Process: Test on Subdir"
      ],
      "metadata": {
        "id": "aRn1WlNbLQgP"
      }
    },
    {
      "cell_type": "code",
      "source": [
        "%cd ..\n"
      ],
      "metadata": {
        "colab": {
          "base_uri": "https://localhost:8080/"
        },
        "id": "z1OvaemPvzpq",
        "outputId": "9abb389e-fab3-4999-f3c9-0e04083be0e3"
      },
      "execution_count": 18,
      "outputs": [
        {
          "output_type": "stream",
          "name": "stdout",
          "text": [
            "/content/playboy_covers\n"
          ]
        }
      ]
    },
    {
      "cell_type": "code",
      "source": [
        "!sudo apt-get install tree"
      ],
      "metadata": {
        "colab": {
          "base_uri": "https://localhost:8080/"
        },
        "id": "qLI_Ri2ET9I4",
        "outputId": "4f20018e-c4f7-4581-912a-596d0a7c54f1"
      },
      "execution_count": 19,
      "outputs": [
        {
          "output_type": "stream",
          "name": "stdout",
          "text": [
            "Reading package lists... Done\n",
            "Building dependency tree       \n",
            "Reading state information... Done\n",
            "The following package was automatically installed and is no longer required:\n",
            "  libnvidia-common-460\n",
            "Use 'sudo apt autoremove' to remove it.\n",
            "The following NEW packages will be installed:\n",
            "  tree\n",
            "0 upgraded, 1 newly installed, 0 to remove and 5 not upgraded.\n",
            "Need to get 40.7 kB of archives.\n",
            "After this operation, 105 kB of additional disk space will be used.\n",
            "Get:1 http://archive.ubuntu.com/ubuntu bionic/universe amd64 tree amd64 1.7.0-5 [40.7 kB]\n",
            "Fetched 40.7 kB in 0s (331 kB/s)\n",
            "debconf: unable to initialize frontend: Dialog\n",
            "debconf: (No usable dialog-like program is installed, so the dialog based frontend cannot be used. at /usr/share/perl5/Debconf/FrontEnd/Dialog.pm line 76, <> line 1.)\n",
            "debconf: falling back to frontend: Readline\n",
            "debconf: unable to initialize frontend: Readline\n",
            "debconf: (This frontend requires a controlling tty.)\n",
            "debconf: falling back to frontend: Teletype\n",
            "dpkg-preconfigure: unable to re-open stdin: \n",
            "Selecting previously unselected package tree.\n",
            "(Reading database ... 123942 files and directories currently installed.)\n",
            "Preparing to unpack .../tree_1.7.0-5_amd64.deb ...\n",
            "Unpacking tree (1.7.0-5) ...\n",
            "Setting up tree (1.7.0-5) ...\n",
            "Processing triggers for man-db (2.8.3-2ubuntu0.1) ...\n"
          ]
        }
      ]
    },
    {
      "cell_type": "code",
      "source": [
        "!tree "
      ],
      "metadata": {
        "colab": {
          "base_uri": "https://localhost:8080/"
        },
        "id": "K0rOBeRkULC2",
        "outputId": "816cef51-3880-4e95-91de-a413a7abb074"
      },
      "execution_count": 20,
      "outputs": [
        {
          "output_type": "stream",
          "name": "stdout",
          "text": [
            ".\n",
            "├── data\n",
            "│   ├── playboycovers_1950s\n",
            "│   │   ├── 1953\n",
            "│   │   │   └── Screen Shot 2022-10-18 at 2.02.14 PM.png\n",
            "│   │   ├── 1954\n",
            "│   │   │   ├── 1954Apr.png\n",
            "│   │   │   ├── 1954Aug.png\n",
            "│   │   │   ├── 1954Dec.png\n",
            "│   │   │   ├── 1954Feb.png\n",
            "│   │   │   ├── 1954Jan.png\n",
            "│   │   │   ├── 1954Jul.png\n",
            "│   │   │   ├── 1954Jun.png\n",
            "│   │   │   ├── 1954Mar.png\n",
            "│   │   │   ├── 1954May.png\n",
            "│   │   │   ├── 1954Nov.png\n",
            "│   │   │   ├── 1954Oct.png\n",
            "│   │   │   └── 1954Sep.png\n",
            "│   │   ├── 1955\n",
            "│   │   │   ├── 1955Apr.png\n",
            "│   │   │   ├── 1955Aug.png\n",
            "│   │   │   ├── 1955Dec.png\n",
            "│   │   │   ├── 1955Feb.png\n",
            "│   │   │   ├── 1955Jan.png\n",
            "│   │   │   ├── 1955Jul.png\n",
            "│   │   │   ├── 1955Jun.png\n",
            "│   │   │   ├── 1955May.png\n",
            "│   │   │   ├── 1955Nov.png\n",
            "│   │   │   ├── 1955Oct.png\n",
            "│   │   │   └── 1955Sep.png\n",
            "│   │   ├── 1956\n",
            "│   │   │   ├── 1956Apr.png\n",
            "│   │   │   ├── 1956Aug.png\n",
            "│   │   │   ├── 1956Dec.png\n",
            "│   │   │   ├── 1956Feb.png\n",
            "│   │   │   ├── 1956Jan.png\n",
            "│   │   │   ├── 1956Jul.png\n",
            "│   │   │   ├── 1956Jun.png\n",
            "│   │   │   ├── 1956Mar.png\n",
            "│   │   │   ├── 1956May.png\n",
            "│   │   │   ├── 1956Nov.png\n",
            "│   │   │   ├── 1956Oct.png\n",
            "│   │   │   └── 1956Sep.png\n",
            "│   │   ├── 1957\n",
            "│   │   │   ├── 1957Apr.png\n",
            "│   │   │   ├── 1957Aug.png\n",
            "│   │   │   ├── 1957Dec.png\n",
            "│   │   │   ├── 1957Feb.png\n",
            "│   │   │   ├── 1957Jan.png\n",
            "│   │   │   ├── 1957Jul.png\n",
            "│   │   │   ├── 1957Jun.png\n",
            "│   │   │   ├── 1957Mar.png\n",
            "│   │   │   ├── 1957May.png\n",
            "│   │   │   ├── 1957Nov.png\n",
            "│   │   │   ├── 1957Oct.png\n",
            "│   │   │   └── 1957Sep.png\n",
            "│   │   ├── 1958\n",
            "│   │   │   ├── 1958Apr.png\n",
            "│   │   │   ├── 1958Aug.png\n",
            "│   │   │   ├── 1958Dec.png\n",
            "│   │   │   ├── 1958Feb.png\n",
            "│   │   │   ├── 1958Jan.png\n",
            "│   │   │   ├── 1958Jul.png\n",
            "│   │   │   ├── 1958Jun.png\n",
            "│   │   │   ├── 1958Mar.png\n",
            "│   │   │   ├── 1958May.png\n",
            "│   │   │   ├── 1958Nov.png\n",
            "│   │   │   ├── 1958Oct.png\n",
            "│   │   │   └── 1958Sep.png\n",
            "│   │   ├── 1959\n",
            "│   │   │   ├── 1959Apr.png\n",
            "│   │   │   ├── 1959Aug.png\n",
            "│   │   │   ├── 1959Dec.png\n",
            "│   │   │   ├── 1959Feb.png\n",
            "│   │   │   ├── 1959Jan.png\n",
            "│   │   │   ├── 1959Jul.png\n",
            "│   │   │   ├── 1959Jun.png\n",
            "│   │   │   ├── 1959Mar.png\n",
            "│   │   │   ├── 1959May.png\n",
            "│   │   │   ├── 1959Nov.png\n",
            "│   │   │   ├── 1959Oct.png\n",
            "│   │   │   └── 1959Sep.png\n",
            "│   │   ├── LICENSE\n",
            "│   │   └── README.md\n",
            "│   ├── playboycovers_1960s\n",
            "│   │   ├── 1960\n",
            "│   │   │   ├── 1960Apr.png\n",
            "│   │   │   ├── 1960Aug.png\n",
            "│   │   │   ├── 1960Dec.png\n",
            "│   │   │   ├── 1960Feb.png\n",
            "│   │   │   ├── 1960Jan.png\n",
            "│   │   │   ├── 1960Jul.png\n",
            "│   │   │   ├── 1960Jun.png\n",
            "│   │   │   ├── 1960Mar.png\n",
            "│   │   │   ├── 1960May.png\n",
            "│   │   │   ├── 1960Nov.png\n",
            "│   │   │   ├── 1960Oct.png\n",
            "│   │   │   └── 1960Sep.png\n",
            "│   │   ├── 1961\n",
            "│   │   │   ├── 1961Apr.png\n",
            "│   │   │   ├── 1961Aug.png\n",
            "│   │   │   ├── 1961Dec.png\n",
            "│   │   │   ├── 1961Feb.png\n",
            "│   │   │   ├── 1961Jan.png\n",
            "│   │   │   ├── 1961Jul.png\n",
            "│   │   │   ├── 1961Jun.png\n",
            "│   │   │   ├── 1961Mar.png\n",
            "│   │   │   ├── 1961May.png\n",
            "│   │   │   ├── 1961Nov.png\n",
            "│   │   │   ├── 1961Oct.png\n",
            "│   │   │   └── 1961Sep.png\n",
            "│   │   ├── 1962\n",
            "│   │   │   ├── 1962Apr.png\n",
            "│   │   │   ├── 1962Aug.png\n",
            "│   │   │   ├── 1962Dec.png\n",
            "│   │   │   ├── 1962Feb.png\n",
            "│   │   │   ├── 1962Jan.png\n",
            "│   │   │   ├── 1962Jul.png\n",
            "│   │   │   ├── 1962Jun.png\n",
            "│   │   │   ├── 1962Mar.png\n",
            "│   │   │   ├── 1962May.png\n",
            "│   │   │   ├── 1962Nov.png\n",
            "│   │   │   ├── 1962Oct.png\n",
            "│   │   │   └── 1962Sep.png\n",
            "│   │   ├── 1963\n",
            "│   │   │   ├── 1963Apr.png\n",
            "│   │   │   ├── 1963Aug.png\n",
            "│   │   │   ├── 1963Dec.png\n",
            "│   │   │   ├── 1963Feb.png\n",
            "│   │   │   ├── 1963Jan copy.png\n",
            "│   │   │   ├── 1963Jan.png\n",
            "│   │   │   ├── 1963Jul.png\n",
            "│   │   │   ├── 1963Jun.png\n",
            "│   │   │   ├── 1963Mar.png\n",
            "│   │   │   ├── 1963May.png\n",
            "│   │   │   ├── 1963Nov.png\n",
            "│   │   │   ├── 1963Oct.png\n",
            "│   │   │   └── 1963Sep.png\n",
            "│   │   ├── 1964\n",
            "│   │   │   ├── 1964Apr.png\n",
            "│   │   │   ├── 1964Aug.png\n",
            "│   │   │   ├── 1964Dec.png\n",
            "│   │   │   ├── 1964Feb.png\n",
            "│   │   │   ├── 1964Jan.png\n",
            "│   │   │   ├── 1964Jul.png\n",
            "│   │   │   ├── 1964Jun.png\n",
            "│   │   │   ├── 1964Mar.png\n",
            "│   │   │   ├── 1964May.png\n",
            "│   │   │   ├── 1964Nov.png\n",
            "│   │   │   ├── 1964Oct.png\n",
            "│   │   │   └── 1964Sep.png\n",
            "│   │   ├── 1965\n",
            "│   │   │   ├── 1965Apr.png\n",
            "│   │   │   ├── 1965Aug.png\n",
            "│   │   │   ├── 1965Dec.png\n",
            "│   │   │   ├── 1965Feb.png\n",
            "│   │   │   ├── 1965Jan.png\n",
            "│   │   │   ├── 1965Jul.png\n",
            "│   │   │   ├── 1965Jun.png\n",
            "│   │   │   ├── 1965March.png\n",
            "│   │   │   ├── 1965May.png\n",
            "│   │   │   ├── 1965Nov.png\n",
            "│   │   │   ├── 1965Oct.png\n",
            "│   │   │   └── 1965Sep.png\n",
            "│   │   ├── 1966\n",
            "│   │   │   ├── 1966Apr.png\n",
            "│   │   │   ├── 1966Aug.png\n",
            "│   │   │   ├── 1966Dec.png\n",
            "│   │   │   ├── 1966Feb.png\n",
            "│   │   │   ├── 1966Jan.png\n",
            "│   │   │   ├── 1966Jul.png\n",
            "│   │   │   ├── 1966Jun.png\n",
            "│   │   │   ├── 1966Mar.png\n",
            "│   │   │   ├── 1966May.png\n",
            "│   │   │   ├── 1966Nov.png\n",
            "│   │   │   ├── 1966Oct.png\n",
            "│   │   │   └── 1966Sep.png\n",
            "│   │   ├── 1967\n",
            "│   │   │   ├── 1967Apr.png\n",
            "│   │   │   ├── 1967Aug.png\n",
            "│   │   │   ├── 1967Dec copy.png\n",
            "│   │   │   ├── 1967Dec.png\n",
            "│   │   │   ├── 1967Feb.png\n",
            "│   │   │   ├── 1967Jan.png\n",
            "│   │   │   ├── 1967Jul.png\n",
            "│   │   │   ├── 1967Jun.png\n",
            "│   │   │   ├── 1967Mar.png\n",
            "│   │   │   ├── 1967May.png\n",
            "│   │   │   ├── 1967Nov.png\n",
            "│   │   │   ├── 1967Oct.png\n",
            "│   │   │   └── 1967Sep.png\n",
            "│   │   ├── 1968\n",
            "│   │   │   ├── 1968Apr.png\n",
            "│   │   │   ├── 1968Aug.png\n",
            "│   │   │   ├── 1968Dec.png\n",
            "│   │   │   ├── 1968Feb.png\n",
            "│   │   │   ├── 1968Jan.png\n",
            "│   │   │   ├── 1968Jul.png\n",
            "│   │   │   ├── 1968Jun.png\n",
            "│   │   │   ├── 1968Mar.png\n",
            "│   │   │   ├── 1968May.png\n",
            "│   │   │   ├── 1968Nov.png\n",
            "│   │   │   ├── 1968Oct.png\n",
            "│   │   │   └── 1968Sep.png\n",
            "│   │   ├── 1969\n",
            "│   │   │   ├── 1969Apr.png\n",
            "│   │   │   ├── 1969Aug.png\n",
            "│   │   │   ├── 1969Dec.png\n",
            "│   │   │   ├── 1969Feb.png\n",
            "│   │   │   ├── 1969Jan.png\n",
            "│   │   │   ├── 1969Jul.png\n",
            "│   │   │   ├── 1969Jun.png\n",
            "│   │   │   ├── 1969Mar.png\n",
            "│   │   │   ├── 1969May.png\n",
            "│   │   │   ├── 1969Nov.png\n",
            "│   │   │   ├── 1969Oct.png\n",
            "│   │   │   └── 1969Sep.png\n",
            "│   │   ├── LICENSE\n",
            "│   │   └── README.md\n",
            "│   ├── playboycovers_1970s\n",
            "│   │   ├── 1970\n",
            "│   │   │   ├── 1970Apr.png\n",
            "│   │   │   ├── 1970Aug.png\n",
            "│   │   │   ├── 1970Dec.png\n",
            "│   │   │   ├── 1970Feb.png\n",
            "│   │   │   ├── 1970Jan.png\n",
            "│   │   │   ├── 1970Jul.png\n",
            "│   │   │   ├── 1970Jun.png\n",
            "│   │   │   ├── 1970Mar.png\n",
            "│   │   │   ├── 1970May.png\n",
            "│   │   │   ├── 1970Nov.png\n",
            "│   │   │   ├── 1970Oct.png\n",
            "│   │   │   └── 1970Sep.png\n",
            "│   │   ├── 1971\n",
            "│   │   │   ├── 1971Apr.png\n",
            "│   │   │   ├── 1971Aug.png\n",
            "│   │   │   ├── 1971Dec.png\n",
            "│   │   │   ├── 1971Feb.png\n",
            "│   │   │   ├── 1971Jan.png\n",
            "│   │   │   ├── 1971July.png\n",
            "│   │   │   ├── 1971Mar.png\n",
            "│   │   │   ├── 1971May.png\n",
            "│   │   │   ├── 1971Nov.png\n",
            "│   │   │   ├── 1971Oct.png\n",
            "│   │   │   ├── 1971.png\n",
            "│   │   │   └── 1971Sep.png\n",
            "│   │   ├── 1972\n",
            "│   │   │   ├── 1972Apr.png\n",
            "│   │   │   ├── 1972Aug.png\n",
            "│   │   │   ├── 1972Dec.png\n",
            "│   │   │   ├── 1972Feb.png\n",
            "│   │   │   ├── 1972Jan.png\n",
            "│   │   │   ├── 1972Jul.png\n",
            "│   │   │   ├── 1972Jun.png\n",
            "│   │   │   ├── 1972Mar.png\n",
            "│   │   │   ├── 1972May.png\n",
            "│   │   │   ├── 1972Nov.png\n",
            "│   │   │   ├── 1972Oct.png\n",
            "│   │   │   └── 1972Sep.png\n",
            "│   │   ├── 1973\n",
            "│   │   │   ├── 1973Apr.png\n",
            "│   │   │   ├── 1973Aug.png\n",
            "│   │   │   ├── 1973Dec.png\n",
            "│   │   │   ├── 1973Feb.png\n",
            "│   │   │   ├── 1973Jan.png\n",
            "│   │   │   ├── 1973Jul.png\n",
            "│   │   │   ├── 1973Jun.png\n",
            "│   │   │   ├── 1973Mar.png\n",
            "│   │   │   ├── 1973May.png\n",
            "│   │   │   ├── 1973Nov.png\n",
            "│   │   │   ├── 1973Oct.png\n",
            "│   │   │   └── 1973Sep.png\n",
            "│   │   ├── 1974\n",
            "│   │   │   ├── 1974Apr.png\n",
            "│   │   │   ├── 1974Aug.png\n",
            "│   │   │   ├── 1974Dec.png\n",
            "│   │   │   ├── 1974Feb.png\n",
            "│   │   │   ├── 1974Jan.png\n",
            "│   │   │   ├── 1974Jul.png\n",
            "│   │   │   ├── 1974Jun.png\n",
            "│   │   │   ├── 1974Mar.png\n",
            "│   │   │   ├── 1974May.png\n",
            "│   │   │   ├── 1974Nov.png\n",
            "│   │   │   ├── 1974Oct.png\n",
            "│   │   │   └── 1974Sep.png\n",
            "│   │   ├── 1975\n",
            "│   │   │   ├── 1975Apr.png\n",
            "│   │   │   ├── 1975Aug.png\n",
            "│   │   │   ├── 1975Dec.png\n",
            "│   │   │   ├── 1975Feb.png\n",
            "│   │   │   ├── 1975Jan.png\n",
            "│   │   │   ├── 1975Jul.png\n",
            "│   │   │   ├── 1975Jun.png\n",
            "│   │   │   ├── 1975Mar.png\n",
            "│   │   │   ├── 1975May.png\n",
            "│   │   │   ├── 1975Nov.png\n",
            "│   │   │   ├── 1975Oct.png\n",
            "│   │   │   └── 1975Sep.png\n",
            "│   │   ├── 1976\n",
            "│   │   │   ├── 1976Apr.png\n",
            "│   │   │   ├── 1976Aug.png\n",
            "│   │   │   ├── 1976Dec.png\n",
            "│   │   │   ├── 1976Feb.png\n",
            "│   │   │   ├── 1976Jan.png\n",
            "│   │   │   ├── 1976Jul.png\n",
            "│   │   │   ├── 1976Jun.png\n",
            "│   │   │   ├── 1976Mar.png\n",
            "│   │   │   ├── 1976May.png\n",
            "│   │   │   ├── 1976Nov.png\n",
            "│   │   │   ├── 1976Oct.png\n",
            "│   │   │   └── 1976Sep.png\n",
            "│   │   ├── 1977\n",
            "│   │   │   ├── 1977Apr.png\n",
            "│   │   │   ├── 1977Aug.png\n",
            "│   │   │   ├── 1977Dec.png\n",
            "│   │   │   ├── 1977Feb.png\n",
            "│   │   │   ├── 1977Jan.png\n",
            "│   │   │   ├── 1977Jul.png\n",
            "│   │   │   ├── 1977Jun.png\n",
            "│   │   │   ├── 1977Mar.png\n",
            "│   │   │   ├── 1977May.png\n",
            "│   │   │   ├── 1977Nov.png\n",
            "│   │   │   ├── 1977Oct.png\n",
            "│   │   │   └── 1977Sep.png\n",
            "│   │   ├── 1978\n",
            "│   │   │   ├── 1978Apr.png\n",
            "│   │   │   ├── 1978Aug.png\n",
            "│   │   │   ├── 1978Dec.png\n",
            "│   │   │   ├── 1978Feb.png\n",
            "│   │   │   ├── 1978Jan.png\n",
            "│   │   │   ├── 1978Jul.png\n",
            "│   │   │   ├── 1978Jun.png\n",
            "│   │   │   ├── 1978Mar.png\n",
            "│   │   │   ├── 1978May.png\n",
            "│   │   │   ├── 1978Nov.png\n",
            "│   │   │   ├── 1978Oct.png\n",
            "│   │   │   └── 1978Sep.png\n",
            "│   │   ├── 1979\n",
            "│   │   │   ├── 1979Apr.png\n",
            "│   │   │   ├── 1979Aug.png\n",
            "│   │   │   ├── 1979Dec.png\n",
            "│   │   │   ├── 1979Feb.png\n",
            "│   │   │   ├── 1979Jan.png\n",
            "│   │   │   ├── 1979Jul.png\n",
            "│   │   │   ├── 1979Jun.png\n",
            "│   │   │   ├── 1979Mar.png\n",
            "│   │   │   ├── 1979May.png\n",
            "│   │   │   ├── 1979Nov.png\n",
            "│   │   │   ├── 1979Oct.png\n",
            "│   │   │   └── 1979Sep.png\n",
            "│   │   ├── LICENSE\n",
            "│   │   └── README.md\n",
            "│   ├── playboycovers_1980s\n",
            "│   │   ├── 1980\n",
            "│   │   │   ├── 1980Apr.png\n",
            "│   │   │   ├── 1980Aug.png\n",
            "│   │   │   ├── 1980Dec.png\n",
            "│   │   │   ├── 1980Feb.png\n",
            "│   │   │   ├── 1980Jan.png\n",
            "│   │   │   ├── 1980Jul.png\n",
            "│   │   │   ├── 1980Jun.png\n",
            "│   │   │   ├── 1980Mar.png\n",
            "│   │   │   ├── 1980May.png\n",
            "│   │   │   ├── 1980Nov.png\n",
            "│   │   │   ├── 1980Oct.png\n",
            "│   │   │   └── 1980Sep.png\n",
            "│   │   ├── 1981\n",
            "│   │   │   ├── 1981Apr.png\n",
            "│   │   │   ├── 1981Aug.png\n",
            "│   │   │   ├── 1981Dec.png\n",
            "│   │   │   ├── 1981Feb.png\n",
            "│   │   │   ├── 1981Jan.png\n",
            "│   │   │   ├── 1981Jul.png\n",
            "│   │   │   ├── 1981Jun.png\n",
            "│   │   │   ├── 1981Mar.png\n",
            "│   │   │   ├── 1981May.png\n",
            "│   │   │   ├── 1981Nov.png\n",
            "│   │   │   ├── 1981Oct.png\n",
            "│   │   │   └── 1981Sep.png\n",
            "│   │   ├── 1982\n",
            "│   │   │   ├── 1982Apr.png\n",
            "│   │   │   ├── 1982Aug.png\n",
            "│   │   │   ├── 1982Dec.png\n",
            "│   │   │   ├── 1982Feb.png\n",
            "│   │   │   ├── 1982Jan.png\n",
            "│   │   │   ├── 1982Jul.png\n",
            "│   │   │   ├── 1982Jun.png\n",
            "│   │   │   ├── 1982Mar.png\n",
            "│   │   │   ├── 1982May.png\n",
            "│   │   │   ├── 1982Nov.png\n",
            "│   │   │   ├── 1982Oct.png\n",
            "│   │   │   └── 1982Sep.png\n",
            "│   │   ├── 1983\n",
            "│   │   │   ├── 1983Apr.png\n",
            "│   │   │   ├── 1983Aug.png\n",
            "│   │   │   ├── 1983Dec.png\n",
            "│   │   │   ├── 1983Feb.png\n",
            "│   │   │   ├── 1983Jan.png\n",
            "│   │   │   ├── 1983Jul.png\n",
            "│   │   │   ├── 1983Jun.png\n",
            "│   │   │   ├── 1983Mar.png\n",
            "│   │   │   ├── 1983May.png\n",
            "│   │   │   ├── 1983Nov.png\n",
            "│   │   │   ├── 1983Oct.png\n",
            "│   │   │   └── 1983Sep.png\n",
            "│   │   ├── 1984\n",
            "│   │   │   ├── 1984Apr.png\n",
            "│   │   │   ├── 1984Aug.png\n",
            "│   │   │   ├── 1984Dec.png\n",
            "│   │   │   ├── 1984Feb.png\n",
            "│   │   │   ├── 1984Jan.png\n",
            "│   │   │   ├── 1984Jul.png\n",
            "│   │   │   ├── 1984Jun.png\n",
            "│   │   │   ├── 1984Mar.png\n",
            "│   │   │   ├── 1984May.png\n",
            "│   │   │   ├── 1984Nov.png\n",
            "│   │   │   ├── 1984Oct.png\n",
            "│   │   │   └── 1984Sep.png\n",
            "│   │   ├── 1985\n",
            "│   │   │   ├── 1985Apr.png\n",
            "│   │   │   ├── 1985Aug.png\n",
            "│   │   │   ├── 1985Dec.png\n",
            "│   │   │   ├── 1985Feb.png\n",
            "│   │   │   ├── 1985Jan.png\n",
            "│   │   │   ├── 1985Jul.png\n",
            "│   │   │   ├── 1985Jun.png\n",
            "│   │   │   ├── 1985Mar.png\n",
            "│   │   │   ├── 1985May.png\n",
            "│   │   │   ├── 1985Nov.png\n",
            "│   │   │   ├── 1985Oct.png\n",
            "│   │   │   └── 1985Sep.png\n",
            "│   │   ├── 1986\n",
            "│   │   │   ├── 1986Apr.png\n",
            "│   │   │   ├── 1986Aug.png\n",
            "│   │   │   ├── 1986Dec.png\n",
            "│   │   │   ├── 1986Feb.png\n",
            "│   │   │   ├── 1986Jan.png\n",
            "│   │   │   ├── 1986Jul.png\n",
            "│   │   │   ├── 1986Jun.png\n",
            "│   │   │   ├── 1986Mar.png\n",
            "│   │   │   ├── 1986May.png\n",
            "│   │   │   ├── 1986Nov.png\n",
            "│   │   │   ├── 1986Oct.png\n",
            "│   │   │   └── 1986Sep.png\n",
            "│   │   ├── 1987\n",
            "│   │   │   ├── 1987Apr.png\n",
            "│   │   │   ├── 1987Aug.png\n",
            "│   │   │   ├── 1987Dec.png\n",
            "│   │   │   ├── 1987Feb.png\n",
            "│   │   │   ├── 1987Jan.png\n",
            "│   │   │   ├── 1987Jul.png\n",
            "│   │   │   ├── 1987Jun.png\n",
            "│   │   │   ├── 1987Mar.png\n",
            "│   │   │   ├── 1987May.png\n",
            "│   │   │   ├── 1987Nov.png\n",
            "│   │   │   ├── 1987Oct.png\n",
            "│   │   │   └── 1987Sep.png\n",
            "│   │   ├── 1988\n",
            "│   │   │   ├── 1988Apr.png\n",
            "│   │   │   ├── 1988Aug.png\n",
            "│   │   │   ├── 1988Dec.png\n",
            "│   │   │   ├── 1988Feb.png\n",
            "│   │   │   ├── 1988Jan.png\n",
            "│   │   │   ├── 1988Jul.png\n",
            "│   │   │   ├── 1988Jun.png\n",
            "│   │   │   ├── 1988Mar.png\n",
            "│   │   │   ├── 1988May.png\n",
            "│   │   │   ├── 1988Nov.png\n",
            "│   │   │   ├── 1988Oct.png\n",
            "│   │   │   └── 1988Sep.png\n",
            "│   │   ├── 1989\n",
            "│   │   │   ├── 1989Apr.png\n",
            "│   │   │   ├── 1989Aug.png\n",
            "│   │   │   ├── 1989Dec.png\n",
            "│   │   │   ├── 1989Feb.png\n",
            "│   │   │   ├── 1989Jan.png\n",
            "│   │   │   ├── 1989Jul.png\n",
            "│   │   │   ├── 1989Jun.png\n",
            "│   │   │   ├── 1989Mar.png\n",
            "│   │   │   ├── 1989May.png\n",
            "│   │   │   ├── 1989Nov.png\n",
            "│   │   │   ├── 1989Oct.png\n",
            "│   │   │   └── 1989Sep.png\n",
            "│   │   ├── LICENSE\n",
            "│   │   └── README.md\n",
            "│   ├── playboycovers_1990s\n",
            "│   │   ├── 1990\n",
            "│   │   │   ├── 1990Apr.png\n",
            "│   │   │   ├── 1990Aug.png\n",
            "│   │   │   ├── 1990Dec.png\n",
            "│   │   │   ├── 1990Feb.png\n",
            "│   │   │   ├── 1990Jan.png\n",
            "│   │   │   ├── 1990Jul.png\n",
            "│   │   │   ├── 1990Jun.png\n",
            "│   │   │   ├── 1990Mar.png\n",
            "│   │   │   ├── 1990May.png\n",
            "│   │   │   ├── 1990Nov.png\n",
            "│   │   │   ├── 1990Oct.png\n",
            "│   │   │   └── 1990Sep.png\n",
            "│   │   ├── 1991\n",
            "│   │   │   ├── 1991Apr.png\n",
            "│   │   │   ├── 1991Aug.png\n",
            "│   │   │   ├── 1991Dec.png\n",
            "│   │   │   ├── 1991Feb.png\n",
            "│   │   │   ├── 1991Jan.png\n",
            "│   │   │   ├── 1991Jul.png\n",
            "│   │   │   ├── 1991Jun.png\n",
            "│   │   │   ├── 1991Mar.png\n",
            "│   │   │   ├── 1991May.png\n",
            "│   │   │   ├── 1991Nov.png\n",
            "│   │   │   ├── 1991Oct.png\n",
            "│   │   │   └── 1991Sep.png\n",
            "│   │   ├── 1992\n",
            "│   │   │   ├── 1992Apr.png\n",
            "│   │   │   ├── 1992Aug.png\n",
            "│   │   │   ├── 1992Dec.png\n",
            "│   │   │   ├── 1992Feb.png\n",
            "│   │   │   ├── 1992Jan.png\n",
            "│   │   │   ├── 1992Jul.png\n",
            "│   │   │   ├── 1992Jun.png\n",
            "│   │   │   ├── 1992Mar.png\n",
            "│   │   │   ├── 1992May.png\n",
            "│   │   │   ├── 1992Nov.png\n",
            "│   │   │   ├── 1992Oct.png\n",
            "│   │   │   └── 1992Sep.png\n",
            "│   │   ├── 1993\n",
            "│   │   │   ├── 1993Apr.png\n",
            "│   │   │   ├── 1993Aug.png\n",
            "│   │   │   ├── 1993Dec.png\n",
            "│   │   │   ├── 1993Feb.png\n",
            "│   │   │   ├── 1993Jan.png\n",
            "│   │   │   ├── 1993Jul.png\n",
            "│   │   │   ├── 1993Jun.png\n",
            "│   │   │   ├── 1993Mar.png\n",
            "│   │   │   ├── 1993May.png\n",
            "│   │   │   ├── 1993Nov.png\n",
            "│   │   │   ├── 1993Oct.png\n",
            "│   │   │   └── 1993Sep.png\n",
            "│   │   ├── 1994\n",
            "│   │   │   ├── 1994Apr.png\n",
            "│   │   │   ├── 1994Aug.png\n",
            "│   │   │   ├── 1994Dec.png\n",
            "│   │   │   ├── 1994Feb.png\n",
            "│   │   │   ├── 1994Jan.png\n",
            "│   │   │   ├── 1994Jul.png\n",
            "│   │   │   ├── 1994Jun.png\n",
            "│   │   │   ├── 1994Mar.png\n",
            "│   │   │   ├── 1994May.png\n",
            "│   │   │   ├── 1994Nov.png\n",
            "│   │   │   ├── 1994Oct.png\n",
            "│   │   │   └── 1994Sep.png\n",
            "│   │   ├── 1995\n",
            "│   │   │   ├── 1995Apr.png\n",
            "│   │   │   ├── 1995Aug.png\n",
            "│   │   │   ├── 1995Dec.png\n",
            "│   │   │   ├── 1995Feb.png\n",
            "│   │   │   ├── 1995Jan.png\n",
            "│   │   │   ├── 1995Jul.png\n",
            "│   │   │   ├── 1995Jun.png\n",
            "│   │   │   ├── 1995Mar.png\n",
            "│   │   │   ├── 1995May.png\n",
            "│   │   │   ├── 1995Nov.png\n",
            "│   │   │   ├── 1995Oct.png\n",
            "│   │   │   └── 1995Sep.png\n",
            "│   │   ├── 1996\n",
            "│   │   │   ├── 1996Apr.png\n",
            "│   │   │   ├── 1996Aug.png\n",
            "│   │   │   ├── 1996Dec.png\n",
            "│   │   │   ├── 1996Feb.png\n",
            "│   │   │   ├── 1996Jan.png\n",
            "│   │   │   ├── 1996Jul.png\n",
            "│   │   │   ├── 1996Jun.png\n",
            "│   │   │   ├── 1996Mar.png\n",
            "│   │   │   ├── 1996May.png\n",
            "│   │   │   ├── 1996Nov.png\n",
            "│   │   │   ├── 1996Oct.png\n",
            "│   │   │   └── 1996Sep.png\n",
            "│   │   ├── 1997\n",
            "│   │   │   ├── 1997Apr.png\n",
            "│   │   │   ├── 1997Aug.png\n",
            "│   │   │   ├── 1997Dec.png\n",
            "│   │   │   ├── 1997Feb.png\n",
            "│   │   │   ├── 1997Jan.png\n",
            "│   │   │   ├── 1997Jul.png\n",
            "│   │   │   ├── 1997Jun.png\n",
            "│   │   │   ├── 1997Mar.png\n",
            "│   │   │   ├── 1997May.png\n",
            "│   │   │   ├── 1997Nov.png\n",
            "│   │   │   ├── 1997Oct.png\n",
            "│   │   │   └── 1997Sep.png\n",
            "│   │   ├── 1998\n",
            "│   │   │   ├── 1998Apr.png\n",
            "│   │   │   ├── 1998Aug.png\n",
            "│   │   │   ├── 1998Dec.png\n",
            "│   │   │   ├── 1998Feb.png\n",
            "│   │   │   ├── 1998Jan.png\n",
            "│   │   │   ├── 1998Jul.png\n",
            "│   │   │   ├── 1998Jun.png\n",
            "│   │   │   ├── 1998Mar.png\n",
            "│   │   │   ├── 1998May.png\n",
            "│   │   │   ├── 1998Nov.png\n",
            "│   │   │   ├── 1998Oct.png\n",
            "│   │   │   └── 1998Sep.png\n",
            "│   │   ├── 1999\n",
            "│   │   │   ├── 1999Apr.png\n",
            "│   │   │   ├── 1999Aug.png\n",
            "│   │   │   ├── 1999Dec.png\n",
            "│   │   │   ├── 1999Feb.png\n",
            "│   │   │   ├── 1999Jan.png\n",
            "│   │   │   ├── 1999Jul.png\n",
            "│   │   │   ├── 1999Jun.png\n",
            "│   │   │   ├── 1999Mar.png\n",
            "│   │   │   ├── 1999May.png\n",
            "│   │   │   ├── 1999Nov.png\n",
            "│   │   │   ├── 1999Oct.png\n",
            "│   │   │   └── 1999Sep.png\n",
            "│   │   ├── LICENSE\n",
            "│   │   └── README.md\n",
            "│   ├── playboycovers_2000s\n",
            "│   │   ├── 2000\n",
            "│   │   │   ├── 2000Apr.png\n",
            "│   │   │   ├── 2000Aug.png\n",
            "│   │   │   ├── 2000Dec.png\n",
            "│   │   │   ├── 2000Feb.png\n",
            "│   │   │   ├── 2000Jan.png\n",
            "│   │   │   ├── 2000Jul.png\n",
            "│   │   │   ├── 2000Jun.png\n",
            "│   │   │   ├── 2000Mar.png\n",
            "│   │   │   ├── 2000May.png\n",
            "│   │   │   ├── 2000Nov.png\n",
            "│   │   │   ├── 2000Oct.png\n",
            "│   │   │   └── 2000Sep.png\n",
            "│   │   ├── 2001\n",
            "│   │   │   ├── 2001Apr.png\n",
            "│   │   │   ├── 2001Aug.png\n",
            "│   │   │   ├── 2001Dec.png\n",
            "│   │   │   ├── 2001Feb.png\n",
            "│   │   │   ├── 2001Jan.png\n",
            "│   │   │   ├── 2001Jul.png\n",
            "│   │   │   ├── 2001Jun.png\n",
            "│   │   │   ├── 2001Mar.png\n",
            "│   │   │   ├── 2001May.png\n",
            "│   │   │   ├── 2001Nov.png\n",
            "│   │   │   ├── 2001Oct.png\n",
            "│   │   │   └── 2001Sep.png\n",
            "│   │   ├── 2002\n",
            "│   │   │   ├── 2002Apr.png\n",
            "│   │   │   ├── 2002Aug.png\n",
            "│   │   │   ├── 2002Dec.png\n",
            "│   │   │   ├── 2002Feb.png\n",
            "│   │   │   ├── 2002Jan.png\n",
            "│   │   │   ├── 2002Jul.png\n",
            "│   │   │   ├── 2002Jun.png\n",
            "│   │   │   ├── 2002Mar.png\n",
            "│   │   │   ├── 2002May.png\n",
            "│   │   │   ├── 2002Nov.png\n",
            "│   │   │   ├── 2002Oct.png\n",
            "│   │   │   └── 2002Sep.png\n",
            "│   │   ├── 2003\n",
            "│   │   │   ├── 2003Apr.png\n",
            "│   │   │   ├── 2003Aug.png\n",
            "│   │   │   ├── 2003Dec.png\n",
            "│   │   │   ├── 2003Feb.png\n",
            "│   │   │   ├── 2003Jan.png\n",
            "│   │   │   ├── 2003Jul.png\n",
            "│   │   │   ├── 2003Jun.png\n",
            "│   │   │   ├── 2003Mar.png\n",
            "│   │   │   ├── 2003May.png\n",
            "│   │   │   ├── 2003Nov.png\n",
            "│   │   │   ├── 2003Oct.png\n",
            "│   │   │   └── 2003Sep.png\n",
            "│   │   ├── 2004\n",
            "│   │   │   ├── 2004Apr.png\n",
            "│   │   │   ├── 2004Aug.png\n",
            "│   │   │   ├── 2004Dec.png\n",
            "│   │   │   ├── 2004Feb.png\n",
            "│   │   │   ├── 2004Jan.png\n",
            "│   │   │   ├── 2004Jul.png\n",
            "│   │   │   ├── 2004Jun.png\n",
            "│   │   │   ├── 2004Mar.png\n",
            "│   │   │   ├── 2004May.png\n",
            "│   │   │   ├── 2004Nov.png\n",
            "│   │   │   ├── 2004Oct.png\n",
            "│   │   │   └── 2004Sep.png\n",
            "│   │   ├── 2005\n",
            "│   │   │   ├── 2005Apr.png\n",
            "│   │   │   ├── 2005Aug.png\n",
            "│   │   │   ├── 2005Dec.png\n",
            "│   │   │   ├── 2005Feb.png\n",
            "│   │   │   ├── 2005Jan.png\n",
            "│   │   │   ├── 2005Jul.png\n",
            "│   │   │   ├── 2005Jun.png\n",
            "│   │   │   ├── 2005Mar.png\n",
            "│   │   │   ├── 2005May.png\n",
            "│   │   │   ├── 2005Nov.png\n",
            "│   │   │   ├── 2005Oct.png\n",
            "│   │   │   └── 2005Sep.png\n",
            "│   │   ├── 2006\n",
            "│   │   │   ├── 2006Apr.png\n",
            "│   │   │   ├── 2006Aug.png\n",
            "│   │   │   ├── 2006Dec.png\n",
            "│   │   │   ├── 2006Feb.png\n",
            "│   │   │   ├── 2006Jan.png\n",
            "│   │   │   ├── 2006Jul.png\n",
            "│   │   │   ├── 2006Jun.png\n",
            "│   │   │   ├── 2006Mar.png\n",
            "│   │   │   ├── 2006May.png\n",
            "│   │   │   ├── 2006Nov.png\n",
            "│   │   │   ├── 2006Oct.png\n",
            "│   │   │   └── 2006Sep.png\n",
            "│   │   ├── 2007\n",
            "│   │   │   ├── 2007Apr.png\n",
            "│   │   │   ├── 2007Aug.png\n",
            "│   │   │   ├── 2007Dec.png\n",
            "│   │   │   ├── 2007Feb.png\n",
            "│   │   │   ├── 2007Jan.png\n",
            "│   │   │   ├── 2007Jul.png\n",
            "│   │   │   ├── 2007Jun.png\n",
            "│   │   │   ├── 2007Mar.png\n",
            "│   │   │   ├── 2007May.png\n",
            "│   │   │   ├── 2007Nov.png\n",
            "│   │   │   ├── 2007Oct.png\n",
            "│   │   │   └── 2007Sep.png\n",
            "│   │   ├── 2008\n",
            "│   │   │   ├── 2008Apr.png\n",
            "│   │   │   ├── 2008Aug.png\n",
            "│   │   │   ├── 2008Dec.png\n",
            "│   │   │   ├── 2008Feb.png\n",
            "│   │   │   ├── 2008Jan.png\n",
            "│   │   │   ├── 2008Jul.png\n",
            "│   │   │   ├── 2008Jun.png\n",
            "│   │   │   ├── 2008Mar.png\n",
            "│   │   │   ├── 2008May.png\n",
            "│   │   │   ├── 2008Nov.png\n",
            "│   │   │   ├── 2008Oct.png\n",
            "│   │   │   └── 2008Sep.png\n",
            "│   │   ├── 2009\n",
            "│   │   │   ├── 2009Apr.png\n",
            "│   │   │   ├── 2009Dec.png\n",
            "│   │   │   ├── 2009Feb.png\n",
            "│   │   │   ├── 2009Jan.png\n",
            "│   │   │   ├── 2009Jul:Aug.png\n",
            "│   │   │   ├── 2009Jun.png\n",
            "│   │   │   ├── 2009Mar.png\n",
            "│   │   │   ├── 2009May.png\n",
            "│   │   │   ├── 2009Nov.png\n",
            "│   │   │   ├── 2009Oct.png\n",
            "│   │   │   └── 2009Sep.png\n",
            "│   │   ├── LICENSE\n",
            "│   │   └── README.md\n",
            "│   ├── playboycovers_2010s\n",
            "│   │   ├── 2010\n",
            "│   │   │   ├── 2010Apr.png\n",
            "│   │   │   ├── 2010Aug.png\n",
            "│   │   │   ├── 2010Dec.png\n",
            "│   │   │   ├── 2010Jan:Feb.png\n",
            "│   │   │   ├── 2010Jul.png\n",
            "│   │   │   ├── 2010Jun.png\n",
            "│   │   │   ├── 2010Mar.png\n",
            "│   │   │   ├── 2010May copy.png\n",
            "│   │   │   ├── 2010May.png\n",
            "│   │   │   ├── 2010Nov copy.png\n",
            "│   │   │   ├── 2010Nov.png\n",
            "│   │   │   ├── 2010Oct.png\n",
            "│   │   │   └── 2010Sep.png\n",
            "│   │   ├── 2011\n",
            "│   │   │   ├── 2011Apr.png\n",
            "│   │   │   ├── 2011Aug.png\n",
            "│   │   │   ├── 2011Dec.png\n",
            "│   │   │   ├── 2011Feb.png\n",
            "│   │   │   ├── 2011Jan.png\n",
            "│   │   │   ├── 2011Jul.png\n",
            "│   │   │   ├── 2011Jun.png\n",
            "│   │   │   ├── 2011Mar.png\n",
            "│   │   │   ├── 2011May.png\n",
            "│   │   │   ├── 2011Nov.png\n",
            "│   │   │   ├── 2011Oct.png\n",
            "│   │   │   └── 2011Sep.png\n",
            "│   │   ├── 2012\n",
            "│   │   │   ├── 2012Apr.png\n",
            "│   │   │   ├── 2012Dec.png\n",
            "│   │   │   ├── 2012Jan:Feb.png\n",
            "│   │   │   ├── 2012Jul:Aug.png\n",
            "│   │   │   ├── 2012Jun.png\n",
            "│   │   │   ├── 2012Mar.png\n",
            "│   │   │   ├── 2012May.png\n",
            "│   │   │   ├── 2012Nov.png\n",
            "│   │   │   ├── 2012Oct.png\n",
            "│   │   │   └── 2012Sep.png\n",
            "│   │   ├── 2013\n",
            "│   │   │   ├── 2013Apr.png\n",
            "│   │   │   ├── 2013Dec.png\n",
            "│   │   │   ├── 2013Jan:Feb.png\n",
            "│   │   │   ├── 2013Jul:Aug.png\n",
            "│   │   │   ├── 2013Jun.png\n",
            "│   │   │   ├── 2013Mar.png\n",
            "│   │   │   ├── 2013May.png\n",
            "│   │   │   ├── 2013Nov.png\n",
            "│   │   │   ├── 2013Oct.png\n",
            "│   │   │   └── 2013Sep.png\n",
            "│   │   ├── 2014\n",
            "│   │   │   ├── 2014Apr.png\n",
            "│   │   │   ├── 2014Dec.png\n",
            "│   │   │   ├── 2014Jan:Feb.png\n",
            "│   │   │   ├── 2014Jul:Aug.png\n",
            "│   │   │   ├── 2014Jun.png\n",
            "│   │   │   ├── 2014Mar.png\n",
            "│   │   │   ├── 2014May.png\n",
            "│   │   │   ├── 2014Nov.png\n",
            "│   │   │   ├── 2014Oct.png\n",
            "│   │   │   └── 2014Sep.png\n",
            "│   │   ├── 2015\n",
            "│   │   │   ├── 2015Apr.png\n",
            "│   │   │   ├── 2015Dec.png\n",
            "│   │   │   ├── 2015Jan:Feb.png\n",
            "│   │   │   ├── 2015Jul:Aug.png\n",
            "│   │   │   ├── 2015Jun.png\n",
            "│   │   │   ├── 2015Mar.png\n",
            "│   │   │   ├── 2015May.png\n",
            "│   │   │   ├── 2015Nov.png\n",
            "│   │   │   ├── 2015Oct.png\n",
            "│   │   │   └── 2015Sep.png\n",
            "│   │   ├── 2016\n",
            "│   │   │   ├── 2016Apr.png\n",
            "│   │   │   ├── 2016Dec.png\n",
            "│   │   │   ├── 2016Jan:Feb.png\n",
            "│   │   │   ├── 2016Jul:Aug.png\n",
            "│   │   │   ├── 2016Jun.png\n",
            "│   │   │   ├── 2016Mar.png\n",
            "│   │   │   ├── 2016May.png\n",
            "│   │   │   ├── 2016Nov.png\n",
            "│   │   │   ├── 2016Oct.png\n",
            "│   │   │   └── 2016Sep.png\n",
            "│   │   ├── 2017\n",
            "│   │   │   ├── 2017Jan:Feb.png\n",
            "│   │   │   ├── 2017Jul:Aug.png\n",
            "│   │   │   ├── 2017Mar:Apr.png\n",
            "│   │   │   ├── 2017May:Jun.png\n",
            "│   │   │   ├── 2017Nov:Dec.png\n",
            "│   │   │   └── 2017Sep:Oct.png\n",
            "│   │   ├── 2018\n",
            "│   │   │   ├── 2018Jan:Feb.png\n",
            "│   │   │   ├── 2018Jul:Aug.png\n",
            "│   │   │   ├── 2018Mar:Apr.png\n",
            "│   │   │   ├── 2018May:Jun.png\n",
            "│   │   │   ├── 2018Nov:Dec.png\n",
            "│   │   │   └── 2018Sep:Oct.png\n",
            "│   │   ├── 2019\n",
            "│   │   │   ├── 2019Fall.png\n",
            "│   │   │   ├── 2019Spring.png\n",
            "│   │   │   ├── 2019Summer.png\n",
            "│   │   │   └── 2019Winter.png\n",
            "│   │   ├── LICENSE\n",
            "│   │   └── README.md\n",
            "│   └── playboycovers_2020s\n",
            "│       ├── 2020\n",
            "│       │   ├── 2020Spring.png\n",
            "│       │   └── 2020Winter.png\n",
            "│       ├── LICENSE\n",
            "│       └── README.md\n",
            "├── LICENSE\n",
            "└── README.md\n",
            "\n",
            "77 directories, 784 files\n"
          ]
        }
      ]
    },
    {
      "cell_type": "code",
      "source": [
        "!pwd"
      ],
      "metadata": {
        "colab": {
          "base_uri": "https://localhost:8080/"
        },
        "id": "N77jpUZLRUrK",
        "outputId": "33fa5266-1062-44d7-b4a6-f44fbefb9f24"
      },
      "execution_count": 21,
      "outputs": [
        {
          "output_type": "stream",
          "name": "stdout",
          "text": [
            "/content/playboy_covers\n"
          ]
        }
      ]
    },
    {
      "cell_type": "code",
      "source": [
        "# Get list of subdirs\n",
        "\n",
        "subdirs_ls = [f.path.split('/')[-1] for f in os.scandir('data') if f.is_dir() ]\n",
        "subdirs_ls"
      ],
      "metadata": {
        "colab": {
          "base_uri": "https://localhost:8080/"
        },
        "id": "DTbRUIWNRDsN",
        "outputId": "4cc0b08f-3fe9-4dbd-88e9-8570469b8572"
      },
      "execution_count": 22,
      "outputs": [
        {
          "output_type": "execute_result",
          "data": {
            "text/plain": [
              "['playboycovers_1980s',\n",
              " 'playboycovers_1970s',\n",
              " 'playboycovers_2020s',\n",
              " 'playboycovers_1950s',\n",
              " 'playboycovers_1960s',\n",
              " 'playboycovers_2010s',\n",
              " 'playboycovers_2000s',\n",
              " 'playboycovers_1990s']"
            ]
          },
          "metadata": {},
          "execution_count": 22
        }
      ]
    },
    {
      "cell_type": "code",
      "source": [
        "test_str = '1954Apr.png'\n",
        "test_str.split('.')[:-1]"
      ],
      "metadata": {
        "colab": {
          "base_uri": "https://localhost:8080/"
        },
        "id": "trA3KVJnWDIg",
        "outputId": "c5e4678f-950c-49d9-af96-568b5402ed57"
      },
      "execution_count": 28,
      "outputs": [
        {
          "output_type": "execute_result",
          "data": {
            "text/plain": [
              "['1954Apr']"
            ]
          },
          "metadata": {},
          "execution_count": 28
        }
      ]
    },
    {
      "cell_type": "code",
      "source": [
        "# Face Emtional analysis of upto max_cover_ct *.png images under the data directory\n",
        "\n",
        "def get_face_emotions(adir):\n",
        "  \"\"\"\n",
        "  Given a subdir of *.png files\n",
        "\n",
        "  Return a dict[<png filename_root>] = dict[face emo detection factors]\n",
        "  \"\"\"\n",
        "  cover_face_dt = {}\n",
        "\n",
        "  max_cover_ct = 1000  # Set upper limit on max number of cover images to process\n",
        "\n",
        "  # cover_obj_ls = []\n",
        "  error_log_ls = []\n",
        "  # cover_date_ls = []\n",
        "\n",
        "  break_out_fl = False\n",
        "\n",
        "  total_ct = 0\n",
        "  for root, subfolders, filenames in os.walk(adir):\n",
        "    for i,afile in enumerate(filenames):\n",
        "\n",
        "      if i >= max_cover_ct:\n",
        "        break_out_fl = True\n",
        "        break\n",
        "\n",
        "      if afile.split('.')[-1] == 'png':\n",
        "        total_ct += 1\n",
        "        print(f'Mag Cover #{total_ct} found: {afile}')\n",
        "        # print(root, subfolders, filenames)\n",
        "        fullpath2file = f'./{root}/{afile}'\n",
        "        # print(f'  fullpath: {fullpath2file}')\n",
        "        try:\n",
        "          obj = DeepFace.analyze(img_path = fullpath2file, actions = ['age', 'gender', 'race', 'emotion'])\n",
        "          # cover_obj_ls.append(obj)\n",
        "          cover_yrmo = afile.split('.')[:-1]\n",
        "          cover_face_dt[cover_yrmo] = obj\n",
        "          # cover_date_ls.append(afile.split('.')[0])\n",
        "          print(f'  SUCCESSS')\n",
        "        except Exception as e:\n",
        "          error_log_ls.append(f'Failed to upload to ftp: {str(e)}')\n",
        "          # cover_face_dt[afile] = str(e)\n",
        "          print(f'  ERROR: {str(e)}')\n",
        "            \n",
        "    if break_out_fl:\n",
        "      break\n",
        "\n",
        "  # print(f'DONE: Processed {len(cover_obj_ls)}')\n",
        "  print(f'DONE: Processed {len(cover_face_dt)}')\n",
        "\n",
        "  return cover_face_dt\n",
        "\n",
        "# Test\n",
        "\n",
        "asubdir = 'playboycovers_1950s'\n",
        "test_face_dt = get_face_emotions(f'data/{asubdir}')\n",
        "\n"
      ],
      "metadata": {
        "colab": {
          "base_uri": "https://localhost:8080/"
        },
        "id": "V4mv_eZIIp8w",
        "outputId": "516dc5d1-f35f-4da1-acba-708456270fd7"
      },
      "execution_count": 23,
      "outputs": [
        {
          "output_type": "stream",
          "name": "stdout",
          "text": [
            "Mag Cover #1 found: 1959Jan.png\n",
            "facial_expression_model_weights.h5 will be downloaded...\n"
          ]
        },
        {
          "output_type": "stream",
          "name": "stderr",
          "text": [
            "Downloading...\n",
            "From: https://github.com/serengil/deepface_models/releases/download/v1.0/facial_expression_model_weights.h5\n",
            "To: /root/.deepface/weights/facial_expression_model_weights.h5\n",
            "100%|██████████| 5.98M/5.98M [00:00<00:00, 27.7MB/s]\n"
          ]
        },
        {
          "output_type": "stream",
          "name": "stdout",
          "text": [
            "age_model_weights.h5 will be downloaded...\n"
          ]
        },
        {
          "output_type": "stream",
          "name": "stderr",
          "text": [
            "Downloading...\n",
            "From: https://github.com/serengil/deepface_models/releases/download/v1.0/age_model_weights.h5\n",
            "To: /root/.deepface/weights/age_model_weights.h5\n",
            "100%|██████████| 539M/539M [00:20<00:00, 25.7MB/s]\n"
          ]
        },
        {
          "output_type": "stream",
          "name": "stdout",
          "text": [
            "gender_model_weights.h5 will be downloaded...\n"
          ]
        },
        {
          "output_type": "stream",
          "name": "stderr",
          "text": [
            "Downloading...\n",
            "From: https://github.com/serengil/deepface_models/releases/download/v1.0/gender_model_weights.h5\n",
            "To: /root/.deepface/weights/gender_model_weights.h5\n",
            "100%|██████████| 537M/537M [00:05<00:00, 101MB/s] \n"
          ]
        },
        {
          "output_type": "stream",
          "name": "stdout",
          "text": [
            "race_model_single_batch.h5 will be downloaded...\n"
          ]
        },
        {
          "output_type": "stream",
          "name": "stderr",
          "text": [
            "Downloading...\n",
            "From: https://github.com/serengil/deepface_models/releases/download/v1.0/race_model_single_batch.h5\n",
            "To: /root/.deepface/weights/race_model_single_batch.h5\n",
            "100%|██████████| 537M/537M [00:04<00:00, 112MB/s]\n",
            "Action: age:   0%|          | 0/4 [00:00<?, ?it/s]    "
          ]
        },
        {
          "output_type": "stream",
          "name": "stdout",
          "text": [
            "1/1 [==============================] - 9s 9s/step\n"
          ]
        },
        {
          "output_type": "stream",
          "name": "stderr",
          "text": [
            "Action: gender:  25%|██▌       | 1/4 [00:10<00:31, 10.53s/it]"
          ]
        },
        {
          "output_type": "stream",
          "name": "stdout",
          "text": [
            "1/1 [==============================] - 0s 259ms/step\n"
          ]
        },
        {
          "output_type": "stream",
          "name": "stderr",
          "text": [
            "Action: race:  50%|█████     | 2/4 [00:10<00:09,  4.52s/it]  "
          ]
        },
        {
          "output_type": "stream",
          "name": "stdout",
          "text": [
            "1/1 [==============================] - 0s 258ms/step\n"
          ]
        },
        {
          "output_type": "stream",
          "name": "stderr",
          "text": [
            "Action: emotion:  75%|███████▌  | 3/4 [00:11<00:02,  2.60s/it]"
          ]
        },
        {
          "output_type": "stream",
          "name": "stdout",
          "text": [
            "1/1 [==============================] - 0s 253ms/step\n"
          ]
        },
        {
          "output_type": "stream",
          "name": "stderr",
          "text": [
            "Action: emotion: 100%|██████████| 4/4 [00:12<00:00,  3.18s/it]\n"
          ]
        },
        {
          "output_type": "stream",
          "name": "stdout",
          "text": [
            "  SUCCESSS\n",
            "Mag Cover #2 found: 1959Oct.png\n"
          ]
        },
        {
          "output_type": "stream",
          "name": "stderr",
          "text": [
            "Action: age:   0%|          | 0/4 [00:00<?, ?it/s]\n"
          ]
        },
        {
          "output_type": "stream",
          "name": "stdout",
          "text": [
            "  ERROR: Face could not be detected. Please confirm that the picture is a face photo or consider to set enforce_detection param to False.\n",
            "Mag Cover #3 found: 1959Feb.png\n"
          ]
        },
        {
          "output_type": "stream",
          "name": "stderr",
          "text": [
            "Action: age:   0%|          | 0/4 [00:00<?, ?it/s]    "
          ]
        },
        {
          "output_type": "stream",
          "name": "stdout",
          "text": [
            "1/1 [==============================] - 0s 19ms/step\n"
          ]
        },
        {
          "output_type": "stream",
          "name": "stderr",
          "text": [
            "Action: gender:  25%|██▌       | 1/4 [00:00<00:02,  1.11it/s]"
          ]
        },
        {
          "output_type": "stream",
          "name": "stdout",
          "text": [
            "1/1 [==============================] - 0s 20ms/step\n"
          ]
        },
        {
          "output_type": "stream",
          "name": "stderr",
          "text": [
            "Action: race:  50%|█████     | 2/4 [00:01<00:00,  2.26it/s]  "
          ]
        },
        {
          "output_type": "stream",
          "name": "stdout",
          "text": [
            "1/1 [==============================] - 0s 20ms/step\n"
          ]
        },
        {
          "output_type": "stream",
          "name": "stderr",
          "text": [
            "Action: emotion:  75%|███████▌  | 3/4 [00:01<00:00,  3.03it/s]"
          ]
        },
        {
          "output_type": "stream",
          "name": "stdout",
          "text": [
            "1/1 [==============================] - 0s 19ms/step\n"
          ]
        },
        {
          "output_type": "stream",
          "name": "stderr",
          "text": [
            "Action: emotion: 100%|██████████| 4/4 [00:01<00:00,  2.01it/s]\n"
          ]
        },
        {
          "output_type": "stream",
          "name": "stdout",
          "text": [
            "  SUCCESSS\n",
            "Mag Cover #4 found: 1959Mar.png\n"
          ]
        },
        {
          "output_type": "stream",
          "name": "stderr",
          "text": [
            "Action: age:   0%|          | 0/4 [00:00<?, ?it/s]    "
          ]
        },
        {
          "output_type": "stream",
          "name": "stdout",
          "text": [
            "1/1 [==============================] - 0s 22ms/step\n"
          ]
        },
        {
          "output_type": "stream",
          "name": "stderr",
          "text": [
            "Action: gender:  25%|██▌       | 1/4 [00:00<00:02,  1.25it/s]"
          ]
        },
        {
          "output_type": "stream",
          "name": "stdout",
          "text": [
            "1/1 [==============================] - 0s 22ms/step\n"
          ]
        },
        {
          "output_type": "stream",
          "name": "stderr",
          "text": [
            "Action: race:  50%|█████     | 2/4 [00:01<00:00,  2.22it/s]  "
          ]
        },
        {
          "output_type": "stream",
          "name": "stdout",
          "text": [
            "1/1 [==============================] - 0s 20ms/step\n"
          ]
        },
        {
          "output_type": "stream",
          "name": "stderr",
          "text": [
            "Action: emotion:  75%|███████▌  | 3/4 [00:01<00:00,  2.99it/s]"
          ]
        },
        {
          "output_type": "stream",
          "name": "stdout",
          "text": [
            "1/1 [==============================] - 0s 21ms/step\n"
          ]
        },
        {
          "output_type": "stream",
          "name": "stderr",
          "text": [
            "Action: emotion: 100%|██████████| 4/4 [00:01<00:00,  2.13it/s]\n"
          ]
        },
        {
          "output_type": "stream",
          "name": "stdout",
          "text": [
            "  SUCCESSS\n",
            "Mag Cover #5 found: 1959Dec.png\n"
          ]
        },
        {
          "output_type": "stream",
          "name": "stderr",
          "text": [
            "Action: age:   0%|          | 0/4 [00:00<?, ?it/s]\n"
          ]
        },
        {
          "output_type": "stream",
          "name": "stdout",
          "text": [
            "  ERROR: Face could not be detected. Please confirm that the picture is a face photo or consider to set enforce_detection param to False.\n",
            "Mag Cover #6 found: 1959Jul.png\n"
          ]
        },
        {
          "output_type": "stream",
          "name": "stderr",
          "text": [
            "Action: age:   0%|          | 0/4 [00:00<?, ?it/s]\n"
          ]
        },
        {
          "output_type": "stream",
          "name": "stdout",
          "text": [
            "  ERROR: Face could not be detected. Please confirm that the picture is a face photo or consider to set enforce_detection param to False.\n",
            "Mag Cover #7 found: 1959Apr.png\n"
          ]
        },
        {
          "output_type": "stream",
          "name": "stderr",
          "text": [
            "Action: age:   0%|          | 0/4 [00:01<?, ?it/s]\n"
          ]
        },
        {
          "output_type": "stream",
          "name": "stdout",
          "text": [
            "  ERROR: Face could not be detected. Please confirm that the picture is a face photo or consider to set enforce_detection param to False.\n",
            "Mag Cover #8 found: 1959Jun.png\n"
          ]
        },
        {
          "output_type": "stream",
          "name": "stderr",
          "text": [
            "Action: age:   0%|          | 0/4 [00:00<?, ?it/s]    "
          ]
        },
        {
          "output_type": "stream",
          "name": "stdout",
          "text": [
            "1/1 [==============================] - 0s 21ms/step\n"
          ]
        },
        {
          "output_type": "stream",
          "name": "stderr",
          "text": [
            "Action: gender:  25%|██▌       | 1/4 [00:00<00:02,  1.10it/s]"
          ]
        },
        {
          "output_type": "stream",
          "name": "stdout",
          "text": [
            "1/1 [==============================] - 0s 18ms/step\n"
          ]
        },
        {
          "output_type": "stream",
          "name": "stderr",
          "text": [
            "Action: race:  50%|█████     | 2/4 [00:01<00:00,  2.05it/s]  "
          ]
        },
        {
          "output_type": "stream",
          "name": "stdout",
          "text": [
            "1/1 [==============================] - 0s 18ms/step\n"
          ]
        },
        {
          "output_type": "stream",
          "name": "stderr",
          "text": [
            "Action: emotion:  75%|███████▌  | 3/4 [00:01<00:00,  3.12it/s]"
          ]
        },
        {
          "output_type": "stream",
          "name": "stdout",
          "text": [
            "1/1 [==============================] - 0s 17ms/step\n"
          ]
        },
        {
          "output_type": "stream",
          "name": "stderr",
          "text": [
            "Action: emotion: 100%|██████████| 4/4 [00:01<00:00,  2.01it/s]\n"
          ]
        },
        {
          "output_type": "stream",
          "name": "stdout",
          "text": [
            "  SUCCESSS\n",
            "Mag Cover #9 found: 1959Sep.png\n"
          ]
        },
        {
          "output_type": "stream",
          "name": "stderr",
          "text": [
            "Action: age:   0%|          | 0/4 [00:00<?, ?it/s]\n"
          ]
        },
        {
          "output_type": "stream",
          "name": "stdout",
          "text": [
            "  ERROR: Face could not be detected. Please confirm that the picture is a face photo or consider to set enforce_detection param to False.\n",
            "Mag Cover #10 found: 1959Nov.png\n"
          ]
        },
        {
          "output_type": "stream",
          "name": "stderr",
          "text": [
            "Action: age:   0%|          | 0/4 [00:00<?, ?it/s]\n"
          ]
        },
        {
          "output_type": "stream",
          "name": "stdout",
          "text": [
            "  ERROR: Face could not be detected. Please confirm that the picture is a face photo or consider to set enforce_detection param to False.\n",
            "Mag Cover #11 found: 1959Aug.png\n"
          ]
        },
        {
          "output_type": "stream",
          "name": "stderr",
          "text": [
            "Action: age:   0%|          | 0/4 [00:00<?, ?it/s]\n"
          ]
        },
        {
          "output_type": "stream",
          "name": "stdout",
          "text": [
            "  ERROR: Face could not be detected. Please confirm that the picture is a face photo or consider to set enforce_detection param to False.\n",
            "Mag Cover #12 found: 1959May.png\n"
          ]
        },
        {
          "output_type": "stream",
          "name": "stderr",
          "text": [
            "Action: age:   0%|          | 0/4 [00:00<?, ?it/s]    "
          ]
        },
        {
          "output_type": "stream",
          "name": "stdout",
          "text": [
            "1/1 [==============================] - 0s 19ms/step\n"
          ]
        },
        {
          "output_type": "stream",
          "name": "stderr",
          "text": [
            "Action: gender:  25%|██▌       | 1/4 [00:01<00:03,  1.21s/it]"
          ]
        },
        {
          "output_type": "stream",
          "name": "stdout",
          "text": [
            "1/1 [==============================] - 0s 18ms/step\n"
          ]
        },
        {
          "output_type": "stream",
          "name": "stderr",
          "text": [
            "Action: race:  50%|█████     | 2/4 [00:01<00:01,  1.62it/s]  "
          ]
        },
        {
          "output_type": "stream",
          "name": "stdout",
          "text": [
            "1/1 [==============================] - 0s 19ms/step\n"
          ]
        },
        {
          "output_type": "stream",
          "name": "stderr",
          "text": [
            "Action: emotion:  75%|███████▌  | 3/4 [00:01<00:00,  2.36it/s]"
          ]
        },
        {
          "output_type": "stream",
          "name": "stdout",
          "text": [
            "1/1 [==============================] - 0s 16ms/step\n"
          ]
        },
        {
          "output_type": "stream",
          "name": "stderr",
          "text": [
            "Action: emotion: 100%|██████████| 4/4 [00:02<00:00,  1.48it/s]\n"
          ]
        },
        {
          "output_type": "stream",
          "name": "stdout",
          "text": [
            "  SUCCESSS\n",
            "Mag Cover #13 found: 1955Jun.png\n"
          ]
        },
        {
          "output_type": "stream",
          "name": "stderr",
          "text": [
            "Action: age:   0%|          | 0/4 [00:00<?, ?it/s]    "
          ]
        },
        {
          "output_type": "stream",
          "name": "stdout",
          "text": [
            "1/1 [==============================] - 0s 23ms/step\n"
          ]
        },
        {
          "output_type": "stream",
          "name": "stderr",
          "text": [
            "Action: gender:  25%|██▌       | 1/4 [00:01<00:03,  1.32s/it]"
          ]
        },
        {
          "output_type": "stream",
          "name": "stdout",
          "text": [
            "1/1 [==============================] - 0s 19ms/step\n"
          ]
        },
        {
          "output_type": "stream",
          "name": "stderr",
          "text": [
            "Action: race:  50%|█████     | 2/4 [00:01<00:01,  1.51it/s]  "
          ]
        },
        {
          "output_type": "stream",
          "name": "stdout",
          "text": [
            "1/1 [==============================] - 0s 18ms/step\n"
          ]
        },
        {
          "output_type": "stream",
          "name": "stderr",
          "text": [
            "Action: emotion:  75%|███████▌  | 3/4 [00:01<00:00,  2.24it/s]"
          ]
        },
        {
          "output_type": "stream",
          "name": "stdout",
          "text": [
            "1/1 [==============================] - 0s 17ms/step\n"
          ]
        },
        {
          "output_type": "stream",
          "name": "stderr",
          "text": [
            "Action: emotion: 100%|██████████| 4/4 [00:02<00:00,  1.35it/s]\n"
          ]
        },
        {
          "output_type": "stream",
          "name": "stdout",
          "text": [
            "  SUCCESSS\n",
            "Mag Cover #14 found: 1955Sep.png\n"
          ]
        },
        {
          "output_type": "stream",
          "name": "stderr",
          "text": [
            "Action: age:   0%|          | 0/4 [00:00<?, ?it/s]    "
          ]
        },
        {
          "output_type": "stream",
          "name": "stdout",
          "text": [
            "1/1 [==============================] - 0s 19ms/step\n"
          ]
        },
        {
          "output_type": "stream",
          "name": "stderr",
          "text": [
            "Action: gender:  25%|██▌       | 1/4 [00:01<00:04,  1.49s/it]"
          ]
        },
        {
          "output_type": "stream",
          "name": "stdout",
          "text": [
            "1/1 [==============================] - 0s 21ms/step\n"
          ]
        },
        {
          "output_type": "stream",
          "name": "stderr",
          "text": [
            "Action: race:  50%|█████     | 2/4 [00:01<00:01,  1.37it/s]  "
          ]
        },
        {
          "output_type": "stream",
          "name": "stdout",
          "text": [
            "1/1 [==============================] - 0s 20ms/step\n"
          ]
        },
        {
          "output_type": "stream",
          "name": "stderr",
          "text": [
            "Action: emotion:  75%|███████▌  | 3/4 [00:01<00:00,  2.05it/s]"
          ]
        },
        {
          "output_type": "stream",
          "name": "stdout",
          "text": [
            "1/1 [==============================] - 0s 18ms/step\n"
          ]
        },
        {
          "output_type": "stream",
          "name": "stderr",
          "text": [
            "Action: emotion: 100%|██████████| 4/4 [00:03<00:00,  1.21it/s]\n"
          ]
        },
        {
          "output_type": "stream",
          "name": "stdout",
          "text": [
            "  SUCCESSS\n",
            "Mag Cover #15 found: 1955Aug.png\n"
          ]
        },
        {
          "output_type": "stream",
          "name": "stderr",
          "text": [
            "Action: age:   0%|          | 0/4 [00:01<?, ?it/s]\n"
          ]
        },
        {
          "output_type": "stream",
          "name": "stdout",
          "text": [
            "  ERROR: Face could not be detected. Please confirm that the picture is a face photo or consider to set enforce_detection param to False.\n",
            "Mag Cover #16 found: 1955Nov.png\n"
          ]
        },
        {
          "output_type": "stream",
          "name": "stderr",
          "text": [
            "Action: age:   0%|          | 0/4 [00:00<?, ?it/s]    "
          ]
        },
        {
          "output_type": "stream",
          "name": "stdout",
          "text": [
            "1/1 [==============================] - 0s 22ms/step\n"
          ]
        },
        {
          "output_type": "stream",
          "name": "stderr",
          "text": [
            "Action: gender:  25%|██▌       | 1/4 [00:02<00:06,  2.01s/it]"
          ]
        },
        {
          "output_type": "stream",
          "name": "stdout",
          "text": [
            "1/1 [==============================] - 0s 24ms/step\n"
          ]
        },
        {
          "output_type": "stream",
          "name": "stderr",
          "text": [
            "Action: race:  50%|█████     | 2/4 [00:02<00:01,  1.06it/s]  "
          ]
        },
        {
          "output_type": "stream",
          "name": "stdout",
          "text": [
            "1/1 [==============================] - 0s 23ms/step\n"
          ]
        },
        {
          "output_type": "stream",
          "name": "stderr",
          "text": [
            "Action: emotion:  75%|███████▌  | 3/4 [00:02<00:00,  1.66it/s]"
          ]
        },
        {
          "output_type": "stream",
          "name": "stdout",
          "text": [
            "1/1 [==============================] - 0s 18ms/step\n"
          ]
        },
        {
          "output_type": "stream",
          "name": "stderr",
          "text": [
            "Action: emotion: 100%|██████████| 4/4 [00:04<00:00,  1.07s/it]\n"
          ]
        },
        {
          "output_type": "stream",
          "name": "stdout",
          "text": [
            "  SUCCESSS\n",
            "Mag Cover #17 found: 1955Jul.png\n"
          ]
        },
        {
          "output_type": "stream",
          "name": "stderr",
          "text": [
            "Action: age:   0%|          | 0/4 [00:01<?, ?it/s]\n"
          ]
        },
        {
          "output_type": "stream",
          "name": "stdout",
          "text": [
            "  ERROR: Face could not be detected. Please confirm that the picture is a face photo or consider to set enforce_detection param to False.\n",
            "Mag Cover #18 found: 1955Dec.png\n"
          ]
        },
        {
          "output_type": "stream",
          "name": "stderr",
          "text": [
            "Action: age:   0%|          | 0/4 [00:01<?, ?it/s]\n"
          ]
        },
        {
          "output_type": "stream",
          "name": "stdout",
          "text": [
            "  ERROR: Face could not be detected. Please confirm that the picture is a face photo or consider to set enforce_detection param to False.\n",
            "Mag Cover #19 found: 1955Feb.png\n"
          ]
        },
        {
          "output_type": "stream",
          "name": "stderr",
          "text": [
            "Action: age:   0%|          | 0/4 [00:00<?, ?it/s]    "
          ]
        },
        {
          "output_type": "stream",
          "name": "stdout",
          "text": [
            "1/1 [==============================] - 0s 20ms/step\n"
          ]
        },
        {
          "output_type": "stream",
          "name": "stderr",
          "text": [
            "Action: gender:  25%|██▌       | 1/4 [00:01<00:03,  1.08s/it]"
          ]
        },
        {
          "output_type": "stream",
          "name": "stdout",
          "text": [
            "1/1 [==============================] - 0s 21ms/step\n"
          ]
        },
        {
          "output_type": "stream",
          "name": "stderr",
          "text": [
            "Action: race:  50%|█████     | 2/4 [00:01<00:01,  1.79it/s]  "
          ]
        },
        {
          "output_type": "stream",
          "name": "stdout",
          "text": [
            "1/1 [==============================] - 0s 18ms/step\n"
          ]
        },
        {
          "output_type": "stream",
          "name": "stderr",
          "text": [
            "Action: emotion:  75%|███████▌  | 3/4 [00:01<00:00,  2.54it/s]"
          ]
        },
        {
          "output_type": "stream",
          "name": "stdout",
          "text": [
            "1/1 [==============================] - 0s 18ms/step\n"
          ]
        },
        {
          "output_type": "stream",
          "name": "stderr",
          "text": [
            "Action: emotion: 100%|██████████| 4/4 [00:02<00:00,  1.65it/s]\n"
          ]
        },
        {
          "output_type": "stream",
          "name": "stdout",
          "text": [
            "  SUCCESSS\n",
            "Mag Cover #20 found: 1955Oct.png\n"
          ]
        },
        {
          "output_type": "stream",
          "name": "stderr",
          "text": [
            "Action: age:   0%|          | 0/4 [00:00<?, ?it/s]    "
          ]
        },
        {
          "output_type": "stream",
          "name": "stdout",
          "text": [
            "1/1 [==============================] - 0s 19ms/step\n"
          ]
        },
        {
          "output_type": "stream",
          "name": "stderr",
          "text": [
            "Action: gender:  25%|██▌       | 1/4 [00:01<00:05,  1.73s/it]"
          ]
        },
        {
          "output_type": "stream",
          "name": "stdout",
          "text": [
            "1/1 [==============================] - 0s 20ms/step\n"
          ]
        },
        {
          "output_type": "stream",
          "name": "stderr",
          "text": [
            "Action: race:  50%|█████     | 2/4 [00:01<00:01,  1.27it/s]  "
          ]
        },
        {
          "output_type": "stream",
          "name": "stdout",
          "text": [
            "1/1 [==============================] - 0s 22ms/step\n"
          ]
        },
        {
          "output_type": "stream",
          "name": "stderr",
          "text": [
            "Action: emotion:  75%|███████▌  | 3/4 [00:02<00:00,  1.93it/s]"
          ]
        },
        {
          "output_type": "stream",
          "name": "stdout",
          "text": [
            "1/1 [==============================] - 0s 18ms/step\n"
          ]
        },
        {
          "output_type": "stream",
          "name": "stderr",
          "text": [
            "Action: emotion: 100%|██████████| 4/4 [00:03<00:00,  1.07it/s]\n"
          ]
        },
        {
          "output_type": "stream",
          "name": "stdout",
          "text": [
            "  SUCCESSS\n",
            "Mag Cover #21 found: 1955Apr.png\n"
          ]
        },
        {
          "output_type": "stream",
          "name": "stderr",
          "text": [
            "Action: age:   0%|          | 0/4 [00:00<?, ?it/s]\n"
          ]
        },
        {
          "output_type": "stream",
          "name": "stdout",
          "text": [
            "  ERROR: Face could not be detected. Please confirm that the picture is a face photo or consider to set enforce_detection param to False.\n",
            "Mag Cover #22 found: 1955Jan.png\n"
          ]
        },
        {
          "output_type": "stream",
          "name": "stderr",
          "text": [
            "Action: age:   0%|          | 0/4 [00:00<?, ?it/s]    "
          ]
        },
        {
          "output_type": "stream",
          "name": "stdout",
          "text": [
            "1/1 [==============================] - 0s 19ms/step\n"
          ]
        },
        {
          "output_type": "stream",
          "name": "stderr",
          "text": [
            "Action: gender:  25%|██▌       | 1/4 [00:01<00:04,  1.47s/it]"
          ]
        },
        {
          "output_type": "stream",
          "name": "stdout",
          "text": [
            "1/1 [==============================] - 0s 19ms/step\n"
          ]
        },
        {
          "output_type": "stream",
          "name": "stderr",
          "text": [
            "Action: race:  50%|█████     | 2/4 [00:01<00:01,  1.47it/s]  "
          ]
        },
        {
          "output_type": "stream",
          "name": "stdout",
          "text": [
            "1/1 [==============================] - 0s 21ms/step\n"
          ]
        },
        {
          "output_type": "stream",
          "name": "stderr",
          "text": [
            "Action: emotion:  75%|███████▌  | 3/4 [00:01<00:00,  2.18it/s]"
          ]
        },
        {
          "output_type": "stream",
          "name": "stdout",
          "text": [
            "1/1 [==============================] - 0s 19ms/step\n"
          ]
        },
        {
          "output_type": "stream",
          "name": "stderr",
          "text": [
            "Action: emotion: 100%|██████████| 4/4 [00:03<00:00,  1.27it/s]\n"
          ]
        },
        {
          "output_type": "stream",
          "name": "stdout",
          "text": [
            "  SUCCESSS\n",
            "Mag Cover #23 found: 1955May.png\n"
          ]
        },
        {
          "output_type": "stream",
          "name": "stderr",
          "text": [
            "Action: age:   0%|          | 0/4 [00:01<?, ?it/s]\n"
          ]
        },
        {
          "output_type": "stream",
          "name": "stdout",
          "text": [
            "  ERROR: Face could not be detected. Please confirm that the picture is a face photo or consider to set enforce_detection param to False.\n",
            "Mag Cover #24 found: 1956Apr.png\n"
          ]
        },
        {
          "output_type": "stream",
          "name": "stderr",
          "text": [
            "Action: age:   0%|          | 0/4 [00:00<?, ?it/s]\n"
          ]
        },
        {
          "output_type": "stream",
          "name": "stdout",
          "text": [
            "  ERROR: Face could not be detected. Please confirm that the picture is a face photo or consider to set enforce_detection param to False.\n",
            "Mag Cover #25 found: 1956Oct.png\n"
          ]
        },
        {
          "output_type": "stream",
          "name": "stderr",
          "text": [
            "Action: age:   0%|          | 0/4 [00:00<?, ?it/s]\n"
          ]
        },
        {
          "output_type": "stream",
          "name": "stdout",
          "text": [
            "  ERROR: Face could not be detected. Please confirm that the picture is a face photo or consider to set enforce_detection param to False.\n",
            "Mag Cover #26 found: 1956Jun.png\n"
          ]
        },
        {
          "output_type": "stream",
          "name": "stderr",
          "text": [
            "Action: age:   0%|          | 0/4 [00:00<?, ?it/s]    "
          ]
        },
        {
          "output_type": "stream",
          "name": "stdout",
          "text": [
            "1/1 [==============================] - 0s 23ms/step\n"
          ]
        },
        {
          "output_type": "stream",
          "name": "stderr",
          "text": [
            "Action: gender:  25%|██▌       | 1/4 [00:01<00:05,  1.82s/it]"
          ]
        },
        {
          "output_type": "stream",
          "name": "stdout",
          "text": [
            "1/1 [==============================] - 0s 19ms/step\n"
          ]
        },
        {
          "output_type": "stream",
          "name": "stderr",
          "text": [
            "Action: race:  50%|█████     | 2/4 [00:01<00:01,  1.22it/s]  "
          ]
        },
        {
          "output_type": "stream",
          "name": "stdout",
          "text": [
            "1/1 [==============================] - 0s 18ms/step\n"
          ]
        },
        {
          "output_type": "stream",
          "name": "stderr",
          "text": [
            "Action: emotion:  75%|███████▌  | 3/4 [00:02<00:00,  1.99it/s]"
          ]
        },
        {
          "output_type": "stream",
          "name": "stdout",
          "text": [
            "1/1 [==============================] - 0s 17ms/step\n"
          ]
        },
        {
          "output_type": "stream",
          "name": "stderr",
          "text": [
            "Action: emotion: 100%|██████████| 4/4 [00:03<00:00,  1.04it/s]\n"
          ]
        },
        {
          "output_type": "stream",
          "name": "stdout",
          "text": [
            "  SUCCESSS\n",
            "Mag Cover #27 found: 1956May.png\n"
          ]
        },
        {
          "output_type": "stream",
          "name": "stderr",
          "text": [
            "Action: age:   0%|          | 0/4 [00:00<?, ?it/s]\n"
          ]
        },
        {
          "output_type": "stream",
          "name": "stdout",
          "text": [
            "  ERROR: Face could not be detected. Please confirm that the picture is a face photo or consider to set enforce_detection param to False.\n",
            "Mag Cover #28 found: 1956Dec.png\n"
          ]
        },
        {
          "output_type": "stream",
          "name": "stderr",
          "text": [
            "Action: age:   0%|          | 0/4 [00:00<?, ?it/s]    "
          ]
        },
        {
          "output_type": "stream",
          "name": "stdout",
          "text": [
            "1/1 [==============================] - 0s 17ms/step\n"
          ]
        },
        {
          "output_type": "stream",
          "name": "stderr",
          "text": [
            "Action: gender:  25%|██▌       | 1/4 [00:00<00:02,  1.03it/s]"
          ]
        },
        {
          "output_type": "stream",
          "name": "stdout",
          "text": [
            "1/1 [==============================] - 0s 19ms/step\n"
          ]
        },
        {
          "output_type": "stream",
          "name": "stderr",
          "text": [
            "Action: race:  50%|█████     | 2/4 [00:01<00:01,  1.94it/s]  "
          ]
        },
        {
          "output_type": "stream",
          "name": "stdout",
          "text": [
            "1/1 [==============================] - 0s 18ms/step\n"
          ]
        },
        {
          "output_type": "stream",
          "name": "stderr",
          "text": [
            "Action: emotion:  75%|███████▌  | 3/4 [00:01<00:00,  2.70it/s]"
          ]
        },
        {
          "output_type": "stream",
          "name": "stdout",
          "text": [
            "1/1 [==============================] - 0s 19ms/step\n"
          ]
        },
        {
          "output_type": "stream",
          "name": "stderr",
          "text": [
            "Action: emotion: 100%|██████████| 4/4 [00:02<00:00,  1.77it/s]\n"
          ]
        },
        {
          "output_type": "stream",
          "name": "stdout",
          "text": [
            "  SUCCESSS\n",
            "Mag Cover #29 found: 1956Sep.png\n"
          ]
        },
        {
          "output_type": "stream",
          "name": "stderr",
          "text": [
            "Action: age:   0%|          | 0/4 [00:00<?, ?it/s]    "
          ]
        },
        {
          "output_type": "stream",
          "name": "stdout",
          "text": [
            "1/1 [==============================] - 0s 21ms/step\n"
          ]
        },
        {
          "output_type": "stream",
          "name": "stderr",
          "text": [
            "Action: gender:  25%|██▌       | 1/4 [00:01<00:04,  1.35s/it]"
          ]
        },
        {
          "output_type": "stream",
          "name": "stdout",
          "text": [
            "1/1 [==============================] - 0s 19ms/step\n"
          ]
        },
        {
          "output_type": "stream",
          "name": "stderr",
          "text": [
            "Action: race:  50%|█████     | 2/4 [00:01<00:01,  1.60it/s]  "
          ]
        },
        {
          "output_type": "stream",
          "name": "stdout",
          "text": [
            "1/1 [==============================] - 0s 21ms/step\n"
          ]
        },
        {
          "output_type": "stream",
          "name": "stderr",
          "text": [
            "Action: emotion:  75%|███████▌  | 3/4 [00:01<00:00,  2.51it/s]"
          ]
        },
        {
          "output_type": "stream",
          "name": "stdout",
          "text": [
            "1/1 [==============================] - 0s 17ms/step\n"
          ]
        },
        {
          "output_type": "stream",
          "name": "stderr",
          "text": [
            "Action: emotion: 100%|██████████| 4/4 [00:02<00:00,  1.41it/s]\n"
          ]
        },
        {
          "output_type": "stream",
          "name": "stdout",
          "text": [
            "  SUCCESSS\n",
            "Mag Cover #30 found: 1956Mar.png\n"
          ]
        },
        {
          "output_type": "stream",
          "name": "stderr",
          "text": [
            "Action: age:   0%|          | 0/4 [00:00<?, ?it/s]    "
          ]
        },
        {
          "output_type": "stream",
          "name": "stdout",
          "text": [
            "1/1 [==============================] - 0s 18ms/step\n"
          ]
        },
        {
          "output_type": "stream",
          "name": "stderr",
          "text": [
            "Action: gender:  25%|██▌       | 1/4 [00:01<00:03,  1.07s/it]"
          ]
        },
        {
          "output_type": "stream",
          "name": "stdout",
          "text": [
            "1/1 [==============================] - 0s 22ms/step\n"
          ]
        },
        {
          "output_type": "stream",
          "name": "stderr",
          "text": [
            "Action: race:  50%|█████     | 2/4 [00:01<00:01,  1.94it/s]  "
          ]
        },
        {
          "output_type": "stream",
          "name": "stdout",
          "text": [
            "1/1 [==============================] - 0s 21ms/step\n"
          ]
        },
        {
          "output_type": "stream",
          "name": "stderr",
          "text": [
            "Action: emotion:  75%|███████▌  | 3/4 [00:01<00:00,  2.69it/s]"
          ]
        },
        {
          "output_type": "stream",
          "name": "stdout",
          "text": [
            "1/1 [==============================] - 0s 17ms/step\n"
          ]
        },
        {
          "output_type": "stream",
          "name": "stderr",
          "text": [
            "Action: emotion: 100%|██████████| 4/4 [00:02<00:00,  1.65it/s]\n"
          ]
        },
        {
          "output_type": "stream",
          "name": "stdout",
          "text": [
            "  SUCCESSS\n",
            "Mag Cover #31 found: 1956Nov.png\n"
          ]
        },
        {
          "output_type": "stream",
          "name": "stderr",
          "text": [
            "Action: age:   0%|          | 0/4 [00:00<?, ?it/s]    "
          ]
        },
        {
          "output_type": "stream",
          "name": "stdout",
          "text": [
            "1/1 [==============================] - 0s 20ms/step\n"
          ]
        },
        {
          "output_type": "stream",
          "name": "stderr",
          "text": [
            "Action: gender:  25%|██▌       | 1/4 [00:01<00:05,  1.83s/it]"
          ]
        },
        {
          "output_type": "stream",
          "name": "stdout",
          "text": [
            "1/1 [==============================] - 0s 19ms/step\n"
          ]
        },
        {
          "output_type": "stream",
          "name": "stderr",
          "text": [
            "Action: race:  50%|█████     | 2/4 [00:02<00:01,  1.15it/s]  "
          ]
        },
        {
          "output_type": "stream",
          "name": "stdout",
          "text": [
            "1/1 [==============================] - 0s 19ms/step\n"
          ]
        },
        {
          "output_type": "stream",
          "name": "stderr",
          "text": [
            "Action: emotion:  75%|███████▌  | 3/4 [00:02<00:00,  1.88it/s]"
          ]
        },
        {
          "output_type": "stream",
          "name": "stdout",
          "text": [
            "1/1 [==============================] - 0s 19ms/step\n"
          ]
        },
        {
          "output_type": "stream",
          "name": "stderr",
          "text": [
            "Action: emotion: 100%|██████████| 4/4 [00:03<00:00,  1.04it/s]\n"
          ]
        },
        {
          "output_type": "stream",
          "name": "stdout",
          "text": [
            "  SUCCESSS\n",
            "Mag Cover #32 found: 1956Jul.png\n"
          ]
        },
        {
          "output_type": "stream",
          "name": "stderr",
          "text": [
            "Action: age:   0%|          | 0/4 [00:00<?, ?it/s]    "
          ]
        },
        {
          "output_type": "stream",
          "name": "stdout",
          "text": [
            "1/1 [==============================] - 0s 19ms/step\n"
          ]
        },
        {
          "output_type": "stream",
          "name": "stderr",
          "text": [
            "Action: gender:  25%|██▌       | 1/4 [00:01<00:03,  1.13s/it]"
          ]
        },
        {
          "output_type": "stream",
          "name": "stdout",
          "text": [
            "1/1 [==============================] - 0s 20ms/step\n"
          ]
        },
        {
          "output_type": "stream",
          "name": "stderr",
          "text": [
            "Action: race:  50%|█████     | 2/4 [00:01<00:01,  1.73it/s]  "
          ]
        },
        {
          "output_type": "stream",
          "name": "stdout",
          "text": [
            "1/1 [==============================] - 0s 20ms/step\n"
          ]
        },
        {
          "output_type": "stream",
          "name": "stderr",
          "text": [
            "Action: emotion:  75%|███████▌  | 3/4 [00:01<00:00,  2.47it/s]"
          ]
        },
        {
          "output_type": "stream",
          "name": "stdout",
          "text": [
            "1/1 [==============================] - 0s 17ms/step\n"
          ]
        },
        {
          "output_type": "stream",
          "name": "stderr",
          "text": [
            "Action: emotion: 100%|██████████| 4/4 [00:02<00:00,  1.55it/s]\n"
          ]
        },
        {
          "output_type": "stream",
          "name": "stdout",
          "text": [
            "  SUCCESSS\n",
            "Mag Cover #33 found: 1956Jan.png\n"
          ]
        },
        {
          "output_type": "stream",
          "name": "stderr",
          "text": [
            "Action: age:   0%|          | 0/4 [00:00<?, ?it/s]\n"
          ]
        },
        {
          "output_type": "stream",
          "name": "stdout",
          "text": [
            "  ERROR: Face could not be detected. Please confirm that the picture is a face photo or consider to set enforce_detection param to False.\n",
            "Mag Cover #34 found: 1956Feb.png\n"
          ]
        },
        {
          "output_type": "stream",
          "name": "stderr",
          "text": [
            "Action: age:   0%|          | 0/4 [00:00<?, ?it/s]    "
          ]
        },
        {
          "output_type": "stream",
          "name": "stdout",
          "text": [
            "1/1 [==============================] - 0s 21ms/step\n"
          ]
        },
        {
          "output_type": "stream",
          "name": "stderr",
          "text": [
            "Action: gender:  25%|██▌       | 1/4 [00:01<00:03,  1.25s/it]"
          ]
        },
        {
          "output_type": "stream",
          "name": "stdout",
          "text": [
            "1/1 [==============================] - 0s 18ms/step\n"
          ]
        },
        {
          "output_type": "stream",
          "name": "stderr",
          "text": [
            "Action: race:  50%|█████     | 2/4 [00:01<00:01,  1.71it/s]  "
          ]
        },
        {
          "output_type": "stream",
          "name": "stdout",
          "text": [
            "1/1 [==============================] - 0s 19ms/step\n"
          ]
        },
        {
          "output_type": "stream",
          "name": "stderr",
          "text": [
            "Action: emotion:  75%|███████▌  | 3/4 [00:01<00:00,  2.44it/s]"
          ]
        },
        {
          "output_type": "stream",
          "name": "stdout",
          "text": [
            "1/1 [==============================] - 0s 17ms/step\n"
          ]
        },
        {
          "output_type": "stream",
          "name": "stderr",
          "text": [
            "Action: emotion: 100%|██████████| 4/4 [00:02<00:00,  1.46it/s]\n"
          ]
        },
        {
          "output_type": "stream",
          "name": "stdout",
          "text": [
            "  SUCCESSS\n",
            "Mag Cover #35 found: 1956Aug.png\n"
          ]
        },
        {
          "output_type": "stream",
          "name": "stderr",
          "text": [
            "Action: age:   0%|          | 0/4 [00:01<?, ?it/s]\n"
          ]
        },
        {
          "output_type": "stream",
          "name": "stdout",
          "text": [
            "  ERROR: Face could not be detected. Please confirm that the picture is a face photo or consider to set enforce_detection param to False.\n",
            "Mag Cover #36 found: 1954Apr.png\n"
          ]
        },
        {
          "output_type": "stream",
          "name": "stderr",
          "text": [
            "Action: age:   0%|          | 0/4 [00:00<?, ?it/s]\n"
          ]
        },
        {
          "output_type": "stream",
          "name": "stdout",
          "text": [
            "  ERROR: Face could not be detected. Please confirm that the picture is a face photo or consider to set enforce_detection param to False.\n",
            "Mag Cover #37 found: 1954Dec.png\n"
          ]
        },
        {
          "output_type": "stream",
          "name": "stderr",
          "text": [
            "Action: age:   0%|          | 0/4 [00:00<?, ?it/s]    "
          ]
        },
        {
          "output_type": "stream",
          "name": "stdout",
          "text": [
            "1/1 [==============================] - 0s 27ms/step\n"
          ]
        },
        {
          "output_type": "stream",
          "name": "stderr",
          "text": [
            "Action: gender:  25%|██▌       | 1/4 [00:01<00:04,  1.35s/it]"
          ]
        },
        {
          "output_type": "stream",
          "name": "stdout",
          "text": [
            "1/1 [==============================] - 0s 26ms/step\n"
          ]
        },
        {
          "output_type": "stream",
          "name": "stderr",
          "text": [
            "Action: race:  50%|█████     | 2/4 [00:01<00:01,  1.58it/s]  "
          ]
        },
        {
          "output_type": "stream",
          "name": "stdout",
          "text": [
            "1/1 [==============================] - 0s 25ms/step\n"
          ]
        },
        {
          "output_type": "stream",
          "name": "stderr",
          "text": [
            "Action: emotion:  75%|███████▌  | 3/4 [00:01<00:00,  2.30it/s]"
          ]
        },
        {
          "output_type": "stream",
          "name": "stdout",
          "text": [
            "1/1 [==============================] - 0s 17ms/step\n"
          ]
        },
        {
          "output_type": "stream",
          "name": "stderr",
          "text": [
            "Action: emotion: 100%|██████████| 4/4 [00:02<00:00,  1.36it/s]\n"
          ]
        },
        {
          "output_type": "stream",
          "name": "stdout",
          "text": [
            "  SUCCESSS\n",
            "Mag Cover #38 found: 1954Jan.png\n"
          ]
        },
        {
          "output_type": "stream",
          "name": "stderr",
          "text": [
            "Action: age:   0%|          | 0/4 [00:00<?, ?it/s]    "
          ]
        },
        {
          "output_type": "stream",
          "name": "stdout",
          "text": [
            "1/1 [==============================] - 0s 22ms/step\n"
          ]
        },
        {
          "output_type": "stream",
          "name": "stderr",
          "text": [
            "Action: gender:  25%|██▌       | 1/4 [00:01<00:03,  1.31s/it]"
          ]
        },
        {
          "output_type": "stream",
          "name": "stdout",
          "text": [
            "1/1 [==============================] - 0s 21ms/step\n"
          ]
        },
        {
          "output_type": "stream",
          "name": "stderr",
          "text": [
            "Action: race:  50%|█████     | 2/4 [00:01<00:01,  1.53it/s]  "
          ]
        },
        {
          "output_type": "stream",
          "name": "stdout",
          "text": [
            "1/1 [==============================] - 0s 19ms/step\n"
          ]
        },
        {
          "output_type": "stream",
          "name": "stderr",
          "text": [
            "Action: emotion:  75%|███████▌  | 3/4 [00:01<00:00,  2.22it/s]"
          ]
        },
        {
          "output_type": "stream",
          "name": "stdout",
          "text": [
            "1/1 [==============================] - 0s 18ms/step\n"
          ]
        },
        {
          "output_type": "stream",
          "name": "stderr",
          "text": [
            "Action: emotion: 100%|██████████| 4/4 [00:02<00:00,  1.39it/s]\n"
          ]
        },
        {
          "output_type": "stream",
          "name": "stdout",
          "text": [
            "  SUCCESSS\n",
            "Mag Cover #39 found: 1954Mar.png\n"
          ]
        },
        {
          "output_type": "stream",
          "name": "stderr",
          "text": [
            "Action: age:   0%|          | 0/4 [00:00<?, ?it/s]\n"
          ]
        },
        {
          "output_type": "stream",
          "name": "stdout",
          "text": [
            "  ERROR: Face could not be detected. Please confirm that the picture is a face photo or consider to set enforce_detection param to False.\n",
            "Mag Cover #40 found: 1954Jun.png\n"
          ]
        },
        {
          "output_type": "stream",
          "name": "stderr",
          "text": [
            "Action: age:   0%|          | 0/4 [00:00<?, ?it/s]\n"
          ]
        },
        {
          "output_type": "stream",
          "name": "stdout",
          "text": [
            "  ERROR: Face could not be detected. Please confirm that the picture is a face photo or consider to set enforce_detection param to False.\n",
            "Mag Cover #41 found: 1954Oct.png\n"
          ]
        },
        {
          "output_type": "stream",
          "name": "stderr",
          "text": [
            "Action: age:   0%|          | 0/4 [00:00<?, ?it/s]    "
          ]
        },
        {
          "output_type": "stream",
          "name": "stdout",
          "text": [
            "1/1 [==============================] - 0s 18ms/step\n"
          ]
        },
        {
          "output_type": "stream",
          "name": "stderr",
          "text": [
            "Action: gender:  25%|██▌       | 1/4 [00:00<00:02,  1.44it/s]"
          ]
        },
        {
          "output_type": "stream",
          "name": "stdout",
          "text": [
            "1/1 [==============================] - 0s 19ms/step\n"
          ]
        },
        {
          "output_type": "stream",
          "name": "stderr",
          "text": [
            "Action: race:  50%|█████     | 2/4 [00:00<00:00,  2.49it/s]  "
          ]
        },
        {
          "output_type": "stream",
          "name": "stdout",
          "text": [
            "1/1 [==============================] - 0s 18ms/step\n"
          ]
        },
        {
          "output_type": "stream",
          "name": "stderr",
          "text": [
            "Action: emotion:  75%|███████▌  | 3/4 [00:01<00:00,  3.64it/s]"
          ]
        },
        {
          "output_type": "stream",
          "name": "stdout",
          "text": [
            "1/1 [==============================] - 0s 18ms/step\n"
          ]
        },
        {
          "output_type": "stream",
          "name": "stderr",
          "text": [
            "Action: emotion: 100%|██████████| 4/4 [00:01<00:00,  2.50it/s]\n"
          ]
        },
        {
          "output_type": "stream",
          "name": "stdout",
          "text": [
            "  SUCCESSS\n",
            "Mag Cover #42 found: 1954Aug.png\n"
          ]
        },
        {
          "output_type": "stream",
          "name": "stderr",
          "text": [
            "Action: age:   0%|          | 0/4 [00:00<?, ?it/s]\n"
          ]
        },
        {
          "output_type": "stream",
          "name": "stdout",
          "text": [
            "  ERROR: Face could not be detected. Please confirm that the picture is a face photo or consider to set enforce_detection param to False.\n",
            "Mag Cover #43 found: 1954Feb.png\n"
          ]
        },
        {
          "output_type": "stream",
          "name": "stderr",
          "text": [
            "Action: age:   0%|          | 0/4 [00:00<?, ?it/s]    "
          ]
        },
        {
          "output_type": "stream",
          "name": "stdout",
          "text": [
            "1/1 [==============================] - 0s 20ms/step\n"
          ]
        },
        {
          "output_type": "stream",
          "name": "stderr",
          "text": [
            "Action: gender:  25%|██▌       | 1/4 [00:01<00:03,  1.17s/it]"
          ]
        },
        {
          "output_type": "stream",
          "name": "stdout",
          "text": [
            "1/1 [==============================] - 0s 20ms/step\n"
          ]
        },
        {
          "output_type": "stream",
          "name": "stderr",
          "text": [
            "Action: race:  50%|█████     | 2/4 [00:01<00:01,  1.67it/s]  "
          ]
        },
        {
          "output_type": "stream",
          "name": "stdout",
          "text": [
            "1/1 [==============================] - 0s 22ms/step\n"
          ]
        },
        {
          "output_type": "stream",
          "name": "stderr",
          "text": [
            "Action: emotion:  75%|███████▌  | 3/4 [00:01<00:00,  2.40it/s]"
          ]
        },
        {
          "output_type": "stream",
          "name": "stdout",
          "text": [
            "1/1 [==============================] - 0s 18ms/step\n"
          ]
        },
        {
          "output_type": "stream",
          "name": "stderr",
          "text": [
            "Action: emotion: 100%|██████████| 4/4 [00:02<00:00,  1.53it/s]\n"
          ]
        },
        {
          "output_type": "stream",
          "name": "stdout",
          "text": [
            "  SUCCESSS\n",
            "Mag Cover #44 found: 1954Nov.png\n"
          ]
        },
        {
          "output_type": "stream",
          "name": "stderr",
          "text": [
            "Action: age:   0%|          | 0/4 [00:00<?, ?it/s]\n"
          ]
        },
        {
          "output_type": "stream",
          "name": "stdout",
          "text": [
            "  ERROR: Face could not be detected. Please confirm that the picture is a face photo or consider to set enforce_detection param to False.\n",
            "Mag Cover #45 found: 1954May.png\n"
          ]
        },
        {
          "output_type": "stream",
          "name": "stderr",
          "text": [
            "Action: age:   0%|          | 0/4 [00:01<?, ?it/s]\n"
          ]
        },
        {
          "output_type": "stream",
          "name": "stdout",
          "text": [
            "  ERROR: Face could not be detected. Please confirm that the picture is a face photo or consider to set enforce_detection param to False.\n",
            "Mag Cover #46 found: 1954Sep.png\n"
          ]
        },
        {
          "output_type": "stream",
          "name": "stderr",
          "text": [
            "Action: age:   0%|          | 0/4 [00:01<?, ?it/s]\n"
          ]
        },
        {
          "output_type": "stream",
          "name": "stdout",
          "text": [
            "  ERROR: Face could not be detected. Please confirm that the picture is a face photo or consider to set enforce_detection param to False.\n",
            "Mag Cover #47 found: 1954Jul.png\n"
          ]
        },
        {
          "output_type": "stream",
          "name": "stderr",
          "text": [
            "Action: age:   0%|          | 0/4 [00:00<?, ?it/s]\n"
          ]
        },
        {
          "output_type": "stream",
          "name": "stdout",
          "text": [
            "  ERROR: Face could not be detected. Please confirm that the picture is a face photo or consider to set enforce_detection param to False.\n",
            "Mag Cover #48 found: 1958Sep.png\n"
          ]
        },
        {
          "output_type": "stream",
          "name": "stderr",
          "text": [
            "Action: age:   0%|          | 0/4 [00:00<?, ?it/s]    "
          ]
        },
        {
          "output_type": "stream",
          "name": "stdout",
          "text": [
            "1/1 [==============================] - 0s 20ms/step\n"
          ]
        },
        {
          "output_type": "stream",
          "name": "stderr",
          "text": [
            "Action: gender:  25%|██▌       | 1/4 [00:01<00:04,  1.40s/it]"
          ]
        },
        {
          "output_type": "stream",
          "name": "stdout",
          "text": [
            "1/1 [==============================] - 0s 21ms/step\n"
          ]
        },
        {
          "output_type": "stream",
          "name": "stderr",
          "text": [
            "Action: race:  50%|█████     | 2/4 [00:01<00:01,  1.44it/s]  "
          ]
        },
        {
          "output_type": "stream",
          "name": "stdout",
          "text": [
            "1/1 [==============================] - 0s 20ms/step\n"
          ]
        },
        {
          "output_type": "stream",
          "name": "stderr",
          "text": [
            "Action: emotion:  75%|███████▌  | 3/4 [00:01<00:00,  2.15it/s]"
          ]
        },
        {
          "output_type": "stream",
          "name": "stdout",
          "text": [
            "1/1 [==============================] - 0s 17ms/step\n"
          ]
        },
        {
          "output_type": "stream",
          "name": "stderr",
          "text": [
            "Action: emotion: 100%|██████████| 4/4 [00:03<00:00,  1.26it/s]\n"
          ]
        },
        {
          "output_type": "stream",
          "name": "stdout",
          "text": [
            "  SUCCESSS\n",
            "Mag Cover #49 found: 1958Dec.png\n"
          ]
        },
        {
          "output_type": "stream",
          "name": "stderr",
          "text": [
            "Action: age:   0%|          | 0/4 [00:00<?, ?it/s]\n"
          ]
        },
        {
          "output_type": "stream",
          "name": "stdout",
          "text": [
            "  ERROR: Face could not be detected. Please confirm that the picture is a face photo or consider to set enforce_detection param to False.\n",
            "Mag Cover #50 found: 1958Nov.png\n"
          ]
        },
        {
          "output_type": "stream",
          "name": "stderr",
          "text": [
            "Action: age:   0%|          | 0/4 [00:00<?, ?it/s]\n"
          ]
        },
        {
          "output_type": "stream",
          "name": "stdout",
          "text": [
            "  ERROR: Face could not be detected. Please confirm that the picture is a face photo or consider to set enforce_detection param to False.\n",
            "Mag Cover #51 found: 1958Jul.png\n"
          ]
        },
        {
          "output_type": "stream",
          "name": "stderr",
          "text": [
            "Action: age:   0%|          | 0/4 [00:00<?, ?it/s]    "
          ]
        },
        {
          "output_type": "stream",
          "name": "stdout",
          "text": [
            "1/1 [==============================] - 0s 21ms/step\n"
          ]
        },
        {
          "output_type": "stream",
          "name": "stderr",
          "text": [
            "Action: gender:  25%|██▌       | 1/4 [00:01<00:03,  1.20s/it]"
          ]
        },
        {
          "output_type": "stream",
          "name": "stdout",
          "text": [
            "1/1 [==============================] - 0s 22ms/step\n"
          ]
        },
        {
          "output_type": "stream",
          "name": "stderr",
          "text": [
            "Action: race:  50%|█████     | 2/4 [00:01<00:01,  1.76it/s]  "
          ]
        },
        {
          "output_type": "stream",
          "name": "stdout",
          "text": [
            "1/1 [==============================] - 0s 20ms/step\n"
          ]
        },
        {
          "output_type": "stream",
          "name": "stderr",
          "text": [
            "Action: emotion:  75%|███████▌  | 3/4 [00:01<00:00,  2.50it/s]"
          ]
        },
        {
          "output_type": "stream",
          "name": "stdout",
          "text": [
            "1/1 [==============================] - 0s 23ms/step\n"
          ]
        },
        {
          "output_type": "stream",
          "name": "stderr",
          "text": [
            "Action: emotion: 100%|██████████| 4/4 [00:02<00:00,  1.50it/s]\n"
          ]
        },
        {
          "output_type": "stream",
          "name": "stdout",
          "text": [
            "  SUCCESSS\n",
            "Mag Cover #52 found: 1958Apr.png\n"
          ]
        },
        {
          "output_type": "stream",
          "name": "stderr",
          "text": [
            "Action: age:   0%|          | 0/4 [00:00<?, ?it/s]    "
          ]
        },
        {
          "output_type": "stream",
          "name": "stdout",
          "text": [
            "1/1 [==============================] - 0s 19ms/step\n"
          ]
        },
        {
          "output_type": "stream",
          "name": "stderr",
          "text": [
            "Action: gender:  25%|██▌       | 1/4 [00:01<00:03,  1.07s/it]"
          ]
        },
        {
          "output_type": "stream",
          "name": "stdout",
          "text": [
            "1/1 [==============================] - 0s 18ms/step\n"
          ]
        },
        {
          "output_type": "stream",
          "name": "stderr",
          "text": [
            "Action: race:  50%|█████     | 2/4 [00:01<00:01,  1.80it/s]  "
          ]
        },
        {
          "output_type": "stream",
          "name": "stdout",
          "text": [
            "1/1 [==============================] - 0s 20ms/step\n"
          ]
        },
        {
          "output_type": "stream",
          "name": "stderr",
          "text": [
            "Action: emotion:  75%|███████▌  | 3/4 [00:01<00:00,  2.57it/s]"
          ]
        },
        {
          "output_type": "stream",
          "name": "stdout",
          "text": [
            "1/1 [==============================] - 0s 21ms/step\n"
          ]
        },
        {
          "output_type": "stream",
          "name": "stderr",
          "text": [
            "Action: emotion: 100%|██████████| 4/4 [00:02<00:00,  1.67it/s]\n"
          ]
        },
        {
          "output_type": "stream",
          "name": "stdout",
          "text": [
            "  SUCCESSS\n",
            "Mag Cover #53 found: 1958Jun.png\n"
          ]
        },
        {
          "output_type": "stream",
          "name": "stderr",
          "text": [
            "Action: age:   0%|          | 0/4 [00:00<?, ?it/s]    "
          ]
        },
        {
          "output_type": "stream",
          "name": "stdout",
          "text": [
            "1/1 [==============================] - 0s 19ms/step\n"
          ]
        },
        {
          "output_type": "stream",
          "name": "stderr",
          "text": [
            "Action: gender:  25%|██▌       | 1/4 [00:00<00:02,  1.14it/s]"
          ]
        },
        {
          "output_type": "stream",
          "name": "stdout",
          "text": [
            "1/1 [==============================] - 0s 19ms/step\n"
          ]
        },
        {
          "output_type": "stream",
          "name": "stderr",
          "text": [
            "Action: race:  50%|█████     | 2/4 [00:01<00:00,  2.09it/s]  "
          ]
        },
        {
          "output_type": "stream",
          "name": "stdout",
          "text": [
            "1/1 [==============================] - 0s 19ms/step\n"
          ]
        },
        {
          "output_type": "stream",
          "name": "stderr",
          "text": [
            "Action: emotion:  75%|███████▌  | 3/4 [00:01<00:00,  2.85it/s]"
          ]
        },
        {
          "output_type": "stream",
          "name": "stdout",
          "text": [
            "1/1 [==============================] - 0s 17ms/step\n"
          ]
        },
        {
          "output_type": "stream",
          "name": "stderr",
          "text": [
            "Action: emotion: 100%|██████████| 4/4 [00:02<00:00,  1.99it/s]\n"
          ]
        },
        {
          "output_type": "stream",
          "name": "stdout",
          "text": [
            "  SUCCESSS\n",
            "Mag Cover #54 found: 1958May.png\n"
          ]
        },
        {
          "output_type": "stream",
          "name": "stderr",
          "text": [
            "Action: age:   0%|          | 0/4 [00:00<?, ?it/s]    "
          ]
        },
        {
          "output_type": "stream",
          "name": "stdout",
          "text": [
            "1/1 [==============================] - 0s 18ms/step\n"
          ]
        },
        {
          "output_type": "stream",
          "name": "stderr",
          "text": [
            "Action: gender:  25%|██▌       | 1/4 [00:01<00:03,  1.23s/it]"
          ]
        },
        {
          "output_type": "stream",
          "name": "stdout",
          "text": [
            "1/1 [==============================] - 0s 19ms/step\n"
          ]
        },
        {
          "output_type": "stream",
          "name": "stderr",
          "text": [
            "Action: race:  50%|█████     | 2/4 [00:01<00:01,  1.61it/s]  "
          ]
        },
        {
          "output_type": "stream",
          "name": "stdout",
          "text": [
            "1/1 [==============================] - 0s 20ms/step\n"
          ]
        },
        {
          "output_type": "stream",
          "name": "stderr",
          "text": [
            "Action: emotion:  75%|███████▌  | 3/4 [00:01<00:00,  2.31it/s]"
          ]
        },
        {
          "output_type": "stream",
          "name": "stdout",
          "text": [
            "1/1 [==============================] - 0s 17ms/step\n"
          ]
        },
        {
          "output_type": "stream",
          "name": "stderr",
          "text": [
            "Action: emotion: 100%|██████████| 4/4 [00:02<00:00,  1.42it/s]\n"
          ]
        },
        {
          "output_type": "stream",
          "name": "stdout",
          "text": [
            "  SUCCESSS\n",
            "Mag Cover #55 found: 1958Aug.png\n"
          ]
        },
        {
          "output_type": "stream",
          "name": "stderr",
          "text": [
            "Action: age:   0%|          | 0/4 [00:00<?, ?it/s]    "
          ]
        },
        {
          "output_type": "stream",
          "name": "stdout",
          "text": [
            "1/1 [==============================] - 0s 19ms/step\n"
          ]
        },
        {
          "output_type": "stream",
          "name": "stderr",
          "text": [
            "Action: gender:  25%|██▌       | 1/4 [00:00<00:02,  1.20it/s]"
          ]
        },
        {
          "output_type": "stream",
          "name": "stdout",
          "text": [
            "1/1 [==============================] - 0s 21ms/step\n"
          ]
        },
        {
          "output_type": "stream",
          "name": "stderr",
          "text": [
            "Action: race:  50%|█████     | 2/4 [00:01<00:00,  2.18it/s]  "
          ]
        },
        {
          "output_type": "stream",
          "name": "stdout",
          "text": [
            "1/1 [==============================] - 0s 22ms/step\n"
          ]
        },
        {
          "output_type": "stream",
          "name": "stderr",
          "text": [
            "Action: emotion:  75%|███████▌  | 3/4 [00:01<00:00,  3.26it/s]"
          ]
        },
        {
          "output_type": "stream",
          "name": "stdout",
          "text": [
            "1/1 [==============================] - 0s 19ms/step\n"
          ]
        },
        {
          "output_type": "stream",
          "name": "stderr",
          "text": [
            "Action: emotion: 100%|██████████| 4/4 [00:01<00:00,  2.12it/s]\n"
          ]
        },
        {
          "output_type": "stream",
          "name": "stdout",
          "text": [
            "  SUCCESSS\n",
            "Mag Cover #56 found: 1958Feb.png\n"
          ]
        },
        {
          "output_type": "stream",
          "name": "stderr",
          "text": [
            "Action: age:   0%|          | 0/4 [00:00<?, ?it/s]\n"
          ]
        },
        {
          "output_type": "stream",
          "name": "stdout",
          "text": [
            "  ERROR: Face could not be detected. Please confirm that the picture is a face photo or consider to set enforce_detection param to False.\n",
            "Mag Cover #57 found: 1958Oct.png\n"
          ]
        },
        {
          "output_type": "stream",
          "name": "stderr",
          "text": [
            "Action: age:   0%|          | 0/4 [00:00<?, ?it/s]    "
          ]
        },
        {
          "output_type": "stream",
          "name": "stdout",
          "text": [
            "1/1 [==============================] - 0s 19ms/step\n"
          ]
        },
        {
          "output_type": "stream",
          "name": "stderr",
          "text": [
            "Action: gender:  25%|██▌       | 1/4 [00:01<00:03,  1.18s/it]"
          ]
        },
        {
          "output_type": "stream",
          "name": "stdout",
          "text": [
            "1/1 [==============================] - 0s 25ms/step\n"
          ]
        },
        {
          "output_type": "stream",
          "name": "stderr",
          "text": [
            "Action: race:  50%|█████     | 2/4 [00:01<00:01,  1.66it/s]  "
          ]
        },
        {
          "output_type": "stream",
          "name": "stdout",
          "text": [
            "1/1 [==============================] - 0s 21ms/step\n"
          ]
        },
        {
          "output_type": "stream",
          "name": "stderr",
          "text": [
            "Action: emotion:  75%|███████▌  | 3/4 [00:01<00:00,  2.39it/s]"
          ]
        },
        {
          "output_type": "stream",
          "name": "stdout",
          "text": [
            "1/1 [==============================] - 0s 18ms/step\n"
          ]
        },
        {
          "output_type": "stream",
          "name": "stderr",
          "text": [
            "Action: emotion: 100%|██████████| 4/4 [00:02<00:00,  1.52it/s]\n"
          ]
        },
        {
          "output_type": "stream",
          "name": "stdout",
          "text": [
            "  SUCCESSS\n",
            "Mag Cover #58 found: 1958Jan.png\n"
          ]
        },
        {
          "output_type": "stream",
          "name": "stderr",
          "text": [
            "Action: age:   0%|          | 0/4 [00:00<?, ?it/s]    "
          ]
        },
        {
          "output_type": "stream",
          "name": "stdout",
          "text": [
            "1/1 [==============================] - 0s 21ms/step\n"
          ]
        },
        {
          "output_type": "stream",
          "name": "stderr",
          "text": [
            "Action: gender:  25%|██▌       | 1/4 [00:01<00:04,  1.38s/it]"
          ]
        },
        {
          "output_type": "stream",
          "name": "stdout",
          "text": [
            "1/1 [==============================] - 0s 20ms/step\n"
          ]
        },
        {
          "output_type": "stream",
          "name": "stderr",
          "text": [
            "Action: race:  50%|█████     | 2/4 [00:01<00:01,  1.45it/s]  "
          ]
        },
        {
          "output_type": "stream",
          "name": "stdout",
          "text": [
            "1/1 [==============================] - 0s 20ms/step\n"
          ]
        },
        {
          "output_type": "stream",
          "name": "stderr",
          "text": [
            "Action: emotion:  75%|███████▌  | 3/4 [00:01<00:00,  2.31it/s]"
          ]
        },
        {
          "output_type": "stream",
          "name": "stdout",
          "text": [
            "1/1 [==============================] - 0s 17ms/step\n"
          ]
        },
        {
          "output_type": "stream",
          "name": "stderr",
          "text": [
            "Action: emotion: 100%|██████████| 4/4 [00:02<00:00,  1.35it/s]\n"
          ]
        },
        {
          "output_type": "stream",
          "name": "stdout",
          "text": [
            "  SUCCESSS\n",
            "Mag Cover #59 found: 1958Mar.png\n"
          ]
        },
        {
          "output_type": "stream",
          "name": "stderr",
          "text": [
            "Action: age:   0%|          | 0/4 [00:00<?, ?it/s]    "
          ]
        },
        {
          "output_type": "stream",
          "name": "stdout",
          "text": [
            "1/1 [==============================] - 0s 18ms/step\n"
          ]
        },
        {
          "output_type": "stream",
          "name": "stderr",
          "text": [
            "Action: gender:  25%|██▌       | 1/4 [00:01<00:03,  1.20s/it]"
          ]
        },
        {
          "output_type": "stream",
          "name": "stdout",
          "text": [
            "1/1 [==============================] - 0s 22ms/step\n"
          ]
        },
        {
          "output_type": "stream",
          "name": "stderr",
          "text": [
            "Action: race:  50%|█████     | 2/4 [00:01<00:01,  1.75it/s]  "
          ]
        },
        {
          "output_type": "stream",
          "name": "stdout",
          "text": [
            "1/1 [==============================] - 0s 21ms/step\n"
          ]
        },
        {
          "output_type": "stream",
          "name": "stderr",
          "text": [
            "Action: emotion:  75%|███████▌  | 3/4 [00:01<00:00,  2.73it/s]"
          ]
        },
        {
          "output_type": "stream",
          "name": "stdout",
          "text": [
            "1/1 [==============================] - 0s 18ms/step\n"
          ]
        },
        {
          "output_type": "stream",
          "name": "stderr",
          "text": [
            "Action: emotion: 100%|██████████| 4/4 [00:02<00:00,  1.60it/s]\n"
          ]
        },
        {
          "output_type": "stream",
          "name": "stdout",
          "text": [
            "  SUCCESSS\n",
            "Mag Cover #60 found: 1957Dec.png\n"
          ]
        },
        {
          "output_type": "stream",
          "name": "stderr",
          "text": [
            "Action: age:   0%|          | 0/4 [00:00<?, ?it/s]    "
          ]
        },
        {
          "output_type": "stream",
          "name": "stdout",
          "text": [
            "1/1 [==============================] - 0s 18ms/step\n"
          ]
        },
        {
          "output_type": "stream",
          "name": "stderr",
          "text": [
            "Action: gender:  25%|██▌       | 1/4 [00:01<00:03,  1.24s/it]"
          ]
        },
        {
          "output_type": "stream",
          "name": "stdout",
          "text": [
            "1/1 [==============================] - 0s 21ms/step\n"
          ]
        },
        {
          "output_type": "stream",
          "name": "stderr",
          "text": [
            "Action: race:  50%|█████     | 2/4 [00:01<00:01,  1.72it/s]  "
          ]
        },
        {
          "output_type": "stream",
          "name": "stdout",
          "text": [
            "1/1 [==============================] - 0s 19ms/step\n"
          ]
        },
        {
          "output_type": "stream",
          "name": "stderr",
          "text": [
            "Action: emotion:  75%|███████▌  | 3/4 [00:01<00:00,  2.65it/s]"
          ]
        },
        {
          "output_type": "stream",
          "name": "stdout",
          "text": [
            "1/1 [==============================] - 0s 19ms/step\n"
          ]
        },
        {
          "output_type": "stream",
          "name": "stderr",
          "text": [
            "Action: emotion: 100%|██████████| 4/4 [00:02<00:00,  1.52it/s]\n"
          ]
        },
        {
          "output_type": "stream",
          "name": "stdout",
          "text": [
            "  SUCCESSS\n",
            "Mag Cover #61 found: 1957Jul.png\n"
          ]
        },
        {
          "output_type": "stream",
          "name": "stderr",
          "text": [
            "Action: age:   0%|          | 0/4 [00:00<?, ?it/s]    "
          ]
        },
        {
          "output_type": "stream",
          "name": "stdout",
          "text": [
            "1/1 [==============================] - 0s 29ms/step\n"
          ]
        },
        {
          "output_type": "stream",
          "name": "stderr",
          "text": [
            "Action: gender:  25%|██▌       | 1/4 [00:02<00:07,  2.52s/it]"
          ]
        },
        {
          "output_type": "stream",
          "name": "stdout",
          "text": [
            "1/1 [==============================] - 0s 31ms/step\n"
          ]
        },
        {
          "output_type": "stream",
          "name": "stderr",
          "text": [
            "Action: race:  50%|█████     | 2/4 [00:02<00:02,  1.17s/it]  "
          ]
        },
        {
          "output_type": "stream",
          "name": "stdout",
          "text": [
            "1/1 [==============================] - 0s 31ms/step\n"
          ]
        },
        {
          "output_type": "stream",
          "name": "stderr",
          "text": [
            "Action: emotion:  75%|███████▌  | 3/4 [00:02<00:00,  1.34it/s]"
          ]
        },
        {
          "output_type": "stream",
          "name": "stdout",
          "text": [
            "1/1 [==============================] - 0s 17ms/step\n"
          ]
        },
        {
          "output_type": "stream",
          "name": "stderr",
          "text": [
            "Action: emotion: 100%|██████████| 4/4 [00:04<00:00,  1.12s/it]\n"
          ]
        },
        {
          "output_type": "stream",
          "name": "stdout",
          "text": [
            "  SUCCESSS\n",
            "Mag Cover #62 found: 1957Apr.png\n"
          ]
        },
        {
          "output_type": "stream",
          "name": "stderr",
          "text": [
            "Action: age:   0%|          | 0/4 [00:00<?, ?it/s]\n"
          ]
        },
        {
          "output_type": "stream",
          "name": "stdout",
          "text": [
            "  ERROR: Face could not be detected. Please confirm that the picture is a face photo or consider to set enforce_detection param to False.\n",
            "Mag Cover #63 found: 1957Feb.png\n"
          ]
        },
        {
          "output_type": "stream",
          "name": "stderr",
          "text": [
            "Action: age:   0%|          | 0/4 [00:00<?, ?it/s]    "
          ]
        },
        {
          "output_type": "stream",
          "name": "stdout",
          "text": [
            "1/1 [==============================] - 0s 21ms/step\n"
          ]
        },
        {
          "output_type": "stream",
          "name": "stderr",
          "text": [
            "Action: gender:  25%|██▌       | 1/4 [00:01<00:03,  1.01s/it]"
          ]
        },
        {
          "output_type": "stream",
          "name": "stdout",
          "text": [
            "1/1 [==============================] - 0s 18ms/step\n"
          ]
        },
        {
          "output_type": "stream",
          "name": "stderr",
          "text": [
            "Action: race:  50%|█████     | 2/4 [00:01<00:01,  1.87it/s]  "
          ]
        },
        {
          "output_type": "stream",
          "name": "stdout",
          "text": [
            "1/1 [==============================] - 0s 23ms/step\n"
          ]
        },
        {
          "output_type": "stream",
          "name": "stderr",
          "text": [
            "Action: emotion:  75%|███████▌  | 3/4 [00:01<00:00,  2.62it/s]"
          ]
        },
        {
          "output_type": "stream",
          "name": "stdout",
          "text": [
            "1/1 [==============================] - 0s 17ms/step\n"
          ]
        },
        {
          "output_type": "stream",
          "name": "stderr",
          "text": [
            "Action: emotion: 100%|██████████| 4/4 [00:02<00:00,  1.68it/s]\n"
          ]
        },
        {
          "output_type": "stream",
          "name": "stdout",
          "text": [
            "  SUCCESSS\n",
            "Mag Cover #64 found: 1957Aug.png\n"
          ]
        },
        {
          "output_type": "stream",
          "name": "stderr",
          "text": [
            "Action: age:   0%|          | 0/4 [00:00<?, ?it/s]    "
          ]
        },
        {
          "output_type": "stream",
          "name": "stdout",
          "text": [
            "1/1 [==============================] - 0s 18ms/step\n"
          ]
        },
        {
          "output_type": "stream",
          "name": "stderr",
          "text": [
            "Action: gender:  25%|██▌       | 1/4 [00:01<00:03,  1.22s/it]"
          ]
        },
        {
          "output_type": "stream",
          "name": "stdout",
          "text": [
            "1/1 [==============================] - 0s 19ms/step\n"
          ]
        },
        {
          "output_type": "stream",
          "name": "stderr",
          "text": [
            "Action: race:  50%|█████     | 2/4 [00:01<00:01,  1.61it/s]  "
          ]
        },
        {
          "output_type": "stream",
          "name": "stdout",
          "text": [
            "1/1 [==============================] - 0s 21ms/step\n"
          ]
        },
        {
          "output_type": "stream",
          "name": "stderr",
          "text": [
            "Action: emotion:  75%|███████▌  | 3/4 [00:01<00:00,  2.55it/s]"
          ]
        },
        {
          "output_type": "stream",
          "name": "stdout",
          "text": [
            "1/1 [==============================] - 0s 30ms/step\n"
          ]
        },
        {
          "output_type": "stream",
          "name": "stderr",
          "text": [
            "Action: emotion: 100%|██████████| 4/4 [00:03<00:00,  1.28it/s]\n"
          ]
        },
        {
          "output_type": "stream",
          "name": "stdout",
          "text": [
            "  SUCCESSS\n",
            "Mag Cover #65 found: 1957Jan.png\n"
          ]
        },
        {
          "output_type": "stream",
          "name": "stderr",
          "text": [
            "Action: age:   0%|          | 0/4 [00:00<?, ?it/s]    "
          ]
        },
        {
          "output_type": "stream",
          "name": "stdout",
          "text": [
            "1/1 [==============================] - 0s 21ms/step\n"
          ]
        },
        {
          "output_type": "stream",
          "name": "stderr",
          "text": [
            "Action: gender:  25%|██▌       | 1/4 [00:01<00:03,  1.17s/it]"
          ]
        },
        {
          "output_type": "stream",
          "name": "stdout",
          "text": [
            "1/1 [==============================] - 0s 27ms/step\n"
          ]
        },
        {
          "output_type": "stream",
          "name": "stderr",
          "text": [
            "Action: race:  50%|█████     | 2/4 [00:01<00:01,  1.67it/s]  "
          ]
        },
        {
          "output_type": "stream",
          "name": "stdout",
          "text": [
            "1/1 [==============================] - 0s 19ms/step\n"
          ]
        },
        {
          "output_type": "stream",
          "name": "stderr",
          "text": [
            "Action: emotion:  75%|███████▌  | 3/4 [00:01<00:00,  2.61it/s]"
          ]
        },
        {
          "output_type": "stream",
          "name": "stdout",
          "text": [
            "1/1 [==============================] - 0s 18ms/step\n"
          ]
        },
        {
          "output_type": "stream",
          "name": "stderr",
          "text": [
            "Action: emotion: 100%|██████████| 4/4 [00:02<00:00,  1.65it/s]\n"
          ]
        },
        {
          "output_type": "stream",
          "name": "stdout",
          "text": [
            "  SUCCESSS\n",
            "Mag Cover #66 found: 1957Sep.png\n"
          ]
        },
        {
          "output_type": "stream",
          "name": "stderr",
          "text": [
            "Action: age:   0%|          | 0/4 [00:01<?, ?it/s]\n"
          ]
        },
        {
          "output_type": "stream",
          "name": "stdout",
          "text": [
            "  ERROR: Face could not be detected. Please confirm that the picture is a face photo or consider to set enforce_detection param to False.\n",
            "Mag Cover #67 found: 1957Jun.png\n"
          ]
        },
        {
          "output_type": "stream",
          "name": "stderr",
          "text": [
            "Action: age:   0%|          | 0/4 [00:00<?, ?it/s]\n"
          ]
        },
        {
          "output_type": "stream",
          "name": "stdout",
          "text": [
            "  ERROR: Face could not be detected. Please confirm that the picture is a face photo or consider to set enforce_detection param to False.\n",
            "Mag Cover #68 found: 1957Oct.png\n"
          ]
        },
        {
          "output_type": "stream",
          "name": "stderr",
          "text": [
            "Action: age:   0%|          | 0/4 [00:00<?, ?it/s]    "
          ]
        },
        {
          "output_type": "stream",
          "name": "stdout",
          "text": [
            "1/1 [==============================] - 0s 19ms/step\n"
          ]
        },
        {
          "output_type": "stream",
          "name": "stderr",
          "text": [
            "Action: gender:  25%|██▌       | 1/4 [00:00<00:02,  1.00it/s]"
          ]
        },
        {
          "output_type": "stream",
          "name": "stdout",
          "text": [
            "1/1 [==============================] - 0s 19ms/step\n"
          ]
        },
        {
          "output_type": "stream",
          "name": "stderr",
          "text": [
            "Action: race:  50%|█████     | 2/4 [00:01<00:01,  1.89it/s]  "
          ]
        },
        {
          "output_type": "stream",
          "name": "stdout",
          "text": [
            "1/1 [==============================] - 0s 19ms/step\n"
          ]
        },
        {
          "output_type": "stream",
          "name": "stderr",
          "text": [
            "Action: emotion:  75%|███████▌  | 3/4 [00:01<00:00,  2.65it/s]"
          ]
        },
        {
          "output_type": "stream",
          "name": "stdout",
          "text": [
            "1/1 [==============================] - 0s 17ms/step\n"
          ]
        },
        {
          "output_type": "stream",
          "name": "stderr",
          "text": [
            "Action: emotion: 100%|██████████| 4/4 [00:02<00:00,  1.72it/s]\n"
          ]
        },
        {
          "output_type": "stream",
          "name": "stdout",
          "text": [
            "  SUCCESSS\n",
            "Mag Cover #69 found: 1957Nov.png\n"
          ]
        },
        {
          "output_type": "stream",
          "name": "stderr",
          "text": [
            "Action: age:   0%|          | 0/4 [00:00<?, ?it/s]\n"
          ]
        },
        {
          "output_type": "stream",
          "name": "stdout",
          "text": [
            "  ERROR: Face could not be detected. Please confirm that the picture is a face photo or consider to set enforce_detection param to False.\n",
            "Mag Cover #70 found: 1957Mar.png\n"
          ]
        },
        {
          "output_type": "stream",
          "name": "stderr",
          "text": [
            "Action: age:   0%|          | 0/4 [00:00<?, ?it/s]\n"
          ]
        },
        {
          "output_type": "stream",
          "name": "stdout",
          "text": [
            "  ERROR: Face could not be detected. Please confirm that the picture is a face photo or consider to set enforce_detection param to False.\n",
            "Mag Cover #71 found: 1957May.png\n"
          ]
        },
        {
          "output_type": "stream",
          "name": "stderr",
          "text": [
            "Action: age:   0%|          | 0/4 [00:00<?, ?it/s]    "
          ]
        },
        {
          "output_type": "stream",
          "name": "stdout",
          "text": [
            "1/1 [==============================] - 0s 21ms/step\n"
          ]
        },
        {
          "output_type": "stream",
          "name": "stderr",
          "text": [
            "Action: gender:  25%|██▌       | 1/4 [00:01<00:03,  1.14s/it]"
          ]
        },
        {
          "output_type": "stream",
          "name": "stdout",
          "text": [
            "1/1 [==============================] - 0s 19ms/step\n"
          ]
        },
        {
          "output_type": "stream",
          "name": "stderr",
          "text": [
            "Action: race:  50%|█████     | 2/4 [00:01<00:01,  1.84it/s]  "
          ]
        },
        {
          "output_type": "stream",
          "name": "stdout",
          "text": [
            "1/1 [==============================] - 0s 20ms/step\n"
          ]
        },
        {
          "output_type": "stream",
          "name": "stderr",
          "text": [
            "Action: emotion:  75%|███████▌  | 3/4 [00:01<00:00,  2.58it/s]"
          ]
        },
        {
          "output_type": "stream",
          "name": "stdout",
          "text": [
            "1/1 [==============================] - 0s 18ms/step\n"
          ]
        },
        {
          "output_type": "stream",
          "name": "stderr",
          "text": [
            "Action: emotion: 100%|██████████| 4/4 [00:02<00:00,  1.62it/s]\n"
          ]
        },
        {
          "output_type": "stream",
          "name": "stdout",
          "text": [
            "  SUCCESSS\n",
            "Mag Cover #72 found: Screen Shot 2022-10-18 at 2.02.14 PM.png\n"
          ]
        },
        {
          "output_type": "stream",
          "name": "stderr",
          "text": [
            "Action: age:   0%|          | 0/4 [00:00<?, ?it/s]    "
          ]
        },
        {
          "output_type": "stream",
          "name": "stdout",
          "text": [
            "1/1 [==============================] - 0s 19ms/step\n"
          ]
        },
        {
          "output_type": "stream",
          "name": "stderr",
          "text": [
            "Action: gender:  25%|██▌       | 1/4 [00:01<00:03,  1.01s/it]"
          ]
        },
        {
          "output_type": "stream",
          "name": "stdout",
          "text": [
            "1/1 [==============================] - 0s 22ms/step\n"
          ]
        },
        {
          "output_type": "stream",
          "name": "stderr",
          "text": [
            "Action: race:  50%|█████     | 2/4 [00:01<00:01,  1.68it/s]  "
          ]
        },
        {
          "output_type": "stream",
          "name": "stdout",
          "text": [
            "1/1 [==============================] - 0s 20ms/step\n"
          ]
        },
        {
          "output_type": "stream",
          "name": "stderr",
          "text": [
            "Action: emotion:  75%|███████▌  | 3/4 [00:01<00:00,  2.27it/s]"
          ]
        },
        {
          "output_type": "stream",
          "name": "stdout",
          "text": [
            "1/1 [==============================] - 0s 36ms/step\n"
          ]
        },
        {
          "output_type": "stream",
          "name": "stderr",
          "text": [
            "Action: emotion: 100%|██████████| 4/4 [00:02<00:00,  1.44it/s]"
          ]
        },
        {
          "output_type": "stream",
          "name": "stdout",
          "text": [
            "  SUCCESSS\n",
            "DONE: Processed 39\n"
          ]
        },
        {
          "output_type": "stream",
          "name": "stderr",
          "text": [
            "\n"
          ]
        }
      ]
    },
    {
      "cell_type": "code",
      "source": [
        "test_face_dt"
      ],
      "metadata": {
        "colab": {
          "base_uri": "https://localhost:8080/"
        },
        "id": "ds5JPnPAUU59",
        "outputId": "067f1d01-b6c7-4570-d8fc-985dccf977b4"
      },
      "execution_count": 24,
      "outputs": [
        {
          "output_type": "execute_result",
          "data": {
            "text/plain": [
              "{'1959Jan.png': {'age': 43,\n",
              "  'region': {'x': 566, 'y': 709, 'w': 72, 'h': 72},\n",
              "  'gender': 'Man',\n",
              "  'race': {'asian': 0.005742834400734864,\n",
              "   'indian': 0.08743263897486031,\n",
              "   'black': 0.0001012494294627686,\n",
              "   'white': 92.72052049636841,\n",
              "   'middle eastern': 6.360684335231781,\n",
              "   'latino hispanic': 0.8255223743617535},\n",
              "  'dominant_race': 'white',\n",
              "  'emotion': {'angry': 0.033116055419668555,\n",
              "   'disgust': 2.5849906727671623,\n",
              "   'fear': 14.166611433029175,\n",
              "   'happy': 71.8205451965332,\n",
              "   'sad': 6.144411116838455,\n",
              "   'surprise': 0.011579927377169952,\n",
              "   'neutral': 5.238746851682663},\n",
              "  'dominant_emotion': 'happy'},\n",
              " '1959Feb.png': {'age': 38,\n",
              "  'region': {'x': 307, 'y': 841, 'w': 36, 'h': 36},\n",
              "  'gender': 'Man',\n",
              "  'race': {'asian': 8.331307520710526,\n",
              "   'indian': 1.7745863393442227,\n",
              "   'black': 1.1048664884428396,\n",
              "   'white': 57.14746032387491,\n",
              "   'middle eastern': 21.760610132144674,\n",
              "   'latino hispanic': 9.881163700680291},\n",
              "  'dominant_race': 'white',\n",
              "  'emotion': {'angry': 0.00018136082644559792,\n",
              "   'disgust': 5.044407599963385e-09,\n",
              "   'fear': 0.02292448334628716,\n",
              "   'happy': 66.63187742233276,\n",
              "   'sad': 0.07744051981717348,\n",
              "   'surprise': 0.0051631224778248,\n",
              "   'neutral': 33.26241374015808},\n",
              "  'dominant_emotion': 'happy'},\n",
              " '1959Mar.png': {'age': 33,\n",
              "  'region': {'x': 360, 'y': 187, 'w': 112, 'h': 112},\n",
              "  'gender': 'Man',\n",
              "  'race': {'asian': 0.16511990508779317,\n",
              "   'indian': 0.09139264547184976,\n",
              "   'black': 0.004492932106994702,\n",
              "   'white': 86.89309280473547,\n",
              "   'middle eastern': 6.234812363076947,\n",
              "   'latino hispanic': 6.61109278268175},\n",
              "  'dominant_race': 'white',\n",
              "  'emotion': {'angry': 2.2342620198401164e-06,\n",
              "   'disgust': 1.4563417138901968e-08,\n",
              "   'fear': 0.008503885328536853,\n",
              "   'happy': 57.57904648780823,\n",
              "   'sad': 0.007202213600976393,\n",
              "   'surprise': 0.0004953538791596657,\n",
              "   'neutral': 42.40475594997406},\n",
              "  'dominant_emotion': 'happy'},\n",
              " '1959Jun.png': {'age': 31,\n",
              "  'region': {'x': 297, 'y': 312, 'w': 81, 'h': 81},\n",
              "  'gender': 'Woman',\n",
              "  'race': {'asian': 1.058475776302169e-05,\n",
              "   'indian': 1.8456447679342535e-05,\n",
              "   'black': 3.437399954577803e-08,\n",
              "   'white': 99.85612036512848,\n",
              "   'middle eastern': 0.10066928771727827,\n",
              "   'latino hispanic': 0.04317506458479141},\n",
              "  'dominant_race': 'white',\n",
              "  'emotion': {'angry': 3.846709666836638e-12,\n",
              "   'disgust': 1.8982761788356804e-23,\n",
              "   'fear': 1.1169231907632096e-11,\n",
              "   'happy': 99.9262273311615,\n",
              "   'sad': 8.216181207609807e-10,\n",
              "   'surprise': 0.06261873058974743,\n",
              "   'neutral': 0.01115104096243158},\n",
              "  'dominant_emotion': 'happy'},\n",
              " '1959May.png': {'age': 35,\n",
              "  'region': {'x': 186, 'y': 644, 'w': 117, 'h': 117},\n",
              "  'gender': 'Man',\n",
              "  'race': {'asian': 0.12226567775941756,\n",
              "   'indian': 0.31213949904418004,\n",
              "   'black': 0.014534458473407957,\n",
              "   'white': 72.73987856627959,\n",
              "   'middle eastern': 16.830960889940155,\n",
              "   'latino hispanic': 9.980218412850093},\n",
              "  'dominant_race': 'white',\n",
              "  'emotion': {'angry': 25.81354369955734,\n",
              "   'disgust': 0.012969554427449622,\n",
              "   'fear': 66.38741297871911,\n",
              "   'happy': 0.9485409395645928,\n",
              "   'sad': 2.548894168568353,\n",
              "   'surprise': 0.002534253206095276,\n",
              "   'neutral': 4.286094989050032},\n",
              "  'dominant_emotion': 'fear'},\n",
              " '1955Jun.png': {'age': 29,\n",
              "  'region': {'x': 376, 'y': 402, 'w': 93, 'h': 93},\n",
              "  'gender': 'Woman',\n",
              "  'race': {'asian': 26.3814971674381,\n",
              "   'indian': 1.8147570231412067,\n",
              "   'black': 0.6945797656226018,\n",
              "   'white': 47.18624038614276,\n",
              "   'middle eastern': 9.128706701320809,\n",
              "   'latino hispanic': 14.794217931879636},\n",
              "  'dominant_race': 'white',\n",
              "  'emotion': {'angry': 0.014946803275961429,\n",
              "   'disgust': 0.0009392098036187235,\n",
              "   'fear': 27.910512685775757,\n",
              "   'happy': 0.0008039495696721133,\n",
              "   'sad': 70.6658124923706,\n",
              "   'surprise': 3.167770401546477e-06,\n",
              "   'neutral': 1.4069776982069016},\n",
              "  'dominant_emotion': 'sad'},\n",
              " '1955Sep.png': {'age': 38,\n",
              "  'region': {'x': 820, 'y': 486, 'w': 60, 'h': 60},\n",
              "  'gender': 'Man',\n",
              "  'race': {'asian': 5.122595958268401,\n",
              "   'indian': 0.3500675991217851,\n",
              "   'black': 2.4545382308684727,\n",
              "   'white': 75.48729035182538,\n",
              "   'middle eastern': 15.914542431506064,\n",
              "   'latino hispanic': 0.6709632398017191},\n",
              "  'dominant_race': 'white',\n",
              "  'emotion': {'angry': 3.5319730639457703,\n",
              "   'disgust': 0.00046648119678138755,\n",
              "   'fear': 0.7851799950003624,\n",
              "   'happy': 1.0742547921836376,\n",
              "   'sad': 4.5896027237176895,\n",
              "   'surprise': 0.002250906800327357,\n",
              "   'neutral': 90.01627564430237},\n",
              "  'dominant_emotion': 'neutral'},\n",
              " '1955Nov.png': {'age': 32,\n",
              "  'region': {'x': 667, 'y': 282, 'w': 171, 'h': 171},\n",
              "  'gender': 'Woman',\n",
              "  'race': {'asian': 8.76658633351326,\n",
              "   'indian': 8.025193959474564,\n",
              "   'black': 2.25187037140131,\n",
              "   'white': 31.581169366836548,\n",
              "   'middle eastern': 22.745943069458008,\n",
              "   'latino hispanic': 26.629236340522766},\n",
              "  'dominant_race': 'white',\n",
              "  'emotion': {'angry': 0.004268874181434512,\n",
              "   'disgust': 1.688711250835695e-05,\n",
              "   'fear': 0.0397169787902385,\n",
              "   'happy': 75.32026171684265,\n",
              "   'sad': 0.0996790244244039,\n",
              "   'surprise': 0.5475757643580437,\n",
              "   'neutral': 23.98848980665207},\n",
              "  'dominant_emotion': 'happy'},\n",
              " '1955Feb.png': {'age': 38,\n",
              "  'region': {'x': 3, 'y': 681, 'w': 60, 'h': 60},\n",
              "  'gender': 'Man',\n",
              "  'race': {'asian': 0.08849470868956046,\n",
              "   'indian': 0.0647336807698839,\n",
              "   'black': 0.0855127771425662,\n",
              "   'white': 88.83985414029907,\n",
              "   'middle eastern': 9.523823467037264,\n",
              "   'latino hispanic': 1.3975856090980041},\n",
              "  'dominant_race': 'white',\n",
              "  'emotion': {'angry': 34.0067982673645,\n",
              "   'disgust': 1.8685470948298644e-07,\n",
              "   'fear': 24.026283621788025,\n",
              "   'happy': 0.16619220841675997,\n",
              "   'sad': 18.653540313243866,\n",
              "   'surprise': 0.0004532125331024872,\n",
              "   'neutral': 23.146729171276093},\n",
              "  'dominant_emotion': 'angry'},\n",
              " '1955Oct.png': {'age': 32,\n",
              "  'region': {'x': 285, 'y': 392, 'w': 153, 'h': 153},\n",
              "  'gender': 'Man',\n",
              "  'race': {'asian': 0.24494772374318383,\n",
              "   'indian': 0.020051870991773666,\n",
              "   'black': 0.0017784391425737227,\n",
              "   'white': 95.87535833569517,\n",
              "   'middle eastern': 2.031113514668555,\n",
              "   'latino hispanic': 1.8267505959719774},\n",
              "  'dominant_race': 'white',\n",
              "  'emotion': {'angry': 1.309236388264464,\n",
              "   'disgust': 0.0001712971288291167,\n",
              "   'fear': 77.59840817432502,\n",
              "   'happy': 9.24062541015451,\n",
              "   'sad': 9.458163763065787,\n",
              "   'surprise': 1.1606927482119498,\n",
              "   'neutral': 1.2327091375242636},\n",
              "  'dominant_emotion': 'fear'},\n",
              " '1955Jan.png': {'age': 35,\n",
              "  'region': {'x': 180, 'y': 809, 'w': 43, 'h': 43},\n",
              "  'gender': 'Woman',\n",
              "  'race': {'asian': 0.2535184077449551,\n",
              "   'indian': 0.6043089298982703,\n",
              "   'black': 0.028247505085840216,\n",
              "   'white': 66.38478441419787,\n",
              "   'middle eastern': 18.819814167044857,\n",
              "   'latino hispanic': 13.909321855387466},\n",
              "  'dominant_race': 'white',\n",
              "  'emotion': {'angry': 8.16070322429141e-07,\n",
              "   'disgust': 8.783566235459617e-09,\n",
              "   'fear': 0.00036939031815563794,\n",
              "   'happy': 99.97618794441223,\n",
              "   'sad': 0.0008758627700444777,\n",
              "   'surprise': 7.383382580883335e-05,\n",
              "   'neutral': 0.022493414871860296},\n",
              "  'dominant_emotion': 'happy'},\n",
              " '1956Jun.png': {'age': 30,\n",
              "  'region': {'x': 429, 'y': 188, 'w': 119, 'h': 119},\n",
              "  'gender': 'Woman',\n",
              "  'race': {'asian': 1.2546190991997719,\n",
              "   'indian': 2.0920880138874054,\n",
              "   'black': 0.2547150244936347,\n",
              "   'white': 55.09403347969055,\n",
              "   'middle eastern': 20.421500504016876,\n",
              "   'latino hispanic': 20.883046090602875},\n",
              "  'dominant_race': 'white',\n",
              "  'emotion': {'angry': 1.4937424452909909e-05,\n",
              "   'disgust': 5.641446443565949e-12,\n",
              "   'fear': 3.099698275832452e-06,\n",
              "   'happy': 99.98619556427002,\n",
              "   'sad': 4.638459643047099e-05,\n",
              "   'surprise': 0.007724550232524052,\n",
              "   'neutral': 0.006019478678354062},\n",
              "  'dominant_emotion': 'happy'},\n",
              " '1956Dec.png': {'age': 34,\n",
              "  'region': {'x': 406, 'y': 578, 'w': 193, 'h': 193},\n",
              "  'gender': 'Woman',\n",
              "  'race': {'asian': 8.901719117414882e-14,\n",
              "   'indian': 4.4690358269643344e-14,\n",
              "   'black': 4.323308262239843e-18,\n",
              "   'white': 99.99998807907104,\n",
              "   'middle eastern': 1.444955302076778e-05,\n",
              "   'latino hispanic': 2.5408979809071752e-06},\n",
              "  'dominant_race': 'white',\n",
              "  'emotion': {'angry': 9.253941612996641e-07,\n",
              "   'disgust': 2.1429247468846523e-12,\n",
              "   'fear': 3.8053094897350093e-06,\n",
              "   'happy': 92.21945405006409,\n",
              "   'sad': 0.00020204913653287804,\n",
              "   'surprise': 0.004956037446390837,\n",
              "   'neutral': 7.775386422872543},\n",
              "  'dominant_emotion': 'happy'},\n",
              " '1956Sep.png': {'age': 33,\n",
              "  'region': {'x': 496, 'y': 370, 'w': 31, 'h': 31},\n",
              "  'gender': 'Man',\n",
              "  'race': {'asian': 3.5928749052460716e-05,\n",
              "   'indian': 2.049082306065118e-05,\n",
              "   'black': 7.297794470725713e-08,\n",
              "   'white': 99.84598754918501,\n",
              "   'middle eastern': 0.1298074105825967,\n",
              "   'latino hispanic': 0.02415177294352415},\n",
              "  'dominant_race': 'white',\n",
              "  'emotion': {'angry': 2.467593178153038,\n",
              "   'disgust': 0.0171818770468235,\n",
              "   'fear': 8.690719306468964,\n",
              "   'happy': 20.215612649917603,\n",
              "   'sad': 58.95460844039917,\n",
              "   'surprise': 0.30854835640639067,\n",
              "   'neutral': 9.345734864473343},\n",
              "  'dominant_emotion': 'sad'},\n",
              " '1956Mar.png': {'age': 33,\n",
              "  'region': {'x': 692, 'y': 302, 'w': 119, 'h': 119},\n",
              "  'gender': 'Woman',\n",
              "  'race': {'asian': 5.845437194090275e-06,\n",
              "   'indian': 1.4147388993115588e-06,\n",
              "   'black': 4.353160105950442e-09,\n",
              "   'white': 99.9449372258745,\n",
              "   'middle eastern': 0.022386356310664494,\n",
              "   'latino hispanic': 0.03267113546929571},\n",
              "  'dominant_race': 'white',\n",
              "  'emotion': {'angry': 0.0004250575329933781,\n",
              "   'disgust': 1.5692775079401144e-06,\n",
              "   'fear': 0.243920530192554,\n",
              "   'happy': 98.78131151199341,\n",
              "   'sad': 0.03246147243771702,\n",
              "   'surprise': 0.000517424450663384,\n",
              "   'neutral': 0.9413574822247028},\n",
              "  'dominant_emotion': 'happy'},\n",
              " '1956Nov.png': {'age': 28,\n",
              "  'region': {'x': 177, 'y': 1070, 'w': 87, 'h': 87},\n",
              "  'gender': 'Woman',\n",
              "  'race': {'asian': 26.766686246793643,\n",
              "   'indian': 2.9838317921061392,\n",
              "   'black': 3.73820461262492,\n",
              "   'white': 46.548196467649724,\n",
              "   'middle eastern': 10.460789380120598,\n",
              "   'latino hispanic': 9.502293735879286},\n",
              "  'dominant_race': 'white',\n",
              "  'emotion': {'angry': 0.00011784721457227993,\n",
              "   'disgust': 1.9598297487295006e-07,\n",
              "   'fear': 4.284696163815031,\n",
              "   'happy': 93.95018779934571,\n",
              "   'sad': 0.4615615862793676,\n",
              "   'surprise': 0.0003229187961213085,\n",
              "   'neutral': 1.3031121188767028},\n",
              "  'dominant_emotion': 'happy'},\n",
              " '1956Jul.png': {'age': 29,\n",
              "  'region': {'x': 222, 'y': 1144, 'w': 59, 'h': 59},\n",
              "  'gender': 'Woman',\n",
              "  'race': {'asian': 33.49727690219879,\n",
              "   'indian': 6.91947266459465,\n",
              "   'black': 7.213196158409119,\n",
              "   'white': 19.7246715426445,\n",
              "   'middle eastern': 8.949621021747589,\n",
              "   'latino hispanic': 23.69576096534729},\n",
              "  'dominant_race': 'asian',\n",
              "  'emotion': {'angry': 0.00013027666909692925,\n",
              "   'disgust': 2.8883267305657156e-10,\n",
              "   'fear': 0.0025445062419748865,\n",
              "   'happy': 99.99725818634033,\n",
              "   'sad': 2.6052697421619087e-05,\n",
              "   'surprise': 7.063032381182666e-07,\n",
              "   'neutral': 4.4984986402596405e-05},\n",
              "  'dominant_emotion': 'happy'},\n",
              " '1956Feb.png': {'age': 33,\n",
              "  'region': {'x': 661, 'y': 222, 'w': 219, 'h': 219},\n",
              "  'gender': 'Woman',\n",
              "  'race': {'asian': 0.33116419799625874,\n",
              "   'indian': 0.684111937880516,\n",
              "   'black': 0.07393768755719066,\n",
              "   'white': 63.64683508872986,\n",
              "   'middle eastern': 15.420849621295929,\n",
              "   'latino hispanic': 19.843098521232605},\n",
              "  'dominant_race': 'white',\n",
              "  'emotion': {'angry': 0.03681649686768651,\n",
              "   'disgust': 1.0623175938917484e-05,\n",
              "   'fear': 97.68751859664917,\n",
              "   'happy': 0.28747175820171833,\n",
              "   'sad': 0.041949853766709566,\n",
              "   'surprise': 1.8314968794584274,\n",
              "   'neutral': 0.11473681079223752},\n",
              "  'dominant_emotion': 'fear'},\n",
              " '1954Dec.png': {'age': 23,\n",
              "  'region': {'x': 192, 'y': 384, 'w': 178, 'h': 178},\n",
              "  'gender': 'Man',\n",
              "  'race': {'asian': 0.17743799835443497,\n",
              "   'indian': 0.09077510912902653,\n",
              "   'black': 0.009791471529752016,\n",
              "   'white': 81.35846257209778,\n",
              "   'middle eastern': 5.21983839571476,\n",
              "   'latino hispanic': 13.143691420555115},\n",
              "  'dominant_race': 'white',\n",
              "  'emotion': {'angry': 44.993335008621216,\n",
              "   'disgust': 0.26497000362724066,\n",
              "   'fear': 11.615047603845596,\n",
              "   'happy': 1.457973662763834,\n",
              "   'sad': 22.395218908786774,\n",
              "   'surprise': 4.380270838737488,\n",
              "   'neutral': 14.893189072608948},\n",
              "  'dominant_emotion': 'angry'},\n",
              " '1954Jan.png': {'age': 31,\n",
              "  'region': {'x': 623, 'y': 381, 'w': 86, 'h': 86},\n",
              "  'gender': 'Woman',\n",
              "  'race': {'asian': 3.311105118320218e-10,\n",
              "   'indian': 3.0278076780705665e-10,\n",
              "   'black': 2.4486655500945028e-14,\n",
              "   'white': 99.99862909333359,\n",
              "   'middle eastern': 0.0004511993127929633,\n",
              "   'latino hispanic': 0.000912764772112583},\n",
              "  'dominant_race': 'white',\n",
              "  'emotion': {'angry': 0.3823021421836103,\n",
              "   'disgust': 0.0017186624178377862,\n",
              "   'fear': 19.257512346357842,\n",
              "   'happy': 64.69275144891449,\n",
              "   'sad': 0.2969020223261131,\n",
              "   'surprise': 15.013732910974795,\n",
              "   'neutral': 0.35508456428108004},\n",
              "  'dominant_emotion': 'happy'},\n",
              " '1954Oct.png': {'age': 40,\n",
              "  'region': {'x': 497, 'y': 179, 'w': 74, 'h': 74},\n",
              "  'gender': 'Woman',\n",
              "  'race': {'asian': 1.9235983490943909,\n",
              "   'indian': 2.9093658551573753,\n",
              "   'black': 0.6632542703300714,\n",
              "   'white': 40.18287658691406,\n",
              "   'middle eastern': 18.868237733840942,\n",
              "   'latino hispanic': 35.452669858932495},\n",
              "  'dominant_race': 'white',\n",
              "  'emotion': {'angry': 0.004473775697988458,\n",
              "   'disgust': 4.7821907545042563e-08,\n",
              "   'fear': 0.005815509575768374,\n",
              "   'happy': 99.9642014503479,\n",
              "   'sad': 0.0027993532057735138,\n",
              "   'surprise': 1.959169111387382e-05,\n",
              "   'neutral': 0.022692033962812275},\n",
              "  'dominant_emotion': 'happy'},\n",
              " '1954Feb.png': {'age': 31,\n",
              "  'region': {'x': 408, 'y': 422, 'w': 158, 'h': 158},\n",
              "  'gender': 'Woman',\n",
              "  'race': {'asian': 3.460207541560228,\n",
              "   'indian': 0.010044830090377245,\n",
              "   'black': 0.0007862956380801353,\n",
              "   'white': 93.83390023304221,\n",
              "   'middle eastern': 0.8994224340412099,\n",
              "   'latino hispanic': 1.7956398149562103},\n",
              "  'dominant_race': 'white',\n",
              "  'emotion': {'angry': 3.790424685234939e-06,\n",
              "   'disgust': 1.3624909848356653e-11,\n",
              "   'fear': 0.0006386623681464698,\n",
              "   'happy': 99.96174573898315,\n",
              "   'sad': 0.0007122999704733957,\n",
              "   'surprise': 0.021399694378487766,\n",
              "   'neutral': 0.01549797598272562},\n",
              "  'dominant_emotion': 'happy'},\n",
              " '1958Sep.png': {'age': 28,\n",
              "  'region': {'x': 786, 'y': 428, 'w': 91, 'h': 91},\n",
              "  'gender': 'Woman',\n",
              "  'race': {'asian': 0.19453406566753983,\n",
              "   'indian': 0.30860251281410456,\n",
              "   'black': 0.01959884975804016,\n",
              "   'white': 76.75328254699707,\n",
              "   'middle eastern': 9.85884889960289,\n",
              "   'latino hispanic': 12.865136563777924},\n",
              "  'dominant_race': 'white',\n",
              "  'emotion': {'angry': 2.2459216778014657e-09,\n",
              "   'disgust': 1.215978247919796e-16,\n",
              "   'fear': 3.837111396527796e-14,\n",
              "   'happy': 99.99594688415527,\n",
              "   'sad': 8.142417295964322e-10,\n",
              "   'surprise': 1.9026645290223278e-12,\n",
              "   'neutral': 0.004050725692650303},\n",
              "  'dominant_emotion': 'happy'},\n",
              " '1958Jul.png': {'age': 30,\n",
              "  'region': {'x': 687, 'y': 668, 'w': 87, 'h': 87},\n",
              "  'gender': 'Man',\n",
              "  'race': {'asian': 14.267060160636902,\n",
              "   'indian': 2.589672803878784,\n",
              "   'black': 1.2428776361048222,\n",
              "   'white': 51.93313956260681,\n",
              "   'middle eastern': 23.203961551189423,\n",
              "   'latino hispanic': 6.763291358947754},\n",
              "  'dominant_race': 'white',\n",
              "  'emotion': {'angry': 1.2371166221340444,\n",
              "   'disgust': 5.0371846037217986e-08,\n",
              "   'fear': 95.96024107459081,\n",
              "   'happy': 0.004181187749087841,\n",
              "   'sad': 0.6727475543615287,\n",
              "   'surprise': 0.03189889046648329,\n",
              "   'neutral': 2.0938164256592304},\n",
              "  'dominant_emotion': 'fear'},\n",
              " '1958Apr.png': {'age': 32,\n",
              "  'region': {'x': 384, 'y': 161, 'w': 96, 'h': 96},\n",
              "  'gender': 'Man',\n",
              "  'race': {'asian': 0.2383974613621831,\n",
              "   'indian': 4.608261585235596,\n",
              "   'black': 0.6141120567917824,\n",
              "   'white': 38.2666140794754,\n",
              "   'middle eastern': 50.56276321411133,\n",
              "   'latino hispanic': 5.709854140877724},\n",
              "  'dominant_race': 'middle eastern',\n",
              "  'emotion': {'angry': 0.029208416812437285,\n",
              "   'disgust': 2.0252513481060502e-16,\n",
              "   'fear': 3.9301613197194934e-05,\n",
              "   'happy': 11.848197838556638,\n",
              "   'sad': 0.0011005777852255648,\n",
              "   'surprise': 5.006711344175151e-07,\n",
              "   'neutral': 88.12145519980521},\n",
              "  'dominant_emotion': 'neutral'},\n",
              " '1958Jun.png': {'age': 40,\n",
              "  'region': {'x': 452, 'y': 898, 'w': 118, 'h': 118},\n",
              "  'gender': 'Woman',\n",
              "  'race': {'asian': 0.0068191561751514765,\n",
              "   'indian': 0.008189786355204271,\n",
              "   'black': 0.0003116121971801168,\n",
              "   'white': 96.31714864764825,\n",
              "   'middle eastern': 1.6873275712338005,\n",
              "   'latino hispanic': 1.9802020364758925},\n",
              "  'dominant_race': 'white',\n",
              "  'emotion': {'angry': 2.061241843875905e-06,\n",
              "   'disgust': 6.131328302767853e-18,\n",
              "   'fear': 7.101046503197803e-12,\n",
              "   'happy': 99.99984502792358,\n",
              "   'sad': 1.313362396268558e-10,\n",
              "   'surprise': 2.2781112551939486e-07,\n",
              "   'neutral': 0.00015510344155700295},\n",
              "  'dominant_emotion': 'happy'},\n",
              " '1958May.png': {'age': 30,\n",
              "  'region': {'x': 214, 'y': 930, 'w': 48, 'h': 48},\n",
              "  'gender': 'Man',\n",
              "  'race': {'asian': 0.8124298416078091,\n",
              "   'indian': 0.8672147057950497,\n",
              "   'black': 0.2751504071056843,\n",
              "   'white': 80.38647174835205,\n",
              "   'middle eastern': 15.009920299053192,\n",
              "   'latino hispanic': 2.648809924721718},\n",
              "  'dominant_race': 'white',\n",
              "  'emotion': {'angry': 0.0006061794920242392,\n",
              "   'disgust': 2.1130412127472837e-13,\n",
              "   'fear': 0.028669193852692842,\n",
              "   'happy': 99.95474219322205,\n",
              "   'sad': 0.0008996184078569058,\n",
              "   'surprise': 0.0063295839936472476,\n",
              "   'neutral': 0.008750192500883713},\n",
              "  'dominant_emotion': 'happy'},\n",
              " '1958Aug.png': {'age': 35,\n",
              "  'region': {'x': 264, 'y': 287, 'w': 59, 'h': 59},\n",
              "  'gender': 'Woman',\n",
              "  'race': {'asian': 0.00024450483310623666,\n",
              "   'indian': 3.5600238826368246e-05,\n",
              "   'black': 1.7884850179029816e-07,\n",
              "   'white': 99.77197048329955,\n",
              "   'middle eastern': 0.13750960826988318,\n",
              "   'latino hispanic': 0.09024272933701924},\n",
              "  'dominant_race': 'white',\n",
              "  'emotion': {'angry': 3.6329492926597595,\n",
              "   'disgust': 0.001156845064542722,\n",
              "   'fear': 67.8424060344696,\n",
              "   'happy': 0.26293189730495214,\n",
              "   'sad': 0.40154941380023956,\n",
              "   'surprise': 27.700811624526978,\n",
              "   'neutral': 0.15819513937458396},\n",
              "  'dominant_emotion': 'fear'},\n",
              " '1958Oct.png': {'age': 39,\n",
              "  'region': {'x': 310, 'y': 770, 'w': 182, 'h': 182},\n",
              "  'gender': 'Man',\n",
              "  'race': {'asian': 1.0889667086303234,\n",
              "   'indian': 0.5385778844356537,\n",
              "   'black': 0.09982513729482889,\n",
              "   'white': 86.43971681594849,\n",
              "   'middle eastern': 7.533591240644455,\n",
              "   'latino hispanic': 4.29932102560997},\n",
              "  'dominant_race': 'white',\n",
              "  'emotion': {'angry': 2.23439522087574,\n",
              "   'disgust': 0.00017438230770494556,\n",
              "   'fear': 5.500904843211174,\n",
              "   'happy': 0.0591662828810513,\n",
              "   'sad': 0.040740863187238574,\n",
              "   'surprise': 92.16151237487793,\n",
              "   'neutral': 0.003110591569566168},\n",
              "  'dominant_emotion': 'surprise'},\n",
              " '1958Jan.png': {'age': 38,\n",
              "  'region': {'x': 33, 'y': 609, 'w': 46, 'h': 46},\n",
              "  'gender': 'Man',\n",
              "  'race': {'asian': 6.518892230855492,\n",
              "   'indian': 3.465207334185521,\n",
              "   'black': 0.47363337187568805,\n",
              "   'white': 46.95779346916598,\n",
              "   'middle eastern': 22.757261724145618,\n",
              "   'latino hispanic': 19.827216246988325},\n",
              "  'dominant_race': 'white',\n",
              "  'emotion': {'angry': 1.698506224556695e-06,\n",
              "   'disgust': 8.507514831501695e-09,\n",
              "   'fear': 0.005185435657040216,\n",
              "   'happy': 99.9880313873291,\n",
              "   'sad': 0.00209980207728222,\n",
              "   'surprise': 7.490849043279013e-05,\n",
              "   'neutral': 0.004606544825946912},\n",
              "  'dominant_emotion': 'happy'},\n",
              " '1958Mar.png': {'age': 38,\n",
              "  'region': {'x': 710, 'y': 466, 'w': 48, 'h': 48},\n",
              "  'gender': 'Man',\n",
              "  'race': {'asian': 6.141638749339506,\n",
              "   'indian': 6.731094821160723,\n",
              "   'black': 1.2811431493546455,\n",
              "   'white': 47.42481991200566,\n",
              "   'middle eastern': 34.788944410618804,\n",
              "   'latino hispanic': 3.6323605407691324},\n",
              "  'dominant_race': 'white',\n",
              "  'emotion': {'angry': 0.340952534993144,\n",
              "   'disgust': 2.719392695467486e-06,\n",
              "   'fear': 19.589078103845008,\n",
              "   'happy': 0.004537909169263381,\n",
              "   'sad': 10.26740135356196,\n",
              "   'surprise': 3.3869879476420848,\n",
              "   'neutral': 66.41104021138193},\n",
              "  'dominant_emotion': 'neutral'},\n",
              " '1957Dec.png': {'age': 32,\n",
              "  'region': {'x': 630, 'y': 680, 'w': 198, 'h': 198},\n",
              "  'gender': 'Man',\n",
              "  'race': {'asian': 58.59246850013733,\n",
              "   'indian': 4.659010469913483,\n",
              "   'black': 4.229196533560753,\n",
              "   'white': 14.099319279193878,\n",
              "   'middle eastern': 6.281628459692001,\n",
              "   'latino hispanic': 12.138382345438004},\n",
              "  'dominant_race': 'asian',\n",
              "  'emotion': {'angry': 2.092289304273683,\n",
              "   'disgust': 0.12436360862038187,\n",
              "   'fear': 51.13956040975812,\n",
              "   'happy': 2.5810276765243816,\n",
              "   'sad': 36.09532631011762,\n",
              "   'surprise': 6.521566600892937,\n",
              "   'neutral': 1.4458666486064582},\n",
              "  'dominant_emotion': 'fear'},\n",
              " '1957Jul.png': {'age': 27,\n",
              "  'region': {'x': 494, 'y': 209, 'w': 126, 'h': 126},\n",
              "  'gender': 'Man',\n",
              "  'race': {'asian': 34.69637814803384,\n",
              "   'indian': 6.755039035673256,\n",
              "   'black': 2.7257962628249808,\n",
              "   'white': 20.84259291379536,\n",
              "   'middle eastern': 8.822586825777671,\n",
              "   'latino hispanic': 26.157599549579675},\n",
              "  'dominant_race': 'asian',\n",
              "  'emotion': {'angry': 0.8476592600345612,\n",
              "   'disgust': 4.669170721172122e-05,\n",
              "   'fear': 9.821697324514389,\n",
              "   'happy': 88.4750247001648,\n",
              "   'sad': 0.36520962603390217,\n",
              "   'surprise': 0.1568629639223218,\n",
              "   'neutral': 0.333503563888371},\n",
              "  'dominant_emotion': 'happy'},\n",
              " '1957Feb.png': {'age': 28,\n",
              "  'region': {'x': 604, 'y': 990, 'w': 102, 'h': 102},\n",
              "  'gender': 'Woman',\n",
              "  'race': {'asian': 0.0004447373233166313,\n",
              "   'indian': 2.7038078468590374e-05,\n",
              "   'black': 6.133638329013813e-07,\n",
              "   'white': 99.8191058420069,\n",
              "   'middle eastern': 0.02760367971683946,\n",
              "   'latino hispanic': 0.15282090246777563},\n",
              "  'dominant_race': 'white',\n",
              "  'emotion': {'angry': 1.2539231218397617,\n",
              "   'disgust': 0.1226697931997478,\n",
              "   'fear': 0.027190742548555136,\n",
              "   'happy': 97.60572910308838,\n",
              "   'sad': 0.11088569881394506,\n",
              "   'surprise': 0.0007624827958352398,\n",
              "   'neutral': 0.878832396119833},\n",
              "  'dominant_emotion': 'happy'},\n",
              " '1957Aug.png': {'age': 31,\n",
              "  'region': {'x': 659, 'y': 527, 'w': 156, 'h': 156},\n",
              "  'gender': 'Woman',\n",
              "  'race': {'asian': 0.02576694532763213,\n",
              "   'indian': 0.062326231272891164,\n",
              "   'black': 0.0016329688151017763,\n",
              "   'white': 87.69429922103882,\n",
              "   'middle eastern': 6.01966492831707,\n",
              "   'latino hispanic': 6.196307763457298},\n",
              "  'dominant_race': 'white',\n",
              "  'emotion': {'angry': 1.6370646158114788e-09,\n",
              "   'disgust': 2.0104159297058385e-20,\n",
              "   'fear': 1.6867953077965046e-14,\n",
              "   'happy': 99.98283386230469,\n",
              "   'sad': 1.8140252754789143e-10,\n",
              "   'surprise': 6.801895491292953e-07,\n",
              "   'neutral': 0.017166270117741078},\n",
              "  'dominant_emotion': 'happy'},\n",
              " '1957Jan.png': {'age': 28,\n",
              "  'region': {'x': 108, 'y': 482, 'w': 90, 'h': 90},\n",
              "  'gender': 'Woman',\n",
              "  'race': {'asian': 3.840341647883752,\n",
              "   'indian': 0.14583387815707197,\n",
              "   'black': 0.06828447628785528,\n",
              "   'white': 86.93290870981865,\n",
              "   'middle eastern': 2.2705433380927644,\n",
              "   'latino hispanic': 6.742088153486738},\n",
              "  'dominant_race': 'white',\n",
              "  'emotion': {'angry': 1.3242151819525816e-07,\n",
              "   'disgust': 7.762987081367514e-14,\n",
              "   'fear': 9.200297641787092e-10,\n",
              "   'happy': 99.71866011619568,\n",
              "   'sad': 1.222892720420532e-06,\n",
              "   'surprise': 4.6412361598413554e-05,\n",
              "   'neutral': 0.2812901744619012},\n",
              "  'dominant_emotion': 'happy'},\n",
              " '1957Oct.png': {'age': 37,\n",
              "  'region': {'x': 741, 'y': 195, 'w': 129, 'h': 129},\n",
              "  'gender': 'Man',\n",
              "  'race': {'asian': 31.74263130084463,\n",
              "   'indian': 3.0110061100725,\n",
              "   'black': 10.124714530987413,\n",
              "   'white': 32.93336230119242,\n",
              "   'middle eastern': 8.813451755848632,\n",
              "   'latino hispanic': 13.374837540080401},\n",
              "  'dominant_race': 'white',\n",
              "  'emotion': {'angry': 1.9243956759211824,\n",
              "   'disgust': 1.685104267754974e-07,\n",
              "   'fear': 0.383777729758783,\n",
              "   'happy': 91.82648610034502,\n",
              "   'sad': 0.03285639300272721,\n",
              "   'surprise': 5.785114662952105,\n",
              "   'neutral': 0.047373029433073366},\n",
              "  'dominant_emotion': 'happy'},\n",
              " '1957May.png': {'age': 43,\n",
              "  'region': {'x': 480, 'y': 886, 'w': 52, 'h': 52},\n",
              "  'gender': 'Man',\n",
              "  'race': {'asian': 59.91377234458923,\n",
              "   'indian': 0.28752752114087343,\n",
              "   'black': 0.07174029015004635,\n",
              "   'white': 29.10039722919464,\n",
              "   'middle eastern': 4.740749299526215,\n",
              "   'latino hispanic': 5.8858126401901245},\n",
              "  'dominant_race': 'asian',\n",
              "  'emotion': {'angry': 49.58252012729645,\n",
              "   'disgust': 1.4223545301630947e-11,\n",
              "   'fear': 2.8313221409916878,\n",
              "   'happy': 0.024768747971393168,\n",
              "   'sad': 0.002910586408688687,\n",
              "   'surprise': 2.0790617227817165e-06,\n",
              "   'neutral': 47.55847454071045},\n",
              "  'dominant_emotion': 'angry'},\n",
              " 'Screen Shot 2022-10-18 at 2.02.14 PM.png': {'age': 32,\n",
              "  'region': {'x': 373, 'y': 413, 'w': 193, 'h': 193},\n",
              "  'gender': 'Woman',\n",
              "  'race': {'asian': 0.04027477065342043,\n",
              "   'indian': 0.001335378499348158,\n",
              "   'black': 3.2924216073044065e-05,\n",
              "   'white': 98.82350556990538,\n",
              "   'middle eastern': 0.5633143112548775,\n",
              "   'latino hispanic': 0.5715386817031313},\n",
              "  'dominant_race': 'white',\n",
              "  'emotion': {'angry': 0.001751284772086003,\n",
              "   'disgust': 4.090361339415866e-07,\n",
              "   'fear': 0.5919858107583749,\n",
              "   'happy': 97.8042962784414,\n",
              "   'sad': 1.601943927771577,\n",
              "   'surprise': 6.03607980473971e-08,\n",
              "   'neutral': 1.7528368132408772e-05},\n",
              "  'dominant_emotion': 'happy'}}"
            ]
          },
          "metadata": {},
          "execution_count": 24
        }
      ]
    },
    {
      "cell_type": "code",
      "source": [
        "test_face_dt.keys()"
      ],
      "metadata": {
        "colab": {
          "base_uri": "https://localhost:8080/"
        },
        "id": "eAX8gI7xUsZV",
        "outputId": "43f2d4de-dd2e-4560-8b3a-457d27b5b0b3"
      },
      "execution_count": 26,
      "outputs": [
        {
          "output_type": "execute_result",
          "data": {
            "text/plain": [
              "dict_keys(['1959Jan.png', '1959Feb.png', '1959Mar.png', '1959Jun.png', '1959May.png', '1955Jun.png', '1955Sep.png', '1955Nov.png', '1955Feb.png', '1955Oct.png', '1955Jan.png', '1956Jun.png', '1956Dec.png', '1956Sep.png', '1956Mar.png', '1956Nov.png', '1956Jul.png', '1956Feb.png', '1954Dec.png', '1954Jan.png', '1954Oct.png', '1954Feb.png', '1958Sep.png', '1958Jul.png', '1958Apr.png', '1958Jun.png', '1958May.png', '1958Aug.png', '1958Oct.png', '1958Jan.png', '1958Mar.png', '1957Dec.png', '1957Jul.png', '1957Feb.png', '1957Aug.png', '1957Jan.png', '1957Oct.png', '1957May.png', 'Screen Shot 2022-10-18 at 2.02.14 PM.png'])"
            ]
          },
          "metadata": {},
          "execution_count": 26
        }
      ]
    },
    {
      "cell_type": "code",
      "source": [
        "len(list(test_face_dt.keys()))"
      ],
      "metadata": {
        "colab": {
          "base_uri": "https://localhost:8080/"
        },
        "id": "_NG4OkSmYW14",
        "outputId": "dbb874a3-0d59-47d4-f87a-8f5fe0e60e4e"
      },
      "execution_count": 40,
      "outputs": [
        {
          "output_type": "execute_result",
          "data": {
            "text/plain": [
              "39"
            ]
          },
          "metadata": {},
          "execution_count": 40
        }
      ]
    },
    {
      "cell_type": "code",
      "source": [
        "test_face_all_df = pd.DataFrame()\n",
        "\n",
        "i = 0\n",
        "for cover_yrmo, face_emotions_dt in test_face_dt.items():\n",
        "  test_face_df = pd.json_normalize(face_emotions_dt)\n",
        "  test_face_df.insert(0, 'date', cover_yrmo)\n",
        "  if i == 0:\n",
        "    test_face_all_df = test_face_df.copy(deep=True)\n",
        "  else:\n",
        "    test_face_all_df = pd.concat([test_face_all_df, test_face_df])\n",
        "  i += 1"
      ],
      "metadata": {
        "id": "W2S2MG2qUvbA"
      },
      "execution_count": 42,
      "outputs": []
    },
    {
      "cell_type": "code",
      "source": [
        "test_face_all_df.head()\n",
        "test_face_all_df.info()\n",
        "\n",
        "test_face_all_df.to_csv('t')"
      ],
      "metadata": {
        "colab": {
          "base_uri": "https://localhost:8080/",
          "height": 837
        },
        "id": "fd1LNEBsX8X2",
        "outputId": "29d07007-63f6-4a11-8c94-9590c9067ce1"
      },
      "execution_count": 43,
      "outputs": [
        {
          "output_type": "execute_result",
          "data": {
            "text/plain": [
              "          date  age gender dominant_race dominant_emotion  region.x  region.y  \\\n",
              "0  1959Jan.png   43    Man         white            happy       566       709   \n",
              "0  1959Feb.png   38    Man         white            happy       307       841   \n",
              "0  1959Mar.png   33    Man         white            happy       360       187   \n",
              "0  1959Jun.png   31  Woman         white            happy       297       312   \n",
              "0  1959May.png   35    Man         white             fear       186       644   \n",
              "\n",
              "   region.w  region.h  race.asian  ...  race.white  race.middle eastern  \\\n",
              "0        72        72    0.005743  ...   92.720520             6.360684   \n",
              "0        36        36    8.331308  ...   57.147460            21.760610   \n",
              "0       112       112    0.165120  ...   86.893093             6.234812   \n",
              "0        81        81    0.000011  ...   99.856120             0.100669   \n",
              "0       117       117    0.122266  ...   72.739879            16.830961   \n",
              "\n",
              "   race.latino hispanic  emotion.angry  emotion.disgust  emotion.fear  \\\n",
              "0              0.825522   3.311606e-02     2.584991e+00  1.416661e+01   \n",
              "0              9.881164   1.813608e-04     5.044408e-09  2.292448e-02   \n",
              "0              6.611093   2.234262e-06     1.456342e-08  8.503885e-03   \n",
              "0              0.043175   3.846710e-12     1.898276e-23  1.116923e-11   \n",
              "0              9.980218   2.581354e+01     1.296955e-02  6.638741e+01   \n",
              "\n",
              "   emotion.happy   emotion.sad  emotion.surprise  emotion.neutral  \n",
              "0      71.820545  6.144411e+00          0.011580         5.238747  \n",
              "0      66.631877  7.744052e-02          0.005163        33.262414  \n",
              "0      57.579046  7.202214e-03          0.000495        42.404756  \n",
              "0      99.926227  8.216181e-10          0.062619         0.011151  \n",
              "0       0.948541  2.548894e+00          0.002534         4.286095  \n",
              "\n",
              "[5 rows x 22 columns]"
            ],
            "text/html": [
              "\n",
              "  <div id=\"df-9ebaf645-1fa5-4591-915a-b37b1aee8ebd\">\n",
              "    <div class=\"colab-df-container\">\n",
              "      <div>\n",
              "<style scoped>\n",
              "    .dataframe tbody tr th:only-of-type {\n",
              "        vertical-align: middle;\n",
              "    }\n",
              "\n",
              "    .dataframe tbody tr th {\n",
              "        vertical-align: top;\n",
              "    }\n",
              "\n",
              "    .dataframe thead th {\n",
              "        text-align: right;\n",
              "    }\n",
              "</style>\n",
              "<table border=\"1\" class=\"dataframe\">\n",
              "  <thead>\n",
              "    <tr style=\"text-align: right;\">\n",
              "      <th></th>\n",
              "      <th>date</th>\n",
              "      <th>age</th>\n",
              "      <th>gender</th>\n",
              "      <th>dominant_race</th>\n",
              "      <th>dominant_emotion</th>\n",
              "      <th>region.x</th>\n",
              "      <th>region.y</th>\n",
              "      <th>region.w</th>\n",
              "      <th>region.h</th>\n",
              "      <th>race.asian</th>\n",
              "      <th>...</th>\n",
              "      <th>race.white</th>\n",
              "      <th>race.middle eastern</th>\n",
              "      <th>race.latino hispanic</th>\n",
              "      <th>emotion.angry</th>\n",
              "      <th>emotion.disgust</th>\n",
              "      <th>emotion.fear</th>\n",
              "      <th>emotion.happy</th>\n",
              "      <th>emotion.sad</th>\n",
              "      <th>emotion.surprise</th>\n",
              "      <th>emotion.neutral</th>\n",
              "    </tr>\n",
              "  </thead>\n",
              "  <tbody>\n",
              "    <tr>\n",
              "      <th>0</th>\n",
              "      <td>1959Jan.png</td>\n",
              "      <td>43</td>\n",
              "      <td>Man</td>\n",
              "      <td>white</td>\n",
              "      <td>happy</td>\n",
              "      <td>566</td>\n",
              "      <td>709</td>\n",
              "      <td>72</td>\n",
              "      <td>72</td>\n",
              "      <td>0.005743</td>\n",
              "      <td>...</td>\n",
              "      <td>92.720520</td>\n",
              "      <td>6.360684</td>\n",
              "      <td>0.825522</td>\n",
              "      <td>3.311606e-02</td>\n",
              "      <td>2.584991e+00</td>\n",
              "      <td>1.416661e+01</td>\n",
              "      <td>71.820545</td>\n",
              "      <td>6.144411e+00</td>\n",
              "      <td>0.011580</td>\n",
              "      <td>5.238747</td>\n",
              "    </tr>\n",
              "    <tr>\n",
              "      <th>0</th>\n",
              "      <td>1959Feb.png</td>\n",
              "      <td>38</td>\n",
              "      <td>Man</td>\n",
              "      <td>white</td>\n",
              "      <td>happy</td>\n",
              "      <td>307</td>\n",
              "      <td>841</td>\n",
              "      <td>36</td>\n",
              "      <td>36</td>\n",
              "      <td>8.331308</td>\n",
              "      <td>...</td>\n",
              "      <td>57.147460</td>\n",
              "      <td>21.760610</td>\n",
              "      <td>9.881164</td>\n",
              "      <td>1.813608e-04</td>\n",
              "      <td>5.044408e-09</td>\n",
              "      <td>2.292448e-02</td>\n",
              "      <td>66.631877</td>\n",
              "      <td>7.744052e-02</td>\n",
              "      <td>0.005163</td>\n",
              "      <td>33.262414</td>\n",
              "    </tr>\n",
              "    <tr>\n",
              "      <th>0</th>\n",
              "      <td>1959Mar.png</td>\n",
              "      <td>33</td>\n",
              "      <td>Man</td>\n",
              "      <td>white</td>\n",
              "      <td>happy</td>\n",
              "      <td>360</td>\n",
              "      <td>187</td>\n",
              "      <td>112</td>\n",
              "      <td>112</td>\n",
              "      <td>0.165120</td>\n",
              "      <td>...</td>\n",
              "      <td>86.893093</td>\n",
              "      <td>6.234812</td>\n",
              "      <td>6.611093</td>\n",
              "      <td>2.234262e-06</td>\n",
              "      <td>1.456342e-08</td>\n",
              "      <td>8.503885e-03</td>\n",
              "      <td>57.579046</td>\n",
              "      <td>7.202214e-03</td>\n",
              "      <td>0.000495</td>\n",
              "      <td>42.404756</td>\n",
              "    </tr>\n",
              "    <tr>\n",
              "      <th>0</th>\n",
              "      <td>1959Jun.png</td>\n",
              "      <td>31</td>\n",
              "      <td>Woman</td>\n",
              "      <td>white</td>\n",
              "      <td>happy</td>\n",
              "      <td>297</td>\n",
              "      <td>312</td>\n",
              "      <td>81</td>\n",
              "      <td>81</td>\n",
              "      <td>0.000011</td>\n",
              "      <td>...</td>\n",
              "      <td>99.856120</td>\n",
              "      <td>0.100669</td>\n",
              "      <td>0.043175</td>\n",
              "      <td>3.846710e-12</td>\n",
              "      <td>1.898276e-23</td>\n",
              "      <td>1.116923e-11</td>\n",
              "      <td>99.926227</td>\n",
              "      <td>8.216181e-10</td>\n",
              "      <td>0.062619</td>\n",
              "      <td>0.011151</td>\n",
              "    </tr>\n",
              "    <tr>\n",
              "      <th>0</th>\n",
              "      <td>1959May.png</td>\n",
              "      <td>35</td>\n",
              "      <td>Man</td>\n",
              "      <td>white</td>\n",
              "      <td>fear</td>\n",
              "      <td>186</td>\n",
              "      <td>644</td>\n",
              "      <td>117</td>\n",
              "      <td>117</td>\n",
              "      <td>0.122266</td>\n",
              "      <td>...</td>\n",
              "      <td>72.739879</td>\n",
              "      <td>16.830961</td>\n",
              "      <td>9.980218</td>\n",
              "      <td>2.581354e+01</td>\n",
              "      <td>1.296955e-02</td>\n",
              "      <td>6.638741e+01</td>\n",
              "      <td>0.948541</td>\n",
              "      <td>2.548894e+00</td>\n",
              "      <td>0.002534</td>\n",
              "      <td>4.286095</td>\n",
              "    </tr>\n",
              "  </tbody>\n",
              "</table>\n",
              "<p>5 rows × 22 columns</p>\n",
              "</div>\n",
              "      <button class=\"colab-df-convert\" onclick=\"convertToInteractive('df-9ebaf645-1fa5-4591-915a-b37b1aee8ebd')\"\n",
              "              title=\"Convert this dataframe to an interactive table.\"\n",
              "              style=\"display:none;\">\n",
              "        \n",
              "  <svg xmlns=\"http://www.w3.org/2000/svg\" height=\"24px\"viewBox=\"0 0 24 24\"\n",
              "       width=\"24px\">\n",
              "    <path d=\"M0 0h24v24H0V0z\" fill=\"none\"/>\n",
              "    <path d=\"M18.56 5.44l.94 2.06.94-2.06 2.06-.94-2.06-.94-.94-2.06-.94 2.06-2.06.94zm-11 1L8.5 8.5l.94-2.06 2.06-.94-2.06-.94L8.5 2.5l-.94 2.06-2.06.94zm10 10l.94 2.06.94-2.06 2.06-.94-2.06-.94-.94-2.06-.94 2.06-2.06.94z\"/><path d=\"M17.41 7.96l-1.37-1.37c-.4-.4-.92-.59-1.43-.59-.52 0-1.04.2-1.43.59L10.3 9.45l-7.72 7.72c-.78.78-.78 2.05 0 2.83L4 21.41c.39.39.9.59 1.41.59.51 0 1.02-.2 1.41-.59l7.78-7.78 2.81-2.81c.8-.78.8-2.07 0-2.86zM5.41 20L4 18.59l7.72-7.72 1.47 1.35L5.41 20z\"/>\n",
              "  </svg>\n",
              "      </button>\n",
              "      \n",
              "  <style>\n",
              "    .colab-df-container {\n",
              "      display:flex;\n",
              "      flex-wrap:wrap;\n",
              "      gap: 12px;\n",
              "    }\n",
              "\n",
              "    .colab-df-convert {\n",
              "      background-color: #E8F0FE;\n",
              "      border: none;\n",
              "      border-radius: 50%;\n",
              "      cursor: pointer;\n",
              "      display: none;\n",
              "      fill: #1967D2;\n",
              "      height: 32px;\n",
              "      padding: 0 0 0 0;\n",
              "      width: 32px;\n",
              "    }\n",
              "\n",
              "    .colab-df-convert:hover {\n",
              "      background-color: #E2EBFA;\n",
              "      box-shadow: 0px 1px 2px rgba(60, 64, 67, 0.3), 0px 1px 3px 1px rgba(60, 64, 67, 0.15);\n",
              "      fill: #174EA6;\n",
              "    }\n",
              "\n",
              "    [theme=dark] .colab-df-convert {\n",
              "      background-color: #3B4455;\n",
              "      fill: #D2E3FC;\n",
              "    }\n",
              "\n",
              "    [theme=dark] .colab-df-convert:hover {\n",
              "      background-color: #434B5C;\n",
              "      box-shadow: 0px 1px 3px 1px rgba(0, 0, 0, 0.15);\n",
              "      filter: drop-shadow(0px 1px 2px rgba(0, 0, 0, 0.3));\n",
              "      fill: #FFFFFF;\n",
              "    }\n",
              "  </style>\n",
              "\n",
              "      <script>\n",
              "        const buttonEl =\n",
              "          document.querySelector('#df-9ebaf645-1fa5-4591-915a-b37b1aee8ebd button.colab-df-convert');\n",
              "        buttonEl.style.display =\n",
              "          google.colab.kernel.accessAllowed ? 'block' : 'none';\n",
              "\n",
              "        async function convertToInteractive(key) {\n",
              "          const element = document.querySelector('#df-9ebaf645-1fa5-4591-915a-b37b1aee8ebd');\n",
              "          const dataTable =\n",
              "            await google.colab.kernel.invokeFunction('convertToInteractive',\n",
              "                                                     [key], {});\n",
              "          if (!dataTable) return;\n",
              "\n",
              "          const docLinkHtml = 'Like what you see? Visit the ' +\n",
              "            '<a target=\"_blank\" href=https://colab.research.google.com/notebooks/data_table.ipynb>data table notebook</a>'\n",
              "            + ' to learn more about interactive tables.';\n",
              "          element.innerHTML = '';\n",
              "          dataTable['output_type'] = 'display_data';\n",
              "          await google.colab.output.renderOutput(dataTable, element);\n",
              "          const docLink = document.createElement('div');\n",
              "          docLink.innerHTML = docLinkHtml;\n",
              "          element.appendChild(docLink);\n",
              "        }\n",
              "      </script>\n",
              "    </div>\n",
              "  </div>\n",
              "  "
            ]
          },
          "metadata": {},
          "execution_count": 43
        },
        {
          "output_type": "stream",
          "name": "stdout",
          "text": [
            "<class 'pandas.core.frame.DataFrame'>\n",
            "Int64Index: 39 entries, 0 to 0\n",
            "Data columns (total 22 columns):\n",
            " #   Column                Non-Null Count  Dtype  \n",
            "---  ------                --------------  -----  \n",
            " 0   date                  39 non-null     object \n",
            " 1   age                   39 non-null     int64  \n",
            " 2   gender                39 non-null     object \n",
            " 3   dominant_race         39 non-null     object \n",
            " 4   dominant_emotion      39 non-null     object \n",
            " 5   region.x              39 non-null     int64  \n",
            " 6   region.y              39 non-null     int64  \n",
            " 7   region.w              39 non-null     int64  \n",
            " 8   region.h              39 non-null     int64  \n",
            " 9   race.asian            39 non-null     float64\n",
            " 10  race.indian           39 non-null     float64\n",
            " 11  race.black            39 non-null     float64\n",
            " 12  race.white            39 non-null     float64\n",
            " 13  race.middle eastern   39 non-null     float64\n",
            " 14  race.latino hispanic  39 non-null     float64\n",
            " 15  emotion.angry         39 non-null     float64\n",
            " 16  emotion.disgust       39 non-null     float64\n",
            " 17  emotion.fear          39 non-null     float64\n",
            " 18  emotion.happy         39 non-null     float64\n",
            " 19  emotion.sad           39 non-null     float64\n",
            " 20  emotion.surprise      39 non-null     float64\n",
            " 21  emotion.neutral       39 non-null     float64\n",
            "dtypes: float64(13), int64(5), object(4)\n",
            "memory usage: 7.0+ KB\n"
          ]
        }
      ]
    },
    {
      "cell_type": "code",
      "source": [
        "# Age Distribution\n",
        "\n",
        "_ = test_face_all_df['age'].hist(bins=20)"
      ],
      "metadata": {
        "colab": {
          "base_uri": "https://localhost:8080/",
          "height": 265
        },
        "id": "dUtFYqpGZClV",
        "outputId": "7f915ced-3f52-4fc7-918d-d837680e46c2"
      },
      "execution_count": 49,
      "outputs": [
        {
          "output_type": "display_data",
          "data": {
            "text/plain": [
              "<Figure size 432x288 with 1 Axes>"
            ],
            "image/png": "[encoded data removed]"
          },
          "metadata": {
            "needs_background": "light"
          }
        }
      ]
    },
    {
      "cell_type": "code",
      "source": [
        "# Gender Breakdown\n",
        "\n",
        "test_face_all_df.gender.value_counts()"
      ],
      "metadata": {
        "colab": {
          "base_uri": "https://localhost:8080/"
        },
        "id": "hcbIj-J3Y0k8",
        "outputId": "598c77f8-b835-445b-c9fc-a7754b7148bc"
      },
      "execution_count": 44,
      "outputs": [
        {
          "output_type": "execute_result",
          "data": {
            "text/plain": [
              "Woman    20\n",
              "Man      19\n",
              "Name: gender, dtype: int64"
            ]
          },
          "metadata": {},
          "execution_count": 44
        }
      ]
    },
    {
      "cell_type": "code",
      "source": [
        "# Race Breakdown\n",
        "\n",
        "test_face_all_df.dominant_race.value_counts()"
      ],
      "metadata": {
        "colab": {
          "base_uri": "https://localhost:8080/"
        },
        "id": "EPIsCgzDUeOa",
        "outputId": "34549c74-69c3-4d9d-d828-4af711977707"
      },
      "execution_count": 51,
      "outputs": [
        {
          "output_type": "execute_result",
          "data": {
            "text/plain": [
              "white             34\n",
              "asian              4\n",
              "middle eastern     1\n",
              "Name: dominant_race, dtype: int64"
            ]
          },
          "metadata": {},
          "execution_count": 51
        }
      ]
    },
    {
      "cell_type": "code",
      "source": [
        "# Emotion Breakdown\n",
        "\n",
        "test_face_all_df.dominant_emotion.value_counts()"
      ],
      "metadata": {
        "colab": {
          "base_uri": "https://localhost:8080/"
        },
        "id": "oADvX1EUUeH1",
        "outputId": "71c8ed55-29dd-497a-a753-fa6de15ea42c"
      },
      "execution_count": 52,
      "outputs": [
        {
          "output_type": "execute_result",
          "data": {
            "text/plain": [
              "happy       24\n",
              "fear         6\n",
              "neutral      3\n",
              "angry        3\n",
              "sad          2\n",
              "surprise     1\n",
              "Name: dominant_emotion, dtype: int64"
            ]
          },
          "metadata": {},
          "execution_count": 52
        }
      ]
    },
    {
      "cell_type": "markdown",
      "source": [
        "# Process: All "
      ],
      "metadata": {
        "id": "_MxMbtfIaE6F"
      }
    },
    {
      "cell_type": "code",
      "source": [
        "# Get list of subdirs\n",
        "\n",
        "subdir_ls = [f.path.split('/')[-1] for f in os.scandir('data') if f.is_dir() ]\n",
        "subdir_ls"
      ],
      "metadata": {
        "colab": {
          "base_uri": "https://localhost:8080/"
        },
        "id": "j9ovBDqIZlUS",
        "outputId": "018db763-5f26-4eff-f54f-d8d524e42408"
      },
      "execution_count": 55,
      "outputs": [
        {
          "output_type": "execute_result",
          "data": {
            "text/plain": [
              "['playboycovers_1980s',\n",
              " 'playboycovers_1970s',\n",
              " 'playboycovers_2020s',\n",
              " 'playboycovers_1950s',\n",
              " 'playboycovers_1960s',\n",
              " 'playboycovers_2010s',\n",
              " 'playboycovers_2000s',\n",
              " 'playboycovers_1990s']"
            ]
          },
          "metadata": {},
          "execution_count": 55
        }
      ]
    },
    {
      "cell_type": "code",
      "source": [
        "%%time\n",
        "\n",
        "# NOTE:\n",
        "#        ~800 Magazine cover image.png files\n",
        "#        High 30% ERROR (1950s), unable to detect face\n",
        "\n",
        "# Iterate over all subdirs, compute face emotions, merge into one DataFrame and save to file\n",
        "\n",
        "for i, asubdir in enumerate(subdir_ls):\n",
        "  print(f'\\n\\nProcessing #{i}: {asubdir}\\n')\n",
        "\n",
        "  # Create empty DataFrame to hold all face emotion data\n",
        "  temp_face_all_df = pd.DataFrame()\n",
        "\n",
        "  # Get face emotions for all images in subdir\n",
        "  temp_face_dt = get_face_emotions(f'data/{asubdir}')\n",
        "\n",
        "  # Merge dict of all face emotions into one DataFrame\n",
        "  i = 0\n",
        "  for cover_yrmo, face_emotions_dt in temp_face_dt.items():\n",
        "    temp_face_dt = pd.json_normalize(face_emotions_dt)\n",
        "    temp_face_dt.insert(0, 'date', cover_yrmo)\n",
        "    if i == 0:\n",
        "      temp_face_all_df = temp_face_dt.copy(deep=True)\n",
        "    else:\n",
        "      temp_face_all_df = pd.concat([temp_face_all_df, temp_face_dt])\n",
        "    i += 1\n",
        "\n",
        "  # Save intermediate results to file\n",
        "  filename_out = f'{asubdir}_face_emotions.csv'\n",
        "  print(f'  SAVING to filename: {filename_out}')\n",
        "  temp_face_all_df.to_csv(filename_out, index=False)"
      ],
      "metadata": {
        "colab": {
          "base_uri": "https://localhost:8080/"
        },
        "id": "eCChtKGbZlRe",
        "outputId": "e9bcedb7-9fa5-4c1b-ff24-e677ce340f9a"
      },
      "execution_count": null,
      "outputs": [
        {
          "output_type": "stream",
          "name": "stdout",
          "text": [
            "\n",
            "\n",
            "Processing #0: playboycovers_1980s\n",
            "\n",
            "Mag Cover #1 found: 1988Mar.png\n"
          ]
        },
        {
          "output_type": "stream",
          "name": "stderr",
          "text": [
            "Action: age:   0%|          | 0/4 [00:01<?, ?it/s]\n"
          ]
        },
        {
          "output_type": "stream",
          "name": "stdout",
          "text": [
            "  ERROR: Face could not be detected. Please confirm that the picture is a face photo or consider to set enforce_detection param to False.\n",
            "Mag Cover #2 found: 1988Jun.png\n"
          ]
        },
        {
          "output_type": "stream",
          "name": "stderr",
          "text": [
            "Action: age:   0%|          | 0/4 [00:00<?, ?it/s]    "
          ]
        },
        {
          "output_type": "stream",
          "name": "stdout",
          "text": [
            "1/1 [==============================] - 0s 21ms/step\n"
          ]
        },
        {
          "output_type": "stream",
          "name": "stderr",
          "text": [
            "Action: gender:  25%|██▌       | 1/4 [00:00<00:02,  1.14it/s]"
          ]
        },
        {
          "output_type": "stream",
          "name": "stdout",
          "text": [
            "1/1 [==============================] - 0s 25ms/step\n"
          ]
        },
        {
          "output_type": "stream",
          "name": "stderr",
          "text": [
            "Action: race:  50%|█████     | 2/4 [00:01<00:00,  2.10it/s]  "
          ]
        },
        {
          "output_type": "stream",
          "name": "stdout",
          "text": [
            "1/1 [==============================] - 0s 22ms/step\n"
          ]
        },
        {
          "output_type": "stream",
          "name": "stderr",
          "text": [
            "Action: emotion:  75%|███████▌  | 3/4 [00:01<00:00,  2.88it/s]"
          ]
        },
        {
          "output_type": "stream",
          "name": "stdout",
          "text": [
            "1/1 [==============================] - 0s 19ms/step\n"
          ]
        },
        {
          "output_type": "stream",
          "name": "stderr",
          "text": [
            "Action: emotion: 100%|██████████| 4/4 [00:02<00:00,  1.93it/s]\n"
          ]
        },
        {
          "output_type": "stream",
          "name": "stdout",
          "text": [
            "  SUCCESSS\n",
            "Mag Cover #3 found: 1988Jul.png\n"
          ]
        },
        {
          "output_type": "stream",
          "name": "stderr",
          "text": [
            "Action: age:   0%|          | 0/4 [00:00<?, ?it/s]    "
          ]
        },
        {
          "output_type": "stream",
          "name": "stdout",
          "text": [
            "1/1 [==============================] - 0s 18ms/step\n"
          ]
        },
        {
          "output_type": "stream",
          "name": "stderr",
          "text": [
            "Action: gender:  25%|██▌       | 1/4 [00:01<00:03,  1.16s/it]"
          ]
        },
        {
          "output_type": "stream",
          "name": "stdout",
          "text": [
            "1/1 [==============================] - 0s 18ms/step\n"
          ]
        },
        {
          "output_type": "stream",
          "name": "stderr",
          "text": [
            "Action: race:  50%|█████     | 2/4 [00:01<00:01,  1.69it/s]  "
          ]
        },
        {
          "output_type": "stream",
          "name": "stdout",
          "text": [
            "1/1 [==============================] - 0s 19ms/step\n"
          ]
        },
        {
          "output_type": "stream",
          "name": "stderr",
          "text": [
            "Action: emotion:  75%|███████▌  | 3/4 [00:01<00:00,  2.43it/s]"
          ]
        },
        {
          "output_type": "stream",
          "name": "stdout",
          "text": [
            "1/1 [==============================] - 0s 17ms/step\n"
          ]
        },
        {
          "output_type": "stream",
          "name": "stderr",
          "text": [
            "Action: emotion: 100%|██████████| 4/4 [00:02<00:00,  1.56it/s]\n"
          ]
        },
        {
          "output_type": "stream",
          "name": "stdout",
          "text": [
            "  SUCCESSS\n",
            "Mag Cover #4 found: 1988Sep.png\n"
          ]
        },
        {
          "output_type": "stream",
          "name": "stderr",
          "text": [
            "Action: age:   0%|          | 0/4 [00:00<?, ?it/s]    "
          ]
        },
        {
          "output_type": "stream",
          "name": "stdout",
          "text": [
            "1/1 [==============================] - 0s 19ms/step\n"
          ]
        },
        {
          "output_type": "stream",
          "name": "stderr",
          "text": [
            "Action: gender:  25%|██▌       | 1/4 [00:01<00:03,  1.10s/it]"
          ]
        },
        {
          "output_type": "stream",
          "name": "stdout",
          "text": [
            "1/1 [==============================] - 0s 22ms/step\n"
          ]
        },
        {
          "output_type": "stream",
          "name": "stderr",
          "text": [
            "Action: race:  50%|█████     | 2/4 [00:01<00:01,  1.74it/s]  "
          ]
        },
        {
          "output_type": "stream",
          "name": "stdout",
          "text": [
            "1/1 [==============================] - 0s 19ms/step\n"
          ]
        },
        {
          "output_type": "stream",
          "name": "stderr",
          "text": [
            "Action: emotion:  75%|███████▌  | 3/4 [00:01<00:00,  2.72it/s]"
          ]
        },
        {
          "output_type": "stream",
          "name": "stdout",
          "text": [
            "1/1 [==============================] - 0s 18ms/step\n"
          ]
        },
        {
          "output_type": "stream",
          "name": "stderr",
          "text": [
            "Action: emotion: 100%|██████████| 4/4 [00:02<00:00,  1.65it/s]\n"
          ]
        },
        {
          "output_type": "stream",
          "name": "stdout",
          "text": [
            "  SUCCESSS\n",
            "Mag Cover #5 found: 1988Oct.png\n"
          ]
        },
        {
          "output_type": "stream",
          "name": "stderr",
          "text": [
            "Action: age:   0%|          | 0/4 [00:00<?, ?it/s]\n"
          ]
        },
        {
          "output_type": "stream",
          "name": "stdout",
          "text": [
            "  ERROR: Face could not be detected. Please confirm that the picture is a face photo or consider to set enforce_detection param to False.\n",
            "Mag Cover #6 found: 1988Apr.png\n"
          ]
        },
        {
          "output_type": "stream",
          "name": "stderr",
          "text": [
            "Action: age:   0%|          | 0/4 [00:00<?, ?it/s]    "
          ]
        },
        {
          "output_type": "stream",
          "name": "stdout",
          "text": [
            "1/1 [==============================] - 0s 19ms/step\n"
          ]
        },
        {
          "output_type": "stream",
          "name": "stderr",
          "text": [
            "Action: gender:  25%|██▌       | 1/4 [00:00<00:02,  1.01it/s]"
          ]
        },
        {
          "output_type": "stream",
          "name": "stdout",
          "text": [
            "1/1 [==============================] - 0s 19ms/step\n"
          ]
        },
        {
          "output_type": "stream",
          "name": "stderr",
          "text": [
            "Action: race:  50%|█████     | 2/4 [00:01<00:00,  2.06it/s]  "
          ]
        },
        {
          "output_type": "stream",
          "name": "stdout",
          "text": [
            "1/1 [==============================] - 0s 19ms/step\n"
          ]
        },
        {
          "output_type": "stream",
          "name": "stderr",
          "text": [
            "Action: emotion:  75%|███████▌  | 3/4 [00:01<00:00,  3.13it/s]"
          ]
        },
        {
          "output_type": "stream",
          "name": "stdout",
          "text": [
            "1/1 [==============================] - 0s 20ms/step\n"
          ]
        },
        {
          "output_type": "stream",
          "name": "stderr",
          "text": [
            "Action: emotion: 100%|██████████| 4/4 [00:02<00:00,  1.87it/s]\n"
          ]
        },
        {
          "output_type": "stream",
          "name": "stdout",
          "text": [
            "  SUCCESSS\n",
            "Mag Cover #7 found: 1988Jan.png\n"
          ]
        },
        {
          "output_type": "stream",
          "name": "stderr",
          "text": [
            "Action: age:   0%|          | 0/4 [00:00<?, ?it/s]\n"
          ]
        },
        {
          "output_type": "stream",
          "name": "stdout",
          "text": [
            "  ERROR: Face could not be detected. Please confirm that the picture is a face photo or consider to set enforce_detection param to False.\n",
            "Mag Cover #8 found: 1988Nov.png\n"
          ]
        },
        {
          "output_type": "stream",
          "name": "stderr",
          "text": [
            "Action: age:   0%|          | 0/4 [00:00<?, ?it/s]    "
          ]
        },
        {
          "output_type": "stream",
          "name": "stdout",
          "text": [
            "1/1 [==============================] - 0s 20ms/step\n"
          ]
        },
        {
          "output_type": "stream",
          "name": "stderr",
          "text": [
            "Action: gender:  25%|██▌       | 1/4 [00:00<00:02,  1.03it/s]"
          ]
        },
        {
          "output_type": "stream",
          "name": "stdout",
          "text": [
            "1/1 [==============================] - 0s 20ms/step\n"
          ]
        },
        {
          "output_type": "stream",
          "name": "stderr",
          "text": [
            "Action: race:  50%|█████     | 2/4 [00:01<00:00,  2.08it/s]  "
          ]
        },
        {
          "output_type": "stream",
          "name": "stdout",
          "text": [
            "1/1 [==============================] - 0s 19ms/step\n"
          ]
        },
        {
          "output_type": "stream",
          "name": "stderr",
          "text": [
            "Action: emotion:  75%|███████▌  | 3/4 [00:01<00:00,  2.84it/s]"
          ]
        },
        {
          "output_type": "stream",
          "name": "stdout",
          "text": [
            "1/1 [==============================] - 0s 29ms/step\n"
          ]
        },
        {
          "output_type": "stream",
          "name": "stderr",
          "text": [
            "Action: emotion: 100%|██████████| 4/4 [00:02<00:00,  1.73it/s]\n"
          ]
        },
        {
          "output_type": "stream",
          "name": "stdout",
          "text": [
            "  SUCCESSS\n",
            "Mag Cover #9 found: 1988Feb.png\n"
          ]
        },
        {
          "output_type": "stream",
          "name": "stderr",
          "text": [
            "Action: age:   0%|          | 0/4 [00:01<?, ?it/s]\n"
          ]
        },
        {
          "output_type": "stream",
          "name": "stdout",
          "text": [
            "  ERROR: Face could not be detected. Please confirm that the picture is a face photo or consider to set enforce_detection param to False.\n",
            "Mag Cover #10 found: 1988Aug.png\n"
          ]
        },
        {
          "output_type": "stream",
          "name": "stderr",
          "text": [
            "Action: age:   0%|          | 0/4 [00:00<?, ?it/s]    "
          ]
        },
        {
          "output_type": "stream",
          "name": "stdout",
          "text": [
            "1/1 [==============================] - 0s 19ms/step\n"
          ]
        },
        {
          "output_type": "stream",
          "name": "stderr",
          "text": [
            "Action: gender:  25%|██▌       | 1/4 [00:01<00:03,  1.11s/it]"
          ]
        },
        {
          "output_type": "stream",
          "name": "stdout",
          "text": [
            "1/1 [==============================] - 0s 20ms/step\n"
          ]
        },
        {
          "output_type": "stream",
          "name": "stderr",
          "text": [
            "Action: race:  50%|█████     | 2/4 [00:01<00:01,  1.74it/s]  "
          ]
        },
        {
          "output_type": "stream",
          "name": "stdout",
          "text": [
            "1/1 [==============================] - 0s 21ms/step\n"
          ]
        },
        {
          "output_type": "stream",
          "name": "stderr",
          "text": [
            "Action: emotion:  75%|███████▌  | 3/4 [00:01<00:00,  2.47it/s]"
          ]
        },
        {
          "output_type": "stream",
          "name": "stdout",
          "text": [
            "1/1 [==============================] - 0s 19ms/step\n"
          ]
        },
        {
          "output_type": "stream",
          "name": "stderr",
          "text": [
            "Action: emotion: 100%|██████████| 4/4 [00:02<00:00,  1.61it/s]\n"
          ]
        },
        {
          "output_type": "stream",
          "name": "stdout",
          "text": [
            "  SUCCESSS\n",
            "Mag Cover #11 found: 1988May.png\n"
          ]
        },
        {
          "output_type": "stream",
          "name": "stderr",
          "text": [
            "Action: age:   0%|          | 0/4 [00:00<?, ?it/s]\n"
          ]
        },
        {
          "output_type": "stream",
          "name": "stdout",
          "text": [
            "  ERROR: Face could not be detected. Please confirm that the picture is a face photo or consider to set enforce_detection param to False.\n",
            "Mag Cover #12 found: 1988Dec.png\n"
          ]
        },
        {
          "output_type": "stream",
          "name": "stderr",
          "text": [
            "Action: age:   0%|          | 0/4 [00:01<?, ?it/s]\n"
          ]
        },
        {
          "output_type": "stream",
          "name": "stdout",
          "text": [
            "  ERROR: Face could not be detected. Please confirm that the picture is a face photo or consider to set enforce_detection param to False.\n",
            "Mag Cover #13 found: 1987Jun.png\n"
          ]
        },
        {
          "output_type": "stream",
          "name": "stderr",
          "text": [
            "Action: age:   0%|          | 0/4 [00:00<?, ?it/s]    "
          ]
        },
        {
          "output_type": "stream",
          "name": "stdout",
          "text": [
            "1/1 [==============================] - 0s 20ms/step\n"
          ]
        },
        {
          "output_type": "stream",
          "name": "stderr",
          "text": [
            "Action: gender:  25%|██▌       | 1/4 [00:01<00:04,  1.40s/it]"
          ]
        },
        {
          "output_type": "stream",
          "name": "stdout",
          "text": [
            "1/1 [==============================] - 0s 19ms/step\n"
          ]
        },
        {
          "output_type": "stream",
          "name": "stderr",
          "text": [
            "Action: race:  50%|█████     | 2/4 [00:01<00:01,  1.51it/s]  "
          ]
        },
        {
          "output_type": "stream",
          "name": "stdout",
          "text": [
            "1/1 [==============================] - 0s 20ms/step\n"
          ]
        },
        {
          "output_type": "stream",
          "name": "stderr",
          "text": [
            "Action: emotion:  75%|███████▌  | 3/4 [00:01<00:00,  2.38it/s]"
          ]
        },
        {
          "output_type": "stream",
          "name": "stdout",
          "text": [
            "1/1 [==============================] - 0s 20ms/step\n"
          ]
        },
        {
          "output_type": "stream",
          "name": "stderr",
          "text": [
            "Action: emotion: 100%|██████████| 4/4 [00:03<00:00,  1.32it/s]\n"
          ]
        },
        {
          "output_type": "stream",
          "name": "stdout",
          "text": [
            "  SUCCESSS\n",
            "Mag Cover #14 found: 1987Oct.png\n"
          ]
        },
        {
          "output_type": "stream",
          "name": "stderr",
          "text": [
            "Action: age:   0%|          | 0/4 [00:00<?, ?it/s]    "
          ]
        },
        {
          "output_type": "stream",
          "name": "stdout",
          "text": [
            "1/1 [==============================] - 0s 26ms/step\n"
          ]
        },
        {
          "output_type": "stream",
          "name": "stderr",
          "text": [
            "Action: gender:  25%|██▌       | 1/4 [00:01<00:03,  1.28s/it]"
          ]
        },
        {
          "output_type": "stream",
          "name": "stdout",
          "text": [
            "1/1 [==============================] - 0s 21ms/step\n"
          ]
        },
        {
          "output_type": "stream",
          "name": "stderr",
          "text": [
            "Action: race:  50%|█████     | 2/4 [00:01<00:01,  1.66it/s]  "
          ]
        },
        {
          "output_type": "stream",
          "name": "stdout",
          "text": [
            "1/1 [==============================] - 0s 38ms/step\n"
          ]
        },
        {
          "output_type": "stream",
          "name": "stderr",
          "text": [
            "Action: emotion:  75%|███████▌  | 3/4 [00:01<00:00,  2.30it/s]"
          ]
        },
        {
          "output_type": "stream",
          "name": "stdout",
          "text": [
            "1/1 [==============================] - 0s 18ms/step\n"
          ]
        },
        {
          "output_type": "stream",
          "name": "stderr",
          "text": [
            "Action: emotion: 100%|██████████| 4/4 [00:02<00:00,  1.42it/s]\n"
          ]
        },
        {
          "output_type": "stream",
          "name": "stdout",
          "text": [
            "  SUCCESSS\n",
            "Mag Cover #15 found: 1987Jan.png\n"
          ]
        },
        {
          "output_type": "stream",
          "name": "stderr",
          "text": [
            "Action: age:   0%|          | 0/4 [00:00<?, ?it/s]\n"
          ]
        },
        {
          "output_type": "stream",
          "name": "stdout",
          "text": [
            "  ERROR: Face could not be detected. Please confirm that the picture is a face photo or consider to set enforce_detection param to False.\n",
            "Mag Cover #16 found: 1987May.png\n"
          ]
        },
        {
          "output_type": "stream",
          "name": "stderr",
          "text": [
            "Action: age:   0%|          | 0/4 [00:00<?, ?it/s]\n"
          ]
        },
        {
          "output_type": "stream",
          "name": "stdout",
          "text": [
            "  ERROR: Face could not be detected. Please confirm that the picture is a face photo or consider to set enforce_detection param to False.\n",
            "Mag Cover #17 found: 1987Aug.png\n"
          ]
        },
        {
          "output_type": "stream",
          "name": "stderr",
          "text": [
            "Action: age:   0%|          | 0/4 [00:00<?, ?it/s]\n"
          ]
        },
        {
          "output_type": "stream",
          "name": "stdout",
          "text": [
            "  ERROR: Face could not be detected. Please confirm that the picture is a face photo or consider to set enforce_detection param to False.\n",
            "Mag Cover #18 found: 1987Nov.png\n"
          ]
        },
        {
          "output_type": "stream",
          "name": "stderr",
          "text": [
            "Action: age:   0%|          | 0/4 [00:00<?, ?it/s]    "
          ]
        },
        {
          "output_type": "stream",
          "name": "stdout",
          "text": [
            "1/1 [==============================] - 0s 18ms/step\n"
          ]
        },
        {
          "output_type": "stream",
          "name": "stderr",
          "text": [
            "Action: gender:  25%|██▌       | 1/4 [00:01<00:03,  1.10s/it]"
          ]
        },
        {
          "output_type": "stream",
          "name": "stdout",
          "text": [
            "1/1 [==============================] - 0s 18ms/step\n"
          ]
        },
        {
          "output_type": "stream",
          "name": "stderr",
          "text": [
            "Action: race:  50%|█████     | 2/4 [00:01<00:01,  1.76it/s]  "
          ]
        },
        {
          "output_type": "stream",
          "name": "stdout",
          "text": [
            "1/1 [==============================] - 0s 21ms/step\n"
          ]
        },
        {
          "output_type": "stream",
          "name": "stderr",
          "text": [
            "Action: emotion:  75%|███████▌  | 3/4 [00:01<00:00,  2.51it/s]"
          ]
        },
        {
          "output_type": "stream",
          "name": "stdout",
          "text": [
            "1/1 [==============================] - 0s 18ms/step\n"
          ]
        },
        {
          "output_type": "stream",
          "name": "stderr",
          "text": [
            "Action: emotion: 100%|██████████| 4/4 [00:02<00:00,  1.62it/s]\n"
          ]
        },
        {
          "output_type": "stream",
          "name": "stdout",
          "text": [
            "  SUCCESSS\n",
            "Mag Cover #19 found: 1987Dec.png\n"
          ]
        },
        {
          "output_type": "stream",
          "name": "stderr",
          "text": [
            "Action: age:   0%|          | 0/4 [00:00<?, ?it/s]    "
          ]
        },
        {
          "output_type": "stream",
          "name": "stdout",
          "text": [
            "1/1 [==============================] - 0s 20ms/step\n"
          ]
        },
        {
          "output_type": "stream",
          "name": "stderr",
          "text": [
            "Action: gender:  25%|██▌       | 1/4 [00:01<00:03,  1.06s/it]"
          ]
        },
        {
          "output_type": "stream",
          "name": "stdout",
          "text": [
            "1/1 [==============================] - 0s 21ms/step\n"
          ]
        },
        {
          "output_type": "stream",
          "name": "stderr",
          "text": [
            "Action: race:  50%|█████     | 2/4 [00:01<00:01,  1.78it/s]  "
          ]
        },
        {
          "output_type": "stream",
          "name": "stdout",
          "text": [
            "1/1 [==============================] - 0s 18ms/step\n"
          ]
        },
        {
          "output_type": "stream",
          "name": "stderr",
          "text": [
            "Action: emotion:  75%|███████▌  | 3/4 [00:01<00:00,  2.54it/s]"
          ]
        },
        {
          "output_type": "stream",
          "name": "stdout",
          "text": [
            "1/1 [==============================] - 0s 19ms/step\n"
          ]
        },
        {
          "output_type": "stream",
          "name": "stderr",
          "text": [
            "Action: emotion: 100%|██████████| 4/4 [00:02<00:00,  1.65it/s]\n"
          ]
        },
        {
          "output_type": "stream",
          "name": "stdout",
          "text": [
            "  SUCCESSS\n",
            "Mag Cover #20 found: 1987Apr.png\n"
          ]
        },
        {
          "output_type": "stream",
          "name": "stderr",
          "text": [
            "Action: age:   0%|          | 0/4 [00:00<?, ?it/s]    "
          ]
        },
        {
          "output_type": "stream",
          "name": "stdout",
          "text": [
            "1/1 [==============================] - 0s 18ms/step\n"
          ]
        },
        {
          "output_type": "stream",
          "name": "stderr",
          "text": [
            "Action: gender:  25%|██▌       | 1/4 [00:01<00:03,  1.10s/it]"
          ]
        },
        {
          "output_type": "stream",
          "name": "stdout",
          "text": [
            "1/1 [==============================] - 0s 19ms/step\n"
          ]
        },
        {
          "output_type": "stream",
          "name": "stderr",
          "text": [
            "Action: race:  50%|█████     | 2/4 [00:01<00:01,  1.77it/s]  "
          ]
        },
        {
          "output_type": "stream",
          "name": "stdout",
          "text": [
            "1/1 [==============================] - 0s 21ms/step\n"
          ]
        },
        {
          "output_type": "stream",
          "name": "stderr",
          "text": [
            "Action: emotion:  75%|███████▌  | 3/4 [00:01<00:00,  2.50it/s]"
          ]
        },
        {
          "output_type": "stream",
          "name": "stdout",
          "text": [
            "1/1 [==============================] - 0s 18ms/step\n"
          ]
        },
        {
          "output_type": "stream",
          "name": "stderr",
          "text": [
            "Action: emotion: 100%|██████████| 4/4 [00:02<00:00,  1.62it/s]\n"
          ]
        },
        {
          "output_type": "stream",
          "name": "stdout",
          "text": [
            "  SUCCESSS\n",
            "Mag Cover #21 found: 1987Jul.png\n"
          ]
        },
        {
          "output_type": "stream",
          "name": "stderr",
          "text": [
            "Action: age:   0%|          | 0/4 [00:00<?, ?it/s]\n"
          ]
        },
        {
          "output_type": "stream",
          "name": "stdout",
          "text": [
            "  ERROR: Face could not be detected. Please confirm that the picture is a face photo or consider to set enforce_detection param to False.\n",
            "Mag Cover #22 found: 1987Feb.png\n"
          ]
        },
        {
          "output_type": "stream",
          "name": "stderr",
          "text": [
            "Action: age:   0%|          | 0/4 [00:00<?, ?it/s]\n"
          ]
        },
        {
          "output_type": "stream",
          "name": "stdout",
          "text": [
            "  ERROR: Face could not be detected. Please confirm that the picture is a face photo or consider to set enforce_detection param to False.\n",
            "Mag Cover #23 found: 1987Sep.png\n"
          ]
        },
        {
          "output_type": "stream",
          "name": "stderr",
          "text": [
            "Action: age:   0%|          | 0/4 [00:00<?, ?it/s]    "
          ]
        },
        {
          "output_type": "stream",
          "name": "stdout",
          "text": [
            "1/1 [==============================] - 0s 18ms/step\n"
          ]
        },
        {
          "output_type": "stream",
          "name": "stderr",
          "text": [
            "Action: gender:  25%|██▌       | 1/4 [00:01<00:03,  1.07s/it]"
          ]
        },
        {
          "output_type": "stream",
          "name": "stdout",
          "text": [
            "1/1 [==============================] - 0s 22ms/step\n"
          ]
        },
        {
          "output_type": "stream",
          "name": "stderr",
          "text": [
            "Action: race:  50%|█████     | 2/4 [00:01<00:01,  1.95it/s]  "
          ]
        },
        {
          "output_type": "stream",
          "name": "stdout",
          "text": [
            "1/1 [==============================] - 0s 20ms/step\n"
          ]
        },
        {
          "output_type": "stream",
          "name": "stderr",
          "text": [
            "Action: emotion:  75%|███████▌  | 3/4 [00:01<00:00,  2.99it/s]"
          ]
        },
        {
          "output_type": "stream",
          "name": "stdout",
          "text": [
            "1/1 [==============================] - 0s 20ms/step\n"
          ]
        },
        {
          "output_type": "stream",
          "name": "stderr",
          "text": [
            "Action: emotion: 100%|██████████| 4/4 [00:02<00:00,  1.77it/s]\n"
          ]
        },
        {
          "output_type": "stream",
          "name": "stdout",
          "text": [
            "  SUCCESSS\n",
            "Mag Cover #24 found: 1987Mar.png\n"
          ]
        },
        {
          "output_type": "stream",
          "name": "stderr",
          "text": [
            "Action: age:   0%|          | 0/4 [00:00<?, ?it/s]    "
          ]
        },
        {
          "output_type": "stream",
          "name": "stdout",
          "text": [
            "1/1 [==============================] - 0s 19ms/step\n"
          ]
        },
        {
          "output_type": "stream",
          "name": "stderr",
          "text": [
            "Action: gender:  25%|██▌       | 1/4 [00:01<00:04,  1.42s/it]"
          ]
        },
        {
          "output_type": "stream",
          "name": "stdout",
          "text": [
            "1/1 [==============================] - 0s 20ms/step\n"
          ]
        },
        {
          "output_type": "stream",
          "name": "stderr",
          "text": [
            "Action: race:  50%|█████     | 2/4 [00:01<00:01,  1.52it/s]  "
          ]
        },
        {
          "output_type": "stream",
          "name": "stdout",
          "text": [
            "1/1 [==============================] - 0s 24ms/step\n"
          ]
        },
        {
          "output_type": "stream",
          "name": "stderr",
          "text": [
            "Action: emotion:  75%|███████▌  | 3/4 [00:01<00:00,  2.21it/s]"
          ]
        },
        {
          "output_type": "stream",
          "name": "stdout",
          "text": [
            "1/1 [==============================] - 0s 24ms/step\n"
          ]
        },
        {
          "output_type": "stream",
          "name": "stderr",
          "text": [
            "Action: emotion: 100%|██████████| 4/4 [00:03<00:00,  1.28it/s]\n"
          ]
        },
        {
          "output_type": "stream",
          "name": "stdout",
          "text": [
            "  SUCCESSS\n",
            "Mag Cover #25 found: 1984Aug.png\n"
          ]
        },
        {
          "output_type": "stream",
          "name": "stderr",
          "text": [
            "Action: age:   0%|          | 0/4 [00:00<?, ?it/s]    "
          ]
        },
        {
          "output_type": "stream",
          "name": "stdout",
          "text": [
            "1/1 [==============================] - 0s 87ms/step\n"
          ]
        },
        {
          "output_type": "stream",
          "name": "stderr",
          "text": [
            "Action: gender:  25%|██▌       | 1/4 [00:01<00:03,  1.28s/it]"
          ]
        },
        {
          "output_type": "stream",
          "name": "stdout",
          "text": [
            "1/1 [==============================] - 0s 48ms/step\n"
          ]
        },
        {
          "output_type": "stream",
          "name": "stderr",
          "text": [
            "Action: race:  50%|█████     | 2/4 [00:01<00:01,  1.60it/s]  "
          ]
        },
        {
          "output_type": "stream",
          "name": "stdout",
          "text": [
            "1/1 [==============================] - 0s 27ms/step\n"
          ]
        },
        {
          "output_type": "stream",
          "name": "stderr",
          "text": [
            "Action: emotion:  75%|███████▌  | 3/4 [00:01<00:00,  2.51it/s]"
          ]
        },
        {
          "output_type": "stream",
          "name": "stdout",
          "text": [
            "1/1 [==============================] - 0s 17ms/step\n"
          ]
        },
        {
          "output_type": "stream",
          "name": "stderr",
          "text": [
            "Action: emotion: 100%|██████████| 4/4 [00:02<00:00,  1.58it/s]\n"
          ]
        },
        {
          "output_type": "stream",
          "name": "stdout",
          "text": [
            "  SUCCESSS\n",
            "Mag Cover #26 found: 1984Jul.png\n"
          ]
        },
        {
          "output_type": "stream",
          "name": "stderr",
          "text": [
            "Action: age:   0%|          | 0/4 [00:01<?, ?it/s]\n"
          ]
        },
        {
          "output_type": "stream",
          "name": "stdout",
          "text": [
            "  ERROR: Face could not be detected. Please confirm that the picture is a face photo or consider to set enforce_detection param to False.\n",
            "Mag Cover #27 found: 1984Apr.png\n"
          ]
        },
        {
          "output_type": "stream",
          "name": "stderr",
          "text": [
            "Action: age:   0%|          | 0/4 [00:00<?, ?it/s]    "
          ]
        },
        {
          "output_type": "stream",
          "name": "stdout",
          "text": [
            "1/1 [==============================] - 0s 32ms/step\n"
          ]
        },
        {
          "output_type": "stream",
          "name": "stderr",
          "text": [
            "Action: gender:  25%|██▌       | 1/4 [00:00<00:02,  1.03it/s]"
          ]
        },
        {
          "output_type": "stream",
          "name": "stdout",
          "text": [
            "1/1 [==============================] - 0s 18ms/step\n"
          ]
        },
        {
          "output_type": "stream",
          "name": "stderr",
          "text": [
            "Action: race:  50%|█████     | 2/4 [00:01<00:00,  2.11it/s]  "
          ]
        },
        {
          "output_type": "stream",
          "name": "stdout",
          "text": [
            "1/1 [==============================] - 0s 25ms/step\n"
          ]
        },
        {
          "output_type": "stream",
          "name": "stderr",
          "text": [
            "Action: emotion:  75%|███████▌  | 3/4 [00:01<00:00,  2.88it/s]"
          ]
        },
        {
          "output_type": "stream",
          "name": "stdout",
          "text": [
            "1/1 [==============================] - 0s 82ms/step\n"
          ]
        },
        {
          "output_type": "stream",
          "name": "stderr",
          "text": [
            "Action: emotion: 100%|██████████| 4/4 [00:02<00:00,  1.60it/s]\n"
          ]
        },
        {
          "output_type": "stream",
          "name": "stdout",
          "text": [
            "  SUCCESSS\n",
            "Mag Cover #28 found: 1984Feb.png\n"
          ]
        },
        {
          "output_type": "stream",
          "name": "stderr",
          "text": [
            "Action: age:   0%|          | 0/4 [00:01<?, ?it/s]\n"
          ]
        },
        {
          "output_type": "stream",
          "name": "stdout",
          "text": [
            "  ERROR: Face could not be detected. Please confirm that the picture is a face photo or consider to set enforce_detection param to False.\n",
            "Mag Cover #29 found: 1984Sep.png\n"
          ]
        },
        {
          "output_type": "stream",
          "name": "stderr",
          "text": [
            "Action: age:   0%|          | 0/4 [00:00<?, ?it/s]\n"
          ]
        },
        {
          "output_type": "stream",
          "name": "stdout",
          "text": [
            "  ERROR: Face could not be detected. Please confirm that the picture is a face photo or consider to set enforce_detection param to False.\n",
            "Mag Cover #30 found: 1984Jun.png\n"
          ]
        },
        {
          "output_type": "stream",
          "name": "stderr",
          "text": [
            "Action: age:   0%|          | 0/4 [00:00<?, ?it/s]    "
          ]
        },
        {
          "output_type": "stream",
          "name": "stdout",
          "text": [
            "1/1 [==============================] - 0s 20ms/step\n"
          ]
        },
        {
          "output_type": "stream",
          "name": "stderr",
          "text": [
            "Action: gender:  25%|██▌       | 1/4 [00:01<00:03,  1.15s/it]"
          ]
        },
        {
          "output_type": "stream",
          "name": "stdout",
          "text": [
            "1/1 [==============================] - 0s 27ms/step\n"
          ]
        },
        {
          "output_type": "stream",
          "name": "stderr",
          "text": [
            "Action: race:  50%|█████     | 2/4 [00:01<00:01,  1.82it/s]  "
          ]
        },
        {
          "output_type": "stream",
          "name": "stdout",
          "text": [
            "1/1 [==============================] - 0s 21ms/step\n"
          ]
        },
        {
          "output_type": "stream",
          "name": "stderr",
          "text": [
            "Action: emotion:  75%|███████▌  | 3/4 [00:01<00:00,  2.57it/s]"
          ]
        },
        {
          "output_type": "stream",
          "name": "stdout",
          "text": [
            "1/1 [==============================] - 0s 19ms/step\n"
          ]
        },
        {
          "output_type": "stream",
          "name": "stderr",
          "text": [
            "Action: emotion: 100%|██████████| 4/4 [00:02<00:00,  1.60it/s]\n"
          ]
        },
        {
          "output_type": "stream",
          "name": "stdout",
          "text": [
            "  SUCCESSS\n",
            "Mag Cover #31 found: 1984Dec.png\n"
          ]
        },
        {
          "output_type": "stream",
          "name": "stderr",
          "text": [
            "Action: age:   0%|          | 0/4 [00:00<?, ?it/s]    "
          ]
        },
        {
          "output_type": "stream",
          "name": "stdout",
          "text": [
            "1/1 [==============================] - 0s 25ms/step\n"
          ]
        },
        {
          "output_type": "stream",
          "name": "stderr",
          "text": [
            "Action: gender:  25%|██▌       | 1/4 [00:01<00:03,  1.16s/it]"
          ]
        },
        {
          "output_type": "stream",
          "name": "stdout",
          "text": [
            "1/1 [==============================] - 0s 19ms/step\n"
          ]
        },
        {
          "output_type": "stream",
          "name": "stderr",
          "text": [
            "Action: race:  50%|█████     | 2/4 [00:01<00:01,  1.69it/s]  "
          ]
        },
        {
          "output_type": "stream",
          "name": "stdout",
          "text": [
            "1/1 [==============================] - 0s 22ms/step\n"
          ]
        },
        {
          "output_type": "stream",
          "name": "stderr",
          "text": [
            "Action: emotion:  75%|███████▌  | 3/4 [00:01<00:00,  2.43it/s]"
          ]
        },
        {
          "output_type": "stream",
          "name": "stdout",
          "text": [
            "1/1 [==============================] - 0s 17ms/step\n"
          ]
        },
        {
          "output_type": "stream",
          "name": "stderr",
          "text": [
            "Action: emotion: 100%|██████████| 4/4 [00:02<00:00,  1.55it/s]\n"
          ]
        },
        {
          "output_type": "stream",
          "name": "stdout",
          "text": [
            "  SUCCESSS\n",
            "Mag Cover #32 found: 1984Oct.png\n"
          ]
        },
        {
          "output_type": "stream",
          "name": "stderr",
          "text": [
            "Action: age:   0%|          | 0/4 [00:00<?, ?it/s]\n"
          ]
        },
        {
          "output_type": "stream",
          "name": "stdout",
          "text": [
            "  ERROR: Face could not be detected. Please confirm that the picture is a face photo or consider to set enforce_detection param to False.\n",
            "Mag Cover #33 found: 1984Mar.png\n"
          ]
        },
        {
          "output_type": "stream",
          "name": "stderr",
          "text": [
            "Action: age:   0%|          | 0/4 [00:00<?, ?it/s]    "
          ]
        },
        {
          "output_type": "stream",
          "name": "stdout",
          "text": [
            "1/1 [==============================] - 0s 18ms/step\n"
          ]
        },
        {
          "output_type": "stream",
          "name": "stderr",
          "text": [
            "Action: gender:  25%|██▌       | 1/4 [00:01<00:03,  1.13s/it]"
          ]
        },
        {
          "output_type": "stream",
          "name": "stdout",
          "text": [
            "1/1 [==============================] - 0s 20ms/step\n"
          ]
        },
        {
          "output_type": "stream",
          "name": "stderr",
          "text": [
            "Action: race:  50%|█████     | 2/4 [00:01<00:01,  1.73it/s]  "
          ]
        },
        {
          "output_type": "stream",
          "name": "stdout",
          "text": [
            "1/1 [==============================] - 0s 20ms/step\n"
          ]
        },
        {
          "output_type": "stream",
          "name": "stderr",
          "text": [
            "Action: emotion:  75%|███████▌  | 3/4 [00:01<00:00,  2.68it/s]"
          ]
        },
        {
          "output_type": "stream",
          "name": "stdout",
          "text": [
            "1/1 [==============================] - 0s 17ms/step\n"
          ]
        },
        {
          "output_type": "stream",
          "name": "stderr",
          "text": [
            "Action: emotion: 100%|██████████| 4/4 [00:02<00:00,  1.58it/s]\n"
          ]
        },
        {
          "output_type": "stream",
          "name": "stdout",
          "text": [
            "  SUCCESSS\n",
            "Mag Cover #34 found: 1984Nov.png\n"
          ]
        },
        {
          "output_type": "stream",
          "name": "stderr",
          "text": [
            "Action: age:   0%|          | 0/4 [00:00<?, ?it/s]    "
          ]
        },
        {
          "output_type": "stream",
          "name": "stdout",
          "text": [
            "1/1 [==============================] - 0s 25ms/step\n"
          ]
        },
        {
          "output_type": "stream",
          "name": "stderr",
          "text": [
            "Action: gender:  25%|██▌       | 1/4 [00:01<00:03,  1.07s/it]"
          ]
        },
        {
          "output_type": "stream",
          "name": "stdout",
          "text": [
            "1/1 [==============================] - 0s 19ms/step\n"
          ]
        },
        {
          "output_type": "stream",
          "name": "stderr",
          "text": [
            "Action: race:  50%|█████     | 2/4 [00:01<00:01,  1.80it/s]  "
          ]
        },
        {
          "output_type": "stream",
          "name": "stdout",
          "text": [
            "1/1 [==============================] - 0s 18ms/step\n"
          ]
        },
        {
          "output_type": "stream",
          "name": "stderr",
          "text": [
            "Action: emotion:  75%|███████▌  | 3/4 [00:01<00:00,  2.80it/s]"
          ]
        },
        {
          "output_type": "stream",
          "name": "stdout",
          "text": [
            "1/1 [==============================] - 0s 17ms/step\n"
          ]
        },
        {
          "output_type": "stream",
          "name": "stderr",
          "text": [
            "Action: emotion: 100%|██████████| 4/4 [00:02<00:00,  1.72it/s]\n"
          ]
        },
        {
          "output_type": "stream",
          "name": "stdout",
          "text": [
            "  SUCCESSS\n",
            "Mag Cover #35 found: 1984May.png\n"
          ]
        },
        {
          "output_type": "stream",
          "name": "stderr",
          "text": [
            "Action: age:   0%|          | 0/4 [00:00<?, ?it/s]\n"
          ]
        },
        {
          "output_type": "stream",
          "name": "stdout",
          "text": [
            "  ERROR: Face could not be detected. Please confirm that the picture is a face photo or consider to set enforce_detection param to False.\n",
            "Mag Cover #36 found: 1984Jan.png\n"
          ]
        },
        {
          "output_type": "stream",
          "name": "stderr",
          "text": [
            "Action: age:   0%|          | 0/4 [00:00<?, ?it/s]\n"
          ]
        },
        {
          "output_type": "stream",
          "name": "stdout",
          "text": [
            "  ERROR: Face could not be detected. Please confirm that the picture is a face photo or consider to set enforce_detection param to False.\n",
            "Mag Cover #37 found: 1983Apr.png\n"
          ]
        },
        {
          "output_type": "stream",
          "name": "stderr",
          "text": [
            "Action: age:   0%|          | 0/4 [00:00<?, ?it/s]    "
          ]
        },
        {
          "output_type": "stream",
          "name": "stdout",
          "text": [
            "1/1 [==============================] - 0s 20ms/step\n"
          ]
        },
        {
          "output_type": "stream",
          "name": "stderr",
          "text": [
            "Action: gender:  25%|██▌       | 1/4 [00:01<00:03,  1.23s/it]"
          ]
        },
        {
          "output_type": "stream",
          "name": "stdout",
          "text": [
            "1/1 [==============================] - 0s 20ms/step\n"
          ]
        },
        {
          "output_type": "stream",
          "name": "stderr",
          "text": [
            "Action: race:  50%|█████     | 2/4 [00:01<00:01,  1.73it/s]  "
          ]
        },
        {
          "output_type": "stream",
          "name": "stdout",
          "text": [
            "1/1 [==============================] - 0s 18ms/step\n"
          ]
        },
        {
          "output_type": "stream",
          "name": "stderr",
          "text": [
            "Action: emotion:  75%|███████▌  | 3/4 [00:01<00:00,  2.48it/s]"
          ]
        },
        {
          "output_type": "stream",
          "name": "stdout",
          "text": [
            "1/1 [==============================] - 0s 22ms/step\n"
          ]
        },
        {
          "output_type": "stream",
          "name": "stderr",
          "text": [
            "Action: emotion: 100%|██████████| 4/4 [00:02<00:00,  1.50it/s]\n"
          ]
        },
        {
          "output_type": "stream",
          "name": "stdout",
          "text": [
            "  SUCCESSS\n",
            "Mag Cover #38 found: 1983Oct.png\n"
          ]
        },
        {
          "output_type": "stream",
          "name": "stderr",
          "text": [
            "Action: age:   0%|          | 0/4 [00:00<?, ?it/s]    "
          ]
        },
        {
          "output_type": "stream",
          "name": "stdout",
          "text": [
            "1/1 [==============================] - 0s 17ms/step\n"
          ]
        },
        {
          "output_type": "stream",
          "name": "stderr",
          "text": [
            "Action: gender:  25%|██▌       | 1/4 [00:01<00:03,  1.07s/it]"
          ]
        },
        {
          "output_type": "stream",
          "name": "stdout",
          "text": [
            "1/1 [==============================] - 0s 20ms/step\n"
          ]
        },
        {
          "output_type": "stream",
          "name": "stderr",
          "text": [
            "Action: race:  50%|█████     | 2/4 [00:01<00:01,  1.77it/s]  "
          ]
        },
        {
          "output_type": "stream",
          "name": "stdout",
          "text": [
            "1/1 [==============================] - 0s 21ms/step\n"
          ]
        },
        {
          "output_type": "stream",
          "name": "stderr",
          "text": [
            "Action: emotion:  75%|███████▌  | 3/4 [00:01<00:00,  2.52it/s]"
          ]
        },
        {
          "output_type": "stream",
          "name": "stdout",
          "text": [
            "1/1 [==============================] - 0s 51ms/step\n"
          ]
        },
        {
          "output_type": "stream",
          "name": "stderr",
          "text": [
            "Action: emotion: 100%|██████████| 4/4 [00:02<00:00,  1.44it/s]\n"
          ]
        },
        {
          "output_type": "stream",
          "name": "stdout",
          "text": [
            "  SUCCESSS\n",
            "Mag Cover #39 found: 1983Jun.png\n"
          ]
        },
        {
          "output_type": "stream",
          "name": "stderr",
          "text": [
            "Action: age:   0%|          | 0/4 [00:01<?, ?it/s]\n"
          ]
        },
        {
          "output_type": "stream",
          "name": "stdout",
          "text": [
            "  ERROR: Face could not be detected. Please confirm that the picture is a face photo or consider to set enforce_detection param to False.\n",
            "Mag Cover #40 found: 1983Aug.png\n"
          ]
        },
        {
          "output_type": "stream",
          "name": "stderr",
          "text": [
            "Action: age:   0%|          | 0/4 [00:00<?, ?it/s]    "
          ]
        },
        {
          "output_type": "stream",
          "name": "stdout",
          "text": [
            "1/1 [==============================] - 0s 18ms/step\n"
          ]
        },
        {
          "output_type": "stream",
          "name": "stderr",
          "text": [
            "Action: gender:  25%|██▌       | 1/4 [00:01<00:04,  1.61s/it]"
          ]
        },
        {
          "output_type": "stream",
          "name": "stdout",
          "text": [
            "1/1 [==============================] - 0s 23ms/step\n"
          ]
        },
        {
          "output_type": "stream",
          "name": "stderr",
          "text": [
            "Action: race:  50%|█████     | 2/4 [00:01<00:01,  1.35it/s]  "
          ]
        },
        {
          "output_type": "stream",
          "name": "stdout",
          "text": [
            "1/1 [==============================] - 0s 24ms/step\n"
          ]
        },
        {
          "output_type": "stream",
          "name": "stderr",
          "text": [
            "Action: emotion:  75%|███████▌  | 3/4 [00:01<00:00,  2.16it/s]"
          ]
        },
        {
          "output_type": "stream",
          "name": "stdout",
          "text": [
            "1/1 [==============================] - 0s 17ms/step\n"
          ]
        },
        {
          "output_type": "stream",
          "name": "stderr",
          "text": [
            "Action: emotion: 100%|██████████| 4/4 [00:02<00:00,  1.37it/s]\n"
          ]
        },
        {
          "output_type": "stream",
          "name": "stdout",
          "text": [
            "  SUCCESSS\n",
            "Mag Cover #41 found: 1983Dec.png\n"
          ]
        },
        {
          "output_type": "stream",
          "name": "stderr",
          "text": [
            "Action: age:   0%|          | 0/4 [00:00<?, ?it/s]    "
          ]
        },
        {
          "output_type": "stream",
          "name": "stdout",
          "text": [
            "1/1 [==============================] - 0s 31ms/step\n"
          ]
        },
        {
          "output_type": "stream",
          "name": "stderr",
          "text": [
            "Action: gender:  25%|██▌       | 1/4 [00:01<00:03,  1.23s/it]"
          ]
        },
        {
          "output_type": "stream",
          "name": "stdout",
          "text": [
            "1/1 [==============================] - 0s 19ms/step\n"
          ]
        },
        {
          "output_type": "stream",
          "name": "stderr",
          "text": [
            "Action: race:  50%|█████     | 2/4 [00:01<00:01,  1.60it/s]  "
          ]
        },
        {
          "output_type": "stream",
          "name": "stdout",
          "text": [
            "1/1 [==============================] - 0s 41ms/step\n"
          ]
        },
        {
          "output_type": "stream",
          "name": "stderr",
          "text": [
            "Action: emotion:  75%|███████▌  | 3/4 [00:01<00:00,  2.11it/s]"
          ]
        },
        {
          "output_type": "stream",
          "name": "stdout",
          "text": [
            "1/1 [==============================] - 0s 19ms/step\n"
          ]
        },
        {
          "output_type": "stream",
          "name": "stderr",
          "text": [
            "Action: emotion: 100%|██████████| 4/4 [00:02<00:00,  1.38it/s]\n"
          ]
        },
        {
          "output_type": "stream",
          "name": "stdout",
          "text": [
            "  SUCCESSS\n",
            "Mag Cover #42 found: 1983Jan.png\n"
          ]
        },
        {
          "output_type": "stream",
          "name": "stderr",
          "text": [
            "Action: age:   0%|          | 0/4 [00:00<?, ?it/s]    "
          ]
        },
        {
          "output_type": "stream",
          "name": "stdout",
          "text": [
            "1/1 [==============================] - 0s 21ms/step\n"
          ]
        },
        {
          "output_type": "stream",
          "name": "stderr",
          "text": [
            "Action: gender:  25%|██▌       | 1/4 [00:01<00:03,  1.18s/it]"
          ]
        },
        {
          "output_type": "stream",
          "name": "stdout",
          "text": [
            "1/1 [==============================] - 0s 19ms/step\n"
          ]
        },
        {
          "output_type": "stream",
          "name": "stderr",
          "text": [
            "Action: race:  50%|█████     | 2/4 [00:01<00:01,  1.66it/s]  "
          ]
        },
        {
          "output_type": "stream",
          "name": "stdout",
          "text": [
            "1/1 [==============================] - 0s 23ms/step\n"
          ]
        },
        {
          "output_type": "stream",
          "name": "stderr",
          "text": [
            "Action: emotion:  75%|███████▌  | 3/4 [00:01<00:00,  2.54it/s]"
          ]
        },
        {
          "output_type": "stream",
          "name": "stdout",
          "text": [
            "1/1 [==============================] - 0s 22ms/step\n"
          ]
        },
        {
          "output_type": "stream",
          "name": "stderr",
          "text": [
            "Action: emotion: 100%|██████████| 4/4 [00:02<00:00,  1.42it/s]\n"
          ]
        },
        {
          "output_type": "stream",
          "name": "stdout",
          "text": [
            "  SUCCESSS\n",
            "Mag Cover #43 found: 1983Feb.png\n"
          ]
        },
        {
          "output_type": "stream",
          "name": "stderr",
          "text": [
            "Action: age:   0%|          | 0/4 [00:01<?, ?it/s]\n"
          ]
        },
        {
          "output_type": "stream",
          "name": "stdout",
          "text": [
            "  ERROR: Face could not be detected. Please confirm that the picture is a face photo or consider to set enforce_detection param to False.\n",
            "Mag Cover #44 found: 1983Jul.png\n"
          ]
        },
        {
          "output_type": "stream",
          "name": "stderr",
          "text": [
            "Action: age:   0%|          | 0/4 [00:00<?, ?it/s]    "
          ]
        },
        {
          "output_type": "stream",
          "name": "stdout",
          "text": [
            "1/1 [==============================] - 0s 18ms/step\n"
          ]
        },
        {
          "output_type": "stream",
          "name": "stderr",
          "text": [
            "Action: gender:  25%|██▌       | 1/4 [00:01<00:03,  1.21s/it]"
          ]
        },
        {
          "output_type": "stream",
          "name": "stdout",
          "text": [
            "1/1 [==============================] - 0s 20ms/step\n"
          ]
        },
        {
          "output_type": "stream",
          "name": "stderr",
          "text": [
            "Action: race:  50%|█████     | 2/4 [00:01<00:01,  1.74it/s]  "
          ]
        },
        {
          "output_type": "stream",
          "name": "stdout",
          "text": [
            "1/1 [==============================] - 0s 24ms/step\n"
          ]
        },
        {
          "output_type": "stream",
          "name": "stderr",
          "text": [
            "Action: emotion:  75%|███████▌  | 3/4 [00:01<00:00,  2.47it/s]"
          ]
        },
        {
          "output_type": "stream",
          "name": "stdout",
          "text": [
            "1/1 [==============================] - 0s 21ms/step\n"
          ]
        },
        {
          "output_type": "stream",
          "name": "stderr",
          "text": [
            "Action: emotion: 100%|██████████| 4/4 [00:02<00:00,  1.39it/s]\n"
          ]
        },
        {
          "output_type": "stream",
          "name": "stdout",
          "text": [
            "  SUCCESSS\n",
            "Mag Cover #45 found: 1983Nov.png\n"
          ]
        },
        {
          "output_type": "stream",
          "name": "stderr",
          "text": [
            "Action: age:   0%|          | 0/4 [00:00<?, ?it/s]\n"
          ]
        },
        {
          "output_type": "stream",
          "name": "stdout",
          "text": [
            "  ERROR: Face could not be detected. Please confirm that the picture is a face photo or consider to set enforce_detection param to False.\n",
            "Mag Cover #46 found: 1983May.png\n"
          ]
        },
        {
          "output_type": "stream",
          "name": "stderr",
          "text": [
            "Action: age:   0%|          | 0/4 [00:00<?, ?it/s]    "
          ]
        },
        {
          "output_type": "stream",
          "name": "stdout",
          "text": [
            "1/1 [==============================] - 0s 19ms/step\n"
          ]
        },
        {
          "output_type": "stream",
          "name": "stderr",
          "text": [
            "Action: gender:  25%|██▌       | 1/4 [00:01<00:03,  1.22s/it]"
          ]
        },
        {
          "output_type": "stream",
          "name": "stdout",
          "text": [
            "1/1 [==============================] - 0s 22ms/step\n"
          ]
        },
        {
          "output_type": "stream",
          "name": "stderr",
          "text": [
            "Action: race:  50%|█████     | 2/4 [00:01<00:01,  1.72it/s]  "
          ]
        },
        {
          "output_type": "stream",
          "name": "stdout",
          "text": [
            "1/1 [==============================] - 0s 26ms/step\n"
          ]
        },
        {
          "output_type": "stream",
          "name": "stderr",
          "text": [
            "Action: emotion:  75%|███████▌  | 3/4 [00:01<00:00,  2.67it/s]"
          ]
        },
        {
          "output_type": "stream",
          "name": "stdout",
          "text": [
            "1/1 [==============================] - 0s 23ms/step\n"
          ]
        },
        {
          "output_type": "stream",
          "name": "stderr",
          "text": [
            "Action: emotion: 100%|██████████| 4/4 [00:02<00:00,  1.49it/s]\n"
          ]
        },
        {
          "output_type": "stream",
          "name": "stdout",
          "text": [
            "  SUCCESSS\n",
            "Mag Cover #47 found: 1983Mar.png\n"
          ]
        },
        {
          "output_type": "stream",
          "name": "stderr",
          "text": [
            "Action: age:   0%|          | 0/4 [00:00<?, ?it/s]    "
          ]
        },
        {
          "output_type": "stream",
          "name": "stdout",
          "text": [
            "1/1 [==============================] - 0s 22ms/step\n"
          ]
        },
        {
          "output_type": "stream",
          "name": "stderr",
          "text": [
            "Action: gender:  25%|██▌       | 1/4 [00:01<00:03,  1.22s/it]"
          ]
        },
        {
          "output_type": "stream",
          "name": "stdout",
          "text": [
            "1/1 [==============================] - 0s 19ms/step\n"
          ]
        },
        {
          "output_type": "stream",
          "name": "stderr",
          "text": [
            "Action: race:  50%|█████     | 2/4 [00:01<00:01,  1.63it/s]  "
          ]
        },
        {
          "output_type": "stream",
          "name": "stdout",
          "text": [
            "1/1 [==============================] - 0s 20ms/step\n"
          ]
        },
        {
          "output_type": "stream",
          "name": "stderr",
          "text": [
            "Action: emotion:  75%|███████▌  | 3/4 [00:01<00:00,  2.35it/s]"
          ]
        },
        {
          "output_type": "stream",
          "name": "stdout",
          "text": [
            "1/1 [==============================] - 0s 17ms/step\n"
          ]
        },
        {
          "output_type": "stream",
          "name": "stderr",
          "text": [
            "Action: emotion: 100%|██████████| 4/4 [00:02<00:00,  1.50it/s]\n"
          ]
        },
        {
          "output_type": "stream",
          "name": "stdout",
          "text": [
            "  SUCCESSS\n",
            "Mag Cover #48 found: 1983Sep.png\n"
          ]
        },
        {
          "output_type": "stream",
          "name": "stderr",
          "text": [
            "Action: age:   0%|          | 0/4 [00:00<?, ?it/s]    "
          ]
        },
        {
          "output_type": "stream",
          "name": "stdout",
          "text": [
            "1/1 [==============================] - 0s 18ms/step\n"
          ]
        },
        {
          "output_type": "stream",
          "name": "stderr",
          "text": [
            "Action: gender:  25%|██▌       | 1/4 [00:01<00:04,  1.40s/it]"
          ]
        },
        {
          "output_type": "stream",
          "name": "stdout",
          "text": [
            "1/1 [==============================] - 0s 20ms/step\n"
          ]
        },
        {
          "output_type": "stream",
          "name": "stderr",
          "text": [
            "Action: race:  50%|█████     | 2/4 [00:01<00:01,  1.53it/s]  "
          ]
        },
        {
          "output_type": "stream",
          "name": "stdout",
          "text": [
            "1/1 [==============================] - 0s 19ms/step\n"
          ]
        },
        {
          "output_type": "stream",
          "name": "stderr",
          "text": [
            "Action: emotion:  75%|███████▌  | 3/4 [00:01<00:00,  2.25it/s]"
          ]
        },
        {
          "output_type": "stream",
          "name": "stdout",
          "text": [
            "1/1 [==============================] - 0s 17ms/step\n"
          ]
        },
        {
          "output_type": "stream",
          "name": "stderr",
          "text": [
            "Action: emotion: 100%|██████████| 4/4 [00:02<00:00,  1.38it/s]\n"
          ]
        },
        {
          "output_type": "stream",
          "name": "stdout",
          "text": [
            "  SUCCESSS\n",
            "Mag Cover #49 found: 1989Aug.png\n"
          ]
        },
        {
          "output_type": "stream",
          "name": "stderr",
          "text": [
            "Action: age:   0%|          | 0/4 [00:00<?, ?it/s]\n"
          ]
        },
        {
          "output_type": "stream",
          "name": "stdout",
          "text": [
            "  ERROR: Face could not be detected. Please confirm that the picture is a face photo or consider to set enforce_detection param to False.\n",
            "Mag Cover #50 found: 1989Mar.png\n"
          ]
        },
        {
          "output_type": "stream",
          "name": "stderr",
          "text": [
            "Action: age:   0%|          | 0/4 [00:00<?, ?it/s]    "
          ]
        },
        {
          "output_type": "stream",
          "name": "stdout",
          "text": [
            "1/1 [==============================] - 0s 23ms/step\n"
          ]
        },
        {
          "output_type": "stream",
          "name": "stderr",
          "text": [
            "Action: gender:  25%|██▌       | 1/4 [00:01<00:04,  1.38s/it]"
          ]
        },
        {
          "output_type": "stream",
          "name": "stdout",
          "text": [
            "1/1 [==============================] - 0s 42ms/step\n"
          ]
        },
        {
          "output_type": "stream",
          "name": "stderr",
          "text": [
            "Action: race:  50%|█████     | 2/4 [00:01<00:01,  1.39it/s]  "
          ]
        },
        {
          "output_type": "stream",
          "name": "stdout",
          "text": [
            "1/1 [==============================] - 0s 22ms/step\n"
          ]
        },
        {
          "output_type": "stream",
          "name": "stderr",
          "text": [
            "Action: emotion:  75%|███████▌  | 3/4 [00:01<00:00,  2.09it/s]"
          ]
        },
        {
          "output_type": "stream",
          "name": "stdout",
          "text": [
            "1/1 [==============================] - 0s 17ms/step\n"
          ]
        },
        {
          "output_type": "stream",
          "name": "stderr",
          "text": [
            "Action: emotion: 100%|██████████| 4/4 [00:03<00:00,  1.32it/s]\n"
          ]
        },
        {
          "output_type": "stream",
          "name": "stdout",
          "text": [
            "  SUCCESSS\n",
            "Mag Cover #51 found: 1989Apr.png\n"
          ]
        },
        {
          "output_type": "stream",
          "name": "stderr",
          "text": [
            "Action: age:   0%|          | 0/4 [00:00<?, ?it/s]    "
          ]
        },
        {
          "output_type": "stream",
          "name": "stdout",
          "text": [
            "1/1 [==============================] - 0s 28ms/step\n"
          ]
        },
        {
          "output_type": "stream",
          "name": "stderr",
          "text": [
            "Action: gender:  25%|██▌       | 1/4 [00:01<00:04,  1.54s/it]"
          ]
        },
        {
          "output_type": "stream",
          "name": "stdout",
          "text": [
            "1/1 [==============================] - 0s 27ms/step\n"
          ]
        },
        {
          "output_type": "stream",
          "name": "stderr",
          "text": [
            "Action: race:  50%|█████     | 2/4 [00:01<00:01,  1.32it/s]  "
          ]
        },
        {
          "output_type": "stream",
          "name": "stdout",
          "text": [
            "1/1 [==============================] - 0s 29ms/step\n"
          ]
        },
        {
          "output_type": "stream",
          "name": "stderr",
          "text": [
            "Action: emotion:  75%|███████▌  | 3/4 [00:01<00:00,  1.96it/s]"
          ]
        },
        {
          "output_type": "stream",
          "name": "stdout",
          "text": [
            "1/1 [==============================] - 0s 17ms/step\n"
          ]
        },
        {
          "output_type": "stream",
          "name": "stderr",
          "text": [
            "Action: emotion: 100%|██████████| 4/4 [00:03<00:00,  1.09it/s]\n"
          ]
        },
        {
          "output_type": "stream",
          "name": "stdout",
          "text": [
            "  SUCCESSS\n",
            "Mag Cover #52 found: 1989Oct.png\n"
          ]
        },
        {
          "output_type": "stream",
          "name": "stderr",
          "text": [
            "Action: age:   0%|          | 0/4 [00:00<?, ?it/s]    "
          ]
        },
        {
          "output_type": "stream",
          "name": "stdout",
          "text": [
            "1/1 [==============================] - 0s 19ms/step\n"
          ]
        },
        {
          "output_type": "stream",
          "name": "stderr",
          "text": [
            "Action: gender:  25%|██▌       | 1/4 [00:01<00:03,  1.07s/it]"
          ]
        },
        {
          "output_type": "stream",
          "name": "stdout",
          "text": [
            "1/1 [==============================] - 0s 18ms/step\n"
          ]
        },
        {
          "output_type": "stream",
          "name": "stderr",
          "text": [
            "Action: race:  50%|█████     | 2/4 [00:01<00:01,  1.94it/s]  "
          ]
        },
        {
          "output_type": "stream",
          "name": "stdout",
          "text": [
            "1/1 [==============================] - 0s 19ms/step\n"
          ]
        },
        {
          "output_type": "stream",
          "name": "stderr",
          "text": [
            "Action: emotion:  75%|███████▌  | 3/4 [00:01<00:00,  2.96it/s]"
          ]
        },
        {
          "output_type": "stream",
          "name": "stdout",
          "text": [
            "1/1 [==============================] - 0s 19ms/step\n"
          ]
        },
        {
          "output_type": "stream",
          "name": "stderr",
          "text": [
            "Action: emotion: 100%|██████████| 4/4 [00:02<00:00,  1.77it/s]\n"
          ]
        },
        {
          "output_type": "stream",
          "name": "stdout",
          "text": [
            "  SUCCESSS\n",
            "Mag Cover #53 found: 1989Jan.png\n"
          ]
        },
        {
          "output_type": "stream",
          "name": "stderr",
          "text": [
            "Action: age:   0%|          | 0/4 [00:00<?, ?it/s]\n"
          ]
        },
        {
          "output_type": "stream",
          "name": "stdout",
          "text": [
            "  ERROR: Face could not be detected. Please confirm that the picture is a face photo or consider to set enforce_detection param to False.\n",
            "Mag Cover #54 found: 1989Feb.png\n"
          ]
        },
        {
          "output_type": "stream",
          "name": "stderr",
          "text": [
            "Action: age:   0%|          | 0/4 [00:00<?, ?it/s]    "
          ]
        },
        {
          "output_type": "stream",
          "name": "stdout",
          "text": [
            "1/1 [==============================] - 0s 19ms/step\n"
          ]
        },
        {
          "output_type": "stream",
          "name": "stderr",
          "text": [
            "Action: gender:  25%|██▌       | 1/4 [00:01<00:03,  1.14s/it]"
          ]
        },
        {
          "output_type": "stream",
          "name": "stdout",
          "text": [
            "1/1 [==============================] - 0s 18ms/step\n"
          ]
        },
        {
          "output_type": "stream",
          "name": "stderr",
          "text": [
            "Action: race:  50%|█████     | 2/4 [00:01<00:01,  1.84it/s]  "
          ]
        },
        {
          "output_type": "stream",
          "name": "stdout",
          "text": [
            "1/1 [==============================] - 0s 18ms/step\n"
          ]
        },
        {
          "output_type": "stream",
          "name": "stderr",
          "text": [
            "Action: emotion:  75%|███████▌  | 3/4 [00:01<00:00,  2.60it/s]"
          ]
        },
        {
          "output_type": "stream",
          "name": "stdout",
          "text": [
            "1/1 [==============================] - 0s 18ms/step\n"
          ]
        },
        {
          "output_type": "stream",
          "name": "stderr",
          "text": [
            "Action: emotion: 100%|██████████| 4/4 [00:02<00:00,  1.58it/s]\n"
          ]
        },
        {
          "output_type": "stream",
          "name": "stdout",
          "text": [
            "  SUCCESSS\n",
            "Mag Cover #55 found: 1989Jul.png\n"
          ]
        },
        {
          "output_type": "stream",
          "name": "stderr",
          "text": [
            "Action: age:   0%|          | 0/4 [00:00<?, ?it/s]    "
          ]
        },
        {
          "output_type": "stream",
          "name": "stdout",
          "text": [
            "1/1 [==============================] - 0s 19ms/step\n"
          ]
        },
        {
          "output_type": "stream",
          "name": "stderr",
          "text": [
            "Action: gender:  25%|██▌       | 1/4 [00:01<00:04,  1.37s/it]"
          ]
        },
        {
          "output_type": "stream",
          "name": "stdout",
          "text": [
            "1/1 [==============================] - 0s 18ms/step\n"
          ]
        },
        {
          "output_type": "stream",
          "name": "stderr",
          "text": [
            "Action: race:  50%|█████     | 2/4 [00:01<00:01,  1.48it/s]  "
          ]
        },
        {
          "output_type": "stream",
          "name": "stdout",
          "text": [
            "1/1 [==============================] - 0s 23ms/step\n"
          ]
        },
        {
          "output_type": "stream",
          "name": "stderr",
          "text": [
            "Action: emotion:  75%|███████▌  | 3/4 [00:01<00:00,  2.18it/s]"
          ]
        },
        {
          "output_type": "stream",
          "name": "stdout",
          "text": [
            "1/1 [==============================] - 0s 17ms/step\n"
          ]
        },
        {
          "output_type": "stream",
          "name": "stderr",
          "text": [
            "Action: emotion: 100%|██████████| 4/4 [00:03<00:00,  1.33it/s]\n"
          ]
        },
        {
          "output_type": "stream",
          "name": "stdout",
          "text": [
            "  SUCCESSS\n",
            "Mag Cover #56 found: 1989Sep.png\n"
          ]
        },
        {
          "output_type": "stream",
          "name": "stderr",
          "text": [
            "Action: age:   0%|          | 0/4 [00:00<?, ?it/s]\n"
          ]
        },
        {
          "output_type": "stream",
          "name": "stdout",
          "text": [
            "  ERROR: Face could not be detected. Please confirm that the picture is a face photo or consider to set enforce_detection param to False.\n",
            "Mag Cover #57 found: 1989Jun.png\n"
          ]
        },
        {
          "output_type": "stream",
          "name": "stderr",
          "text": [
            "Action: age:   0%|          | 0/4 [00:00<?, ?it/s]    "
          ]
        },
        {
          "output_type": "stream",
          "name": "stdout",
          "text": [
            "1/1 [==============================] - 0s 17ms/step\n"
          ]
        },
        {
          "output_type": "stream",
          "name": "stderr",
          "text": [
            "Action: gender:  25%|██▌       | 1/4 [00:01<00:03,  1.07s/it]"
          ]
        },
        {
          "output_type": "stream",
          "name": "stdout",
          "text": [
            "1/1 [==============================] - 0s 18ms/step\n"
          ]
        },
        {
          "output_type": "stream",
          "name": "stderr",
          "text": [
            "Action: race:  50%|█████     | 2/4 [00:01<00:01,  1.80it/s]  "
          ]
        },
        {
          "output_type": "stream",
          "name": "stdout",
          "text": [
            "1/1 [==============================] - 0s 25ms/step\n"
          ]
        },
        {
          "output_type": "stream",
          "name": "stderr",
          "text": [
            "Action: emotion:  75%|███████▌  | 3/4 [00:01<00:00,  2.54it/s]"
          ]
        },
        {
          "output_type": "stream",
          "name": "stdout",
          "text": [
            "1/1 [==============================] - 0s 17ms/step\n"
          ]
        },
        {
          "output_type": "stream",
          "name": "stderr",
          "text": [
            "Action: emotion: 100%|██████████| 4/4 [00:02<00:00,  1.66it/s]\n"
          ]
        },
        {
          "output_type": "stream",
          "name": "stdout",
          "text": [
            "  SUCCESSS\n",
            "Mag Cover #58 found: 1989Nov.png\n"
          ]
        },
        {
          "output_type": "stream",
          "name": "stderr",
          "text": [
            "Action: age:   0%|          | 0/4 [00:00<?, ?it/s]    "
          ]
        },
        {
          "output_type": "stream",
          "name": "stdout",
          "text": [
            "1/1 [==============================] - 0s 18ms/step\n"
          ]
        },
        {
          "output_type": "stream",
          "name": "stderr",
          "text": [
            "Action: gender:  25%|██▌       | 1/4 [00:01<00:03,  1.32s/it]"
          ]
        },
        {
          "output_type": "stream",
          "name": "stdout",
          "text": [
            "1/1 [==============================] - 0s 31ms/step\n"
          ]
        },
        {
          "output_type": "stream",
          "name": "stderr",
          "text": [
            "Action: race:  50%|█████     | 2/4 [00:01<00:01,  1.59it/s]  "
          ]
        },
        {
          "output_type": "stream",
          "name": "stdout",
          "text": [
            "1/1 [==============================] - 0s 24ms/step\n"
          ]
        },
        {
          "output_type": "stream",
          "name": "stderr",
          "text": [
            "Action: emotion:  75%|███████▌  | 3/4 [00:01<00:00,  2.51it/s]"
          ]
        },
        {
          "output_type": "stream",
          "name": "stdout",
          "text": [
            "1/1 [==============================] - 0s 19ms/step\n"
          ]
        },
        {
          "output_type": "stream",
          "name": "stderr",
          "text": [
            "Action: emotion: 100%|██████████| 4/4 [00:02<00:00,  1.40it/s]\n"
          ]
        },
        {
          "output_type": "stream",
          "name": "stdout",
          "text": [
            "  SUCCESSS\n",
            "Mag Cover #59 found: 1989May.png\n"
          ]
        },
        {
          "output_type": "stream",
          "name": "stderr",
          "text": [
            "Action: age:   0%|          | 0/4 [00:00<?, ?it/s]    "
          ]
        },
        {
          "output_type": "stream",
          "name": "stdout",
          "text": [
            "1/1 [==============================] - 0s 22ms/step\n"
          ]
        },
        {
          "output_type": "stream",
          "name": "stderr",
          "text": [
            "Action: gender:  25%|██▌       | 1/4 [00:01<00:03,  1.02s/it]"
          ]
        },
        {
          "output_type": "stream",
          "name": "stdout",
          "text": [
            "1/1 [==============================] - 0s 19ms/step\n"
          ]
        },
        {
          "output_type": "stream",
          "name": "stderr",
          "text": [
            "Action: race:  50%|█████     | 2/4 [00:01<00:01,  1.87it/s]  "
          ]
        },
        {
          "output_type": "stream",
          "name": "stdout",
          "text": [
            "1/1 [==============================] - 0s 23ms/step\n"
          ]
        },
        {
          "output_type": "stream",
          "name": "stderr",
          "text": [
            "Action: emotion:  75%|███████▌  | 3/4 [00:01<00:00,  2.83it/s]"
          ]
        },
        {
          "output_type": "stream",
          "name": "stdout",
          "text": [
            "1/1 [==============================] - 0s 17ms/step\n"
          ]
        },
        {
          "output_type": "stream",
          "name": "stderr",
          "text": [
            "Action: emotion: 100%|██████████| 4/4 [00:02<00:00,  1.78it/s]\n"
          ]
        },
        {
          "output_type": "stream",
          "name": "stdout",
          "text": [
            "  SUCCESSS\n",
            "Mag Cover #60 found: 1989Dec.png\n"
          ]
        },
        {
          "output_type": "stream",
          "name": "stderr",
          "text": [
            "Action: age:   0%|          | 0/4 [00:00<?, ?it/s]    "
          ]
        },
        {
          "output_type": "stream",
          "name": "stdout",
          "text": [
            "1/1 [==============================] - 0s 18ms/step\n"
          ]
        },
        {
          "output_type": "stream",
          "name": "stderr",
          "text": [
            "Action: gender:  25%|██▌       | 1/4 [00:01<00:04,  1.38s/it]"
          ]
        },
        {
          "output_type": "stream",
          "name": "stdout",
          "text": [
            "1/1 [==============================] - 0s 19ms/step\n"
          ]
        },
        {
          "output_type": "stream",
          "name": "stderr",
          "text": [
            "Action: race:  50%|█████     | 2/4 [00:01<00:01,  1.56it/s]  "
          ]
        },
        {
          "output_type": "stream",
          "name": "stdout",
          "text": [
            "1/1 [==============================] - 0s 20ms/step\n"
          ]
        },
        {
          "output_type": "stream",
          "name": "stderr",
          "text": [
            "Action: emotion:  75%|███████▌  | 3/4 [00:01<00:00,  2.28it/s]"
          ]
        },
        {
          "output_type": "stream",
          "name": "stdout",
          "text": [
            "1/1 [==============================] - 0s 19ms/step\n"
          ]
        },
        {
          "output_type": "stream",
          "name": "stderr",
          "text": [
            "Action: emotion: 100%|██████████| 4/4 [00:02<00:00,  1.36it/s]\n"
          ]
        },
        {
          "output_type": "stream",
          "name": "stdout",
          "text": [
            "  SUCCESSS\n",
            "Mag Cover #61 found: 1981Dec.png\n"
          ]
        },
        {
          "output_type": "stream",
          "name": "stderr",
          "text": [
            "Action: age:   0%|          | 0/4 [00:00<?, ?it/s]    "
          ]
        },
        {
          "output_type": "stream",
          "name": "stdout",
          "text": [
            "1/1 [==============================] - 0s 18ms/step\n"
          ]
        },
        {
          "output_type": "stream",
          "name": "stderr",
          "text": [
            "Action: gender:  25%|██▌       | 1/4 [00:01<00:05,  1.86s/it]"
          ]
        },
        {
          "output_type": "stream",
          "name": "stdout",
          "text": [
            "1/1 [==============================] - 0s 42ms/step\n"
          ]
        },
        {
          "output_type": "stream",
          "name": "stderr",
          "text": [
            "Action: race:  50%|█████     | 2/4 [00:02<00:01,  1.12it/s]  "
          ]
        },
        {
          "output_type": "stream",
          "name": "stdout",
          "text": [
            "1/1 [==============================] - 0s 18ms/step\n"
          ]
        },
        {
          "output_type": "stream",
          "name": "stderr",
          "text": [
            "Action: emotion:  75%|███████▌  | 3/4 [00:02<00:00,  1.74it/s]"
          ]
        },
        {
          "output_type": "stream",
          "name": "stdout",
          "text": [
            "1/1 [==============================] - 0s 27ms/step\n"
          ]
        },
        {
          "output_type": "stream",
          "name": "stderr",
          "text": [
            "Action: emotion: 100%|██████████| 4/4 [00:04<00:00,  1.01s/it]\n"
          ]
        },
        {
          "output_type": "stream",
          "name": "stdout",
          "text": [
            "  SUCCESSS\n",
            "Mag Cover #62 found: 1981Jul.png\n"
          ]
        },
        {
          "output_type": "stream",
          "name": "stderr",
          "text": [
            "Action: age:   0%|          | 0/4 [00:00<?, ?it/s]    "
          ]
        },
        {
          "output_type": "stream",
          "name": "stdout",
          "text": [
            "1/1 [==============================] - 0s 54ms/step\n"
          ]
        },
        {
          "output_type": "stream",
          "name": "stderr",
          "text": [
            "Action: gender:  25%|██▌       | 1/4 [00:01<00:04,  1.41s/it]"
          ]
        },
        {
          "output_type": "stream",
          "name": "stdout",
          "text": [
            "1/1 [==============================] - 0s 27ms/step\n"
          ]
        },
        {
          "output_type": "stream",
          "name": "stderr",
          "text": [
            "Action: race:  50%|█████     | 2/4 [00:01<00:01,  1.33it/s]  "
          ]
        },
        {
          "output_type": "stream",
          "name": "stdout",
          "text": [
            "1/1 [==============================] - 0s 19ms/step\n"
          ]
        },
        {
          "output_type": "stream",
          "name": "stderr",
          "text": [
            "Action: emotion:  75%|███████▌  | 3/4 [00:01<00:00,  2.00it/s]"
          ]
        },
        {
          "output_type": "stream",
          "name": "stdout",
          "text": [
            "1/1 [==============================] - 0s 25ms/step\n"
          ]
        },
        {
          "output_type": "stream",
          "name": "stderr",
          "text": [
            "Action: emotion: 100%|██████████| 4/4 [00:02<00:00,  1.34it/s]\n"
          ]
        },
        {
          "output_type": "stream",
          "name": "stdout",
          "text": [
            "  SUCCESSS\n",
            "Mag Cover #63 found: 1981Jan.png\n"
          ]
        },
        {
          "output_type": "stream",
          "name": "stderr",
          "text": [
            "Action: age:   0%|          | 0/4 [00:00<?, ?it/s]    "
          ]
        },
        {
          "output_type": "stream",
          "name": "stdout",
          "text": [
            "1/1 [==============================] - 0s 19ms/step\n"
          ]
        },
        {
          "output_type": "stream",
          "name": "stderr",
          "text": [
            "Action: gender:  25%|██▌       | 1/4 [00:02<00:07,  2.43s/it]"
          ]
        },
        {
          "output_type": "stream",
          "name": "stdout",
          "text": [
            "1/1 [==============================] - 0s 19ms/step\n"
          ]
        },
        {
          "output_type": "stream",
          "name": "stderr",
          "text": [
            "Action: race:  50%|█████     | 2/4 [00:02<00:02,  1.12s/it]  "
          ]
        },
        {
          "output_type": "stream",
          "name": "stdout",
          "text": [
            "1/1 [==============================] - 0s 20ms/step\n"
          ]
        },
        {
          "output_type": "stream",
          "name": "stderr",
          "text": [
            "Action: emotion:  75%|███████▌  | 3/4 [00:02<00:00,  1.44it/s]"
          ]
        },
        {
          "output_type": "stream",
          "name": "stdout",
          "text": [
            "1/1 [==============================] - 0s 30ms/step\n"
          ]
        },
        {
          "output_type": "stream",
          "name": "stderr",
          "text": [
            "Action: emotion: 100%|██████████| 4/4 [00:04<00:00,  1.12s/it]\n"
          ]
        },
        {
          "output_type": "stream",
          "name": "stdout",
          "text": [
            "  SUCCESSS\n",
            "Mag Cover #64 found: 1981Mar.png\n"
          ]
        },
        {
          "output_type": "stream",
          "name": "stderr",
          "text": [
            "Action: age:   0%|          | 0/4 [00:00<?, ?it/s]    "
          ]
        },
        {
          "output_type": "stream",
          "name": "stdout",
          "text": [
            "1/1 [==============================] - 0s 27ms/step\n"
          ]
        },
        {
          "output_type": "stream",
          "name": "stderr",
          "text": [
            "Action: gender:  25%|██▌       | 1/4 [00:01<00:04,  1.38s/it]"
          ]
        },
        {
          "output_type": "stream",
          "name": "stdout",
          "text": [
            "1/1 [==============================] - 0s 19ms/step\n"
          ]
        },
        {
          "output_type": "stream",
          "name": "stderr",
          "text": [
            "Action: race:  50%|█████     | 2/4 [00:01<00:01,  1.46it/s]  "
          ]
        },
        {
          "output_type": "stream",
          "name": "stdout",
          "text": [
            "1/1 [==============================] - 0s 29ms/step\n"
          ]
        },
        {
          "output_type": "stream",
          "name": "stderr",
          "text": [
            "Action: emotion:  75%|███████▌  | 3/4 [00:01<00:00,  2.32it/s]"
          ]
        },
        {
          "output_type": "stream",
          "name": "stdout",
          "text": [
            "1/1 [==============================] - 0s 20ms/step\n"
          ]
        },
        {
          "output_type": "stream",
          "name": "stderr",
          "text": [
            "Action: emotion: 100%|██████████| 4/4 [00:02<00:00,  1.43it/s]\n"
          ]
        },
        {
          "output_type": "stream",
          "name": "stdout",
          "text": [
            "  SUCCESSS\n",
            "Mag Cover #65 found: 1981Sep.png\n"
          ]
        },
        {
          "output_type": "stream",
          "name": "stderr",
          "text": [
            "Action: age:   0%|          | 0/4 [00:01<?, ?it/s]\n"
          ]
        },
        {
          "output_type": "stream",
          "name": "stdout",
          "text": [
            "  ERROR: Face could not be detected. Please confirm that the picture is a face photo or consider to set enforce_detection param to False.\n",
            "Mag Cover #66 found: 1981Apr.png\n"
          ]
        },
        {
          "output_type": "stream",
          "name": "stderr",
          "text": [
            "Action: age:   0%|          | 0/4 [00:00<?, ?it/s]    "
          ]
        },
        {
          "output_type": "stream",
          "name": "stdout",
          "text": [
            "1/1 [==============================] - 0s 25ms/step\n"
          ]
        },
        {
          "output_type": "stream",
          "name": "stderr",
          "text": [
            "Action: gender:  25%|██▌       | 1/4 [00:01<00:03,  1.27s/it]"
          ]
        },
        {
          "output_type": "stream",
          "name": "stdout",
          "text": [
            "1/1 [==============================] - 0s 19ms/step\n"
          ]
        },
        {
          "output_type": "stream",
          "name": "stderr",
          "text": [
            "Action: race:  50%|█████     | 2/4 [00:01<00:01,  1.56it/s]  "
          ]
        },
        {
          "output_type": "stream",
          "name": "stdout",
          "text": [
            "1/1 [==============================] - 0s 20ms/step\n"
          ]
        },
        {
          "output_type": "stream",
          "name": "stderr",
          "text": [
            "Action: emotion:  75%|███████▌  | 3/4 [00:01<00:00,  2.28it/s]"
          ]
        },
        {
          "output_type": "stream",
          "name": "stdout",
          "text": [
            "1/1 [==============================] - 0s 17ms/step\n"
          ]
        },
        {
          "output_type": "stream",
          "name": "stderr",
          "text": [
            "Action: emotion: 100%|██████████| 4/4 [00:02<00:00,  1.42it/s]\n"
          ]
        },
        {
          "output_type": "stream",
          "name": "stdout",
          "text": [
            "  SUCCESSS\n",
            "Mag Cover #67 found: 1981Nov.png\n"
          ]
        },
        {
          "output_type": "stream",
          "name": "stderr",
          "text": [
            "Action: age:   0%|          | 0/4 [00:00<?, ?it/s]    "
          ]
        },
        {
          "output_type": "stream",
          "name": "stdout",
          "text": [
            "1/1 [==============================] - 0s 18ms/step\n"
          ]
        },
        {
          "output_type": "stream",
          "name": "stderr",
          "text": [
            "Action: gender:  25%|██▌       | 1/4 [00:01<00:03,  1.14s/it]"
          ]
        },
        {
          "output_type": "stream",
          "name": "stdout",
          "text": [
            "1/1 [==============================] - 0s 19ms/step\n"
          ]
        },
        {
          "output_type": "stream",
          "name": "stderr",
          "text": [
            "Action: race:  50%|█████     | 2/4 [00:01<00:01,  1.71it/s]  "
          ]
        },
        {
          "output_type": "stream",
          "name": "stdout",
          "text": [
            "1/1 [==============================] - 0s 19ms/step\n"
          ]
        },
        {
          "output_type": "stream",
          "name": "stderr",
          "text": [
            "Action: emotion:  75%|███████▌  | 3/4 [00:01<00:00,  2.67it/s]"
          ]
        },
        {
          "output_type": "stream",
          "name": "stdout",
          "text": [
            "1/1 [==============================] - 0s 28ms/step\n"
          ]
        },
        {
          "output_type": "stream",
          "name": "stderr",
          "text": [
            "Action: emotion: 100%|██████████| 4/4 [00:02<00:00,  1.62it/s]\n"
          ]
        },
        {
          "output_type": "stream",
          "name": "stdout",
          "text": [
            "  SUCCESSS\n",
            "Mag Cover #68 found: 1981Aug.png\n"
          ]
        },
        {
          "output_type": "stream",
          "name": "stderr",
          "text": [
            "Action: age:   0%|          | 0/4 [00:00<?, ?it/s]    "
          ]
        },
        {
          "output_type": "stream",
          "name": "stdout",
          "text": [
            "1/1 [==============================] - 0s 21ms/step\n"
          ]
        },
        {
          "output_type": "stream",
          "name": "stderr",
          "text": [
            "Action: gender:  25%|██▌       | 1/4 [00:01<00:03,  1.32s/it]"
          ]
        },
        {
          "output_type": "stream",
          "name": "stdout",
          "text": [
            "1/1 [==============================] - 0s 19ms/step\n"
          ]
        },
        {
          "output_type": "stream",
          "name": "stderr",
          "text": [
            "Action: race:  50%|█████     | 2/4 [00:01<00:01,  1.61it/s]  "
          ]
        },
        {
          "output_type": "stream",
          "name": "stdout",
          "text": [
            "1/1 [==============================] - 0s 21ms/step\n"
          ]
        },
        {
          "output_type": "stream",
          "name": "stderr",
          "text": [
            "Action: emotion:  75%|███████▌  | 3/4 [00:01<00:00,  2.34it/s]"
          ]
        },
        {
          "output_type": "stream",
          "name": "stdout",
          "text": [
            "1/1 [==============================] - 0s 20ms/step\n"
          ]
        },
        {
          "output_type": "stream",
          "name": "stderr",
          "text": [
            "Action: emotion: 100%|██████████| 4/4 [00:02<00:00,  1.40it/s]\n"
          ]
        },
        {
          "output_type": "stream",
          "name": "stdout",
          "text": [
            "  SUCCESSS\n",
            "Mag Cover #69 found: 1981Feb.png\n"
          ]
        },
        {
          "output_type": "stream",
          "name": "stderr",
          "text": [
            "Action: age:   0%|          | 0/4 [00:00<?, ?it/s]    "
          ]
        },
        {
          "output_type": "stream",
          "name": "stdout",
          "text": [
            "1/1 [==============================] - 0s 24ms/step\n"
          ]
        },
        {
          "output_type": "stream",
          "name": "stderr",
          "text": [
            "Action: gender:  25%|██▌       | 1/4 [00:01<00:04,  1.60s/it]"
          ]
        },
        {
          "output_type": "stream",
          "name": "stdout",
          "text": [
            "1/1 [==============================] - 0s 19ms/step\n"
          ]
        },
        {
          "output_type": "stream",
          "name": "stderr",
          "text": [
            "Action: race:  50%|█████     | 2/4 [00:01<00:01,  1.36it/s]  "
          ]
        },
        {
          "output_type": "stream",
          "name": "stdout",
          "text": [
            "1/1 [==============================] - 0s 21ms/step\n"
          ]
        },
        {
          "output_type": "stream",
          "name": "stderr",
          "text": [
            "Action: emotion:  75%|███████▌  | 3/4 [00:01<00:00,  2.18it/s]"
          ]
        },
        {
          "output_type": "stream",
          "name": "stdout",
          "text": [
            "1/1 [==============================] - 0s 17ms/step\n"
          ]
        },
        {
          "output_type": "stream",
          "name": "stderr",
          "text": [
            "Action: emotion: 100%|██████████| 4/4 [00:03<00:00,  1.20it/s]\n"
          ]
        },
        {
          "output_type": "stream",
          "name": "stdout",
          "text": [
            "  SUCCESSS\n",
            "Mag Cover #70 found: 1981Oct.png\n"
          ]
        },
        {
          "output_type": "stream",
          "name": "stderr",
          "text": [
            "Action: age:   0%|          | 0/4 [00:00<?, ?it/s]    "
          ]
        },
        {
          "output_type": "stream",
          "name": "stdout",
          "text": [
            "1/1 [==============================] - 0s 23ms/step\n"
          ]
        },
        {
          "output_type": "stream",
          "name": "stderr",
          "text": [
            "Action: gender:  25%|██▌       | 1/4 [00:01<00:03,  1.28s/it]"
          ]
        },
        {
          "output_type": "stream",
          "name": "stdout",
          "text": [
            "1/1 [==============================] - 0s 20ms/step\n"
          ]
        },
        {
          "output_type": "stream",
          "name": "stderr",
          "text": [
            "Action: race:  50%|█████     | 2/4 [00:01<00:01,  1.56it/s]  "
          ]
        },
        {
          "output_type": "stream",
          "name": "stdout",
          "text": [
            "1/1 [==============================] - 0s 20ms/step\n"
          ]
        },
        {
          "output_type": "stream",
          "name": "stderr",
          "text": [
            "Action: emotion:  75%|███████▌  | 3/4 [00:01<00:00,  2.27it/s]"
          ]
        },
        {
          "output_type": "stream",
          "name": "stdout",
          "text": [
            "1/1 [==============================] - 0s 17ms/step\n"
          ]
        },
        {
          "output_type": "stream",
          "name": "stderr",
          "text": [
            "Action: emotion: 100%|██████████| 4/4 [00:02<00:00,  1.42it/s]\n"
          ]
        },
        {
          "output_type": "stream",
          "name": "stdout",
          "text": [
            "  SUCCESSS\n",
            "Mag Cover #71 found: 1981May.png\n"
          ]
        },
        {
          "output_type": "stream",
          "name": "stderr",
          "text": [
            "Action: age:   0%|          | 0/4 [00:00<?, ?it/s]    "
          ]
        },
        {
          "output_type": "stream",
          "name": "stdout",
          "text": [
            "1/1 [==============================] - 0s 21ms/step\n"
          ]
        },
        {
          "output_type": "stream",
          "name": "stderr",
          "text": [
            "Action: gender:  25%|██▌       | 1/4 [00:01<00:04,  1.51s/it]"
          ]
        },
        {
          "output_type": "stream",
          "name": "stdout",
          "text": [
            "1/1 [==============================] - 0s 21ms/step\n"
          ]
        },
        {
          "output_type": "stream",
          "name": "stderr",
          "text": [
            "Action: race:  50%|█████     | 2/4 [00:01<00:01,  1.44it/s]  "
          ]
        },
        {
          "output_type": "stream",
          "name": "stdout",
          "text": [
            "1/1 [==============================] - 0s 19ms/step\n"
          ]
        },
        {
          "output_type": "stream",
          "name": "stderr",
          "text": [
            "Action: emotion:  75%|███████▌  | 3/4 [00:01<00:00,  2.13it/s]"
          ]
        },
        {
          "output_type": "stream",
          "name": "stdout",
          "text": [
            "1/1 [==============================] - 0s 19ms/step\n"
          ]
        },
        {
          "output_type": "stream",
          "name": "stderr",
          "text": [
            "Action: emotion: 100%|██████████| 4/4 [00:03<00:00,  1.23it/s]\n"
          ]
        },
        {
          "output_type": "stream",
          "name": "stdout",
          "text": [
            "  SUCCESSS\n",
            "Mag Cover #72 found: 1981Jun.png\n"
          ]
        },
        {
          "output_type": "stream",
          "name": "stderr",
          "text": [
            "Action: age:   0%|          | 0/4 [00:00<?, ?it/s]    "
          ]
        },
        {
          "output_type": "stream",
          "name": "stdout",
          "text": [
            "1/1 [==============================] - 0s 21ms/step\n"
          ]
        },
        {
          "output_type": "stream",
          "name": "stderr",
          "text": [
            "Action: gender:  25%|██▌       | 1/4 [00:01<00:03,  1.33s/it]"
          ]
        },
        {
          "output_type": "stream",
          "name": "stdout",
          "text": [
            "1/1 [==============================] - 0s 19ms/step\n"
          ]
        },
        {
          "output_type": "stream",
          "name": "stderr",
          "text": [
            "Action: race:  50%|█████     | 2/4 [00:01<00:01,  1.51it/s]  "
          ]
        },
        {
          "output_type": "stream",
          "name": "stdout",
          "text": [
            "1/1 [==============================] - 0s 18ms/step\n"
          ]
        },
        {
          "output_type": "stream",
          "name": "stderr",
          "text": [
            "Action: emotion:  75%|███████▌  | 3/4 [00:01<00:00,  2.39it/s]"
          ]
        },
        {
          "output_type": "stream",
          "name": "stdout",
          "text": [
            "1/1 [==============================] - 0s 17ms/step\n"
          ]
        },
        {
          "output_type": "stream",
          "name": "stderr",
          "text": [
            "Action: emotion: 100%|██████████| 4/4 [00:02<00:00,  1.40it/s]\n"
          ]
        },
        {
          "output_type": "stream",
          "name": "stdout",
          "text": [
            "  SUCCESSS\n",
            "Mag Cover #73 found: 1986Nov.png\n"
          ]
        },
        {
          "output_type": "stream",
          "name": "stderr",
          "text": [
            "Action: age:   0%|          | 0/4 [00:00<?, ?it/s]    "
          ]
        },
        {
          "output_type": "stream",
          "name": "stdout",
          "text": [
            "1/1 [==============================] - 0s 20ms/step\n"
          ]
        },
        {
          "output_type": "stream",
          "name": "stderr",
          "text": [
            "Action: gender:  25%|██▌       | 1/4 [00:01<00:03,  1.26s/it]"
          ]
        },
        {
          "output_type": "stream",
          "name": "stdout",
          "text": [
            "1/1 [==============================] - 0s 22ms/step\n"
          ]
        },
        {
          "output_type": "stream",
          "name": "stderr",
          "text": [
            "Action: race:  50%|█████     | 2/4 [00:01<00:01,  1.69it/s]  "
          ]
        },
        {
          "output_type": "stream",
          "name": "stdout",
          "text": [
            "1/1 [==============================] - 0s 18ms/step\n"
          ]
        },
        {
          "output_type": "stream",
          "name": "stderr",
          "text": [
            "Action: emotion:  75%|███████▌  | 3/4 [00:01<00:00,  2.43it/s]"
          ]
        },
        {
          "output_type": "stream",
          "name": "stdout",
          "text": [
            "1/1 [==============================] - 0s 17ms/step\n"
          ]
        },
        {
          "output_type": "stream",
          "name": "stderr",
          "text": [
            "Action: emotion: 100%|██████████| 4/4 [00:02<00:00,  1.48it/s]\n"
          ]
        },
        {
          "output_type": "stream",
          "name": "stdout",
          "text": [
            "  SUCCESSS\n",
            "Mag Cover #74 found: 1986Feb.png\n"
          ]
        },
        {
          "output_type": "stream",
          "name": "stderr",
          "text": [
            "Action: age:   0%|          | 0/4 [00:00<?, ?it/s]\n"
          ]
        },
        {
          "output_type": "stream",
          "name": "stdout",
          "text": [
            "  ERROR: Face could not be detected. Please confirm that the picture is a face photo or consider to set enforce_detection param to False.\n",
            "Mag Cover #75 found: 1986Dec.png\n"
          ]
        },
        {
          "output_type": "stream",
          "name": "stderr",
          "text": [
            "Action: age:   0%|          | 0/4 [00:00<?, ?it/s]    "
          ]
        },
        {
          "output_type": "stream",
          "name": "stdout",
          "text": [
            "1/1 [==============================] - 0s 28ms/step\n"
          ]
        },
        {
          "output_type": "stream",
          "name": "stderr",
          "text": [
            "Action: gender:  25%|██▌       | 1/4 [00:01<00:03,  1.17s/it]"
          ]
        },
        {
          "output_type": "stream",
          "name": "stdout",
          "text": [
            "1/1 [==============================] - 0s 18ms/step\n"
          ]
        },
        {
          "output_type": "stream",
          "name": "stderr",
          "text": [
            "Action: race:  50%|█████     | 2/4 [00:01<00:01,  1.79it/s]  "
          ]
        },
        {
          "output_type": "stream",
          "name": "stdout",
          "text": [
            "1/1 [==============================] - 0s 18ms/step\n"
          ]
        },
        {
          "output_type": "stream",
          "name": "stderr",
          "text": [
            "Action: emotion:  75%|███████▌  | 3/4 [00:01<00:00,  2.54it/s]"
          ]
        },
        {
          "output_type": "stream",
          "name": "stdout",
          "text": [
            "1/1 [==============================] - 0s 17ms/step\n"
          ]
        },
        {
          "output_type": "stream",
          "name": "stderr",
          "text": [
            "Action: emotion: 100%|██████████| 4/4 [00:02<00:00,  1.57it/s]\n"
          ]
        },
        {
          "output_type": "stream",
          "name": "stdout",
          "text": [
            "  SUCCESSS\n",
            "Mag Cover #76 found: 1986Mar.png\n"
          ]
        },
        {
          "output_type": "stream",
          "name": "stderr",
          "text": [
            "Action: age:   0%|          | 0/4 [00:00<?, ?it/s]    "
          ]
        },
        {
          "output_type": "stream",
          "name": "stdout",
          "text": [
            "1/1 [==============================] - 0s 19ms/step\n"
          ]
        },
        {
          "output_type": "stream",
          "name": "stderr",
          "text": [
            "Action: gender:  25%|██▌       | 1/4 [00:00<00:02,  1.03it/s]"
          ]
        },
        {
          "output_type": "stream",
          "name": "stdout",
          "text": [
            "1/1 [==============================] - 0s 24ms/step\n"
          ]
        },
        {
          "output_type": "stream",
          "name": "stderr",
          "text": [
            "Action: race:  50%|█████     | 2/4 [00:01<00:01,  1.94it/s]  "
          ]
        },
        {
          "output_type": "stream",
          "name": "stdout",
          "text": [
            "1/1 [==============================] - 0s 18ms/step\n"
          ]
        },
        {
          "output_type": "stream",
          "name": "stderr",
          "text": [
            "Action: emotion:  75%|███████▌  | 3/4 [00:01<00:00,  2.98it/s]"
          ]
        },
        {
          "output_type": "stream",
          "name": "stdout",
          "text": [
            "1/1 [==============================] - 0s 16ms/step\n"
          ]
        },
        {
          "output_type": "stream",
          "name": "stderr",
          "text": [
            "Action: emotion: 100%|██████████| 4/4 [00:02<00:00,  1.81it/s]\n"
          ]
        },
        {
          "output_type": "stream",
          "name": "stdout",
          "text": [
            "  SUCCESSS\n",
            "Mag Cover #77 found: 1986Apr.png\n"
          ]
        },
        {
          "output_type": "stream",
          "name": "stderr",
          "text": [
            "Action: age:   0%|          | 0/4 [00:00<?, ?it/s]    "
          ]
        },
        {
          "output_type": "stream",
          "name": "stdout",
          "text": [
            "1/1 [==============================] - 0s 19ms/step\n"
          ]
        },
        {
          "output_type": "stream",
          "name": "stderr",
          "text": [
            "Action: gender:  25%|██▌       | 1/4 [00:01<00:03,  1.09s/it]"
          ]
        },
        {
          "output_type": "stream",
          "name": "stdout",
          "text": [
            "1/1 [==============================] - 0s 20ms/step\n"
          ]
        },
        {
          "output_type": "stream",
          "name": "stderr",
          "text": [
            "Action: race:  50%|█████     | 2/4 [00:01<00:01,  1.77it/s]  "
          ]
        },
        {
          "output_type": "stream",
          "name": "stdout",
          "text": [
            "1/1 [==============================] - 0s 19ms/step\n"
          ]
        },
        {
          "output_type": "stream",
          "name": "stderr",
          "text": [
            "Action: emotion:  75%|███████▌  | 3/4 [00:01<00:00,  2.52it/s]"
          ]
        },
        {
          "output_type": "stream",
          "name": "stdout",
          "text": [
            "1/1 [==============================] - 0s 18ms/step\n"
          ]
        },
        {
          "output_type": "stream",
          "name": "stderr",
          "text": [
            "Action: emotion: 100%|██████████| 4/4 [00:02<00:00,  1.60it/s]\n"
          ]
        },
        {
          "output_type": "stream",
          "name": "stdout",
          "text": [
            "  SUCCESSS\n",
            "Mag Cover #78 found: 1986Jun.png\n"
          ]
        },
        {
          "output_type": "stream",
          "name": "stderr",
          "text": [
            "Action: age:   0%|          | 0/4 [00:00<?, ?it/s]\n"
          ]
        },
        {
          "output_type": "stream",
          "name": "stdout",
          "text": [
            "  ERROR: Face could not be detected. Please confirm that the picture is a face photo or consider to set enforce_detection param to False.\n",
            "Mag Cover #79 found: 1986May.png\n"
          ]
        },
        {
          "output_type": "stream",
          "name": "stderr",
          "text": [
            "Action: age:   0%|          | 0/4 [00:01<?, ?it/s]\n"
          ]
        },
        {
          "output_type": "stream",
          "name": "stdout",
          "text": [
            "  ERROR: Face could not be detected. Please confirm that the picture is a face photo or consider to set enforce_detection param to False.\n",
            "Mag Cover #80 found: 1986Jul.png\n"
          ]
        },
        {
          "output_type": "stream",
          "name": "stderr",
          "text": [
            "Action: age:   0%|          | 0/4 [00:00<?, ?it/s]    "
          ]
        },
        {
          "output_type": "stream",
          "name": "stdout",
          "text": [
            "1/1 [==============================] - 0s 19ms/step\n"
          ]
        },
        {
          "output_type": "stream",
          "name": "stderr",
          "text": [
            "Action: gender:  25%|██▌       | 1/4 [00:01<00:03,  1.22s/it]"
          ]
        },
        {
          "output_type": "stream",
          "name": "stdout",
          "text": [
            "1/1 [==============================] - 0s 20ms/step\n"
          ]
        },
        {
          "output_type": "stream",
          "name": "stderr",
          "text": [
            "Action: race:  50%|█████     | 2/4 [00:01<00:01,  1.74it/s]  "
          ]
        },
        {
          "output_type": "stream",
          "name": "stdout",
          "text": [
            "1/1 [==============================] - 0s 18ms/step\n"
          ]
        },
        {
          "output_type": "stream",
          "name": "stderr",
          "text": [
            "Action: emotion:  75%|███████▌  | 3/4 [00:01<00:00,  2.49it/s]"
          ]
        },
        {
          "output_type": "stream",
          "name": "stdout",
          "text": [
            "1/1 [==============================] - 0s 17ms/step\n"
          ]
        },
        {
          "output_type": "stream",
          "name": "stderr",
          "text": [
            "Action: emotion: 100%|██████████| 4/4 [00:02<00:00,  1.51it/s]\n"
          ]
        },
        {
          "output_type": "stream",
          "name": "stdout",
          "text": [
            "  SUCCESSS\n",
            "Mag Cover #81 found: 1986Aug.png\n"
          ]
        },
        {
          "output_type": "stream",
          "name": "stderr",
          "text": [
            "Action: age:   0%|          | 0/4 [00:00<?, ?it/s]    "
          ]
        },
        {
          "output_type": "stream",
          "name": "stdout",
          "text": [
            "1/1 [==============================] - 0s 18ms/step\n"
          ]
        },
        {
          "output_type": "stream",
          "name": "stderr",
          "text": [
            "Action: gender:  25%|██▌       | 1/4 [00:01<00:04,  1.47s/it]"
          ]
        },
        {
          "output_type": "stream",
          "name": "stdout",
          "text": [
            "1/1 [==============================] - 0s 19ms/step\n"
          ]
        },
        {
          "output_type": "stream",
          "name": "stderr",
          "text": [
            "Action: race:  50%|█████     | 2/4 [00:01<00:01,  1.47it/s]  "
          ]
        },
        {
          "output_type": "stream",
          "name": "stdout",
          "text": [
            "1/1 [==============================] - 0s 21ms/step\n"
          ]
        },
        {
          "output_type": "stream",
          "name": "stderr",
          "text": [
            "Action: emotion:  75%|███████▌  | 3/4 [00:01<00:00,  2.15it/s]"
          ]
        },
        {
          "output_type": "stream",
          "name": "stdout",
          "text": [
            "1/1 [==============================] - 0s 18ms/step\n"
          ]
        },
        {
          "output_type": "stream",
          "name": "stderr",
          "text": [
            "Action: emotion: 100%|██████████| 4/4 [00:03<00:00,  1.27it/s]\n"
          ]
        },
        {
          "output_type": "stream",
          "name": "stdout",
          "text": [
            "  SUCCESSS\n",
            "Mag Cover #82 found: 1986Oct.png\n"
          ]
        },
        {
          "output_type": "stream",
          "name": "stderr",
          "text": [
            "Action: age:   0%|          | 0/4 [00:01<?, ?it/s]\n"
          ]
        },
        {
          "output_type": "stream",
          "name": "stdout",
          "text": [
            "  ERROR: Face could not be detected. Please confirm that the picture is a face photo or consider to set enforce_detection param to False.\n",
            "Mag Cover #83 found: 1986Sep.png\n"
          ]
        },
        {
          "output_type": "stream",
          "name": "stderr",
          "text": [
            "Action: age:   0%|          | 0/4 [00:01<?, ?it/s]\n"
          ]
        },
        {
          "output_type": "stream",
          "name": "stdout",
          "text": [
            "  ERROR: Face could not be detected. Please confirm that the picture is a face photo or consider to set enforce_detection param to False.\n",
            "Mag Cover #84 found: 1986Jan.png\n"
          ]
        },
        {
          "output_type": "stream",
          "name": "stderr",
          "text": [
            "Action: age:   0%|          | 0/4 [00:00<?, ?it/s]\n"
          ]
        },
        {
          "output_type": "stream",
          "name": "stdout",
          "text": [
            "  ERROR: Face could not be detected. Please confirm that the picture is a face photo or consider to set enforce_detection param to False.\n",
            "Mag Cover #85 found: 1980Mar.png\n"
          ]
        },
        {
          "output_type": "stream",
          "name": "stderr",
          "text": [
            "Action: age:   0%|          | 0/4 [00:00<?, ?it/s]    "
          ]
        },
        {
          "output_type": "stream",
          "name": "stdout",
          "text": [
            "1/1 [==============================] - 0s 23ms/step\n"
          ]
        },
        {
          "output_type": "stream",
          "name": "stderr",
          "text": [
            "Action: gender:  25%|██▌       | 1/4 [00:00<00:02,  1.02it/s]"
          ]
        },
        {
          "output_type": "stream",
          "name": "stdout",
          "text": [
            "1/1 [==============================] - 0s 19ms/step\n"
          ]
        },
        {
          "output_type": "stream",
          "name": "stderr",
          "text": [
            "Action: race:  50%|█████     | 2/4 [00:01<00:00,  2.08it/s]  "
          ]
        },
        {
          "output_type": "stream",
          "name": "stdout",
          "text": [
            "1/1 [==============================] - 0s 22ms/step\n"
          ]
        },
        {
          "output_type": "stream",
          "name": "stderr",
          "text": [
            "Action: emotion:  75%|███████▌  | 3/4 [00:01<00:00,  3.12it/s]"
          ]
        },
        {
          "output_type": "stream",
          "name": "stdout",
          "text": [
            "1/1 [==============================] - 0s 18ms/step\n"
          ]
        },
        {
          "output_type": "stream",
          "name": "stderr",
          "text": [
            "Action: emotion: 100%|██████████| 4/4 [00:02<00:00,  1.83it/s]\n"
          ]
        },
        {
          "output_type": "stream",
          "name": "stdout",
          "text": [
            "  SUCCESSS\n",
            "Mag Cover #86 found: 1980Nov.png\n"
          ]
        },
        {
          "output_type": "stream",
          "name": "stderr",
          "text": [
            "Action: age:   0%|          | 0/4 [00:00<?, ?it/s]    "
          ]
        },
        {
          "output_type": "stream",
          "name": "stdout",
          "text": [
            "1/1 [==============================] - 0s 21ms/step\n"
          ]
        },
        {
          "output_type": "stream",
          "name": "stderr",
          "text": [
            "Action: gender:  25%|██▌       | 1/4 [00:01<00:03,  1.13s/it]"
          ]
        },
        {
          "output_type": "stream",
          "name": "stdout",
          "text": [
            "1/1 [==============================] - 0s 21ms/step\n"
          ]
        },
        {
          "output_type": "stream",
          "name": "stderr",
          "text": [
            "Action: race:  50%|█████     | 2/4 [00:01<00:01,  1.86it/s]  "
          ]
        },
        {
          "output_type": "stream",
          "name": "stdout",
          "text": [
            "1/1 [==============================] - 0s 20ms/step\n"
          ]
        },
        {
          "output_type": "stream",
          "name": "stderr",
          "text": [
            "Action: emotion:  75%|███████▌  | 3/4 [00:01<00:00,  2.84it/s]"
          ]
        },
        {
          "output_type": "stream",
          "name": "stdout",
          "text": [
            "1/1 [==============================] - 0s 19ms/step\n"
          ]
        },
        {
          "output_type": "stream",
          "name": "stderr",
          "text": [
            "Action: emotion: 100%|██████████| 4/4 [00:02<00:00,  1.69it/s]\n"
          ]
        },
        {
          "output_type": "stream",
          "name": "stdout",
          "text": [
            "  SUCCESSS\n",
            "Mag Cover #87 found: 1980Jul.png\n"
          ]
        },
        {
          "output_type": "stream",
          "name": "stderr",
          "text": [
            "Action: age:   0%|          | 0/4 [00:00<?, ?it/s]    "
          ]
        },
        {
          "output_type": "stream",
          "name": "stdout",
          "text": [
            "1/1 [==============================] - 0s 20ms/step\n"
          ]
        },
        {
          "output_type": "stream",
          "name": "stderr",
          "text": [
            "Action: gender:  25%|██▌       | 1/4 [00:01<00:03,  1.10s/it]"
          ]
        },
        {
          "output_type": "stream",
          "name": "stdout",
          "text": [
            "1/1 [==============================] - 0s 19ms/step\n"
          ]
        },
        {
          "output_type": "stream",
          "name": "stderr",
          "text": [
            "Action: race:  50%|█████     | 2/4 [00:01<00:01,  1.76it/s]  "
          ]
        },
        {
          "output_type": "stream",
          "name": "stdout",
          "text": [
            "1/1 [==============================] - 0s 19ms/step\n"
          ]
        },
        {
          "output_type": "stream",
          "name": "stderr",
          "text": [
            "Action: emotion:  75%|███████▌  | 3/4 [00:01<00:00,  2.49it/s]"
          ]
        },
        {
          "output_type": "stream",
          "name": "stdout",
          "text": [
            "1/1 [==============================] - 0s 17ms/step\n"
          ]
        },
        {
          "output_type": "stream",
          "name": "stderr",
          "text": [
            "Action: emotion: 100%|██████████| 4/4 [00:02<00:00,  1.57it/s]\n"
          ]
        },
        {
          "output_type": "stream",
          "name": "stdout",
          "text": [
            "  SUCCESSS\n",
            "Mag Cover #88 found: 1980Dec.png\n"
          ]
        },
        {
          "output_type": "stream",
          "name": "stderr",
          "text": [
            "Action: age:   0%|          | 0/4 [00:00<?, ?it/s]    "
          ]
        },
        {
          "output_type": "stream",
          "name": "stdout",
          "text": [
            "1/1 [==============================] - 0s 19ms/step\n"
          ]
        },
        {
          "output_type": "stream",
          "name": "stderr",
          "text": [
            "Action: gender:  25%|██▌       | 1/4 [00:01<00:03,  1.07s/it]"
          ]
        },
        {
          "output_type": "stream",
          "name": "stdout",
          "text": [
            "1/1 [==============================] - 0s 27ms/step\n"
          ]
        },
        {
          "output_type": "stream",
          "name": "stderr",
          "text": [
            "Action: race:  50%|█████     | 2/4 [00:01<00:01,  1.78it/s]  "
          ]
        },
        {
          "output_type": "stream",
          "name": "stdout",
          "text": [
            "1/1 [==============================] - 0s 18ms/step\n"
          ]
        },
        {
          "output_type": "stream",
          "name": "stderr",
          "text": [
            "Action: emotion:  75%|███████▌  | 3/4 [00:01<00:00,  2.53it/s]"
          ]
        },
        {
          "output_type": "stream",
          "name": "stdout",
          "text": [
            "1/1 [==============================] - 0s 16ms/step\n"
          ]
        },
        {
          "output_type": "stream",
          "name": "stderr",
          "text": [
            "Action: emotion: 100%|██████████| 4/4 [00:02<00:00,  1.60it/s]\n"
          ]
        },
        {
          "output_type": "stream",
          "name": "stdout",
          "text": [
            "  SUCCESSS\n",
            "Mag Cover #89 found: 1980Feb.png\n"
          ]
        },
        {
          "output_type": "stream",
          "name": "stderr",
          "text": [
            "Action: age:   0%|          | 0/4 [00:00<?, ?it/s]\n"
          ]
        },
        {
          "output_type": "stream",
          "name": "stdout",
          "text": [
            "  ERROR: Face could not be detected. Please confirm that the picture is a face photo or consider to set enforce_detection param to False.\n",
            "Mag Cover #90 found: 1980Jan.png\n"
          ]
        },
        {
          "output_type": "stream",
          "name": "stderr",
          "text": [
            "Action: age:   0%|          | 0/4 [00:00<?, ?it/s]    "
          ]
        },
        {
          "output_type": "stream",
          "name": "stdout",
          "text": [
            "1/1 [==============================] - 0s 18ms/step\n"
          ]
        },
        {
          "output_type": "stream",
          "name": "stderr",
          "text": [
            "Action: gender:  25%|██▌       | 1/4 [00:01<00:03,  1.33s/it]"
          ]
        },
        {
          "output_type": "stream",
          "name": "stdout",
          "text": [
            "1/1 [==============================] - 0s 20ms/step\n"
          ]
        },
        {
          "output_type": "stream",
          "name": "stderr",
          "text": [
            "Action: race:  50%|█████     | 2/4 [00:01<00:01,  1.51it/s]  "
          ]
        },
        {
          "output_type": "stream",
          "name": "stdout",
          "text": [
            "1/1 [==============================] - 0s 21ms/step\n"
          ]
        },
        {
          "output_type": "stream",
          "name": "stderr",
          "text": [
            "Action: emotion:  75%|███████▌  | 3/4 [00:01<00:00,  2.35it/s]"
          ]
        },
        {
          "output_type": "stream",
          "name": "stdout",
          "text": [
            "1/1 [==============================] - 0s 18ms/step\n"
          ]
        },
        {
          "output_type": "stream",
          "name": "stderr",
          "text": [
            "Action: emotion: 100%|██████████| 4/4 [00:02<00:00,  1.36it/s]\n"
          ]
        },
        {
          "output_type": "stream",
          "name": "stdout",
          "text": [
            "  SUCCESSS\n",
            "Mag Cover #91 found: 1980Aug.png\n"
          ]
        },
        {
          "output_type": "stream",
          "name": "stderr",
          "text": [
            "Action: age:   0%|          | 0/4 [00:00<?, ?it/s]\n"
          ]
        },
        {
          "output_type": "stream",
          "name": "stdout",
          "text": [
            "  ERROR: Face could not be detected. Please confirm that the picture is a face photo or consider to set enforce_detection param to False.\n",
            "Mag Cover #92 found: 1980Oct.png\n"
          ]
        },
        {
          "output_type": "stream",
          "name": "stderr",
          "text": [
            "Action: age:   0%|          | 0/4 [00:00<?, ?it/s]    "
          ]
        },
        {
          "output_type": "stream",
          "name": "stdout",
          "text": [
            "1/1 [==============================] - 0s 21ms/step\n"
          ]
        },
        {
          "output_type": "stream",
          "name": "stderr",
          "text": [
            "Action: gender:  25%|██▌       | 1/4 [00:00<00:02,  1.01it/s]"
          ]
        },
        {
          "output_type": "stream",
          "name": "stdout",
          "text": [
            "1/1 [==============================] - 0s 20ms/step\n"
          ]
        },
        {
          "output_type": "stream",
          "name": "stderr",
          "text": [
            "Action: race:  50%|█████     | 2/4 [00:01<00:00,  2.06it/s]  "
          ]
        },
        {
          "output_type": "stream",
          "name": "stdout",
          "text": [
            "1/1 [==============================] - 0s 21ms/step\n"
          ]
        },
        {
          "output_type": "stream",
          "name": "stderr",
          "text": [
            "Action: emotion:  75%|███████▌  | 3/4 [00:01<00:00,  2.81it/s]"
          ]
        },
        {
          "output_type": "stream",
          "name": "stdout",
          "text": [
            "1/1 [==============================] - 0s 18ms/step\n"
          ]
        },
        {
          "output_type": "stream",
          "name": "stderr",
          "text": [
            "Action: emotion: 100%|██████████| 4/4 [00:02<00:00,  1.80it/s]\n"
          ]
        },
        {
          "output_type": "stream",
          "name": "stdout",
          "text": [
            "  SUCCESSS\n",
            "Mag Cover #93 found: 1980May.png\n"
          ]
        },
        {
          "output_type": "stream",
          "name": "stderr",
          "text": [
            "Action: age:   0%|          | 0/4 [00:00<?, ?it/s]    "
          ]
        },
        {
          "output_type": "stream",
          "name": "stdout",
          "text": [
            "1/1 [==============================] - 0s 19ms/step\n"
          ]
        },
        {
          "output_type": "stream",
          "name": "stderr",
          "text": [
            "Action: gender:  25%|██▌       | 1/4 [00:01<00:03,  1.05s/it]"
          ]
        },
        {
          "output_type": "stream",
          "name": "stdout",
          "text": [
            "1/1 [==============================] - 0s 19ms/step\n"
          ]
        },
        {
          "output_type": "stream",
          "name": "stderr",
          "text": [
            "Action: race:  50%|█████     | 2/4 [00:01<00:01,  1.82it/s]  "
          ]
        },
        {
          "output_type": "stream",
          "name": "stdout",
          "text": [
            "1/1 [==============================] - 0s 26ms/step\n"
          ]
        },
        {
          "output_type": "stream",
          "name": "stderr",
          "text": [
            "Action: emotion:  75%|███████▌  | 3/4 [00:01<00:00,  2.56it/s]"
          ]
        },
        {
          "output_type": "stream",
          "name": "stdout",
          "text": [
            "1/1 [==============================] - 0s 18ms/step\n"
          ]
        },
        {
          "output_type": "stream",
          "name": "stderr",
          "text": [
            "Action: emotion: 100%|██████████| 4/4 [00:02<00:00,  1.68it/s]\n"
          ]
        },
        {
          "output_type": "stream",
          "name": "stdout",
          "text": [
            "  SUCCESSS\n",
            "Mag Cover #94 found: 1980Apr.png\n"
          ]
        },
        {
          "output_type": "stream",
          "name": "stderr",
          "text": [
            "Action: age:   0%|          | 0/4 [00:00<?, ?it/s]\n"
          ]
        },
        {
          "output_type": "stream",
          "name": "stdout",
          "text": [
            "  ERROR: Face could not be detected. Please confirm that the picture is a face photo or consider to set enforce_detection param to False.\n",
            "Mag Cover #95 found: 1980Jun.png\n"
          ]
        },
        {
          "output_type": "stream",
          "name": "stderr",
          "text": [
            "Action: age:   0%|          | 0/4 [00:00<?, ?it/s]    "
          ]
        },
        {
          "output_type": "stream",
          "name": "stdout",
          "text": [
            "1/1 [==============================] - 0s 22ms/step\n"
          ]
        },
        {
          "output_type": "stream",
          "name": "stderr",
          "text": [
            "Action: gender:  25%|██▌       | 1/4 [00:01<00:03,  1.25s/it]"
          ]
        },
        {
          "output_type": "stream",
          "name": "stdout",
          "text": [
            "1/1 [==============================] - 0s 22ms/step\n"
          ]
        },
        {
          "output_type": "stream",
          "name": "stderr",
          "text": [
            "Action: race:  50%|█████     | 2/4 [00:01<00:01,  1.58it/s]  "
          ]
        },
        {
          "output_type": "stream",
          "name": "stdout",
          "text": [
            "1/1 [==============================] - 0s 21ms/step\n"
          ]
        },
        {
          "output_type": "stream",
          "name": "stderr",
          "text": [
            "Action: emotion:  75%|███████▌  | 3/4 [00:01<00:00,  2.27it/s]"
          ]
        },
        {
          "output_type": "stream",
          "name": "stdout",
          "text": [
            "1/1 [==============================] - 0s 19ms/step\n"
          ]
        },
        {
          "output_type": "stream",
          "name": "stderr",
          "text": [
            "Action: emotion: 100%|██████████| 4/4 [00:02<00:00,  1.39it/s]\n"
          ]
        },
        {
          "output_type": "stream",
          "name": "stdout",
          "text": [
            "  SUCCESSS\n",
            "Mag Cover #96 found: 1980Sep.png\n"
          ]
        },
        {
          "output_type": "stream",
          "name": "stderr",
          "text": [
            "Action: age:   0%|          | 0/4 [00:01<?, ?it/s]\n"
          ]
        },
        {
          "output_type": "stream",
          "name": "stdout",
          "text": [
            "  ERROR: Face could not be detected. Please confirm that the picture is a face photo or consider to set enforce_detection param to False.\n",
            "Mag Cover #97 found: 1982Oct.png\n"
          ]
        },
        {
          "output_type": "stream",
          "name": "stderr",
          "text": [
            "Action: age:   0%|          | 0/4 [00:00<?, ?it/s]    "
          ]
        },
        {
          "output_type": "stream",
          "name": "stdout",
          "text": [
            "1/1 [==============================] - 0s 21ms/step\n"
          ]
        },
        {
          "output_type": "stream",
          "name": "stderr",
          "text": [
            "Action: gender:  25%|██▌       | 1/4 [00:01<00:03,  1.28s/it]"
          ]
        },
        {
          "output_type": "stream",
          "name": "stdout",
          "text": [
            "1/1 [==============================] - 0s 19ms/step\n"
          ]
        },
        {
          "output_type": "stream",
          "name": "stderr",
          "text": [
            "Action: race:  50%|█████     | 2/4 [00:01<00:01,  1.67it/s]  "
          ]
        },
        {
          "output_type": "stream",
          "name": "stdout",
          "text": [
            "1/1 [==============================] - 0s 27ms/step\n"
          ]
        },
        {
          "output_type": "stream",
          "name": "stderr",
          "text": [
            "Action: emotion:  75%|███████▌  | 3/4 [00:01<00:00,  2.38it/s]"
          ]
        },
        {
          "output_type": "stream",
          "name": "stdout",
          "text": [
            "1/1 [==============================] - 0s 19ms/step\n"
          ]
        },
        {
          "output_type": "stream",
          "name": "stderr",
          "text": [
            "Action: emotion: 100%|██████████| 4/4 [00:02<00:00,  1.44it/s]\n"
          ]
        },
        {
          "output_type": "stream",
          "name": "stdout",
          "text": [
            "  SUCCESSS\n",
            "Mag Cover #98 found: 1982Jan.png\n"
          ]
        },
        {
          "output_type": "stream",
          "name": "stderr",
          "text": [
            "Action: age:   0%|          | 0/4 [00:00<?, ?it/s]\n"
          ]
        },
        {
          "output_type": "stream",
          "name": "stdout",
          "text": [
            "  ERROR: Face could not be detected. Please confirm that the picture is a face photo or consider to set enforce_detection param to False.\n",
            "Mag Cover #99 found: 1982Mar.png\n"
          ]
        },
        {
          "output_type": "stream",
          "name": "stderr",
          "text": [
            "Action: age:   0%|          | 0/4 [00:00<?, ?it/s]    "
          ]
        },
        {
          "output_type": "stream",
          "name": "stdout",
          "text": [
            "1/1 [==============================] - 0s 20ms/step\n"
          ]
        },
        {
          "output_type": "stream",
          "name": "stderr",
          "text": [
            "Action: gender:  25%|██▌       | 1/4 [00:01<00:03,  1.25s/it]"
          ]
        },
        {
          "output_type": "stream",
          "name": "stdout",
          "text": [
            "1/1 [==============================] - 0s 19ms/step\n"
          ]
        },
        {
          "output_type": "stream",
          "name": "stderr",
          "text": [
            "Action: race:  50%|█████     | 2/4 [00:01<00:01,  1.58it/s]  "
          ]
        },
        {
          "output_type": "stream",
          "name": "stdout",
          "text": [
            "1/1 [==============================] - 0s 17ms/step\n"
          ]
        },
        {
          "output_type": "stream",
          "name": "stderr",
          "text": [
            "Action: emotion:  75%|███████▌  | 3/4 [00:01<00:00,  2.50it/s]"
          ]
        },
        {
          "output_type": "stream",
          "name": "stdout",
          "text": [
            "1/1 [==============================] - 0s 17ms/step\n"
          ]
        },
        {
          "output_type": "stream",
          "name": "stderr",
          "text": [
            "Action: emotion: 100%|██████████| 4/4 [00:02<00:00,  1.44it/s]\n"
          ]
        },
        {
          "output_type": "stream",
          "name": "stdout",
          "text": [
            "  SUCCESSS\n",
            "Mag Cover #100 found: 1982Jul.png\n"
          ]
        },
        {
          "output_type": "stream",
          "name": "stderr",
          "text": [
            "Action: age:   0%|          | 0/4 [00:00<?, ?it/s]    "
          ]
        },
        {
          "output_type": "stream",
          "name": "stdout",
          "text": [
            "1/1 [==============================] - 0s 19ms/step\n"
          ]
        },
        {
          "output_type": "stream",
          "name": "stderr",
          "text": [
            "Action: gender:  25%|██▌       | 1/4 [00:01<00:03,  1.14s/it]"
          ]
        },
        {
          "output_type": "stream",
          "name": "stdout",
          "text": [
            "1/1 [==============================] - 0s 19ms/step\n"
          ]
        },
        {
          "output_type": "stream",
          "name": "stderr",
          "text": [
            "Action: race:  50%|█████     | 2/4 [00:01<00:01,  1.70it/s]  "
          ]
        },
        {
          "output_type": "stream",
          "name": "stdout",
          "text": [
            "1/1 [==============================] - 0s 20ms/step\n"
          ]
        },
        {
          "output_type": "stream",
          "name": "stderr",
          "text": [
            "Action: emotion:  75%|███████▌  | 3/4 [00:01<00:00,  2.42it/s]"
          ]
        },
        {
          "output_type": "stream",
          "name": "stdout",
          "text": [
            "1/1 [==============================] - 0s 19ms/step\n"
          ]
        },
        {
          "output_type": "stream",
          "name": "stderr",
          "text": [
            "Action: emotion: 100%|██████████| 4/4 [00:02<00:00,  1.56it/s]\n"
          ]
        },
        {
          "output_type": "stream",
          "name": "stdout",
          "text": [
            "  SUCCESSS\n",
            "Mag Cover #101 found: 1982Nov.png\n"
          ]
        },
        {
          "output_type": "stream",
          "name": "stderr",
          "text": [
            "Action: age:   0%|          | 0/4 [00:00<?, ?it/s]\n"
          ]
        },
        {
          "output_type": "stream",
          "name": "stdout",
          "text": [
            "  ERROR: Face could not be detected. Please confirm that the picture is a face photo or consider to set enforce_detection param to False.\n",
            "Mag Cover #102 found: 1982Apr.png\n"
          ]
        },
        {
          "output_type": "stream",
          "name": "stderr",
          "text": [
            "Action: age:   0%|          | 0/4 [00:00<?, ?it/s]    "
          ]
        },
        {
          "output_type": "stream",
          "name": "stdout",
          "text": [
            "1/1 [==============================] - 0s 18ms/step\n"
          ]
        },
        {
          "output_type": "stream",
          "name": "stderr",
          "text": [
            "Action: gender:  25%|██▌       | 1/4 [00:01<00:04,  1.45s/it]"
          ]
        },
        {
          "output_type": "stream",
          "name": "stdout",
          "text": [
            "1/1 [==============================] - 0s 19ms/step\n"
          ]
        },
        {
          "output_type": "stream",
          "name": "stderr",
          "text": [
            "Action: race:  50%|█████     | 2/4 [00:01<00:01,  1.41it/s]  "
          ]
        },
        {
          "output_type": "stream",
          "name": "stdout",
          "text": [
            "1/1 [==============================] - 0s 19ms/step\n"
          ]
        },
        {
          "output_type": "stream",
          "name": "stderr",
          "text": [
            "Action: emotion:  75%|███████▌  | 3/4 [00:01<00:00,  2.10it/s]"
          ]
        },
        {
          "output_type": "stream",
          "name": "stdout",
          "text": [
            "1/1 [==============================] - 0s 18ms/step\n"
          ]
        },
        {
          "output_type": "stream",
          "name": "stderr",
          "text": [
            "Action: emotion: 100%|██████████| 4/4 [00:03<00:00,  1.22it/s]\n"
          ]
        },
        {
          "output_type": "stream",
          "name": "stdout",
          "text": [
            "  SUCCESSS\n",
            "Mag Cover #103 found: 1982Dec.png\n"
          ]
        },
        {
          "output_type": "stream",
          "name": "stderr",
          "text": [
            "Action: age:   0%|          | 0/4 [00:00<?, ?it/s]    "
          ]
        },
        {
          "output_type": "stream",
          "name": "stdout",
          "text": [
            "1/1 [==============================] - 0s 23ms/step\n"
          ]
        },
        {
          "output_type": "stream",
          "name": "stderr",
          "text": [
            "Action: gender:  25%|██▌       | 1/4 [00:01<00:03,  1.05s/it]"
          ]
        },
        {
          "output_type": "stream",
          "name": "stdout",
          "text": [
            "1/1 [==============================] - 0s 24ms/step\n"
          ]
        },
        {
          "output_type": "stream",
          "name": "stderr",
          "text": [
            "Action: race:  50%|█████     | 2/4 [00:01<00:01,  1.94it/s]  "
          ]
        },
        {
          "output_type": "stream",
          "name": "stdout",
          "text": [
            "1/1 [==============================] - 0s 29ms/step\n"
          ]
        },
        {
          "output_type": "stream",
          "name": "stderr",
          "text": [
            "Action: emotion:  75%|███████▌  | 3/4 [00:01<00:00,  2.94it/s]"
          ]
        },
        {
          "output_type": "stream",
          "name": "stdout",
          "text": [
            "1/1 [==============================] - 0s 17ms/step\n"
          ]
        },
        {
          "output_type": "stream",
          "name": "stderr",
          "text": [
            "Action: emotion: 100%|██████████| 4/4 [00:02<00:00,  1.72it/s]\n"
          ]
        },
        {
          "output_type": "stream",
          "name": "stdout",
          "text": [
            "  SUCCESSS\n",
            "Mag Cover #104 found: 1982Feb.png\n"
          ]
        },
        {
          "output_type": "stream",
          "name": "stderr",
          "text": [
            "Action: age:   0%|          | 0/4 [00:00<?, ?it/s]\n"
          ]
        },
        {
          "output_type": "stream",
          "name": "stdout",
          "text": [
            "  ERROR: Face could not be detected. Please confirm that the picture is a face photo or consider to set enforce_detection param to False.\n",
            "Mag Cover #105 found: 1982Aug.png\n"
          ]
        },
        {
          "output_type": "stream",
          "name": "stderr",
          "text": [
            "Action: age:   0%|          | 0/4 [00:00<?, ?it/s]\n"
          ]
        },
        {
          "output_type": "stream",
          "name": "stdout",
          "text": [
            "  ERROR: Face could not be detected. Please confirm that the picture is a face photo or consider to set enforce_detection param to False.\n",
            "Mag Cover #106 found: 1982Sep.png\n"
          ]
        },
        {
          "output_type": "stream",
          "name": "stderr",
          "text": [
            "Action: age:   0%|          | 0/4 [00:00<?, ?it/s]\n"
          ]
        },
        {
          "output_type": "stream",
          "name": "stdout",
          "text": [
            "  ERROR: Face could not be detected. Please confirm that the picture is a face photo or consider to set enforce_detection param to False.\n",
            "Mag Cover #107 found: 1982May.png\n"
          ]
        },
        {
          "output_type": "stream",
          "name": "stderr",
          "text": [
            "Action: age:   0%|          | 0/4 [00:01<?, ?it/s]\n"
          ]
        },
        {
          "output_type": "stream",
          "name": "stdout",
          "text": [
            "  ERROR: Face could not be detected. Please confirm that the picture is a face photo or consider to set enforce_detection param to False.\n",
            "Mag Cover #108 found: 1982Jun.png\n"
          ]
        },
        {
          "output_type": "stream",
          "name": "stderr",
          "text": [
            "Action: age:   0%|          | 0/4 [00:00<?, ?it/s]\n"
          ]
        },
        {
          "output_type": "stream",
          "name": "stdout",
          "text": [
            "  ERROR: Face could not be detected. Please confirm that the picture is a face photo or consider to set enforce_detection param to False.\n",
            "Mag Cover #109 found: 1985Sep.png\n"
          ]
        },
        {
          "output_type": "stream",
          "name": "stderr",
          "text": [
            "Action: age:   0%|          | 0/4 [00:00<?, ?it/s]\n"
          ]
        },
        {
          "output_type": "stream",
          "name": "stdout",
          "text": [
            "  ERROR: Face could not be detected. Please confirm that the picture is a face photo or consider to set enforce_detection param to False.\n",
            "Mag Cover #110 found: 1985Aug.png\n"
          ]
        },
        {
          "output_type": "stream",
          "name": "stderr",
          "text": [
            "Action: age:   0%|          | 0/4 [00:00<?, ?it/s]\n"
          ]
        },
        {
          "output_type": "stream",
          "name": "stdout",
          "text": [
            "  ERROR: Face could not be detected. Please confirm that the picture is a face photo or consider to set enforce_detection param to False.\n",
            "Mag Cover #111 found: 1985May.png\n"
          ]
        },
        {
          "output_type": "stream",
          "name": "stderr",
          "text": [
            "Action: age:   0%|          | 0/4 [00:00<?, ?it/s]    "
          ]
        },
        {
          "output_type": "stream",
          "name": "stdout",
          "text": [
            "1/1 [==============================] - 0s 19ms/step\n"
          ]
        },
        {
          "output_type": "stream",
          "name": "stderr",
          "text": [
            "Action: gender:  25%|██▌       | 1/4 [00:01<00:04,  1.42s/it]"
          ]
        },
        {
          "output_type": "stream",
          "name": "stdout",
          "text": [
            "1/1 [==============================] - 0s 19ms/step\n"
          ]
        },
        {
          "output_type": "stream",
          "name": "stderr",
          "text": [
            "Action: race:  50%|█████     | 2/4 [00:01<00:01,  1.52it/s]  "
          ]
        },
        {
          "output_type": "stream",
          "name": "stdout",
          "text": [
            "1/1 [==============================] - 0s 19ms/step\n"
          ]
        },
        {
          "output_type": "stream",
          "name": "stderr",
          "text": [
            "Action: emotion:  75%|███████▌  | 3/4 [00:01<00:00,  2.38it/s]"
          ]
        },
        {
          "output_type": "stream",
          "name": "stdout",
          "text": [
            "1/1 [==============================] - 0s 17ms/step\n"
          ]
        },
        {
          "output_type": "stream",
          "name": "stderr",
          "text": [
            "Action: emotion: 100%|██████████| 4/4 [00:02<00:00,  1.35it/s]\n"
          ]
        },
        {
          "output_type": "stream",
          "name": "stdout",
          "text": [
            "  SUCCESSS\n",
            "Mag Cover #112 found: 1985Oct.png\n"
          ]
        },
        {
          "output_type": "stream",
          "name": "stderr",
          "text": [
            "Action: age:   0%|          | 0/4 [00:00<?, ?it/s]\n"
          ]
        },
        {
          "output_type": "stream",
          "name": "stdout",
          "text": [
            "  ERROR: Face could not be detected. Please confirm that the picture is a face photo or consider to set enforce_detection param to False.\n",
            "Mag Cover #113 found: 1985Nov.png\n"
          ]
        },
        {
          "output_type": "stream",
          "name": "stderr",
          "text": [
            "Action: age:   0%|          | 0/4 [00:00<?, ?it/s]    "
          ]
        },
        {
          "output_type": "stream",
          "name": "stdout",
          "text": [
            "1/1 [==============================] - 0s 18ms/step\n"
          ]
        },
        {
          "output_type": "stream",
          "name": "stderr",
          "text": [
            "Action: gender:  25%|██▌       | 1/4 [00:01<00:03,  1.10s/it]"
          ]
        },
        {
          "output_type": "stream",
          "name": "stdout",
          "text": [
            "1/1 [==============================] - 0s 18ms/step\n"
          ]
        },
        {
          "output_type": "stream",
          "name": "stderr",
          "text": [
            "Action: race:  50%|█████     | 2/4 [00:01<00:01,  1.76it/s]  "
          ]
        },
        {
          "output_type": "stream",
          "name": "stdout",
          "text": [
            "1/1 [==============================] - 0s 18ms/step\n"
          ]
        },
        {
          "output_type": "stream",
          "name": "stderr",
          "text": [
            "Action: emotion:  75%|███████▌  | 3/4 [00:01<00:00,  2.47it/s]"
          ]
        },
        {
          "output_type": "stream",
          "name": "stdout",
          "text": [
            "1/1 [==============================] - 0s 17ms/step\n"
          ]
        },
        {
          "output_type": "stream",
          "name": "stderr",
          "text": [
            "Action: emotion: 100%|██████████| 4/4 [00:02<00:00,  1.61it/s]\n"
          ]
        },
        {
          "output_type": "stream",
          "name": "stdout",
          "text": [
            "  SUCCESSS\n",
            "Mag Cover #114 found: 1985Feb.png\n"
          ]
        },
        {
          "output_type": "stream",
          "name": "stderr",
          "text": [
            "Action: age:   0%|          | 0/4 [00:00<?, ?it/s]    "
          ]
        },
        {
          "output_type": "stream",
          "name": "stdout",
          "text": [
            "1/1 [==============================] - 0s 21ms/step\n"
          ]
        },
        {
          "output_type": "stream",
          "name": "stderr",
          "text": [
            "Action: gender:  25%|██▌       | 1/4 [00:01<00:04,  1.42s/it]"
          ]
        },
        {
          "output_type": "stream",
          "name": "stdout",
          "text": [
            "1/1 [==============================] - 0s 26ms/step\n"
          ]
        },
        {
          "output_type": "stream",
          "name": "stderr",
          "text": [
            "Action: race:  50%|█████     | 2/4 [00:01<00:01,  1.42it/s]  "
          ]
        },
        {
          "output_type": "stream",
          "name": "stdout",
          "text": [
            "1/1 [==============================] - 0s 19ms/step\n"
          ]
        },
        {
          "output_type": "stream",
          "name": "stderr",
          "text": [
            "Action: emotion:  75%|███████▌  | 3/4 [00:01<00:00,  2.12it/s]"
          ]
        },
        {
          "output_type": "stream",
          "name": "stdout",
          "text": [
            "1/1 [==============================] - 0s 18ms/step\n"
          ]
        },
        {
          "output_type": "stream",
          "name": "stderr",
          "text": [
            "Action: emotion: 100%|██████████| 4/4 [00:02<00:00,  1.36it/s]\n"
          ]
        },
        {
          "output_type": "stream",
          "name": "stdout",
          "text": [
            "  SUCCESSS\n",
            "Mag Cover #115 found: 1985Jan.png\n"
          ]
        },
        {
          "output_type": "stream",
          "name": "stderr",
          "text": [
            "Action: age:   0%|          | 0/4 [00:01<?, ?it/s]\n"
          ]
        },
        {
          "output_type": "stream",
          "name": "stdout",
          "text": [
            "  ERROR: Face could not be detected. Please confirm that the picture is a face photo or consider to set enforce_detection param to False.\n",
            "Mag Cover #116 found: 1985Mar.png\n"
          ]
        },
        {
          "output_type": "stream",
          "name": "stderr",
          "text": [
            "Action: age:   0%|          | 0/4 [00:01<?, ?it/s]\n"
          ]
        },
        {
          "output_type": "stream",
          "name": "stdout",
          "text": [
            "  ERROR: Face could not be detected. Please confirm that the picture is a face photo or consider to set enforce_detection param to False.\n",
            "Mag Cover #117 found: 1985Apr.png\n"
          ]
        },
        {
          "output_type": "stream",
          "name": "stderr",
          "text": [
            "Action: age:   0%|          | 0/4 [00:00<?, ?it/s]    "
          ]
        },
        {
          "output_type": "stream",
          "name": "stdout",
          "text": [
            "1/1 [==============================] - 0s 19ms/step\n"
          ]
        },
        {
          "output_type": "stream",
          "name": "stderr",
          "text": [
            "Action: gender:  25%|██▌       | 1/4 [00:01<00:03,  1.31s/it]"
          ]
        },
        {
          "output_type": "stream",
          "name": "stdout",
          "text": [
            "1/1 [==============================] - 0s 19ms/step\n"
          ]
        },
        {
          "output_type": "stream",
          "name": "stderr",
          "text": [
            "Action: race:  50%|█████     | 2/4 [00:01<00:01,  1.52it/s]  "
          ]
        },
        {
          "output_type": "stream",
          "name": "stdout",
          "text": [
            "1/1 [==============================] - 0s 19ms/step\n"
          ]
        },
        {
          "output_type": "stream",
          "name": "stderr",
          "text": [
            "Action: emotion:  75%|███████▌  | 3/4 [00:01<00:00,  2.22it/s]"
          ]
        },
        {
          "output_type": "stream",
          "name": "stdout",
          "text": [
            "1/1 [==============================] - 0s 17ms/step\n"
          ]
        },
        {
          "output_type": "stream",
          "name": "stderr",
          "text": [
            "Action: emotion: 100%|██████████| 4/4 [00:03<00:00,  1.25it/s]\n"
          ]
        },
        {
          "output_type": "stream",
          "name": "stdout",
          "text": [
            "  SUCCESSS\n",
            "Mag Cover #118 found: 1985Dec.png\n"
          ]
        },
        {
          "output_type": "stream",
          "name": "stderr",
          "text": [
            "Action: age:   0%|          | 0/4 [00:00<?, ?it/s]    "
          ]
        },
        {
          "output_type": "stream",
          "name": "stdout",
          "text": [
            "1/1 [==============================] - 0s 21ms/step\n"
          ]
        },
        {
          "output_type": "stream",
          "name": "stderr",
          "text": [
            "Action: gender:  25%|██▌       | 1/4 [00:01<00:05,  1.75s/it]"
          ]
        },
        {
          "output_type": "stream",
          "name": "stdout",
          "text": [
            "1/1 [==============================] - 0s 19ms/step\n"
          ]
        },
        {
          "output_type": "stream",
          "name": "stderr",
          "text": [
            "Action: race:  50%|█████     | 2/4 [00:01<00:01,  1.19it/s]  "
          ]
        },
        {
          "output_type": "stream",
          "name": "stdout",
          "text": [
            "1/1 [==============================] - 0s 19ms/step\n"
          ]
        },
        {
          "output_type": "stream",
          "name": "stderr",
          "text": [
            "Action: emotion:  75%|███████▌  | 3/4 [00:02<00:00,  1.82it/s]"
          ]
        },
        {
          "output_type": "stream",
          "name": "stdout",
          "text": [
            "1/1 [==============================] - 0s 21ms/step\n"
          ]
        },
        {
          "output_type": "stream",
          "name": "stderr",
          "text": [
            "Action: emotion: 100%|██████████| 4/4 [00:03<00:00,  1.02it/s]\n"
          ]
        },
        {
          "output_type": "stream",
          "name": "stdout",
          "text": [
            "  SUCCESSS\n",
            "Mag Cover #119 found: 1985Jul.png\n"
          ]
        },
        {
          "output_type": "stream",
          "name": "stderr",
          "text": [
            "Action: age:   0%|          | 0/4 [00:00<?, ?it/s]    "
          ]
        },
        {
          "output_type": "stream",
          "name": "stdout",
          "text": [
            "1/1 [==============================] - 0s 35ms/step\n"
          ]
        },
        {
          "output_type": "stream",
          "name": "stderr",
          "text": [
            "Action: gender:  25%|██▌       | 1/4 [00:01<00:03,  1.31s/it]"
          ]
        },
        {
          "output_type": "stream",
          "name": "stdout",
          "text": [
            "1/1 [==============================] - 0s 25ms/step\n"
          ]
        },
        {
          "output_type": "stream",
          "name": "stderr",
          "text": [
            "Action: race:  50%|█████     | 2/4 [00:01<00:01,  1.48it/s]  "
          ]
        },
        {
          "output_type": "stream",
          "name": "stdout",
          "text": [
            "1/1 [==============================] - 0s 21ms/step\n"
          ]
        },
        {
          "output_type": "stream",
          "name": "stderr",
          "text": [
            "Action: emotion:  75%|███████▌  | 3/4 [00:01<00:00,  2.14it/s]"
          ]
        },
        {
          "output_type": "stream",
          "name": "stdout",
          "text": [
            "1/1 [==============================] - 0s 17ms/step\n"
          ]
        },
        {
          "output_type": "stream",
          "name": "stderr",
          "text": [
            "Action: emotion: 100%|██████████| 4/4 [00:03<00:00,  1.11it/s]\n"
          ]
        },
        {
          "output_type": "stream",
          "name": "stdout",
          "text": [
            "  SUCCESSS\n",
            "Mag Cover #120 found: 1985Jun.png\n"
          ]
        },
        {
          "output_type": "stream",
          "name": "stderr",
          "text": [
            "Action: age:   0%|          | 0/4 [00:01<?, ?it/s]\n"
          ]
        },
        {
          "output_type": "stream",
          "name": "stdout",
          "text": [
            "  ERROR: Face could not be detected. Please confirm that the picture is a face photo or consider to set enforce_detection param to False.\n",
            "DONE: Processed 73\n",
            "\n",
            "\n",
            "Processing #1: playboycovers_1970s\n",
            "\n",
            "Mag Cover #1 found: 1971Oct.png\n"
          ]
        },
        {
          "output_type": "stream",
          "name": "stderr",
          "text": [
            "Action: age:   0%|          | 0/4 [00:00<?, ?it/s]    "
          ]
        },
        {
          "output_type": "stream",
          "name": "stdout",
          "text": [
            "1/1 [==============================] - 0s 19ms/step\n"
          ]
        },
        {
          "output_type": "stream",
          "name": "stderr",
          "text": [
            "Action: gender:  25%|██▌       | 1/4 [00:00<00:02,  1.38it/s]"
          ]
        },
        {
          "output_type": "stream",
          "name": "stdout",
          "text": [
            "1/1 [==============================] - 0s 38ms/step\n"
          ]
        },
        {
          "output_type": "stream",
          "name": "stderr",
          "text": [
            "Action: race:  50%|█████     | 2/4 [00:00<00:00,  2.28it/s]  "
          ]
        },
        {
          "output_type": "stream",
          "name": "stdout",
          "text": [
            "1/1 [==============================] - 0s 32ms/step\n"
          ]
        },
        {
          "output_type": "stream",
          "name": "stderr",
          "text": [
            "Action: emotion:  75%|███████▌  | 3/4 [00:01<00:00,  2.95it/s]"
          ]
        },
        {
          "output_type": "stream",
          "name": "stdout",
          "text": [
            "1/1 [==============================] - 0s 20ms/step\n"
          ]
        },
        {
          "output_type": "stream",
          "name": "stderr",
          "text": [
            "Action: emotion: 100%|██████████| 4/4 [00:01<00:00,  2.25it/s]\n"
          ]
        },
        {
          "output_type": "stream",
          "name": "stdout",
          "text": [
            "  SUCCESSS\n",
            "Mag Cover #2 found: 1971Apr.png\n"
          ]
        },
        {
          "output_type": "stream",
          "name": "stderr",
          "text": [
            "Action: age:   0%|          | 0/4 [00:00<?, ?it/s]    "
          ]
        },
        {
          "output_type": "stream",
          "name": "stdout",
          "text": [
            "1/1 [==============================] - 0s 21ms/step\n"
          ]
        },
        {
          "output_type": "stream",
          "name": "stderr",
          "text": [
            "Action: gender:  25%|██▌       | 1/4 [00:01<00:03,  1.24s/it]"
          ]
        },
        {
          "output_type": "stream",
          "name": "stdout",
          "text": [
            "1/1 [==============================] - 0s 19ms/step\n"
          ]
        },
        {
          "output_type": "stream",
          "name": "stderr",
          "text": [
            "Action: race:  50%|█████     | 2/4 [00:01<00:01,  1.59it/s]  "
          ]
        },
        {
          "output_type": "stream",
          "name": "stdout",
          "text": [
            "1/1 [==============================] - 0s 24ms/step\n"
          ]
        },
        {
          "output_type": "stream",
          "name": "stderr",
          "text": [
            "Action: emotion:  75%|███████▌  | 3/4 [00:01<00:00,  2.30it/s]"
          ]
        },
        {
          "output_type": "stream",
          "name": "stdout",
          "text": [
            "1/1 [==============================] - 0s 18ms/step\n"
          ]
        },
        {
          "output_type": "stream",
          "name": "stderr",
          "text": [
            "Action: emotion: 100%|██████████| 4/4 [00:02<00:00,  1.44it/s]\n"
          ]
        },
        {
          "output_type": "stream",
          "name": "stdout",
          "text": [
            "  SUCCESSS\n",
            "Mag Cover #3 found: 1971.png\n"
          ]
        },
        {
          "output_type": "stream",
          "name": "stderr",
          "text": [
            "Action: age:   0%|          | 0/4 [00:00<?, ?it/s]\n"
          ]
        },
        {
          "output_type": "stream",
          "name": "stdout",
          "text": [
            "  ERROR: Face could not be detected. Please confirm that the picture is a face photo or consider to set enforce_detection param to False.\n",
            "Mag Cover #4 found: 1971Jan.png\n"
          ]
        },
        {
          "output_type": "stream",
          "name": "stderr",
          "text": [
            "Action: age:   0%|          | 0/4 [00:00<?, ?it/s]    "
          ]
        },
        {
          "output_type": "stream",
          "name": "stdout",
          "text": [
            "1/1 [==============================] - 0s 20ms/step\n"
          ]
        },
        {
          "output_type": "stream",
          "name": "stderr",
          "text": [
            "Action: gender:  25%|██▌       | 1/4 [00:01<00:04,  1.63s/it]"
          ]
        },
        {
          "output_type": "stream",
          "name": "stdout",
          "text": [
            "1/1 [==============================] - 0s 24ms/step\n"
          ]
        },
        {
          "output_type": "stream",
          "name": "stderr",
          "text": [
            "Action: race:  50%|█████     | 2/4 [00:01<00:01,  1.33it/s]  "
          ]
        },
        {
          "output_type": "stream",
          "name": "stdout",
          "text": [
            "1/1 [==============================] - 0s 40ms/step\n"
          ]
        },
        {
          "output_type": "stream",
          "name": "stderr",
          "text": [
            "Action: emotion:  75%|███████▌  | 3/4 [00:01<00:00,  1.98it/s]"
          ]
        },
        {
          "output_type": "stream",
          "name": "stdout",
          "text": [
            "1/1 [==============================] - 0s 24ms/step\n"
          ]
        },
        {
          "output_type": "stream",
          "name": "stderr",
          "text": [
            "Action: emotion: 100%|██████████| 4/4 [00:03<00:00,  1.11it/s]\n"
          ]
        },
        {
          "output_type": "stream",
          "name": "stdout",
          "text": [
            "  SUCCESSS\n",
            "Mag Cover #5 found: 1971May.png\n"
          ]
        },
        {
          "output_type": "stream",
          "name": "stderr",
          "text": [
            "Action: age:   0%|          | 0/4 [00:00<?, ?it/s]    "
          ]
        },
        {
          "output_type": "stream",
          "name": "stdout",
          "text": [
            "1/1 [==============================] - 0s 18ms/step\n"
          ]
        },
        {
          "output_type": "stream",
          "name": "stderr",
          "text": [
            "Action: gender:  25%|██▌       | 1/4 [00:01<00:03,  1.03s/it]"
          ]
        },
        {
          "output_type": "stream",
          "name": "stdout",
          "text": [
            "1/1 [==============================] - 0s 18ms/step\n"
          ]
        },
        {
          "output_type": "stream",
          "name": "stderr",
          "text": [
            "Action: race:  50%|█████     | 2/4 [00:01<00:01,  1.85it/s]  "
          ]
        },
        {
          "output_type": "stream",
          "name": "stdout",
          "text": [
            "1/1 [==============================] - 0s 19ms/step\n"
          ]
        },
        {
          "output_type": "stream",
          "name": "stderr",
          "text": [
            "Action: emotion:  75%|███████▌  | 3/4 [00:01<00:00,  2.81it/s]"
          ]
        },
        {
          "output_type": "stream",
          "name": "stdout",
          "text": [
            "1/1 [==============================] - 0s 19ms/step\n"
          ]
        },
        {
          "output_type": "stream",
          "name": "stderr",
          "text": [
            "Action: emotion: 100%|██████████| 4/4 [00:02<00:00,  1.76it/s]\n"
          ]
        },
        {
          "output_type": "stream",
          "name": "stdout",
          "text": [
            "  SUCCESSS\n",
            "Mag Cover #6 found: 1971Aug.png\n"
          ]
        },
        {
          "output_type": "stream",
          "name": "stderr",
          "text": [
            "Action: age:   0%|          | 0/4 [00:00<?, ?it/s]    "
          ]
        },
        {
          "output_type": "stream",
          "name": "stdout",
          "text": [
            "1/1 [==============================] - 0s 26ms/step\n"
          ]
        },
        {
          "output_type": "stream",
          "name": "stderr",
          "text": [
            "Action: gender:  25%|██▌       | 1/4 [00:01<00:03,  1.28s/it]"
          ]
        },
        {
          "output_type": "stream",
          "name": "stdout",
          "text": [
            "1/1 [==============================] - 0s 20ms/step\n"
          ]
        },
        {
          "output_type": "stream",
          "name": "stderr",
          "text": [
            "Action: race:  50%|█████     | 2/4 [00:01<00:01,  1.55it/s]  "
          ]
        },
        {
          "output_type": "stream",
          "name": "stdout",
          "text": [
            "1/1 [==============================] - 0s 23ms/step\n"
          ]
        },
        {
          "output_type": "stream",
          "name": "stderr",
          "text": [
            "Action: emotion:  75%|███████▌  | 3/4 [00:01<00:00,  2.25it/s]"
          ]
        },
        {
          "output_type": "stream",
          "name": "stdout",
          "text": [
            "1/1 [==============================] - 0s 37ms/step\n"
          ]
        },
        {
          "output_type": "stream",
          "name": "stderr",
          "text": [
            "Action: emotion: 100%|██████████| 4/4 [00:02<00:00,  1.43it/s]\n"
          ]
        },
        {
          "output_type": "stream",
          "name": "stdout",
          "text": [
            "  SUCCESSS\n",
            "Mag Cover #7 found: 1971Sep.png\n"
          ]
        },
        {
          "output_type": "stream",
          "name": "stderr",
          "text": [
            "Action: age:   0%|          | 0/4 [00:00<?, ?it/s]\n"
          ]
        },
        {
          "output_type": "stream",
          "name": "stdout",
          "text": [
            "  ERROR: Face could not be detected. Please confirm that the picture is a face photo or consider to set enforce_detection param to False.\n",
            "Mag Cover #8 found: 1971Dec.png\n"
          ]
        },
        {
          "output_type": "stream",
          "name": "stderr",
          "text": [
            "Action: age:   0%|          | 0/4 [00:00<?, ?it/s]\n"
          ]
        },
        {
          "output_type": "stream",
          "name": "stdout",
          "text": [
            "  ERROR: Face could not be detected. Please confirm that the picture is a face photo or consider to set enforce_detection param to False.\n",
            "Mag Cover #9 found: 1971Mar.png\n"
          ]
        },
        {
          "output_type": "stream",
          "name": "stderr",
          "text": [
            "Action: age:   0%|          | 0/4 [00:00<?, ?it/s]    "
          ]
        },
        {
          "output_type": "stream",
          "name": "stdout",
          "text": [
            "1/1 [==============================] - 0s 21ms/step\n"
          ]
        },
        {
          "output_type": "stream",
          "name": "stderr",
          "text": [
            "Action: gender:  25%|██▌       | 1/4 [00:01<00:03,  1.17s/it]"
          ]
        },
        {
          "output_type": "stream",
          "name": "stdout",
          "text": [
            "1/1 [==============================] - 0s 20ms/step\n"
          ]
        },
        {
          "output_type": "stream",
          "name": "stderr",
          "text": [
            "Action: race:  50%|█████     | 2/4 [00:01<00:01,  1.66it/s]  "
          ]
        },
        {
          "output_type": "stream",
          "name": "stdout",
          "text": [
            "1/1 [==============================] - 0s 24ms/step\n"
          ]
        },
        {
          "output_type": "stream",
          "name": "stderr",
          "text": [
            "Action: emotion:  75%|███████▌  | 3/4 [00:01<00:00,  2.37it/s]"
          ]
        },
        {
          "output_type": "stream",
          "name": "stdout",
          "text": [
            "1/1 [==============================] - 0s 21ms/step\n"
          ]
        },
        {
          "output_type": "stream",
          "name": "stderr",
          "text": [
            "Action: emotion: 100%|██████████| 4/4 [00:02<00:00,  1.50it/s]\n"
          ]
        },
        {
          "output_type": "stream",
          "name": "stdout",
          "text": [
            "  SUCCESSS\n",
            "Mag Cover #10 found: 1971Feb.png\n"
          ]
        },
        {
          "output_type": "stream",
          "name": "stderr",
          "text": [
            "Action: age:   0%|          | 0/4 [00:01<?, ?it/s]\n"
          ]
        },
        {
          "output_type": "stream",
          "name": "stdout",
          "text": [
            "  ERROR: Face could not be detected. Please confirm that the picture is a face photo or consider to set enforce_detection param to False.\n",
            "Mag Cover #11 found: 1971July.png\n"
          ]
        },
        {
          "output_type": "stream",
          "name": "stderr",
          "text": [
            "Action: age:   0%|          | 0/4 [00:00<?, ?it/s]    "
          ]
        },
        {
          "output_type": "stream",
          "name": "stdout",
          "text": [
            "1/1 [==============================] - 0s 20ms/step\n"
          ]
        },
        {
          "output_type": "stream",
          "name": "stderr",
          "text": [
            "Action: gender:  25%|██▌       | 1/4 [00:01<00:03,  1.21s/it]"
          ]
        },
        {
          "output_type": "stream",
          "name": "stdout",
          "text": [
            "1/1 [==============================] - 0s 57ms/step\n"
          ]
        },
        {
          "output_type": "stream",
          "name": "stderr",
          "text": [
            "Action: race:  50%|█████     | 2/4 [00:01<00:01,  1.62it/s]  "
          ]
        },
        {
          "output_type": "stream",
          "name": "stdout",
          "text": [
            "1/1 [==============================] - 0s 20ms/step\n"
          ]
        },
        {
          "output_type": "stream",
          "name": "stderr",
          "text": [
            "Action: emotion:  75%|███████▌  | 3/4 [00:01<00:00,  2.27it/s]"
          ]
        },
        {
          "output_type": "stream",
          "name": "stdout",
          "text": [
            "1/1 [==============================] - 0s 25ms/step\n"
          ]
        },
        {
          "output_type": "stream",
          "name": "stderr",
          "text": [
            "Action: emotion: 100%|██████████| 4/4 [00:02<00:00,  1.50it/s]\n"
          ]
        },
        {
          "output_type": "stream",
          "name": "stdout",
          "text": [
            "  SUCCESSS\n",
            "Mag Cover #12 found: 1971Nov.png\n"
          ]
        },
        {
          "output_type": "stream",
          "name": "stderr",
          "text": [
            "Action: age:   0%|          | 0/4 [00:00<?, ?it/s]    "
          ]
        },
        {
          "output_type": "stream",
          "name": "stdout",
          "text": [
            "1/1 [==============================] - 0s 25ms/step\n"
          ]
        },
        {
          "output_type": "stream",
          "name": "stderr",
          "text": [
            "Action: gender:  25%|██▌       | 1/4 [00:01<00:05,  1.72s/it]"
          ]
        },
        {
          "output_type": "stream",
          "name": "stdout",
          "text": [
            "1/1 [==============================] - 0s 19ms/step\n"
          ]
        },
        {
          "output_type": "stream",
          "name": "stderr",
          "text": [
            "Action: race:  50%|█████     | 2/4 [00:01<00:01,  1.21it/s]  "
          ]
        },
        {
          "output_type": "stream",
          "name": "stdout",
          "text": [
            "1/1 [==============================] - 0s 21ms/step\n"
          ]
        },
        {
          "output_type": "stream",
          "name": "stderr",
          "text": [
            "Action: emotion:  75%|███████▌  | 3/4 [00:02<00:00,  1.82it/s]"
          ]
        },
        {
          "output_type": "stream",
          "name": "stdout",
          "text": [
            "1/1 [==============================] - 0s 21ms/step\n"
          ]
        },
        {
          "output_type": "stream",
          "name": "stderr",
          "text": [
            "Action: emotion: 100%|██████████| 4/4 [00:03<00:00,  1.06it/s]\n"
          ]
        },
        {
          "output_type": "stream",
          "name": "stdout",
          "text": [
            "  SUCCESSS\n",
            "Mag Cover #13 found: 1977Jan.png\n"
          ]
        },
        {
          "output_type": "stream",
          "name": "stderr",
          "text": [
            "Action: age:   0%|          | 0/4 [00:00<?, ?it/s]    "
          ]
        },
        {
          "output_type": "stream",
          "name": "stdout",
          "text": [
            "1/1 [==============================] - 0s 19ms/step\n"
          ]
        },
        {
          "output_type": "stream",
          "name": "stderr",
          "text": [
            "Action: gender:  25%|██▌       | 1/4 [00:01<00:03,  1.26s/it]"
          ]
        },
        {
          "output_type": "stream",
          "name": "stdout",
          "text": [
            "1/1 [==============================] - 0s 20ms/step\n"
          ]
        },
        {
          "output_type": "stream",
          "name": "stderr",
          "text": [
            "Action: race:  50%|█████     | 2/4 [00:01<00:01,  1.55it/s]  "
          ]
        },
        {
          "output_type": "stream",
          "name": "stdout",
          "text": [
            "1/1 [==============================] - 0s 25ms/step\n"
          ]
        },
        {
          "output_type": "stream",
          "name": "stderr",
          "text": [
            "Action: emotion:  75%|███████▌  | 3/4 [00:01<00:00,  2.40it/s]"
          ]
        },
        {
          "output_type": "stream",
          "name": "stdout",
          "text": [
            "1/1 [==============================] - 0s 22ms/step\n"
          ]
        },
        {
          "output_type": "stream",
          "name": "stderr",
          "text": [
            "Action: emotion: 100%|██████████| 4/4 [00:02<00:00,  1.40it/s]\n"
          ]
        },
        {
          "output_type": "stream",
          "name": "stdout",
          "text": [
            "  SUCCESSS\n",
            "Mag Cover #14 found: 1977Aug.png\n"
          ]
        },
        {
          "output_type": "stream",
          "name": "stderr",
          "text": [
            "Action: age:   0%|          | 0/4 [00:01<?, ?it/s]\n"
          ]
        },
        {
          "output_type": "stream",
          "name": "stdout",
          "text": [
            "  ERROR: Face could not be detected. Please confirm that the picture is a face photo or consider to set enforce_detection param to False.\n",
            "Mag Cover #15 found: 1977Dec.png\n"
          ]
        },
        {
          "output_type": "stream",
          "name": "stderr",
          "text": [
            "Action: age:   0%|          | 0/4 [00:00<?, ?it/s]    "
          ]
        },
        {
          "output_type": "stream",
          "name": "stdout",
          "text": [
            "1/1 [==============================] - 0s 19ms/step\n"
          ]
        },
        {
          "output_type": "stream",
          "name": "stderr",
          "text": [
            "Action: gender:  25%|██▌       | 1/4 [00:01<00:04,  1.61s/it]"
          ]
        },
        {
          "output_type": "stream",
          "name": "stdout",
          "text": [
            "1/1 [==============================] - 0s 20ms/step\n"
          ]
        },
        {
          "output_type": "stream",
          "name": "stderr",
          "text": [
            "Action: race:  50%|█████     | 2/4 [00:01<00:01,  1.35it/s]  "
          ]
        },
        {
          "output_type": "stream",
          "name": "stdout",
          "text": [
            "1/1 [==============================] - 0s 19ms/step\n"
          ]
        },
        {
          "output_type": "stream",
          "name": "stderr",
          "text": [
            "Action: emotion:  75%|███████▌  | 3/4 [00:01<00:00,  2.02it/s]"
          ]
        },
        {
          "output_type": "stream",
          "name": "stdout",
          "text": [
            "1/1 [==============================] - 0s 17ms/step\n"
          ]
        },
        {
          "output_type": "stream",
          "name": "stderr",
          "text": [
            "Action: emotion: 100%|██████████| 4/4 [00:02<00:00,  1.33it/s]\n"
          ]
        },
        {
          "output_type": "stream",
          "name": "stdout",
          "text": [
            "  SUCCESSS\n",
            "Mag Cover #16 found: 1977Apr.png\n"
          ]
        },
        {
          "output_type": "stream",
          "name": "stderr",
          "text": [
            "Action: age:   0%|          | 0/4 [00:00<?, ?it/s]    "
          ]
        },
        {
          "output_type": "stream",
          "name": "stdout",
          "text": [
            "1/1 [==============================] - 0s 21ms/step\n"
          ]
        },
        {
          "output_type": "stream",
          "name": "stderr",
          "text": [
            "Action: gender:  25%|██▌       | 1/4 [00:01<00:03,  1.11s/it]"
          ]
        },
        {
          "output_type": "stream",
          "name": "stdout",
          "text": [
            "1/1 [==============================] - 0s 20ms/step\n"
          ]
        },
        {
          "output_type": "stream",
          "name": "stderr",
          "text": [
            "Action: race:  50%|█████     | 2/4 [00:01<00:01,  1.72it/s]  "
          ]
        },
        {
          "output_type": "stream",
          "name": "stdout",
          "text": [
            "1/1 [==============================] - 0s 24ms/step\n"
          ]
        },
        {
          "output_type": "stream",
          "name": "stderr",
          "text": [
            "Action: emotion:  75%|███████▌  | 3/4 [00:01<00:00,  2.44it/s]"
          ]
        },
        {
          "output_type": "stream",
          "name": "stdout",
          "text": [
            "1/1 [==============================] - 0s 18ms/step\n"
          ]
        },
        {
          "output_type": "stream",
          "name": "stderr",
          "text": [
            "Action: emotion: 100%|██████████| 4/4 [00:02<00:00,  1.55it/s]\n"
          ]
        },
        {
          "output_type": "stream",
          "name": "stdout",
          "text": [
            "  SUCCESSS\n",
            "Mag Cover #17 found: 1977Sep.png\n"
          ]
        },
        {
          "output_type": "stream",
          "name": "stderr",
          "text": [
            "Action: age:   0%|          | 0/4 [00:00<?, ?it/s]    "
          ]
        },
        {
          "output_type": "stream",
          "name": "stdout",
          "text": [
            "1/1 [==============================] - 0s 22ms/step\n"
          ]
        },
        {
          "output_type": "stream",
          "name": "stderr",
          "text": [
            "Action: gender:  25%|██▌       | 1/4 [00:01<00:04,  1.44s/it]"
          ]
        },
        {
          "output_type": "stream",
          "name": "stdout",
          "text": [
            "1/1 [==============================] - 0s 19ms/step\n"
          ]
        },
        {
          "output_type": "stream",
          "name": "stderr",
          "text": [
            "Action: race:  50%|█████     | 2/4 [00:01<00:01,  1.49it/s]  "
          ]
        },
        {
          "output_type": "stream",
          "name": "stdout",
          "text": [
            "1/1 [==============================] - 0s 19ms/step\n"
          ]
        },
        {
          "output_type": "stream",
          "name": "stderr",
          "text": [
            "Action: emotion:  75%|███████▌  | 3/4 [00:01<00:00,  2.35it/s]"
          ]
        },
        {
          "output_type": "stream",
          "name": "stdout",
          "text": [
            "1/1 [==============================] - 0s 20ms/step\n"
          ]
        },
        {
          "output_type": "stream",
          "name": "stderr",
          "text": [
            "Action: emotion: 100%|██████████| 4/4 [00:03<00:00,  1.32it/s]\n"
          ]
        },
        {
          "output_type": "stream",
          "name": "stdout",
          "text": [
            "  SUCCESSS\n",
            "Mag Cover #18 found: 1977Nov.png\n"
          ]
        },
        {
          "output_type": "stream",
          "name": "stderr",
          "text": [
            "Action: age:   0%|          | 0/4 [00:00<?, ?it/s]\n"
          ]
        },
        {
          "output_type": "stream",
          "name": "stdout",
          "text": [
            "  ERROR: Face could not be detected. Please confirm that the picture is a face photo or consider to set enforce_detection param to False.\n",
            "Mag Cover #19 found: 1977May.png\n"
          ]
        },
        {
          "output_type": "stream",
          "name": "stderr",
          "text": [
            "Action: age:   0%|          | 0/4 [00:00<?, ?it/s]    "
          ]
        },
        {
          "output_type": "stream",
          "name": "stdout",
          "text": [
            "1/1 [==============================] - 0s 19ms/step\n"
          ]
        },
        {
          "output_type": "stream",
          "name": "stderr",
          "text": [
            "Action: gender:  25%|██▌       | 1/4 [00:01<00:03,  1.05s/it]"
          ]
        },
        {
          "output_type": "stream",
          "name": "stdout",
          "text": [
            "1/1 [==============================] - 0s 19ms/step\n"
          ]
        },
        {
          "output_type": "stream",
          "name": "stderr",
          "text": [
            "Action: race:  50%|█████     | 2/4 [00:01<00:01,  1.97it/s]  "
          ]
        },
        {
          "output_type": "stream",
          "name": "stdout",
          "text": [
            "1/1 [==============================] - 0s 20ms/step\n"
          ]
        },
        {
          "output_type": "stream",
          "name": "stderr",
          "text": [
            "Action: emotion:  75%|███████▌  | 3/4 [00:01<00:00,  2.99it/s]"
          ]
        },
        {
          "output_type": "stream",
          "name": "stdout",
          "text": [
            "1/1 [==============================] - 0s 17ms/step\n"
          ]
        },
        {
          "output_type": "stream",
          "name": "stderr",
          "text": [
            "Action: emotion: 100%|██████████| 4/4 [00:02<00:00,  1.79it/s]\n"
          ]
        },
        {
          "output_type": "stream",
          "name": "stdout",
          "text": [
            "  SUCCESSS\n",
            "Mag Cover #20 found: 1977Jun.png\n"
          ]
        },
        {
          "output_type": "stream",
          "name": "stderr",
          "text": [
            "Action: age:   0%|          | 0/4 [00:00<?, ?it/s]    "
          ]
        },
        {
          "output_type": "stream",
          "name": "stdout",
          "text": [
            "1/1 [==============================] - 0s 20ms/step\n"
          ]
        },
        {
          "output_type": "stream",
          "name": "stderr",
          "text": [
            "Action: gender:  25%|██▌       | 1/4 [00:01<00:03,  1.18s/it]"
          ]
        },
        {
          "output_type": "stream",
          "name": "stdout",
          "text": [
            "1/1 [==============================] - 0s 24ms/step\n"
          ]
        },
        {
          "output_type": "stream",
          "name": "stderr",
          "text": [
            "Action: race:  50%|█████     | 2/4 [00:01<00:01,  1.64it/s]  "
          ]
        },
        {
          "output_type": "stream",
          "name": "stdout",
          "text": [
            "1/1 [==============================] - 0s 18ms/step\n"
          ]
        },
        {
          "output_type": "stream",
          "name": "stderr",
          "text": [
            "Action: emotion:  75%|███████▌  | 3/4 [00:01<00:00,  2.36it/s]"
          ]
        },
        {
          "output_type": "stream",
          "name": "stdout",
          "text": [
            "1/1 [==============================] - 0s 18ms/step\n"
          ]
        },
        {
          "output_type": "stream",
          "name": "stderr",
          "text": [
            "Action: emotion: 100%|██████████| 4/4 [00:02<00:00,  1.51it/s]\n"
          ]
        },
        {
          "output_type": "stream",
          "name": "stdout",
          "text": [
            "  SUCCESSS\n",
            "Mag Cover #21 found: 1977Jul.png\n"
          ]
        },
        {
          "output_type": "stream",
          "name": "stderr",
          "text": [
            "Action: age:   0%|          | 0/4 [00:00<?, ?it/s]\n"
          ]
        },
        {
          "output_type": "stream",
          "name": "stdout",
          "text": [
            "  ERROR: Face could not be detected. Please confirm that the picture is a face photo or consider to set enforce_detection param to False.\n",
            "Mag Cover #22 found: 1977Oct.png\n"
          ]
        },
        {
          "output_type": "stream",
          "name": "stderr",
          "text": [
            "Action: age:   0%|          | 0/4 [00:00<?, ?it/s]    "
          ]
        },
        {
          "output_type": "stream",
          "name": "stdout",
          "text": [
            "1/1 [==============================] - 0s 19ms/step\n"
          ]
        },
        {
          "output_type": "stream",
          "name": "stderr",
          "text": [
            "Action: gender:  25%|██▌       | 1/4 [00:00<00:02,  1.10it/s]"
          ]
        },
        {
          "output_type": "stream",
          "name": "stdout",
          "text": [
            "1/1 [==============================] - 0s 19ms/step\n"
          ]
        },
        {
          "output_type": "stream",
          "name": "stderr",
          "text": [
            "Action: race:  50%|█████     | 2/4 [00:01<00:00,  2.22it/s]  "
          ]
        },
        {
          "output_type": "stream",
          "name": "stdout",
          "text": [
            "1/1 [==============================] - 0s 23ms/step\n"
          ]
        },
        {
          "output_type": "stream",
          "name": "stderr",
          "text": [
            "Action: emotion:  75%|███████▌  | 3/4 [00:01<00:00,  3.29it/s]"
          ]
        },
        {
          "output_type": "stream",
          "name": "stdout",
          "text": [
            "1/1 [==============================] - 0s 18ms/step\n"
          ]
        },
        {
          "output_type": "stream",
          "name": "stderr",
          "text": [
            "Action: emotion: 100%|██████████| 4/4 [00:01<00:00,  2.07it/s]\n"
          ]
        },
        {
          "output_type": "stream",
          "name": "stdout",
          "text": [
            "  SUCCESSS\n",
            "Mag Cover #23 found: 1977Mar.png\n"
          ]
        },
        {
          "output_type": "stream",
          "name": "stderr",
          "text": [
            "Action: age:   0%|          | 0/4 [00:00<?, ?it/s]    "
          ]
        },
        {
          "output_type": "stream",
          "name": "stdout",
          "text": [
            "1/1 [==============================] - 0s 19ms/step\n"
          ]
        },
        {
          "output_type": "stream",
          "name": "stderr",
          "text": [
            "Action: gender:  25%|██▌       | 1/4 [00:01<00:03,  1.02s/it]"
          ]
        },
        {
          "output_type": "stream",
          "name": "stdout",
          "text": [
            "1/1 [==============================] - 0s 27ms/step\n"
          ]
        },
        {
          "output_type": "stream",
          "name": "stderr",
          "text": [
            "Action: race:  50%|█████     | 2/4 [00:01<00:01,  1.84it/s]  "
          ]
        },
        {
          "output_type": "stream",
          "name": "stdout",
          "text": [
            "1/1 [==============================] - 0s 20ms/step\n"
          ]
        },
        {
          "output_type": "stream",
          "name": "stderr",
          "text": [
            "Action: emotion:  75%|███████▌  | 3/4 [00:01<00:00,  2.58it/s]"
          ]
        },
        {
          "output_type": "stream",
          "name": "stdout",
          "text": [
            "1/1 [==============================] - 0s 16ms/step\n"
          ]
        },
        {
          "output_type": "stream",
          "name": "stderr",
          "text": [
            "Action: emotion: 100%|██████████| 4/4 [00:02<00:00,  1.68it/s]\n"
          ]
        },
        {
          "output_type": "stream",
          "name": "stdout",
          "text": [
            "  SUCCESSS\n",
            "Mag Cover #24 found: 1977Feb.png\n"
          ]
        },
        {
          "output_type": "stream",
          "name": "stderr",
          "text": [
            "Action: age:   0%|          | 0/4 [00:00<?, ?it/s]    "
          ]
        },
        {
          "output_type": "stream",
          "name": "stdout",
          "text": [
            "1/1 [==============================] - 0s 24ms/step\n"
          ]
        },
        {
          "output_type": "stream",
          "name": "stderr",
          "text": [
            "Action: gender:  25%|██▌       | 1/4 [00:01<00:05,  1.95s/it]"
          ]
        },
        {
          "output_type": "stream",
          "name": "stdout",
          "text": [
            "1/1 [==============================] - 0s 20ms/step\n"
          ]
        },
        {
          "output_type": "stream",
          "name": "stderr",
          "text": [
            "Action: race:  50%|█████     | 2/4 [00:02<00:01,  1.12it/s]  "
          ]
        },
        {
          "output_type": "stream",
          "name": "stdout",
          "text": [
            "1/1 [==============================] - 0s 19ms/step\n"
          ]
        },
        {
          "output_type": "stream",
          "name": "stderr",
          "text": [
            "Action: emotion:  75%|███████▌  | 3/4 [00:02<00:00,  1.74it/s]"
          ]
        },
        {
          "output_type": "stream",
          "name": "stdout",
          "text": [
            "1/1 [==============================] - 0s 19ms/step\n"
          ]
        },
        {
          "output_type": "stream",
          "name": "stderr",
          "text": [
            "Action: emotion: 100%|██████████| 4/4 [00:04<00:00,  1.02s/it]\n"
          ]
        },
        {
          "output_type": "stream",
          "name": "stdout",
          "text": [
            "  SUCCESSS\n",
            "Mag Cover #25 found: 1970Jan.png\n"
          ]
        },
        {
          "output_type": "stream",
          "name": "stderr",
          "text": [
            "Action: age:   0%|          | 0/4 [00:00<?, ?it/s]    "
          ]
        },
        {
          "output_type": "stream",
          "name": "stdout",
          "text": [
            "1/1 [==============================] - 0s 21ms/step\n"
          ]
        },
        {
          "output_type": "stream",
          "name": "stderr",
          "text": [
            "Action: gender:  25%|██▌       | 1/4 [00:01<00:03,  1.33s/it]"
          ]
        },
        {
          "output_type": "stream",
          "name": "stdout",
          "text": [
            "1/1 [==============================] - 0s 23ms/step\n"
          ]
        },
        {
          "output_type": "stream",
          "name": "stderr",
          "text": [
            "Action: race:  50%|█████     | 2/4 [00:01<00:01,  1.50it/s]  "
          ]
        },
        {
          "output_type": "stream",
          "name": "stdout",
          "text": [
            "1/1 [==============================] - 0s 22ms/step\n"
          ]
        },
        {
          "output_type": "stream",
          "name": "stderr",
          "text": [
            "Action: emotion:  75%|███████▌  | 3/4 [00:01<00:00,  2.38it/s]"
          ]
        },
        {
          "output_type": "stream",
          "name": "stdout",
          "text": [
            "1/1 [==============================] - 0s 18ms/step\n"
          ]
        },
        {
          "output_type": "stream",
          "name": "stderr",
          "text": [
            "Action: emotion: 100%|██████████| 4/4 [00:02<00:00,  1.37it/s]\n"
          ]
        },
        {
          "output_type": "stream",
          "name": "stdout",
          "text": [
            "  SUCCESSS\n",
            "Mag Cover #26 found: 1970Nov.png\n"
          ]
        },
        {
          "output_type": "stream",
          "name": "stderr",
          "text": [
            "Action: age:   0%|          | 0/4 [00:00<?, ?it/s]    "
          ]
        },
        {
          "output_type": "stream",
          "name": "stdout",
          "text": [
            "1/1 [==============================] - 0s 19ms/step\n"
          ]
        },
        {
          "output_type": "stream",
          "name": "stderr",
          "text": [
            "Action: gender:  25%|██▌       | 1/4 [00:01<00:03,  1.26s/it]"
          ]
        },
        {
          "output_type": "stream",
          "name": "stdout",
          "text": [
            "1/1 [==============================] - 0s 24ms/step\n"
          ]
        },
        {
          "output_type": "stream",
          "name": "stderr",
          "text": [
            "Action: race:  50%|█████     | 2/4 [00:01<00:01,  1.57it/s]  "
          ]
        },
        {
          "output_type": "stream",
          "name": "stdout",
          "text": [
            "1/1 [==============================] - 0s 20ms/step\n"
          ]
        },
        {
          "output_type": "stream",
          "name": "stderr",
          "text": [
            "Action: emotion:  75%|███████▌  | 3/4 [00:01<00:00,  2.28it/s]"
          ]
        },
        {
          "output_type": "stream",
          "name": "stdout",
          "text": [
            "1/1 [==============================] - 0s 17ms/step\n"
          ]
        },
        {
          "output_type": "stream",
          "name": "stderr",
          "text": [
            "Action: emotion: 100%|██████████| 4/4 [00:02<00:00,  1.36it/s]\n"
          ]
        },
        {
          "output_type": "stream",
          "name": "stdout",
          "text": [
            "  SUCCESSS\n",
            "Mag Cover #27 found: 1970Jul.png\n"
          ]
        },
        {
          "output_type": "stream",
          "name": "stderr",
          "text": [
            "Action: age:   0%|          | 0/4 [00:00<?, ?it/s]\n"
          ]
        },
        {
          "output_type": "stream",
          "name": "stdout",
          "text": [
            "  ERROR: Face could not be detected. Please confirm that the picture is a face photo or consider to set enforce_detection param to False.\n",
            "Mag Cover #28 found: 1970Aug.png\n"
          ]
        },
        {
          "output_type": "stream",
          "name": "stderr",
          "text": [
            "Action: age:   0%|          | 0/4 [00:01<?, ?it/s]\n"
          ]
        },
        {
          "output_type": "stream",
          "name": "stdout",
          "text": [
            "  ERROR: Face could not be detected. Please confirm that the picture is a face photo or consider to set enforce_detection param to False.\n",
            "Mag Cover #29 found: 1970Oct.png\n"
          ]
        },
        {
          "output_type": "stream",
          "name": "stderr",
          "text": [
            "Action: age:   0%|          | 0/4 [00:00<?, ?it/s]    "
          ]
        },
        {
          "output_type": "stream",
          "name": "stdout",
          "text": [
            "1/1 [==============================] - 0s 24ms/step\n"
          ]
        },
        {
          "output_type": "stream",
          "name": "stderr",
          "text": [
            "Action: gender:  25%|██▌       | 1/4 [00:01<00:03,  1.02s/it]"
          ]
        },
        {
          "output_type": "stream",
          "name": "stdout",
          "text": [
            "1/1 [==============================] - 0s 18ms/step\n"
          ]
        },
        {
          "output_type": "stream",
          "name": "stderr",
          "text": [
            "Action: race:  50%|█████     | 2/4 [00:01<00:01,  1.85it/s]  "
          ]
        },
        {
          "output_type": "stream",
          "name": "stdout",
          "text": [
            "1/1 [==============================] - 0s 22ms/step\n"
          ]
        },
        {
          "output_type": "stream",
          "name": "stderr",
          "text": [
            "Action: emotion:  75%|███████▌  | 3/4 [00:01<00:00,  2.82it/s]"
          ]
        },
        {
          "output_type": "stream",
          "name": "stdout",
          "text": [
            "1/1 [==============================] - 0s 21ms/step\n"
          ]
        },
        {
          "output_type": "stream",
          "name": "stderr",
          "text": [
            "Action: emotion: 100%|██████████| 4/4 [00:02<00:00,  1.72it/s]\n"
          ]
        },
        {
          "output_type": "stream",
          "name": "stdout",
          "text": [
            "  SUCCESSS\n",
            "Mag Cover #30 found: 1970Dec.png\n"
          ]
        },
        {
          "output_type": "stream",
          "name": "stderr",
          "text": [
            "Action: age:   0%|          | 0/4 [00:00<?, ?it/s]    "
          ]
        },
        {
          "output_type": "stream",
          "name": "stdout",
          "text": [
            "1/1 [==============================] - 0s 19ms/step\n"
          ]
        },
        {
          "output_type": "stream",
          "name": "stderr",
          "text": [
            "Action: gender:  25%|██▌       | 1/4 [00:01<00:03,  1.06s/it]"
          ]
        },
        {
          "output_type": "stream",
          "name": "stdout",
          "text": [
            "1/1 [==============================] - 0s 18ms/step\n"
          ]
        },
        {
          "output_type": "stream",
          "name": "stderr",
          "text": [
            "Action: race:  50%|█████     | 2/4 [00:01<00:01,  1.80it/s]  "
          ]
        },
        {
          "output_type": "stream",
          "name": "stdout",
          "text": [
            "1/1 [==============================] - 0s 20ms/step\n"
          ]
        },
        {
          "output_type": "stream",
          "name": "stderr",
          "text": [
            "Action: emotion:  75%|███████▌  | 3/4 [00:01<00:00,  2.78it/s]"
          ]
        },
        {
          "output_type": "stream",
          "name": "stdout",
          "text": [
            "1/1 [==============================] - 0s 18ms/step\n"
          ]
        },
        {
          "output_type": "stream",
          "name": "stderr",
          "text": [
            "Action: emotion: 100%|██████████| 4/4 [00:02<00:00,  1.73it/s]\n"
          ]
        },
        {
          "output_type": "stream",
          "name": "stdout",
          "text": [
            "  SUCCESSS\n",
            "Mag Cover #31 found: 1970Jun.png\n"
          ]
        },
        {
          "output_type": "stream",
          "name": "stderr",
          "text": [
            "Action: age:   0%|          | 0/4 [00:00<?, ?it/s]    "
          ]
        },
        {
          "output_type": "stream",
          "name": "stdout",
          "text": [
            "1/1 [==============================] - 0s 18ms/step\n"
          ]
        },
        {
          "output_type": "stream",
          "name": "stderr",
          "text": [
            "Action: gender:  25%|██▌       | 1/4 [00:01<00:03,  1.00s/it]"
          ]
        },
        {
          "output_type": "stream",
          "name": "stdout",
          "text": [
            "1/1 [==============================] - 0s 22ms/step\n"
          ]
        },
        {
          "output_type": "stream",
          "name": "stderr",
          "text": [
            "Action: race:  50%|█████     | 2/4 [00:01<00:01,  1.89it/s]  "
          ]
        },
        {
          "output_type": "stream",
          "name": "stdout",
          "text": [
            "1/1 [==============================] - 0s 22ms/step\n"
          ]
        },
        {
          "output_type": "stream",
          "name": "stderr",
          "text": [
            "Action: emotion:  75%|███████▌  | 3/4 [00:01<00:00,  2.62it/s]"
          ]
        },
        {
          "output_type": "stream",
          "name": "stdout",
          "text": [
            "1/1 [==============================] - 0s 18ms/step\n"
          ]
        },
        {
          "output_type": "stream",
          "name": "stderr",
          "text": [
            "Action: emotion: 100%|██████████| 4/4 [00:02<00:00,  1.75it/s]\n"
          ]
        },
        {
          "output_type": "stream",
          "name": "stdout",
          "text": [
            "  SUCCESSS\n",
            "Mag Cover #32 found: 1970Apr.png\n"
          ]
        },
        {
          "output_type": "stream",
          "name": "stderr",
          "text": [
            "Action: age:   0%|          | 0/4 [00:00<?, ?it/s]    "
          ]
        },
        {
          "output_type": "stream",
          "name": "stdout",
          "text": [
            "1/1 [==============================] - 0s 27ms/step\n"
          ]
        },
        {
          "output_type": "stream",
          "name": "stderr",
          "text": [
            "Action: gender:  25%|██▌       | 1/4 [00:01<00:04,  1.55s/it]"
          ]
        },
        {
          "output_type": "stream",
          "name": "stdout",
          "text": [
            "1/1 [==============================] - 0s 43ms/step\n"
          ]
        },
        {
          "output_type": "stream",
          "name": "stderr",
          "text": [
            "Action: race:  50%|█████     | 2/4 [00:01<00:01,  1.38it/s]  "
          ]
        },
        {
          "output_type": "stream",
          "name": "stdout",
          "text": [
            "1/1 [==============================] - 0s 35ms/step\n"
          ]
        },
        {
          "output_type": "stream",
          "name": "stderr",
          "text": [
            "Action: emotion:  75%|███████▌  | 3/4 [00:01<00:00,  2.16it/s]"
          ]
        },
        {
          "output_type": "stream",
          "name": "stdout",
          "text": [
            "1/1 [==============================] - 0s 18ms/step\n"
          ]
        },
        {
          "output_type": "stream",
          "name": "stderr",
          "text": [
            "Action: emotion: 100%|██████████| 4/4 [00:03<00:00,  1.19it/s]\n"
          ]
        },
        {
          "output_type": "stream",
          "name": "stdout",
          "text": [
            "  SUCCESSS\n",
            "Mag Cover #33 found: 1970May.png\n"
          ]
        },
        {
          "output_type": "stream",
          "name": "stderr",
          "text": [
            "Action: age:   0%|          | 0/4 [00:00<?, ?it/s]    "
          ]
        },
        {
          "output_type": "stream",
          "name": "stdout",
          "text": [
            "1/1 [==============================] - 0s 19ms/step\n"
          ]
        },
        {
          "output_type": "stream",
          "name": "stderr",
          "text": [
            "Action: gender:  25%|██▌       | 1/4 [00:00<00:02,  1.01it/s]"
          ]
        },
        {
          "output_type": "stream",
          "name": "stdout",
          "text": [
            "1/1 [==============================] - 0s 20ms/step\n"
          ]
        },
        {
          "output_type": "stream",
          "name": "stderr",
          "text": [
            "Action: race:  50%|█████     | 2/4 [00:01<00:00,  2.07it/s]  "
          ]
        },
        {
          "output_type": "stream",
          "name": "stdout",
          "text": [
            "1/1 [==============================] - 0s 19ms/step\n"
          ]
        },
        {
          "output_type": "stream",
          "name": "stderr",
          "text": [
            "Action: emotion:  75%|███████▌  | 3/4 [00:01<00:00,  2.83it/s]"
          ]
        },
        {
          "output_type": "stream",
          "name": "stdout",
          "text": [
            "1/1 [==============================] - 0s 17ms/step\n"
          ]
        },
        {
          "output_type": "stream",
          "name": "stderr",
          "text": [
            "Action: emotion: 100%|██████████| 4/4 [00:02<00:00,  1.82it/s]\n"
          ]
        },
        {
          "output_type": "stream",
          "name": "stdout",
          "text": [
            "  SUCCESSS\n",
            "Mag Cover #34 found: 1970Mar.png\n"
          ]
        },
        {
          "output_type": "stream",
          "name": "stderr",
          "text": [
            "Action: age:   0%|          | 0/4 [00:00<?, ?it/s]\n"
          ]
        },
        {
          "output_type": "stream",
          "name": "stdout",
          "text": [
            "  ERROR: Face could not be detected. Please confirm that the picture is a face photo or consider to set enforce_detection param to False.\n",
            "Mag Cover #35 found: 1970Feb.png\n"
          ]
        },
        {
          "output_type": "stream",
          "name": "stderr",
          "text": [
            "Action: age:   0%|          | 0/4 [00:00<?, ?it/s]    "
          ]
        },
        {
          "output_type": "stream",
          "name": "stdout",
          "text": [
            "1/1 [==============================] - 0s 19ms/step\n"
          ]
        },
        {
          "output_type": "stream",
          "name": "stderr",
          "text": [
            "Action: gender:  25%|██▌       | 1/4 [00:00<00:02,  1.06it/s]"
          ]
        },
        {
          "output_type": "stream",
          "name": "stdout",
          "text": [
            "1/1 [==============================] - 0s 20ms/step\n"
          ]
        },
        {
          "output_type": "stream",
          "name": "stderr",
          "text": [
            "Action: race:  50%|█████     | 2/4 [00:01<00:00,  2.13it/s]  "
          ]
        },
        {
          "output_type": "stream",
          "name": "stdout",
          "text": [
            "1/1 [==============================] - 0s 21ms/step\n"
          ]
        },
        {
          "output_type": "stream",
          "name": "stderr",
          "text": [
            "Action: emotion:  75%|███████▌  | 3/4 [00:01<00:00,  3.18it/s]"
          ]
        },
        {
          "output_type": "stream",
          "name": "stdout",
          "text": [
            "1/1 [==============================] - 0s 17ms/step\n"
          ]
        },
        {
          "output_type": "stream",
          "name": "stderr",
          "text": [
            "Action: emotion: 100%|██████████| 4/4 [00:02<00:00,  1.90it/s]\n"
          ]
        },
        {
          "output_type": "stream",
          "name": "stdout",
          "text": [
            "  SUCCESSS\n",
            "Mag Cover #36 found: 1970Sep.png\n"
          ]
        },
        {
          "output_type": "stream",
          "name": "stderr",
          "text": [
            "Action: age:   0%|          | 0/4 [00:00<?, ?it/s]    "
          ]
        },
        {
          "output_type": "stream",
          "name": "stdout",
          "text": [
            "1/1 [==============================] - 0s 19ms/step\n"
          ]
        },
        {
          "output_type": "stream",
          "name": "stderr",
          "text": [
            "Action: gender:  25%|██▌       | 1/4 [00:01<00:04,  1.52s/it]"
          ]
        },
        {
          "output_type": "stream",
          "name": "stdout",
          "text": [
            "1/1 [==============================] - 0s 19ms/step\n"
          ]
        },
        {
          "output_type": "stream",
          "name": "stderr",
          "text": [
            "Action: race:  50%|█████     | 2/4 [00:01<00:01,  1.43it/s]  "
          ]
        },
        {
          "output_type": "stream",
          "name": "stdout",
          "text": [
            "1/1 [==============================] - 0s 19ms/step\n"
          ]
        },
        {
          "output_type": "stream",
          "name": "stderr",
          "text": [
            "Action: emotion:  75%|███████▌  | 3/4 [00:01<00:00,  2.10it/s]"
          ]
        },
        {
          "output_type": "stream",
          "name": "stdout",
          "text": [
            "1/1 [==============================] - 0s 20ms/step\n"
          ]
        },
        {
          "output_type": "stream",
          "name": "stderr",
          "text": [
            "Action: emotion: 100%|██████████| 4/4 [00:03<00:00,  1.24it/s]\n"
          ]
        },
        {
          "output_type": "stream",
          "name": "stdout",
          "text": [
            "  SUCCESSS\n",
            "Mag Cover #37 found: 1976Apr.png\n"
          ]
        },
        {
          "output_type": "stream",
          "name": "stderr",
          "text": [
            "Action: age:   0%|          | 0/4 [00:00<?, ?it/s]    "
          ]
        },
        {
          "output_type": "stream",
          "name": "stdout",
          "text": [
            "1/1 [==============================] - 0s 19ms/step\n"
          ]
        },
        {
          "output_type": "stream",
          "name": "stderr",
          "text": [
            "Action: gender:  25%|██▌       | 1/4 [00:01<00:04,  1.58s/it]"
          ]
        },
        {
          "output_type": "stream",
          "name": "stdout",
          "text": [
            "1/1 [==============================] - 0s 19ms/step\n"
          ]
        },
        {
          "output_type": "stream",
          "name": "stderr",
          "text": [
            "Action: race:  50%|█████     | 2/4 [00:01<00:01,  1.29it/s]  "
          ]
        },
        {
          "output_type": "stream",
          "name": "stdout",
          "text": [
            "1/1 [==============================] - 0s 18ms/step\n"
          ]
        },
        {
          "output_type": "stream",
          "name": "stderr",
          "text": [
            "Action: emotion:  75%|███████▌  | 3/4 [00:01<00:00,  2.07it/s]"
          ]
        },
        {
          "output_type": "stream",
          "name": "stdout",
          "text": [
            "1/1 [==============================] - 0s 21ms/step\n"
          ]
        },
        {
          "output_type": "stream",
          "name": "stderr",
          "text": [
            "Action: emotion: 100%|██████████| 4/4 [00:03<00:00,  1.19it/s]\n"
          ]
        },
        {
          "output_type": "stream",
          "name": "stdout",
          "text": [
            "  SUCCESSS\n",
            "Mag Cover #38 found: 1976Oct.png\n"
          ]
        },
        {
          "output_type": "stream",
          "name": "stderr",
          "text": [
            "Action: age:   0%|          | 0/4 [00:01<?, ?it/s]\n"
          ]
        },
        {
          "output_type": "stream",
          "name": "stdout",
          "text": [
            "  ERROR: Face could not be detected. Please confirm that the picture is a face photo or consider to set enforce_detection param to False.\n",
            "Mag Cover #39 found: 1976May.png\n"
          ]
        },
        {
          "output_type": "stream",
          "name": "stderr",
          "text": [
            "Action: age:   0%|          | 0/4 [00:00<?, ?it/s]    "
          ]
        },
        {
          "output_type": "stream",
          "name": "stdout",
          "text": [
            "1/1 [==============================] - 0s 20ms/step\n"
          ]
        },
        {
          "output_type": "stream",
          "name": "stderr",
          "text": [
            "Action: gender:  25%|██▌       | 1/4 [00:01<00:05,  1.90s/it]"
          ]
        },
        {
          "output_type": "stream",
          "name": "stdout",
          "text": [
            "1/1 [==============================] - 0s 22ms/step\n"
          ]
        },
        {
          "output_type": "stream",
          "name": "stderr",
          "text": [
            "Action: race:  50%|█████     | 2/4 [00:02<00:01,  1.11it/s]  "
          ]
        },
        {
          "output_type": "stream",
          "name": "stdout",
          "text": [
            "1/1 [==============================] - 0s 22ms/step\n"
          ]
        },
        {
          "output_type": "stream",
          "name": "stderr",
          "text": [
            "Action: emotion:  75%|███████▌  | 3/4 [00:02<00:00,  1.71it/s]"
          ]
        },
        {
          "output_type": "stream",
          "name": "stdout",
          "text": [
            "1/1 [==============================] - 0s 18ms/step\n"
          ]
        },
        {
          "output_type": "stream",
          "name": "stderr",
          "text": [
            "Action: emotion: 100%|██████████| 4/4 [00:04<00:00,  1.02s/it]\n"
          ]
        },
        {
          "output_type": "stream",
          "name": "stdout",
          "text": [
            "  SUCCESSS\n",
            "Mag Cover #40 found: 1976Sep.png\n"
          ]
        },
        {
          "output_type": "stream",
          "name": "stderr",
          "text": [
            "Action: age:   0%|          | 0/4 [00:00<?, ?it/s]    "
          ]
        },
        {
          "output_type": "stream",
          "name": "stdout",
          "text": [
            "1/1 [==============================] - 0s 19ms/step\n"
          ]
        },
        {
          "output_type": "stream",
          "name": "stderr",
          "text": [
            "Action: gender:  25%|██▌       | 1/4 [00:01<00:03,  1.22s/it]"
          ]
        },
        {
          "output_type": "stream",
          "name": "stdout",
          "text": [
            "1/1 [==============================] - 0s 21ms/step\n"
          ]
        },
        {
          "output_type": "stream",
          "name": "stderr",
          "text": [
            "Action: race:  50%|█████     | 2/4 [00:01<00:01,  1.61it/s]  "
          ]
        },
        {
          "output_type": "stream",
          "name": "stdout",
          "text": [
            "1/1 [==============================] - 0s 18ms/step\n"
          ]
        },
        {
          "output_type": "stream",
          "name": "stderr",
          "text": [
            "Action: emotion:  75%|███████▌  | 3/4 [00:01<00:00,  2.34it/s]"
          ]
        },
        {
          "output_type": "stream",
          "name": "stdout",
          "text": [
            "1/1 [==============================] - 0s 20ms/step\n"
          ]
        },
        {
          "output_type": "stream",
          "name": "stderr",
          "text": [
            "Action: emotion: 100%|██████████| 4/4 [00:02<00:00,  1.45it/s]\n"
          ]
        },
        {
          "output_type": "stream",
          "name": "stdout",
          "text": [
            "  SUCCESSS\n",
            "Mag Cover #41 found: 1976Feb.png\n"
          ]
        },
        {
          "output_type": "stream",
          "name": "stderr",
          "text": [
            "Action: age:   0%|          | 0/4 [00:00<?, ?it/s]    "
          ]
        },
        {
          "output_type": "stream",
          "name": "stdout",
          "text": [
            "1/1 [==============================] - 0s 19ms/step\n"
          ]
        },
        {
          "output_type": "stream",
          "name": "stderr",
          "text": [
            "Action: gender:  25%|██▌       | 1/4 [00:01<00:03,  1.16s/it]"
          ]
        },
        {
          "output_type": "stream",
          "name": "stdout",
          "text": [
            "1/1 [==============================] - 0s 18ms/step\n"
          ]
        },
        {
          "output_type": "stream",
          "name": "stderr",
          "text": [
            "Action: race:  50%|█████     | 2/4 [00:01<00:01,  1.81it/s]  "
          ]
        },
        {
          "output_type": "stream",
          "name": "stdout",
          "text": [
            "1/1 [==============================] - 0s 20ms/step\n"
          ]
        },
        {
          "output_type": "stream",
          "name": "stderr",
          "text": [
            "Action: emotion:  75%|███████▌  | 3/4 [00:01<00:00,  2.55it/s]"
          ]
        },
        {
          "output_type": "stream",
          "name": "stdout",
          "text": [
            "1/1 [==============================] - 0s 18ms/step\n"
          ]
        },
        {
          "output_type": "stream",
          "name": "stderr",
          "text": [
            "Action: emotion: 100%|██████████| 4/4 [00:02<00:00,  1.54it/s]\n"
          ]
        },
        {
          "output_type": "stream",
          "name": "stdout",
          "text": [
            "  SUCCESSS\n",
            "Mag Cover #42 found: 1976Mar.png\n"
          ]
        },
        {
          "output_type": "stream",
          "name": "stderr",
          "text": [
            "Action: age:   0%|          | 0/4 [00:00<?, ?it/s]\n"
          ]
        },
        {
          "output_type": "stream",
          "name": "stdout",
          "text": [
            "  ERROR: Face could not be detected. Please confirm that the picture is a face photo or consider to set enforce_detection param to False.\n",
            "Mag Cover #43 found: 1976Nov.png\n"
          ]
        },
        {
          "output_type": "stream",
          "name": "stderr",
          "text": [
            "Action: age:   0%|          | 0/4 [00:00<?, ?it/s]\n"
          ]
        },
        {
          "output_type": "stream",
          "name": "stdout",
          "text": [
            "  ERROR: Face could not be detected. Please confirm that the picture is a face photo or consider to set enforce_detection param to False.\n",
            "Mag Cover #44 found: 1976Dec.png\n"
          ]
        },
        {
          "output_type": "stream",
          "name": "stderr",
          "text": [
            "Action: age:   0%|          | 0/4 [00:00<?, ?it/s]    "
          ]
        },
        {
          "output_type": "stream",
          "name": "stdout",
          "text": [
            "1/1 [==============================] - 0s 19ms/step\n"
          ]
        },
        {
          "output_type": "stream",
          "name": "stderr",
          "text": [
            "Action: gender:  25%|██▌       | 1/4 [00:01<00:03,  1.11s/it]"
          ]
        },
        {
          "output_type": "stream",
          "name": "stdout",
          "text": [
            "1/1 [==============================] - 0s 20ms/step\n"
          ]
        },
        {
          "output_type": "stream",
          "name": "stderr",
          "text": [
            "Action: race:  50%|█████     | 2/4 [00:01<00:01,  1.74it/s]  "
          ]
        },
        {
          "output_type": "stream",
          "name": "stdout",
          "text": [
            "1/1 [==============================] - 0s 22ms/step\n"
          ]
        },
        {
          "output_type": "stream",
          "name": "stderr",
          "text": [
            "Action: emotion:  75%|███████▌  | 3/4 [00:01<00:00,  2.64it/s]"
          ]
        },
        {
          "output_type": "stream",
          "name": "stdout",
          "text": [
            "1/1 [==============================] - 0s 17ms/step\n"
          ]
        },
        {
          "output_type": "stream",
          "name": "stderr",
          "text": [
            "Action: emotion: 100%|██████████| 4/4 [00:02<00:00,  1.50it/s]\n"
          ]
        },
        {
          "output_type": "stream",
          "name": "stdout",
          "text": [
            "  SUCCESSS\n",
            "Mag Cover #45 found: 1976Jun.png\n"
          ]
        },
        {
          "output_type": "stream",
          "name": "stderr",
          "text": [
            "Action: age:   0%|          | 0/4 [00:00<?, ?it/s]    "
          ]
        },
        {
          "output_type": "stream",
          "name": "stdout",
          "text": [
            "1/1 [==============================] - 0s 26ms/step\n"
          ]
        },
        {
          "output_type": "stream",
          "name": "stderr",
          "text": [
            "Action: gender:  25%|██▌       | 1/4 [00:01<00:03,  1.18s/it]"
          ]
        },
        {
          "output_type": "stream",
          "name": "stdout",
          "text": [
            "1/1 [==============================] - 0s 18ms/step\n"
          ]
        },
        {
          "output_type": "stream",
          "name": "stderr",
          "text": [
            "Action: race:  50%|█████     | 2/4 [00:01<00:01,  1.65it/s]  "
          ]
        },
        {
          "output_type": "stream",
          "name": "stdout",
          "text": [
            "1/1 [==============================] - 0s 22ms/step\n"
          ]
        },
        {
          "output_type": "stream",
          "name": "stderr",
          "text": [
            "Action: emotion:  75%|███████▌  | 3/4 [00:01<00:00,  2.56it/s]"
          ]
        },
        {
          "output_type": "stream",
          "name": "stdout",
          "text": [
            "1/1 [==============================] - 0s 21ms/step\n"
          ]
        },
        {
          "output_type": "stream",
          "name": "stderr",
          "text": [
            "Action: emotion: 100%|██████████| 4/4 [00:02<00:00,  1.54it/s]\n"
          ]
        },
        {
          "output_type": "stream",
          "name": "stdout",
          "text": [
            "  SUCCESSS\n",
            "Mag Cover #46 found: 1976Jul.png\n"
          ]
        },
        {
          "output_type": "stream",
          "name": "stderr",
          "text": [
            "Action: age:   0%|          | 0/4 [00:00<?, ?it/s]    "
          ]
        },
        {
          "output_type": "stream",
          "name": "stdout",
          "text": [
            "1/1 [==============================] - 0s 19ms/step\n"
          ]
        },
        {
          "output_type": "stream",
          "name": "stderr",
          "text": [
            "Action: gender:  25%|██▌       | 1/4 [00:01<00:03,  1.04s/it]"
          ]
        },
        {
          "output_type": "stream",
          "name": "stdout",
          "text": [
            "1/1 [==============================] - 0s 19ms/step\n"
          ]
        },
        {
          "output_type": "stream",
          "name": "stderr",
          "text": [
            "Action: race:  50%|█████     | 2/4 [00:01<00:01,  1.99it/s]  "
          ]
        },
        {
          "output_type": "stream",
          "name": "stdout",
          "text": [
            "1/1 [==============================] - 0s 19ms/step\n"
          ]
        },
        {
          "output_type": "stream",
          "name": "stderr",
          "text": [
            "Action: emotion:  75%|███████▌  | 3/4 [00:01<00:00,  2.71it/s]"
          ]
        },
        {
          "output_type": "stream",
          "name": "stdout",
          "text": [
            "1/1 [==============================] - 0s 19ms/step\n"
          ]
        },
        {
          "output_type": "stream",
          "name": "stderr",
          "text": [
            "Action: emotion: 100%|██████████| 4/4 [00:02<00:00,  1.73it/s]\n"
          ]
        },
        {
          "output_type": "stream",
          "name": "stdout",
          "text": [
            "  SUCCESSS\n",
            "Mag Cover #47 found: 1976Jan.png\n"
          ]
        },
        {
          "output_type": "stream",
          "name": "stderr",
          "text": [
            "Action: age:   0%|          | 0/4 [00:00<?, ?it/s]    "
          ]
        },
        {
          "output_type": "stream",
          "name": "stdout",
          "text": [
            "1/1 [==============================] - 0s 26ms/step\n"
          ]
        },
        {
          "output_type": "stream",
          "name": "stderr",
          "text": [
            "Action: gender:  25%|██▌       | 1/4 [00:01<00:03,  1.06s/it]"
          ]
        },
        {
          "output_type": "stream",
          "name": "stdout",
          "text": [
            "1/1 [==============================] - 0s 21ms/step\n"
          ]
        },
        {
          "output_type": "stream",
          "name": "stderr",
          "text": [
            "Action: race:  50%|█████     | 2/4 [00:01<00:01,  1.80it/s]  "
          ]
        },
        {
          "output_type": "stream",
          "name": "stdout",
          "text": [
            "1/1 [==============================] - 0s 19ms/step\n"
          ]
        },
        {
          "output_type": "stream",
          "name": "stderr",
          "text": [
            "Action: emotion:  75%|███████▌  | 3/4 [00:01<00:00,  2.53it/s]"
          ]
        },
        {
          "output_type": "stream",
          "name": "stdout",
          "text": [
            "1/1 [==============================] - 0s 19ms/step\n"
          ]
        },
        {
          "output_type": "stream",
          "name": "stderr",
          "text": [
            "Action: emotion: 100%|██████████| 4/4 [00:02<00:00,  1.67it/s]\n"
          ]
        },
        {
          "output_type": "stream",
          "name": "stdout",
          "text": [
            "  SUCCESSS\n",
            "Mag Cover #48 found: 1976Aug.png\n"
          ]
        },
        {
          "output_type": "stream",
          "name": "stderr",
          "text": [
            "Action: age:   0%|          | 0/4 [00:00<?, ?it/s]    "
          ]
        },
        {
          "output_type": "stream",
          "name": "stdout",
          "text": [
            "1/1 [==============================] - 0s 20ms/step\n"
          ]
        },
        {
          "output_type": "stream",
          "name": "stderr",
          "text": [
            "Action: gender:  25%|██▌       | 1/4 [00:01<00:03,  1.08s/it]"
          ]
        },
        {
          "output_type": "stream",
          "name": "stdout",
          "text": [
            "1/1 [==============================] - 0s 20ms/step\n"
          ]
        },
        {
          "output_type": "stream",
          "name": "stderr",
          "text": [
            "Action: race:  50%|█████     | 2/4 [00:01<00:01,  1.77it/s]  "
          ]
        },
        {
          "output_type": "stream",
          "name": "stdout",
          "text": [
            "1/1 [==============================] - 0s 25ms/step\n"
          ]
        },
        {
          "output_type": "stream",
          "name": "stderr",
          "text": [
            "Action: emotion:  75%|███████▌  | 3/4 [00:01<00:00,  2.49it/s]"
          ]
        },
        {
          "output_type": "stream",
          "name": "stdout",
          "text": [
            "1/1 [==============================] - 0s 21ms/step\n"
          ]
        },
        {
          "output_type": "stream",
          "name": "stderr",
          "text": [
            "Action: emotion: 100%|██████████| 4/4 [00:02<00:00,  1.65it/s]\n"
          ]
        },
        {
          "output_type": "stream",
          "name": "stdout",
          "text": [
            "  SUCCESSS\n",
            "Mag Cover #49 found: 1975May.png\n"
          ]
        },
        {
          "output_type": "stream",
          "name": "stderr",
          "text": [
            "Action: age:   0%|          | 0/4 [00:00<?, ?it/s]    "
          ]
        },
        {
          "output_type": "stream",
          "name": "stdout",
          "text": [
            "1/1 [==============================] - 0s 22ms/step\n"
          ]
        },
        {
          "output_type": "stream",
          "name": "stderr",
          "text": [
            "Action: gender:  25%|██▌       | 1/4 [00:00<00:02,  1.03it/s]"
          ]
        },
        {
          "output_type": "stream",
          "name": "stdout",
          "text": [
            "1/1 [==============================] - 0s 19ms/step\n"
          ]
        },
        {
          "output_type": "stream",
          "name": "stderr",
          "text": [
            "Action: race:  50%|█████     | 2/4 [00:01<00:00,  2.10it/s]  "
          ]
        },
        {
          "output_type": "stream",
          "name": "stdout",
          "text": [
            "1/1 [==============================] - 0s 19ms/step\n"
          ]
        },
        {
          "output_type": "stream",
          "name": "stderr",
          "text": [
            "Action: emotion:  75%|███████▌  | 3/4 [00:01<00:00,  3.13it/s]"
          ]
        },
        {
          "output_type": "stream",
          "name": "stdout",
          "text": [
            "1/1 [==============================] - 0s 18ms/step\n"
          ]
        },
        {
          "output_type": "stream",
          "name": "stderr",
          "text": [
            "Action: emotion: 100%|██████████| 4/4 [00:02<00:00,  1.88it/s]\n"
          ]
        },
        {
          "output_type": "stream",
          "name": "stdout",
          "text": [
            "  SUCCESSS\n",
            "Mag Cover #50 found: 1975Jun.png\n"
          ]
        },
        {
          "output_type": "stream",
          "name": "stderr",
          "text": [
            "Action: age:   0%|          | 0/4 [00:00<?, ?it/s]    "
          ]
        },
        {
          "output_type": "stream",
          "name": "stdout",
          "text": [
            "1/1 [==============================] - 0s 19ms/step\n"
          ]
        },
        {
          "output_type": "stream",
          "name": "stderr",
          "text": [
            "Action: gender:  25%|██▌       | 1/4 [00:01<00:03,  1.15s/it]"
          ]
        },
        {
          "output_type": "stream",
          "name": "stdout",
          "text": [
            "1/1 [==============================] - 0s 18ms/step\n"
          ]
        },
        {
          "output_type": "stream",
          "name": "stderr",
          "text": [
            "Action: race:  50%|█████     | 2/4 [00:01<00:01,  1.67it/s]  "
          ]
        },
        {
          "output_type": "stream",
          "name": "stdout",
          "text": [
            "1/1 [==============================] - 0s 17ms/step\n"
          ]
        },
        {
          "output_type": "stream",
          "name": "stderr",
          "text": [
            "Action: emotion:  75%|███████▌  | 3/4 [00:01<00:00,  2.40it/s]"
          ]
        },
        {
          "output_type": "stream",
          "name": "stdout",
          "text": [
            "1/1 [==============================] - 0s 21ms/step\n"
          ]
        },
        {
          "output_type": "stream",
          "name": "stderr",
          "text": [
            "Action: emotion: 100%|██████████| 4/4 [00:02<00:00,  1.57it/s]\n"
          ]
        },
        {
          "output_type": "stream",
          "name": "stdout",
          "text": [
            "  SUCCESSS\n",
            "Mag Cover #51 found: 1975Nov.png\n"
          ]
        },
        {
          "output_type": "stream",
          "name": "stderr",
          "text": [
            "Action: age:   0%|          | 0/4 [00:00<?, ?it/s]\n"
          ]
        },
        {
          "output_type": "stream",
          "name": "stdout",
          "text": [
            "  ERROR: Face could not be detected. Please confirm that the picture is a face photo or consider to set enforce_detection param to False.\n",
            "Mag Cover #52 found: 1975Dec.png\n"
          ]
        },
        {
          "output_type": "stream",
          "name": "stderr",
          "text": [
            "Action: age:   0%|          | 0/4 [00:00<?, ?it/s]\n"
          ]
        },
        {
          "output_type": "stream",
          "name": "stdout",
          "text": [
            "  ERROR: Face could not be detected. Please confirm that the picture is a face photo or consider to set enforce_detection param to False.\n",
            "Mag Cover #53 found: 1975Jan.png\n"
          ]
        },
        {
          "output_type": "stream",
          "name": "stderr",
          "text": [
            "Action: age:   0%|          | 0/4 [00:00<?, ?it/s]    "
          ]
        },
        {
          "output_type": "stream",
          "name": "stdout",
          "text": [
            "1/1 [==============================] - 0s 19ms/step\n"
          ]
        },
        {
          "output_type": "stream",
          "name": "stderr",
          "text": [
            "Action: gender:  25%|██▌       | 1/4 [00:01<00:03,  1.32s/it]"
          ]
        },
        {
          "output_type": "stream",
          "name": "stdout",
          "text": [
            "1/1 [==============================] - 0s 19ms/step\n"
          ]
        },
        {
          "output_type": "stream",
          "name": "stderr",
          "text": [
            "Action: race:  50%|█████     | 2/4 [00:01<00:01,  1.50it/s]  "
          ]
        },
        {
          "output_type": "stream",
          "name": "stdout",
          "text": [
            "1/1 [==============================] - 0s 19ms/step\n"
          ]
        },
        {
          "output_type": "stream",
          "name": "stderr",
          "text": [
            "Action: emotion:  75%|███████▌  | 3/4 [00:01<00:00,  2.21it/s]"
          ]
        },
        {
          "output_type": "stream",
          "name": "stdout",
          "text": [
            "1/1 [==============================] - 0s 18ms/step\n"
          ]
        },
        {
          "output_type": "stream",
          "name": "stderr",
          "text": [
            "Action: emotion: 100%|██████████| 4/4 [00:02<00:00,  1.34it/s]\n"
          ]
        },
        {
          "output_type": "stream",
          "name": "stdout",
          "text": [
            "  SUCCESSS\n",
            "Mag Cover #54 found: 1975Mar.png\n"
          ]
        },
        {
          "output_type": "stream",
          "name": "stderr",
          "text": [
            "Action: age:   0%|          | 0/4 [00:00<?, ?it/s]    "
          ]
        },
        {
          "output_type": "stream",
          "name": "stdout",
          "text": [
            "1/1 [==============================] - 0s 20ms/step\n"
          ]
        },
        {
          "output_type": "stream",
          "name": "stderr",
          "text": [
            "Action: gender:  25%|██▌       | 1/4 [00:00<00:02,  1.09it/s]"
          ]
        },
        {
          "output_type": "stream",
          "name": "stdout",
          "text": [
            "1/1 [==============================] - 0s 19ms/step\n"
          ]
        },
        {
          "output_type": "stream",
          "name": "stderr",
          "text": [
            "Action: race:  50%|█████     | 2/4 [00:01<00:00,  2.20it/s]  "
          ]
        },
        {
          "output_type": "stream",
          "name": "stdout",
          "text": [
            "1/1 [==============================] - 0s 19ms/step\n"
          ]
        },
        {
          "output_type": "stream",
          "name": "stderr",
          "text": [
            "Action: emotion:  75%|███████▌  | 3/4 [00:01<00:00,  3.27it/s]"
          ]
        },
        {
          "output_type": "stream",
          "name": "stdout",
          "text": [
            "1/1 [==============================] - 0s 18ms/step\n"
          ]
        },
        {
          "output_type": "stream",
          "name": "stderr",
          "text": [
            "Action: emotion: 100%|██████████| 4/4 [00:01<00:00,  2.05it/s]\n"
          ]
        },
        {
          "output_type": "stream",
          "name": "stdout",
          "text": [
            "  SUCCESSS\n",
            "Mag Cover #55 found: 1975Jul.png\n"
          ]
        },
        {
          "output_type": "stream",
          "name": "stderr",
          "text": [
            "Action: age:   0%|          | 0/4 [00:00<?, ?it/s]    "
          ]
        },
        {
          "output_type": "stream",
          "name": "stdout",
          "text": [
            "1/1 [==============================] - 0s 22ms/step\n"
          ]
        },
        {
          "output_type": "stream",
          "name": "stderr",
          "text": [
            "Action: gender:  25%|██▌       | 1/4 [00:01<00:04,  1.36s/it]"
          ]
        },
        {
          "output_type": "stream",
          "name": "stdout",
          "text": [
            "1/1 [==============================] - 0s 24ms/step\n"
          ]
        },
        {
          "output_type": "stream",
          "name": "stderr",
          "text": [
            "Action: race:  50%|█████     | 2/4 [00:01<00:01,  1.47it/s]  "
          ]
        },
        {
          "output_type": "stream",
          "name": "stdout",
          "text": [
            "1/1 [==============================] - 0s 20ms/step\n"
          ]
        },
        {
          "output_type": "stream",
          "name": "stderr",
          "text": [
            "Action: emotion:  75%|███████▌  | 3/4 [00:01<00:00,  2.15it/s]"
          ]
        },
        {
          "output_type": "stream",
          "name": "stdout",
          "text": [
            "1/1 [==============================] - 0s 17ms/step\n"
          ]
        },
        {
          "output_type": "stream",
          "name": "stderr",
          "text": [
            "Action: emotion: 100%|██████████| 4/4 [00:03<00:00,  1.31it/s]\n"
          ]
        },
        {
          "output_type": "stream",
          "name": "stdout",
          "text": [
            "  SUCCESSS\n",
            "Mag Cover #56 found: 1975Sep.png\n"
          ]
        },
        {
          "output_type": "stream",
          "name": "stderr",
          "text": [
            "Action: age:   0%|          | 0/4 [00:01<?, ?it/s]\n"
          ]
        },
        {
          "output_type": "stream",
          "name": "stdout",
          "text": [
            "  ERROR: Face could not be detected. Please confirm that the picture is a face photo or consider to set enforce_detection param to False.\n",
            "Mag Cover #57 found: 1975Oct.png\n"
          ]
        },
        {
          "output_type": "stream",
          "name": "stderr",
          "text": [
            "Action: age:   0%|          | 0/4 [00:00<?, ?it/s]    "
          ]
        },
        {
          "output_type": "stream",
          "name": "stdout",
          "text": [
            "1/1 [==============================] - 0s 18ms/step\n"
          ]
        },
        {
          "output_type": "stream",
          "name": "stderr",
          "text": [
            "Action: gender:  25%|██▌       | 1/4 [00:01<00:04,  1.38s/it]"
          ]
        },
        {
          "output_type": "stream",
          "name": "stdout",
          "text": [
            "1/1 [==============================] - 0s 18ms/step\n"
          ]
        },
        {
          "output_type": "stream",
          "name": "stderr",
          "text": [
            "Action: race:  50%|█████     | 2/4 [00:01<00:01,  1.45it/s]  "
          ]
        },
        {
          "output_type": "stream",
          "name": "stdout",
          "text": [
            "1/1 [==============================] - 0s 21ms/step\n"
          ]
        },
        {
          "output_type": "stream",
          "name": "stderr",
          "text": [
            "Action: emotion:  75%|███████▌  | 3/4 [00:01<00:00,  2.14it/s]"
          ]
        },
        {
          "output_type": "stream",
          "name": "stdout",
          "text": [
            "1/1 [==============================] - 0s 19ms/step\n"
          ]
        },
        {
          "output_type": "stream",
          "name": "stderr",
          "text": [
            "Action: emotion: 100%|██████████| 4/4 [00:03<00:00,  1.32it/s]\n"
          ]
        },
        {
          "output_type": "stream",
          "name": "stdout",
          "text": [
            "  SUCCESSS\n",
            "Mag Cover #58 found: 1975Apr.png\n"
          ]
        },
        {
          "output_type": "stream",
          "name": "stderr",
          "text": [
            "Action: age:   0%|          | 0/4 [00:00<?, ?it/s]\n"
          ]
        },
        {
          "output_type": "stream",
          "name": "stdout",
          "text": [
            "  ERROR: Face could not be detected. Please confirm that the picture is a face photo or consider to set enforce_detection param to False.\n",
            "Mag Cover #59 found: 1975Feb.png\n"
          ]
        },
        {
          "output_type": "stream",
          "name": "stderr",
          "text": [
            "Action: age:   0%|          | 0/4 [00:00<?, ?it/s]\n"
          ]
        },
        {
          "output_type": "stream",
          "name": "stdout",
          "text": [
            "  ERROR: Face could not be detected. Please confirm that the picture is a face photo or consider to set enforce_detection param to False.\n",
            "Mag Cover #60 found: 1975Aug.png\n"
          ]
        },
        {
          "output_type": "stream",
          "name": "stderr",
          "text": [
            "Action: age:   0%|          | 0/4 [00:00<?, ?it/s]    "
          ]
        },
        {
          "output_type": "stream",
          "name": "stdout",
          "text": [
            "1/1 [==============================] - 0s 20ms/step\n"
          ]
        },
        {
          "output_type": "stream",
          "name": "stderr",
          "text": [
            "Action: gender:  25%|██▌       | 1/4 [00:01<00:03,  1.06s/it]"
          ]
        },
        {
          "output_type": "stream",
          "name": "stdout",
          "text": [
            "1/1 [==============================] - 0s 22ms/step\n"
          ]
        },
        {
          "output_type": "stream",
          "name": "stderr",
          "text": [
            "Action: race:  50%|█████     | 2/4 [00:01<00:01,  1.95it/s]  "
          ]
        },
        {
          "output_type": "stream",
          "name": "stdout",
          "text": [
            "1/1 [==============================] - 0s 18ms/step\n"
          ]
        },
        {
          "output_type": "stream",
          "name": "stderr",
          "text": [
            "Action: emotion:  75%|███████▌  | 3/4 [00:01<00:00,  2.70it/s]"
          ]
        },
        {
          "output_type": "stream",
          "name": "stdout",
          "text": [
            "1/1 [==============================] - 0s 19ms/step\n"
          ]
        },
        {
          "output_type": "stream",
          "name": "stderr",
          "text": [
            "Action: emotion: 100%|██████████| 4/4 [00:02<00:00,  1.72it/s]\n"
          ]
        },
        {
          "output_type": "stream",
          "name": "stdout",
          "text": [
            "  SUCCESSS\n",
            "Mag Cover #61 found: 1974Oct.png\n"
          ]
        },
        {
          "output_type": "stream",
          "name": "stderr",
          "text": [
            "Action: age:   0%|          | 0/4 [00:00<?, ?it/s]\n"
          ]
        },
        {
          "output_type": "stream",
          "name": "stdout",
          "text": [
            "  ERROR: Face could not be detected. Please confirm that the picture is a face photo or consider to set enforce_detection param to False.\n",
            "Mag Cover #62 found: 1974Jul.png\n"
          ]
        },
        {
          "output_type": "stream",
          "name": "stderr",
          "text": [
            "Action: age:   0%|          | 0/4 [00:00<?, ?it/s]\n"
          ]
        },
        {
          "output_type": "stream",
          "name": "stdout",
          "text": [
            "  ERROR: Face could not be detected. Please confirm that the picture is a face photo or consider to set enforce_detection param to False.\n",
            "Mag Cover #63 found: 1974Nov.png\n"
          ]
        },
        {
          "output_type": "stream",
          "name": "stderr",
          "text": [
            "Action: age:   0%|          | 0/4 [00:00<?, ?it/s]\n"
          ]
        },
        {
          "output_type": "stream",
          "name": "stdout",
          "text": [
            "  ERROR: Face could not be detected. Please confirm that the picture is a face photo or consider to set enforce_detection param to False.\n",
            "Mag Cover #64 found: 1974May.png\n"
          ]
        },
        {
          "output_type": "stream",
          "name": "stderr",
          "text": [
            "Action: age:   0%|          | 0/4 [00:00<?, ?it/s]\n"
          ]
        },
        {
          "output_type": "stream",
          "name": "stdout",
          "text": [
            "  ERROR: Face could not be detected. Please confirm that the picture is a face photo or consider to set enforce_detection param to False.\n",
            "Mag Cover #65 found: 1974Jan.png\n"
          ]
        },
        {
          "output_type": "stream",
          "name": "stderr",
          "text": [
            "Action: age:   0%|          | 0/4 [00:00<?, ?it/s]\n"
          ]
        },
        {
          "output_type": "stream",
          "name": "stdout",
          "text": [
            "  ERROR: Face could not be detected. Please confirm that the picture is a face photo or consider to set enforce_detection param to False.\n",
            "Mag Cover #66 found: 1974Feb.png\n"
          ]
        },
        {
          "output_type": "stream",
          "name": "stderr",
          "text": [
            "Action: age:   0%|          | 0/4 [00:00<?, ?it/s]    "
          ]
        },
        {
          "output_type": "stream",
          "name": "stdout",
          "text": [
            "1/1 [==============================] - 0s 25ms/step\n"
          ]
        },
        {
          "output_type": "stream",
          "name": "stderr",
          "text": [
            "Action: gender:  25%|██▌       | 1/4 [00:01<00:03,  1.30s/it]"
          ]
        },
        {
          "output_type": "stream",
          "name": "stdout",
          "text": [
            "1/1 [==============================] - 0s 21ms/step\n"
          ]
        },
        {
          "output_type": "stream",
          "name": "stderr",
          "text": [
            "Action: race:  50%|█████     | 2/4 [00:01<00:01,  1.63it/s]  "
          ]
        },
        {
          "output_type": "stream",
          "name": "stdout",
          "text": [
            "1/1 [==============================] - 0s 19ms/step\n"
          ]
        },
        {
          "output_type": "stream",
          "name": "stderr",
          "text": [
            "Action: emotion:  75%|███████▌  | 3/4 [00:01<00:00,  2.35it/s]"
          ]
        },
        {
          "output_type": "stream",
          "name": "stdout",
          "text": [
            "1/1 [==============================] - 0s 17ms/step\n"
          ]
        },
        {
          "output_type": "stream",
          "name": "stderr",
          "text": [
            "Action: emotion: 100%|██████████| 4/4 [00:02<00:00,  1.39it/s]\n"
          ]
        },
        {
          "output_type": "stream",
          "name": "stdout",
          "text": [
            "  SUCCESSS\n",
            "Mag Cover #67 found: 1974Sep.png\n"
          ]
        },
        {
          "output_type": "stream",
          "name": "stderr",
          "text": [
            "Action: age:   0%|          | 0/4 [00:01<?, ?it/s]\n"
          ]
        },
        {
          "output_type": "stream",
          "name": "stdout",
          "text": [
            "  ERROR: Face could not be detected. Please confirm that the picture is a face photo or consider to set enforce_detection param to False.\n",
            "Mag Cover #68 found: 1974Dec.png\n"
          ]
        },
        {
          "output_type": "stream",
          "name": "stderr",
          "text": [
            "Action: age:   0%|          | 0/4 [00:00<?, ?it/s]\n"
          ]
        },
        {
          "output_type": "stream",
          "name": "stdout",
          "text": [
            "  ERROR: Face could not be detected. Please confirm that the picture is a face photo or consider to set enforce_detection param to False.\n",
            "Mag Cover #69 found: 1974Mar.png\n"
          ]
        },
        {
          "output_type": "stream",
          "name": "stderr",
          "text": [
            "Action: age:   0%|          | 0/4 [00:00<?, ?it/s]    "
          ]
        },
        {
          "output_type": "stream",
          "name": "stdout",
          "text": [
            "1/1 [==============================] - 0s 19ms/step\n"
          ]
        },
        {
          "output_type": "stream",
          "name": "stderr",
          "text": [
            "Action: gender:  25%|██▌       | 1/4 [00:00<00:02,  1.03it/s]"
          ]
        },
        {
          "output_type": "stream",
          "name": "stdout",
          "text": [
            "1/1 [==============================] - 0s 20ms/step\n"
          ]
        },
        {
          "output_type": "stream",
          "name": "stderr",
          "text": [
            "Action: race:  50%|█████     | 2/4 [00:01<00:01,  1.93it/s]  "
          ]
        },
        {
          "output_type": "stream",
          "name": "stdout",
          "text": [
            "1/1 [==============================] - 0s 19ms/step\n"
          ]
        },
        {
          "output_type": "stream",
          "name": "stderr",
          "text": [
            "Action: emotion:  75%|███████▌  | 3/4 [00:01<00:00,  2.67it/s]"
          ]
        },
        {
          "output_type": "stream",
          "name": "stdout",
          "text": [
            "1/1 [==============================] - 0s 16ms/step\n"
          ]
        },
        {
          "output_type": "stream",
          "name": "stderr",
          "text": [
            "Action: emotion: 100%|██████████| 4/4 [00:02<00:00,  1.82it/s]\n"
          ]
        },
        {
          "output_type": "stream",
          "name": "stdout",
          "text": [
            "  SUCCESSS\n",
            "Mag Cover #70 found: 1974Aug.png\n"
          ]
        },
        {
          "output_type": "stream",
          "name": "stderr",
          "text": [
            "Action: age:   0%|          | 0/4 [00:00<?, ?it/s]    "
          ]
        },
        {
          "output_type": "stream",
          "name": "stdout",
          "text": [
            "1/1 [==============================] - 0s 18ms/step\n"
          ]
        },
        {
          "output_type": "stream",
          "name": "stderr",
          "text": [
            "Action: gender:  25%|██▌       | 1/4 [00:01<00:04,  1.38s/it]"
          ]
        },
        {
          "output_type": "stream",
          "name": "stdout",
          "text": [
            "1/1 [==============================] - 0s 20ms/step\n"
          ]
        },
        {
          "output_type": "stream",
          "name": "stderr",
          "text": [
            "Action: race:  50%|█████     | 2/4 [00:01<00:01,  1.46it/s]  "
          ]
        },
        {
          "output_type": "stream",
          "name": "stdout",
          "text": [
            "1/1 [==============================] - 0s 20ms/step\n"
          ]
        },
        {
          "output_type": "stream",
          "name": "stderr",
          "text": [
            "Action: emotion:  75%|███████▌  | 3/4 [00:01<00:00,  2.30it/s]"
          ]
        },
        {
          "output_type": "stream",
          "name": "stdout",
          "text": [
            "1/1 [==============================] - 0s 21ms/step\n"
          ]
        },
        {
          "output_type": "stream",
          "name": "stderr",
          "text": [
            "Action: emotion: 100%|██████████| 4/4 [00:02<00:00,  1.37it/s]\n"
          ]
        },
        {
          "output_type": "stream",
          "name": "stdout",
          "text": [
            "  SUCCESSS\n",
            "Mag Cover #71 found: 1974Apr.png\n"
          ]
        },
        {
          "output_type": "stream",
          "name": "stderr",
          "text": [
            "Action: age:   0%|          | 0/4 [00:01<?, ?it/s]\n"
          ]
        },
        {
          "output_type": "stream",
          "name": "stdout",
          "text": [
            "  ERROR: Face could not be detected. Please confirm that the picture is a face photo or consider to set enforce_detection param to False.\n",
            "Mag Cover #72 found: 1974Jun.png\n"
          ]
        },
        {
          "output_type": "stream",
          "name": "stderr",
          "text": [
            "Action: age:   0%|          | 0/4 [00:00<?, ?it/s]    "
          ]
        },
        {
          "output_type": "stream",
          "name": "stdout",
          "text": [
            "1/1 [==============================] - 0s 19ms/step\n"
          ]
        },
        {
          "output_type": "stream",
          "name": "stderr",
          "text": [
            "Action: gender:  25%|██▌       | 1/4 [00:01<00:05,  1.76s/it]"
          ]
        },
        {
          "output_type": "stream",
          "name": "stdout",
          "text": [
            "1/1 [==============================] - 0s 21ms/step\n"
          ]
        },
        {
          "output_type": "stream",
          "name": "stderr",
          "text": [
            "Action: race:  50%|█████     | 2/4 [00:01<00:01,  1.25it/s]  "
          ]
        },
        {
          "output_type": "stream",
          "name": "stdout",
          "text": [
            "1/1 [==============================] - 0s 23ms/step\n"
          ]
        },
        {
          "output_type": "stream",
          "name": "stderr",
          "text": [
            "Action: emotion:  75%|███████▌  | 3/4 [00:02<00:00,  1.90it/s]"
          ]
        },
        {
          "output_type": "stream",
          "name": "stdout",
          "text": [
            "1/1 [==============================] - 0s 17ms/step\n"
          ]
        },
        {
          "output_type": "stream",
          "name": "stderr",
          "text": [
            "Action: emotion: 100%|██████████| 4/4 [00:03<00:00,  1.06it/s]\n"
          ]
        },
        {
          "output_type": "stream",
          "name": "stdout",
          "text": [
            "  SUCCESSS\n",
            "Mag Cover #73 found: 1979Feb.png\n"
          ]
        },
        {
          "output_type": "stream",
          "name": "stderr",
          "text": [
            "Action: age:   0%|          | 0/4 [00:01<?, ?it/s]\n"
          ]
        },
        {
          "output_type": "stream",
          "name": "stdout",
          "text": [
            "  ERROR: Face could not be detected. Please confirm that the picture is a face photo or consider to set enforce_detection param to False.\n",
            "Mag Cover #74 found: 1979Aug.png\n"
          ]
        },
        {
          "output_type": "stream",
          "name": "stderr",
          "text": [
            "Action: age:   0%|          | 0/4 [00:00<?, ?it/s]\n"
          ]
        },
        {
          "output_type": "stream",
          "name": "stdout",
          "text": [
            "  ERROR: Face could not be detected. Please confirm that the picture is a face photo or consider to set enforce_detection param to False.\n",
            "Mag Cover #75 found: 1979Sep.png\n"
          ]
        },
        {
          "output_type": "stream",
          "name": "stderr",
          "text": [
            "Action: age:   0%|          | 0/4 [00:00<?, ?it/s]    "
          ]
        },
        {
          "output_type": "stream",
          "name": "stdout",
          "text": [
            "1/1 [==============================] - 0s 20ms/step\n"
          ]
        },
        {
          "output_type": "stream",
          "name": "stderr",
          "text": [
            "Action: gender:  25%|██▌       | 1/4 [00:01<00:04,  1.35s/it]"
          ]
        },
        {
          "output_type": "stream",
          "name": "stdout",
          "text": [
            "1/1 [==============================] - 0s 22ms/step\n"
          ]
        },
        {
          "output_type": "stream",
          "name": "stderr",
          "text": [
            "Action: race:  50%|█████     | 2/4 [00:01<00:01,  1.47it/s]  "
          ]
        },
        {
          "output_type": "stream",
          "name": "stdout",
          "text": [
            "1/1 [==============================] - 0s 31ms/step\n"
          ]
        },
        {
          "output_type": "stream",
          "name": "stderr",
          "text": [
            "Action: emotion:  75%|███████▌  | 3/4 [00:01<00:00,  2.16it/s]"
          ]
        },
        {
          "output_type": "stream",
          "name": "stdout",
          "text": [
            "1/1 [==============================] - 0s 16ms/step\n"
          ]
        },
        {
          "output_type": "stream",
          "name": "stderr",
          "text": [
            "Action: emotion: 100%|██████████| 4/4 [00:03<00:00,  1.31it/s]\n"
          ]
        },
        {
          "output_type": "stream",
          "name": "stdout",
          "text": [
            "  SUCCESSS\n",
            "Mag Cover #76 found: 1979Mar.png\n"
          ]
        },
        {
          "output_type": "stream",
          "name": "stderr",
          "text": [
            "Action: age:   0%|          | 0/4 [00:00<?, ?it/s]\n"
          ]
        },
        {
          "output_type": "stream",
          "name": "stdout",
          "text": [
            "  ERROR: Face could not be detected. Please confirm that the picture is a face photo or consider to set enforce_detection param to False.\n",
            "Mag Cover #77 found: 1979Apr.png\n"
          ]
        },
        {
          "output_type": "stream",
          "name": "stderr",
          "text": [
            "Action: age:   0%|          | 0/4 [00:00<?, ?it/s]\n"
          ]
        },
        {
          "output_type": "stream",
          "name": "stdout",
          "text": [
            "  ERROR: Face could not be detected. Please confirm that the picture is a face photo or consider to set enforce_detection param to False.\n",
            "Mag Cover #78 found: 1979Dec.png\n"
          ]
        },
        {
          "output_type": "stream",
          "name": "stderr",
          "text": [
            "Action: age:   0%|          | 0/4 [00:00<?, ?it/s]    "
          ]
        },
        {
          "output_type": "stream",
          "name": "stdout",
          "text": [
            "1/1 [==============================] - 0s 19ms/step\n"
          ]
        },
        {
          "output_type": "stream",
          "name": "stderr",
          "text": [
            "Action: gender:  25%|██▌       | 1/4 [00:01<00:03,  1.05s/it]"
          ]
        },
        {
          "output_type": "stream",
          "name": "stdout",
          "text": [
            "1/1 [==============================] - 0s 18ms/step\n"
          ]
        },
        {
          "output_type": "stream",
          "name": "stderr",
          "text": [
            "Action: race:  50%|█████     | 2/4 [00:01<00:01,  1.82it/s]  "
          ]
        },
        {
          "output_type": "stream",
          "name": "stdout",
          "text": [
            "1/1 [==============================] - 0s 23ms/step\n"
          ]
        },
        {
          "output_type": "stream",
          "name": "stderr",
          "text": [
            "Action: emotion:  75%|███████▌  | 3/4 [00:01<00:00,  2.57it/s]"
          ]
        },
        {
          "output_type": "stream",
          "name": "stdout",
          "text": [
            "1/1 [==============================] - 0s 17ms/step\n"
          ]
        },
        {
          "output_type": "stream",
          "name": "stderr",
          "text": [
            "Action: emotion: 100%|██████████| 4/4 [00:02<00:00,  1.71it/s]\n"
          ]
        },
        {
          "output_type": "stream",
          "name": "stdout",
          "text": [
            "  SUCCESSS\n",
            "Mag Cover #79 found: 1979Jan.png\n"
          ]
        },
        {
          "output_type": "stream",
          "name": "stderr",
          "text": [
            "Action: age:   0%|          | 0/4 [00:00<?, ?it/s]\n"
          ]
        },
        {
          "output_type": "stream",
          "name": "stdout",
          "text": [
            "  ERROR: Face could not be detected. Please confirm that the picture is a face photo or consider to set enforce_detection param to False.\n",
            "Mag Cover #80 found: 1979Oct.png\n"
          ]
        },
        {
          "output_type": "stream",
          "name": "stderr",
          "text": [
            "Action: age:   0%|          | 0/4 [00:00<?, ?it/s]    "
          ]
        },
        {
          "output_type": "stream",
          "name": "stdout",
          "text": [
            "1/1 [==============================] - 0s 18ms/step\n"
          ]
        },
        {
          "output_type": "stream",
          "name": "stderr",
          "text": [
            "Action: gender:  25%|██▌       | 1/4 [00:00<00:02,  1.11it/s]"
          ]
        },
        {
          "output_type": "stream",
          "name": "stdout",
          "text": [
            "1/1 [==============================] - 0s 26ms/step\n"
          ]
        },
        {
          "output_type": "stream",
          "name": "stderr",
          "text": [
            "Action: race:  50%|█████     | 2/4 [00:01<00:00,  2.22it/s]  "
          ]
        },
        {
          "output_type": "stream",
          "name": "stdout",
          "text": [
            "1/1 [==============================] - 0s 19ms/step\n"
          ]
        },
        {
          "output_type": "stream",
          "name": "stderr",
          "text": [
            "Action: emotion:  75%|███████▌  | 3/4 [00:01<00:00,  2.94it/s]"
          ]
        },
        {
          "output_type": "stream",
          "name": "stdout",
          "text": [
            "1/1 [==============================] - 0s 25ms/step\n"
          ]
        },
        {
          "output_type": "stream",
          "name": "stderr",
          "text": [
            "Action: emotion: 100%|██████████| 4/4 [00:02<00:00,  1.94it/s]\n"
          ]
        },
        {
          "output_type": "stream",
          "name": "stdout",
          "text": [
            "  SUCCESSS\n",
            "Mag Cover #81 found: 1979Jun.png\n"
          ]
        },
        {
          "output_type": "stream",
          "name": "stderr",
          "text": [
            "Action: age:   0%|          | 0/4 [00:00<?, ?it/s]    "
          ]
        },
        {
          "output_type": "stream",
          "name": "stdout",
          "text": [
            "1/1 [==============================] - 0s 24ms/step\n"
          ]
        },
        {
          "output_type": "stream",
          "name": "stderr",
          "text": [
            "Action: gender:  25%|██▌       | 1/4 [00:01<00:04,  1.61s/it]"
          ]
        },
        {
          "output_type": "stream",
          "name": "stdout",
          "text": [
            "1/1 [==============================] - 0s 19ms/step\n"
          ]
        },
        {
          "output_type": "stream",
          "name": "stderr",
          "text": [
            "Action: race:  50%|█████     | 2/4 [00:01<00:01,  1.35it/s]  "
          ]
        },
        {
          "output_type": "stream",
          "name": "stdout",
          "text": [
            "1/1 [==============================] - 0s 18ms/step\n"
          ]
        },
        {
          "output_type": "stream",
          "name": "stderr",
          "text": [
            "Action: emotion:  75%|███████▌  | 3/4 [00:01<00:00,  2.02it/s]"
          ]
        },
        {
          "output_type": "stream",
          "name": "stdout",
          "text": [
            "1/1 [==============================] - 0s 22ms/step\n"
          ]
        },
        {
          "output_type": "stream",
          "name": "stderr",
          "text": [
            "Action: emotion: 100%|██████████| 4/4 [00:03<00:00,  1.17it/s]\n"
          ]
        },
        {
          "output_type": "stream",
          "name": "stdout",
          "text": [
            "  SUCCESSS\n",
            "Mag Cover #82 found: 1979Nov.png\n"
          ]
        },
        {
          "output_type": "stream",
          "name": "stderr",
          "text": [
            "Action: age:   0%|          | 0/4 [00:00<?, ?it/s]    "
          ]
        },
        {
          "output_type": "stream",
          "name": "stdout",
          "text": [
            "1/1 [==============================] - 0s 19ms/step\n"
          ]
        },
        {
          "output_type": "stream",
          "name": "stderr",
          "text": [
            "Action: gender:  25%|██▌       | 1/4 [00:01<00:03,  1.28s/it]"
          ]
        },
        {
          "output_type": "stream",
          "name": "stdout",
          "text": [
            "1/1 [==============================] - 0s 19ms/step\n"
          ]
        },
        {
          "output_type": "stream",
          "name": "stderr",
          "text": [
            "Action: race:  50%|█████     | 2/4 [00:01<00:01,  1.55it/s]  "
          ]
        },
        {
          "output_type": "stream",
          "name": "stdout",
          "text": [
            "1/1 [==============================] - 0s 24ms/step\n"
          ]
        },
        {
          "output_type": "stream",
          "name": "stderr",
          "text": [
            "Action: emotion:  75%|███████▌  | 3/4 [00:01<00:00,  2.25it/s]"
          ]
        },
        {
          "output_type": "stream",
          "name": "stdout",
          "text": [
            "1/1 [==============================] - 0s 17ms/step\n"
          ]
        },
        {
          "output_type": "stream",
          "name": "stderr",
          "text": [
            "Action: emotion: 100%|██████████| 4/4 [00:02<00:00,  1.43it/s]\n"
          ]
        },
        {
          "output_type": "stream",
          "name": "stdout",
          "text": [
            "  SUCCESSS\n",
            "Mag Cover #83 found: 1979Jul.png\n"
          ]
        },
        {
          "output_type": "stream",
          "name": "stderr",
          "text": [
            "Action: age:   0%|          | 0/4 [00:00<?, ?it/s]    "
          ]
        },
        {
          "output_type": "stream",
          "name": "stdout",
          "text": [
            "1/1 [==============================] - 0s 18ms/step\n"
          ]
        },
        {
          "output_type": "stream",
          "name": "stderr",
          "text": [
            "Action: gender:  25%|██▌       | 1/4 [00:01<00:03,  1.11s/it]"
          ]
        },
        {
          "output_type": "stream",
          "name": "stdout",
          "text": [
            "1/1 [==============================] - 0s 19ms/step\n"
          ]
        },
        {
          "output_type": "stream",
          "name": "stderr",
          "text": [
            "Action: race:  50%|█████     | 2/4 [00:01<00:01,  1.73it/s]  "
          ]
        },
        {
          "output_type": "stream",
          "name": "stdout",
          "text": [
            "1/1 [==============================] - 0s 27ms/step\n"
          ]
        },
        {
          "output_type": "stream",
          "name": "stderr",
          "text": [
            "Action: emotion:  75%|███████▌  | 3/4 [00:01<00:00,  2.65it/s]"
          ]
        },
        {
          "output_type": "stream",
          "name": "stdout",
          "text": [
            "1/1 [==============================] - 0s 17ms/step\n"
          ]
        },
        {
          "output_type": "stream",
          "name": "stderr",
          "text": [
            "Action: emotion: 100%|██████████| 4/4 [00:02<00:00,  1.66it/s]\n"
          ]
        },
        {
          "output_type": "stream",
          "name": "stdout",
          "text": [
            "  SUCCESSS\n",
            "Mag Cover #84 found: 1979May.png\n"
          ]
        },
        {
          "output_type": "stream",
          "name": "stderr",
          "text": [
            "Action: age:   0%|          | 0/4 [00:01<?, ?it/s]\n"
          ]
        },
        {
          "output_type": "stream",
          "name": "stdout",
          "text": [
            "  ERROR: Face could not be detected. Please confirm that the picture is a face photo or consider to set enforce_detection param to False.\n",
            "Mag Cover #85 found: 1972Mar.png\n"
          ]
        },
        {
          "output_type": "stream",
          "name": "stderr",
          "text": [
            "Action: age:   0%|          | 0/4 [00:00<?, ?it/s]    "
          ]
        },
        {
          "output_type": "stream",
          "name": "stdout",
          "text": [
            "1/1 [==============================] - 0s 18ms/step\n"
          ]
        },
        {
          "output_type": "stream",
          "name": "stderr",
          "text": [
            "Action: gender:  25%|██▌       | 1/4 [00:00<00:02,  1.17it/s]"
          ]
        },
        {
          "output_type": "stream",
          "name": "stdout",
          "text": [
            "1/1 [==============================] - 0s 19ms/step\n"
          ]
        },
        {
          "output_type": "stream",
          "name": "stderr",
          "text": [
            "Action: race:  50%|█████     | 2/4 [00:00<00:00,  2.32it/s]  "
          ]
        },
        {
          "output_type": "stream",
          "name": "stdout",
          "text": [
            "1/1 [==============================] - 0s 18ms/step\n"
          ]
        },
        {
          "output_type": "stream",
          "name": "stderr",
          "text": [
            "Action: emotion:  75%|███████▌  | 3/4 [00:01<00:00,  3.04it/s]"
          ]
        },
        {
          "output_type": "stream",
          "name": "stdout",
          "text": [
            "1/1 [==============================] - 0s 18ms/step\n"
          ]
        },
        {
          "output_type": "stream",
          "name": "stderr",
          "text": [
            "Action: emotion: 100%|██████████| 4/4 [00:01<00:00,  2.01it/s]\n"
          ]
        },
        {
          "output_type": "stream",
          "name": "stdout",
          "text": [
            "  SUCCESSS\n",
            "Mag Cover #86 found: 1972Jun.png\n"
          ]
        },
        {
          "output_type": "stream",
          "name": "stderr",
          "text": [
            "Action: age:   0%|          | 0/4 [00:00<?, ?it/s]    "
          ]
        },
        {
          "output_type": "stream",
          "name": "stdout",
          "text": [
            "1/1 [==============================] - 0s 19ms/step\n"
          ]
        },
        {
          "output_type": "stream",
          "name": "stderr",
          "text": [
            "Action: gender:  25%|██▌       | 1/4 [00:00<00:02,  1.02it/s]"
          ]
        },
        {
          "output_type": "stream",
          "name": "stdout",
          "text": [
            "1/1 [==============================] - 0s 25ms/step\n"
          ]
        },
        {
          "output_type": "stream",
          "name": "stderr",
          "text": [
            "Action: race:  50%|█████     | 2/4 [00:01<00:00,  2.06it/s]  "
          ]
        },
        {
          "output_type": "stream",
          "name": "stdout",
          "text": [
            "1/1 [==============================] - 0s 22ms/step\n"
          ]
        },
        {
          "output_type": "stream",
          "name": "stderr",
          "text": [
            "Action: emotion:  75%|███████▌  | 3/4 [00:01<00:00,  2.79it/s]"
          ]
        },
        {
          "output_type": "stream",
          "name": "stdout",
          "text": [
            "1/1 [==============================] - 0s 18ms/step\n"
          ]
        },
        {
          "output_type": "stream",
          "name": "stderr",
          "text": [
            "Action: emotion: 100%|██████████| 4/4 [00:02<00:00,  1.80it/s]\n"
          ]
        },
        {
          "output_type": "stream",
          "name": "stdout",
          "text": [
            "  SUCCESSS\n",
            "Mag Cover #87 found: 1972May.png\n"
          ]
        },
        {
          "output_type": "stream",
          "name": "stderr",
          "text": [
            "Action: age:   0%|          | 0/4 [00:00<?, ?it/s]    "
          ]
        },
        {
          "output_type": "stream",
          "name": "stdout",
          "text": [
            "1/1 [==============================] - 0s 19ms/step\n"
          ]
        },
        {
          "output_type": "stream",
          "name": "stderr",
          "text": [
            "Action: gender:  25%|██▌       | 1/4 [00:01<00:04,  1.60s/it]"
          ]
        },
        {
          "output_type": "stream",
          "name": "stdout",
          "text": [
            "1/1 [==============================] - 0s 20ms/step\n"
          ]
        },
        {
          "output_type": "stream",
          "name": "stderr",
          "text": [
            "Action: race:  50%|█████     | 2/4 [00:01<00:01,  1.29it/s]  "
          ]
        },
        {
          "output_type": "stream",
          "name": "stdout",
          "text": [
            "1/1 [==============================] - 0s 20ms/step\n"
          ]
        },
        {
          "output_type": "stream",
          "name": "stderr",
          "text": [
            "Action: emotion:  75%|███████▌  | 3/4 [00:02<00:00,  1.94it/s]"
          ]
        },
        {
          "output_type": "stream",
          "name": "stdout",
          "text": [
            "1/1 [==============================] - 0s 20ms/step\n"
          ]
        },
        {
          "output_type": "stream",
          "name": "stderr",
          "text": [
            "Action: emotion: 100%|██████████| 4/4 [00:03<00:00,  1.16it/s]\n"
          ]
        },
        {
          "output_type": "stream",
          "name": "stdout",
          "text": [
            "  SUCCESSS\n",
            "Mag Cover #88 found: 1972Aug.png\n"
          ]
        },
        {
          "output_type": "stream",
          "name": "stderr",
          "text": [
            "Action: age:   0%|          | 0/4 [00:01<?, ?it/s]\n"
          ]
        },
        {
          "output_type": "stream",
          "name": "stdout",
          "text": [
            "  ERROR: Face could not be detected. Please confirm that the picture is a face photo or consider to set enforce_detection param to False.\n",
            "Mag Cover #89 found: 1972Dec.png\n"
          ]
        },
        {
          "output_type": "stream",
          "name": "stderr",
          "text": [
            "Action: age:   0%|          | 0/4 [00:00<?, ?it/s]\n"
          ]
        },
        {
          "output_type": "stream",
          "name": "stdout",
          "text": [
            "  ERROR: Face could not be detected. Please confirm that the picture is a face photo or consider to set enforce_detection param to False.\n",
            "Mag Cover #90 found: 1972Sep.png\n"
          ]
        },
        {
          "output_type": "stream",
          "name": "stderr",
          "text": [
            "Action: age:   0%|          | 0/4 [00:00<?, ?it/s]\n"
          ]
        },
        {
          "output_type": "stream",
          "name": "stdout",
          "text": [
            "  ERROR: Face could not be detected. Please confirm that the picture is a face photo or consider to set enforce_detection param to False.\n",
            "Mag Cover #91 found: 1972Jan.png\n"
          ]
        },
        {
          "output_type": "stream",
          "name": "stderr",
          "text": [
            "Action: age:   0%|          | 0/4 [00:00<?, ?it/s]    "
          ]
        },
        {
          "output_type": "stream",
          "name": "stdout",
          "text": [
            "1/1 [==============================] - 0s 18ms/step\n"
          ]
        },
        {
          "output_type": "stream",
          "name": "stderr",
          "text": [
            "Action: gender:  25%|██▌       | 1/4 [00:01<00:04,  1.34s/it]"
          ]
        },
        {
          "output_type": "stream",
          "name": "stdout",
          "text": [
            "1/1 [==============================] - 0s 20ms/step\n"
          ]
        },
        {
          "output_type": "stream",
          "name": "stderr",
          "text": [
            "Action: race:  50%|█████     | 2/4 [00:01<00:01,  1.47it/s]  "
          ]
        },
        {
          "output_type": "stream",
          "name": "stdout",
          "text": [
            "1/1 [==============================] - 0s 20ms/step\n"
          ]
        },
        {
          "output_type": "stream",
          "name": "stderr",
          "text": [
            "Action: emotion:  75%|███████▌  | 3/4 [00:01<00:00,  2.16it/s]"
          ]
        },
        {
          "output_type": "stream",
          "name": "stdout",
          "text": [
            "1/1 [==============================] - 0s 26ms/step\n"
          ]
        },
        {
          "output_type": "stream",
          "name": "stderr",
          "text": [
            "Action: emotion: 100%|██████████| 4/4 [00:02<00:00,  1.35it/s]\n"
          ]
        },
        {
          "output_type": "stream",
          "name": "stdout",
          "text": [
            "  SUCCESSS\n",
            "Mag Cover #92 found: 1972Apr.png\n"
          ]
        },
        {
          "output_type": "stream",
          "name": "stderr",
          "text": [
            "Action: age:   0%|          | 0/4 [00:01<?, ?it/s]\n"
          ]
        },
        {
          "output_type": "stream",
          "name": "stdout",
          "text": [
            "  ERROR: Face could not be detected. Please confirm that the picture is a face photo or consider to set enforce_detection param to False.\n",
            "Mag Cover #93 found: 1972Oct.png\n"
          ]
        },
        {
          "output_type": "stream",
          "name": "stderr",
          "text": [
            "Action: age:   0%|          | 0/4 [00:00<?, ?it/s]    "
          ]
        },
        {
          "output_type": "stream",
          "name": "stdout",
          "text": [
            "1/1 [==============================] - 0s 20ms/step\n"
          ]
        },
        {
          "output_type": "stream",
          "name": "stderr",
          "text": [
            "Action: gender:  25%|██▌       | 1/4 [00:00<00:02,  1.01it/s]"
          ]
        },
        {
          "output_type": "stream",
          "name": "stdout",
          "text": [
            "1/1 [==============================] - 0s 30ms/step\n"
          ]
        },
        {
          "output_type": "stream",
          "name": "stderr",
          "text": [
            "Action: race:  50%|█████     | 2/4 [00:01<00:01,  1.88it/s]  "
          ]
        },
        {
          "output_type": "stream",
          "name": "stdout",
          "text": [
            "1/1 [==============================] - 0s 21ms/step\n"
          ]
        },
        {
          "output_type": "stream",
          "name": "stderr",
          "text": [
            "Action: emotion:  75%|███████▌  | 3/4 [00:01<00:00,  2.86it/s]"
          ]
        },
        {
          "output_type": "stream",
          "name": "stdout",
          "text": [
            "1/1 [==============================] - 0s 21ms/step\n"
          ]
        },
        {
          "output_type": "stream",
          "name": "stderr",
          "text": [
            "Action: emotion: 100%|██████████| 4/4 [00:02<00:00,  1.81it/s]\n"
          ]
        },
        {
          "output_type": "stream",
          "name": "stdout",
          "text": [
            "  SUCCESSS\n",
            "Mag Cover #94 found: 1972Feb.png\n"
          ]
        },
        {
          "output_type": "stream",
          "name": "stderr",
          "text": [
            "Action: age:   0%|          | 0/4 [00:00<?, ?it/s]\n"
          ]
        },
        {
          "output_type": "stream",
          "name": "stdout",
          "text": [
            "  ERROR: Face could not be detected. Please confirm that the picture is a face photo or consider to set enforce_detection param to False.\n",
            "Mag Cover #95 found: 1972Jul.png\n"
          ]
        },
        {
          "output_type": "stream",
          "name": "stderr",
          "text": [
            "Action: age:   0%|          | 0/4 [00:00<?, ?it/s]    "
          ]
        },
        {
          "output_type": "stream",
          "name": "stdout",
          "text": [
            "1/1 [==============================] - 0s 24ms/step\n"
          ]
        },
        {
          "output_type": "stream",
          "name": "stderr",
          "text": [
            "Action: gender:  25%|██▌       | 1/4 [00:01<00:04,  1.51s/it]"
          ]
        },
        {
          "output_type": "stream",
          "name": "stdout",
          "text": [
            "1/1 [==============================] - 0s 20ms/step\n"
          ]
        },
        {
          "output_type": "stream",
          "name": "stderr",
          "text": [
            "Action: race:  50%|█████     | 2/4 [00:01<00:01,  1.42it/s]  "
          ]
        },
        {
          "output_type": "stream",
          "name": "stdout",
          "text": [
            "1/1 [==============================] - 0s 19ms/step\n"
          ]
        },
        {
          "output_type": "stream",
          "name": "stderr",
          "text": [
            "Action: emotion:  75%|███████▌  | 3/4 [00:01<00:00,  2.09it/s]"
          ]
        },
        {
          "output_type": "stream",
          "name": "stdout",
          "text": [
            "1/1 [==============================] - 0s 20ms/step\n"
          ]
        },
        {
          "output_type": "stream",
          "name": "stderr",
          "text": [
            "Action: emotion: 100%|██████████| 4/4 [00:03<00:00,  1.21it/s]\n"
          ]
        },
        {
          "output_type": "stream",
          "name": "stdout",
          "text": [
            "  SUCCESSS\n",
            "Mag Cover #96 found: 1972Nov.png\n"
          ]
        },
        {
          "output_type": "stream",
          "name": "stderr",
          "text": [
            "Action: age:   0%|          | 0/4 [00:00<?, ?it/s]    "
          ]
        },
        {
          "output_type": "stream",
          "name": "stdout",
          "text": [
            "1/1 [==============================] - 0s 20ms/step\n"
          ]
        },
        {
          "output_type": "stream",
          "name": "stderr",
          "text": [
            "Action: gender:  25%|██▌       | 1/4 [00:00<00:02,  1.24it/s]"
          ]
        },
        {
          "output_type": "stream",
          "name": "stdout",
          "text": [
            "1/1 [==============================] - 0s 19ms/step\n"
          ]
        },
        {
          "output_type": "stream",
          "name": "stderr",
          "text": [
            "Action: race:  50%|█████     | 2/4 [00:01<00:00,  2.21it/s]  "
          ]
        },
        {
          "output_type": "stream",
          "name": "stdout",
          "text": [
            "1/1 [==============================] - 0s 19ms/step\n"
          ]
        },
        {
          "output_type": "stream",
          "name": "stderr",
          "text": [
            "Action: emotion:  75%|███████▌  | 3/4 [00:01<00:00,  3.29it/s]"
          ]
        },
        {
          "output_type": "stream",
          "name": "stdout",
          "text": [
            "1/1 [==============================] - 0s 17ms/step\n"
          ]
        },
        {
          "output_type": "stream",
          "name": "stderr",
          "text": [
            "Action: emotion: 100%|██████████| 4/4 [00:01<00:00,  2.16it/s]\n"
          ]
        },
        {
          "output_type": "stream",
          "name": "stdout",
          "text": [
            "  SUCCESSS\n",
            "Mag Cover #97 found: 1978Jun.png\n"
          ]
        },
        {
          "output_type": "stream",
          "name": "stderr",
          "text": [
            "Action: age:   0%|          | 0/4 [00:00<?, ?it/s]    "
          ]
        },
        {
          "output_type": "stream",
          "name": "stdout",
          "text": [
            "1/1 [==============================] - 0s 21ms/step\n"
          ]
        },
        {
          "output_type": "stream",
          "name": "stderr",
          "text": [
            "Action: gender:  25%|██▌       | 1/4 [00:01<00:03,  1.06s/it]"
          ]
        },
        {
          "output_type": "stream",
          "name": "stdout",
          "text": [
            "1/1 [==============================] - 0s 20ms/step\n"
          ]
        },
        {
          "output_type": "stream",
          "name": "stderr",
          "text": [
            "Action: race:  50%|█████     | 2/4 [00:01<00:01,  1.79it/s]  "
          ]
        },
        {
          "output_type": "stream",
          "name": "stdout",
          "text": [
            "1/1 [==============================] - 0s 19ms/step\n"
          ]
        },
        {
          "output_type": "stream",
          "name": "stderr",
          "text": [
            "Action: emotion:  75%|███████▌  | 3/4 [00:01<00:00,  2.51it/s]"
          ]
        },
        {
          "output_type": "stream",
          "name": "stdout",
          "text": [
            "1/1 [==============================] - 0s 22ms/step\n"
          ]
        },
        {
          "output_type": "stream",
          "name": "stderr",
          "text": [
            "Action: emotion: 100%|██████████| 4/4 [00:02<00:00,  1.63it/s]\n"
          ]
        },
        {
          "output_type": "stream",
          "name": "stdout",
          "text": [
            "  SUCCESSS\n",
            "Mag Cover #98 found: 1978Aug.png\n"
          ]
        },
        {
          "output_type": "stream",
          "name": "stderr",
          "text": [
            "Action: age:   0%|          | 0/4 [00:00<?, ?it/s]\n"
          ]
        },
        {
          "output_type": "stream",
          "name": "stdout",
          "text": [
            "  ERROR: Face could not be detected. Please confirm that the picture is a face photo or consider to set enforce_detection param to False.\n",
            "Mag Cover #99 found: 1978Dec.png\n"
          ]
        },
        {
          "output_type": "stream",
          "name": "stderr",
          "text": [
            "Action: age:   0%|          | 0/4 [00:01<?, ?it/s]\n"
          ]
        },
        {
          "output_type": "stream",
          "name": "stdout",
          "text": [
            "  ERROR: Face could not be detected. Please confirm that the picture is a face photo or consider to set enforce_detection param to False.\n",
            "Mag Cover #100 found: 1978Nov.png\n"
          ]
        },
        {
          "output_type": "stream",
          "name": "stderr",
          "text": [
            "Action: age:   0%|          | 0/4 [00:00<?, ?it/s]    "
          ]
        },
        {
          "output_type": "stream",
          "name": "stdout",
          "text": [
            "1/1 [==============================] - 0s 19ms/step\n"
          ]
        },
        {
          "output_type": "stream",
          "name": "stderr",
          "text": [
            "Action: gender:  25%|██▌       | 1/4 [00:01<00:03,  1.20s/it]"
          ]
        },
        {
          "output_type": "stream",
          "name": "stdout",
          "text": [
            "1/1 [==============================] - 0s 21ms/step\n"
          ]
        },
        {
          "output_type": "stream",
          "name": "stderr",
          "text": [
            "Action: race:  50%|█████     | 2/4 [00:01<00:01,  1.63it/s]  "
          ]
        },
        {
          "output_type": "stream",
          "name": "stdout",
          "text": [
            "1/1 [==============================] - 0s 21ms/step\n"
          ]
        },
        {
          "output_type": "stream",
          "name": "stderr",
          "text": [
            "Action: emotion:  75%|███████▌  | 3/4 [00:01<00:00,  2.31it/s]"
          ]
        },
        {
          "output_type": "stream",
          "name": "stdout",
          "text": [
            "1/1 [==============================] - 0s 16ms/step\n"
          ]
        },
        {
          "output_type": "stream",
          "name": "stderr",
          "text": [
            "Action: emotion: 100%|██████████| 4/4 [00:02<00:00,  1.49it/s]\n"
          ]
        },
        {
          "output_type": "stream",
          "name": "stdout",
          "text": [
            "  SUCCESSS\n",
            "Mag Cover #101 found: 1978Apr.png\n"
          ]
        },
        {
          "output_type": "stream",
          "name": "stderr",
          "text": [
            "Action: age:   0%|          | 0/4 [00:00<?, ?it/s]    "
          ]
        },
        {
          "output_type": "stream",
          "name": "stdout",
          "text": [
            "1/1 [==============================] - 0s 18ms/step\n"
          ]
        },
        {
          "output_type": "stream",
          "name": "stderr",
          "text": [
            "Action: gender:  25%|██▌       | 1/4 [00:00<00:02,  1.07it/s]"
          ]
        },
        {
          "output_type": "stream",
          "name": "stdout",
          "text": [
            "1/1 [==============================] - 0s 18ms/step\n"
          ]
        },
        {
          "output_type": "stream",
          "name": "stderr",
          "text": [
            "Action: race:  50%|█████     | 2/4 [00:01<00:00,  2.17it/s]  "
          ]
        },
        {
          "output_type": "stream",
          "name": "stdout",
          "text": [
            "1/1 [==============================] - 0s 21ms/step\n"
          ]
        },
        {
          "output_type": "stream",
          "name": "stderr",
          "text": [
            "Action: emotion:  75%|███████▌  | 3/4 [00:01<00:00,  2.91it/s]"
          ]
        },
        {
          "output_type": "stream",
          "name": "stdout",
          "text": [
            "1/1 [==============================] - 0s 18ms/step\n"
          ]
        },
        {
          "output_type": "stream",
          "name": "stderr",
          "text": [
            "Action: emotion: 100%|██████████| 4/4 [00:02<00:00,  1.87it/s]\n"
          ]
        },
        {
          "output_type": "stream",
          "name": "stdout",
          "text": [
            "  SUCCESSS\n",
            "Mag Cover #102 found: 1978Oct.png\n"
          ]
        },
        {
          "output_type": "stream",
          "name": "stderr",
          "text": [
            "Action: age:   0%|          | 0/4 [00:00<?, ?it/s]    "
          ]
        },
        {
          "output_type": "stream",
          "name": "stdout",
          "text": [
            "1/1 [==============================] - 0s 18ms/step\n"
          ]
        },
        {
          "output_type": "stream",
          "name": "stderr",
          "text": [
            "Action: gender:  25%|██▌       | 1/4 [00:01<00:03,  1.19s/it]"
          ]
        },
        {
          "output_type": "stream",
          "name": "stdout",
          "text": [
            "1/1 [==============================] - 0s 19ms/step\n"
          ]
        },
        {
          "output_type": "stream",
          "name": "stderr",
          "text": [
            "Action: race:  50%|█████     | 2/4 [00:01<00:01,  1.64it/s]  "
          ]
        },
        {
          "output_type": "stream",
          "name": "stdout",
          "text": [
            "1/1 [==============================] - 0s 18ms/step\n"
          ]
        },
        {
          "output_type": "stream",
          "name": "stderr",
          "text": [
            "Action: emotion:  75%|███████▌  | 3/4 [00:01<00:00,  2.33it/s]"
          ]
        },
        {
          "output_type": "stream",
          "name": "stdout",
          "text": [
            "1/1 [==============================] - 0s 18ms/step\n"
          ]
        },
        {
          "output_type": "stream",
          "name": "stderr",
          "text": [
            "Action: emotion: 100%|██████████| 4/4 [00:02<00:00,  1.50it/s]\n"
          ]
        },
        {
          "output_type": "stream",
          "name": "stdout",
          "text": [
            "  SUCCESSS\n",
            "Mag Cover #103 found: 1978Feb.png\n"
          ]
        },
        {
          "output_type": "stream",
          "name": "stderr",
          "text": [
            "Action: age:   0%|          | 0/4 [00:00<?, ?it/s]    "
          ]
        },
        {
          "output_type": "stream",
          "name": "stdout",
          "text": [
            "1/1 [==============================] - 0s 19ms/step\n"
          ]
        },
        {
          "output_type": "stream",
          "name": "stderr",
          "text": [
            "Action: gender:  25%|██▌       | 1/4 [00:01<00:03,  1.15s/it]"
          ]
        },
        {
          "output_type": "stream",
          "name": "stdout",
          "text": [
            "1/1 [==============================] - 0s 20ms/step\n"
          ]
        },
        {
          "output_type": "stream",
          "name": "stderr",
          "text": [
            "Action: race:  50%|█████     | 2/4 [00:01<00:01,  1.68it/s]  "
          ]
        },
        {
          "output_type": "stream",
          "name": "stdout",
          "text": [
            "1/1 [==============================] - 0s 23ms/step\n"
          ]
        },
        {
          "output_type": "stream",
          "name": "stderr",
          "text": [
            "Action: emotion:  75%|███████▌  | 3/4 [00:01<00:00,  2.40it/s]"
          ]
        },
        {
          "output_type": "stream",
          "name": "stdout",
          "text": [
            "1/1 [==============================] - 0s 18ms/step\n"
          ]
        },
        {
          "output_type": "stream",
          "name": "stderr",
          "text": [
            "Action: emotion: 100%|██████████| 4/4 [00:02<00:00,  1.56it/s]\n"
          ]
        },
        {
          "output_type": "stream",
          "name": "stdout",
          "text": [
            "  SUCCESSS\n",
            "Mag Cover #104 found: 1978Sep.png\n"
          ]
        },
        {
          "output_type": "stream",
          "name": "stderr",
          "text": [
            "Action: age:   0%|          | 0/4 [00:00<?, ?it/s]\n"
          ]
        },
        {
          "output_type": "stream",
          "name": "stdout",
          "text": [
            "  ERROR: Face could not be detected. Please confirm that the picture is a face photo or consider to set enforce_detection param to False.\n",
            "Mag Cover #105 found: 1978Jan.png\n"
          ]
        },
        {
          "output_type": "stream",
          "name": "stderr",
          "text": [
            "Action: age:   0%|          | 0/4 [00:00<?, ?it/s]\n"
          ]
        },
        {
          "output_type": "stream",
          "name": "stdout",
          "text": [
            "  ERROR: Face could not be detected. Please confirm that the picture is a face photo or consider to set enforce_detection param to False.\n",
            "Mag Cover #106 found: 1978May.png\n"
          ]
        },
        {
          "output_type": "stream",
          "name": "stderr",
          "text": [
            "Action: age:   0%|          | 0/4 [00:00<?, ?it/s]    "
          ]
        },
        {
          "output_type": "stream",
          "name": "stdout",
          "text": [
            "1/1 [==============================] - 0s 18ms/step\n"
          ]
        },
        {
          "output_type": "stream",
          "name": "stderr",
          "text": [
            "Action: gender:  25%|██▌       | 1/4 [00:01<00:04,  1.36s/it]"
          ]
        },
        {
          "output_type": "stream",
          "name": "stdout",
          "text": [
            "1/1 [==============================] - 0s 20ms/step\n"
          ]
        },
        {
          "output_type": "stream",
          "name": "stderr",
          "text": [
            "Action: race:  50%|█████     | 2/4 [00:01<00:01,  1.48it/s]  "
          ]
        },
        {
          "output_type": "stream",
          "name": "stdout",
          "text": [
            "1/1 [==============================] - 0s 19ms/step\n"
          ]
        },
        {
          "output_type": "stream",
          "name": "stderr",
          "text": [
            "Action: emotion:  75%|███████▌  | 3/4 [00:01<00:00,  2.16it/s]"
          ]
        },
        {
          "output_type": "stream",
          "name": "stdout",
          "text": [
            "1/1 [==============================] - 0s 17ms/step\n"
          ]
        },
        {
          "output_type": "stream",
          "name": "stderr",
          "text": [
            "Action: emotion: 100%|██████████| 4/4 [00:02<00:00,  1.33it/s]\n"
          ]
        },
        {
          "output_type": "stream",
          "name": "stdout",
          "text": [
            "  SUCCESSS\n",
            "Mag Cover #107 found: 1978Jul.png\n"
          ]
        },
        {
          "output_type": "stream",
          "name": "stderr",
          "text": [
            "Action: age:   0%|          | 0/4 [00:00<?, ?it/s]    "
          ]
        },
        {
          "output_type": "stream",
          "name": "stdout",
          "text": [
            "1/1 [==============================] - 0s 19ms/step\n"
          ]
        },
        {
          "output_type": "stream",
          "name": "stderr",
          "text": [
            "Action: gender:  25%|██▌       | 1/4 [00:01<00:03,  1.11s/it]"
          ]
        },
        {
          "output_type": "stream",
          "name": "stdout",
          "text": [
            "1/1 [==============================] - 0s 19ms/step\n"
          ]
        },
        {
          "output_type": "stream",
          "name": "stderr",
          "text": [
            "Action: race:  50%|█████     | 2/4 [00:01<00:01,  1.72it/s]  "
          ]
        },
        {
          "output_type": "stream",
          "name": "stdout",
          "text": [
            "1/1 [==============================] - 0s 19ms/step\n"
          ]
        },
        {
          "output_type": "stream",
          "name": "stderr",
          "text": [
            "Action: emotion:  75%|███████▌  | 3/4 [00:01<00:00,  2.66it/s]"
          ]
        },
        {
          "output_type": "stream",
          "name": "stdout",
          "text": [
            "1/1 [==============================] - 0s 17ms/step\n"
          ]
        },
        {
          "output_type": "stream",
          "name": "stderr",
          "text": [
            "Action: emotion: 100%|██████████| 4/4 [00:02<00:00,  1.62it/s]\n"
          ]
        },
        {
          "output_type": "stream",
          "name": "stdout",
          "text": [
            "  SUCCESSS\n",
            "Mag Cover #108 found: 1978Mar.png\n"
          ]
        },
        {
          "output_type": "stream",
          "name": "stderr",
          "text": [
            "Action: age:   0%|          | 0/4 [00:00<?, ?it/s]    "
          ]
        },
        {
          "output_type": "stream",
          "name": "stdout",
          "text": [
            "1/1 [==============================] - 0s 20ms/step\n"
          ]
        },
        {
          "output_type": "stream",
          "name": "stderr",
          "text": [
            "Action: gender:  25%|██▌       | 1/4 [00:01<00:03,  1.07s/it]"
          ]
        },
        {
          "output_type": "stream",
          "name": "stdout",
          "text": [
            "1/1 [==============================] - 0s 22ms/step\n"
          ]
        },
        {
          "output_type": "stream",
          "name": "stderr",
          "text": [
            "Action: race:  50%|█████     | 2/4 [00:01<00:01,  1.77it/s]  "
          ]
        },
        {
          "output_type": "stream",
          "name": "stdout",
          "text": [
            "1/1 [==============================] - 0s 25ms/step\n"
          ]
        },
        {
          "output_type": "stream",
          "name": "stderr",
          "text": [
            "Action: emotion:  75%|███████▌  | 3/4 [00:01<00:00,  2.48it/s]"
          ]
        },
        {
          "output_type": "stream",
          "name": "stdout",
          "text": [
            "1/1 [==============================] - 0s 20ms/step\n"
          ]
        },
        {
          "output_type": "stream",
          "name": "stderr",
          "text": [
            "Action: emotion: 100%|██████████| 4/4 [00:02<00:00,  1.61it/s]\n"
          ]
        },
        {
          "output_type": "stream",
          "name": "stdout",
          "text": [
            "  SUCCESSS\n",
            "Mag Cover #109 found: 1973Aug.png\n"
          ]
        },
        {
          "output_type": "stream",
          "name": "stderr",
          "text": [
            "Action: age:   0%|          | 0/4 [00:00<?, ?it/s]\n"
          ]
        },
        {
          "output_type": "stream",
          "name": "stdout",
          "text": [
            "  ERROR: Face could not be detected. Please confirm that the picture is a face photo or consider to set enforce_detection param to False.\n",
            "Mag Cover #110 found: 1973Apr.png\n"
          ]
        },
        {
          "output_type": "stream",
          "name": "stderr",
          "text": [
            "Action: age:   0%|          | 0/4 [00:00<?, ?it/s]\n"
          ]
        },
        {
          "output_type": "stream",
          "name": "stdout",
          "text": [
            "  ERROR: Face could not be detected. Please confirm that the picture is a face photo or consider to set enforce_detection param to False.\n",
            "Mag Cover #111 found: 1973Nov.png\n"
          ]
        },
        {
          "output_type": "stream",
          "name": "stderr",
          "text": [
            "Action: age:   0%|          | 0/4 [00:00<?, ?it/s]    "
          ]
        },
        {
          "output_type": "stream",
          "name": "stdout",
          "text": [
            "1/1 [==============================] - 0s 20ms/step\n"
          ]
        },
        {
          "output_type": "stream",
          "name": "stderr",
          "text": [
            "Action: gender:  25%|██▌       | 1/4 [00:01<00:04,  1.40s/it]"
          ]
        },
        {
          "output_type": "stream",
          "name": "stdout",
          "text": [
            "1/1 [==============================] - 0s 19ms/step\n"
          ]
        },
        {
          "output_type": "stream",
          "name": "stderr",
          "text": [
            "Action: race:  50%|█████     | 2/4 [00:01<00:01,  1.53it/s]  "
          ]
        },
        {
          "output_type": "stream",
          "name": "stdout",
          "text": [
            "1/1 [==============================] - 0s 19ms/step\n"
          ]
        },
        {
          "output_type": "stream",
          "name": "stderr",
          "text": [
            "Action: emotion:  75%|███████▌  | 3/4 [00:01<00:00,  2.23it/s]"
          ]
        },
        {
          "output_type": "stream",
          "name": "stdout",
          "text": [
            "1/1 [==============================] - 0s 17ms/step\n"
          ]
        },
        {
          "output_type": "stream",
          "name": "stderr",
          "text": [
            "Action: emotion: 100%|██████████| 4/4 [00:03<00:00,  1.33it/s]\n"
          ]
        },
        {
          "output_type": "stream",
          "name": "stdout",
          "text": [
            "  SUCCESSS\n",
            "Mag Cover #112 found: 1973Jun.png\n"
          ]
        },
        {
          "output_type": "stream",
          "name": "stderr",
          "text": [
            "Action: age:   0%|          | 0/4 [00:00<?, ?it/s]    "
          ]
        },
        {
          "output_type": "stream",
          "name": "stdout",
          "text": [
            "1/1 [==============================] - 0s 19ms/step\n"
          ]
        },
        {
          "output_type": "stream",
          "name": "stderr",
          "text": [
            "Action: gender:  25%|██▌       | 1/4 [00:01<00:04,  1.37s/it]"
          ]
        },
        {
          "output_type": "stream",
          "name": "stdout",
          "text": [
            "1/1 [==============================] - 0s 20ms/step\n"
          ]
        },
        {
          "output_type": "stream",
          "name": "stderr",
          "text": [
            "Action: race:  50%|█████     | 2/4 [00:01<00:01,  1.46it/s]  "
          ]
        },
        {
          "output_type": "stream",
          "name": "stdout",
          "text": [
            "1/1 [==============================] - 0s 20ms/step\n"
          ]
        },
        {
          "output_type": "stream",
          "name": "stderr",
          "text": [
            "Action: emotion:  75%|███████▌  | 3/4 [00:01<00:00,  2.31it/s]"
          ]
        },
        {
          "output_type": "stream",
          "name": "stdout",
          "text": [
            "1/1 [==============================] - 0s 17ms/step\n"
          ]
        },
        {
          "output_type": "stream",
          "name": "stderr",
          "text": [
            "Action: emotion: 100%|██████████| 4/4 [00:03<00:00,  1.33it/s]\n"
          ]
        },
        {
          "output_type": "stream",
          "name": "stdout",
          "text": [
            "  SUCCESSS\n",
            "Mag Cover #113 found: 1973Mar.png\n"
          ]
        },
        {
          "output_type": "stream",
          "name": "stderr",
          "text": [
            "Action: age:   0%|          | 0/4 [00:00<?, ?it/s]    "
          ]
        },
        {
          "output_type": "stream",
          "name": "stdout",
          "text": [
            "1/1 [==============================] - 0s 18ms/step\n"
          ]
        },
        {
          "output_type": "stream",
          "name": "stderr",
          "text": [
            "Action: gender:  25%|██▌       | 1/4 [00:01<00:04,  1.40s/it]"
          ]
        },
        {
          "output_type": "stream",
          "name": "stdout",
          "text": [
            "1/1 [==============================] - 0s 18ms/step\n"
          ]
        },
        {
          "output_type": "stream",
          "name": "stderr",
          "text": [
            "Action: race:  50%|█████     | 2/4 [00:01<00:01,  1.44it/s]  "
          ]
        },
        {
          "output_type": "stream",
          "name": "stdout",
          "text": [
            "1/1 [==============================] - 0s 20ms/step\n"
          ]
        },
        {
          "output_type": "stream",
          "name": "stderr",
          "text": [
            "Action: emotion:  75%|███████▌  | 3/4 [00:01<00:00,  2.13it/s]"
          ]
        },
        {
          "output_type": "stream",
          "name": "stdout",
          "text": [
            "1/1 [==============================] - 0s 17ms/step\n"
          ]
        },
        {
          "output_type": "stream",
          "name": "stderr",
          "text": [
            "Action: emotion: 100%|██████████| 4/4 [00:03<00:00,  1.28it/s]\n"
          ]
        },
        {
          "output_type": "stream",
          "name": "stdout",
          "text": [
            "  SUCCESSS\n",
            "Mag Cover #114 found: 1973Dec.png\n"
          ]
        },
        {
          "output_type": "stream",
          "name": "stderr",
          "text": [
            "Action: age:   0%|          | 0/4 [00:00<?, ?it/s]\n"
          ]
        },
        {
          "output_type": "stream",
          "name": "stdout",
          "text": [
            "  ERROR: Face could not be detected. Please confirm that the picture is a face photo or consider to set enforce_detection param to False.\n",
            "Mag Cover #115 found: 1973Jul.png\n"
          ]
        },
        {
          "output_type": "stream",
          "name": "stderr",
          "text": [
            "Action: age:   0%|          | 0/4 [00:00<?, ?it/s]\n"
          ]
        },
        {
          "output_type": "stream",
          "name": "stdout",
          "text": [
            "  ERROR: Face could not be detected. Please confirm that the picture is a face photo or consider to set enforce_detection param to False.\n",
            "Mag Cover #116 found: 1973Oct.png\n"
          ]
        },
        {
          "output_type": "stream",
          "name": "stderr",
          "text": [
            "Action: age:   0%|          | 0/4 [00:01<?, ?it/s]\n"
          ]
        },
        {
          "output_type": "stream",
          "name": "stdout",
          "text": [
            "  ERROR: Face could not be detected. Please confirm that the picture is a face photo or consider to set enforce_detection param to False.\n",
            "Mag Cover #117 found: 1973Feb.png\n"
          ]
        },
        {
          "output_type": "stream",
          "name": "stderr",
          "text": [
            "Action: age:   0%|          | 0/4 [00:00<?, ?it/s]    "
          ]
        },
        {
          "output_type": "stream",
          "name": "stdout",
          "text": [
            "1/1 [==============================] - 0s 19ms/step\n"
          ]
        },
        {
          "output_type": "stream",
          "name": "stderr",
          "text": [
            "Action: gender:  25%|██▌       | 1/4 [00:00<00:02,  1.16it/s]"
          ]
        },
        {
          "output_type": "stream",
          "name": "stdout",
          "text": [
            "1/1 [==============================] - 0s 19ms/step\n"
          ]
        },
        {
          "output_type": "stream",
          "name": "stderr",
          "text": [
            "Action: race:  50%|█████     | 2/4 [00:01<00:00,  2.30it/s]  "
          ]
        },
        {
          "output_type": "stream",
          "name": "stdout",
          "text": [
            "1/1 [==============================] - 0s 21ms/step\n"
          ]
        },
        {
          "output_type": "stream",
          "name": "stderr",
          "text": [
            "Action: emotion:  75%|███████▌  | 3/4 [00:01<00:00,  3.37it/s]"
          ]
        },
        {
          "output_type": "stream",
          "name": "stdout",
          "text": [
            "1/1 [==============================] - 0s 20ms/step\n"
          ]
        },
        {
          "output_type": "stream",
          "name": "stderr",
          "text": [
            "Action: emotion: 100%|██████████| 4/4 [00:01<00:00,  2.09it/s]\n"
          ]
        },
        {
          "output_type": "stream",
          "name": "stdout",
          "text": [
            "  SUCCESSS\n",
            "Mag Cover #118 found: 1973Sep.png\n"
          ]
        },
        {
          "output_type": "stream",
          "name": "stderr",
          "text": [
            "Action: age:   0%|          | 0/4 [00:00<?, ?it/s]\n"
          ]
        },
        {
          "output_type": "stream",
          "name": "stdout",
          "text": [
            "  ERROR: Face could not be detected. Please confirm that the picture is a face photo or consider to set enforce_detection param to False.\n",
            "Mag Cover #119 found: 1973Jan.png\n"
          ]
        },
        {
          "output_type": "stream",
          "name": "stderr",
          "text": [
            "Action: age:   0%|          | 0/4 [00:00<?, ?it/s]    "
          ]
        },
        {
          "output_type": "stream",
          "name": "stdout",
          "text": [
            "1/1 [==============================] - 0s 32ms/step\n"
          ]
        },
        {
          "output_type": "stream",
          "name": "stderr",
          "text": [
            "Action: gender:  25%|██▌       | 1/4 [00:01<00:04,  1.33s/it]"
          ]
        },
        {
          "output_type": "stream",
          "name": "stdout",
          "text": [
            "1/1 [==============================] - 0s 20ms/step\n"
          ]
        },
        {
          "output_type": "stream",
          "name": "stderr",
          "text": [
            "Action: race:  50%|█████     | 2/4 [00:01<00:01,  1.59it/s]  "
          ]
        },
        {
          "output_type": "stream",
          "name": "stdout",
          "text": [
            "1/1 [==============================] - 0s 22ms/step\n"
          ]
        },
        {
          "output_type": "stream",
          "name": "stderr",
          "text": [
            "Action: emotion:  75%|███████▌  | 3/4 [00:01<00:00,  2.29it/s]"
          ]
        },
        {
          "output_type": "stream",
          "name": "stdout",
          "text": [
            "1/1 [==============================] - 0s 17ms/step\n"
          ]
        },
        {
          "output_type": "stream",
          "name": "stderr",
          "text": [
            "Action: emotion: 100%|██████████| 4/4 [00:02<00:00,  1.35it/s]\n"
          ]
        },
        {
          "output_type": "stream",
          "name": "stdout",
          "text": [
            "  SUCCESSS\n",
            "Mag Cover #120 found: 1973May.png\n"
          ]
        },
        {
          "output_type": "stream",
          "name": "stderr",
          "text": [
            "Action: age:   0%|          | 0/4 [00:00<?, ?it/s]    "
          ]
        },
        {
          "output_type": "stream",
          "name": "stdout",
          "text": [
            "1/1 [==============================] - 0s 20ms/step\n"
          ]
        },
        {
          "output_type": "stream",
          "name": "stderr",
          "text": [
            "Action: gender:  25%|██▌       | 1/4 [00:01<00:03,  1.04s/it]"
          ]
        },
        {
          "output_type": "stream",
          "name": "stdout",
          "text": [
            "1/1 [==============================] - 0s 18ms/step\n"
          ]
        },
        {
          "output_type": "stream",
          "name": "stderr",
          "text": [
            "Action: race:  50%|█████     | 2/4 [00:01<00:01,  1.99it/s]  "
          ]
        },
        {
          "output_type": "stream",
          "name": "stdout",
          "text": [
            "1/1 [==============================] - 0s 21ms/step\n"
          ]
        },
        {
          "output_type": "stream",
          "name": "stderr",
          "text": [
            "Action: emotion:  75%|███████▌  | 3/4 [00:01<00:00,  2.74it/s]"
          ]
        },
        {
          "output_type": "stream",
          "name": "stdout",
          "text": [
            "1/1 [==============================] - 0s 28ms/step\n"
          ]
        },
        {
          "output_type": "stream",
          "name": "stderr",
          "text": [
            "Action: emotion: 100%|██████████| 4/4 [00:02<00:00,  1.76it/s]"
          ]
        },
        {
          "output_type": "stream",
          "name": "stdout",
          "text": [
            "  SUCCESSS\n",
            "DONE: Processed 73\n"
          ]
        },
        {
          "output_type": "stream",
          "name": "stderr",
          "text": [
            "\n"
          ]
        },
        {
          "output_type": "stream",
          "name": "stdout",
          "text": [
            "\n",
            "\n",
            "Processing #2: playboycovers_2020s\n",
            "\n",
            "Mag Cover #1 found: 2020Winter.png\n"
          ]
        },
        {
          "output_type": "stream",
          "name": "stderr",
          "text": [
            "Action: age:   0%|          | 0/4 [00:00<?, ?it/s]    "
          ]
        },
        {
          "output_type": "stream",
          "name": "stdout",
          "text": [
            "1/1 [==============================] - 0s 27ms/step\n"
          ]
        },
        {
          "output_type": "stream",
          "name": "stderr",
          "text": [
            "Action: gender:  25%|██▌       | 1/4 [00:00<00:02,  1.28it/s]"
          ]
        },
        {
          "output_type": "stream",
          "name": "stdout",
          "text": [
            "1/1 [==============================] - 0s 19ms/step\n"
          ]
        },
        {
          "output_type": "stream",
          "name": "stderr",
          "text": [
            "Action: race:  50%|█████     | 2/4 [00:00<00:00,  2.27it/s]  "
          ]
        },
        {
          "output_type": "stream",
          "name": "stdout",
          "text": [
            "1/1 [==============================] - 0s 19ms/step\n"
          ]
        },
        {
          "output_type": "stream",
          "name": "stderr",
          "text": [
            "Action: emotion:  75%|███████▌  | 3/4 [00:01<00:00,  3.00it/s]"
          ]
        },
        {
          "output_type": "stream",
          "name": "stdout",
          "text": [
            "1/1 [==============================] - 0s 17ms/step\n"
          ]
        },
        {
          "output_type": "stream",
          "name": "stderr",
          "text": [
            "Action: emotion: 100%|██████████| 4/4 [00:01<00:00,  2.09it/s]\n"
          ]
        },
        {
          "output_type": "stream",
          "name": "stdout",
          "text": [
            "  SUCCESSS\n",
            "Mag Cover #2 found: 2020Spring.png\n"
          ]
        },
        {
          "output_type": "stream",
          "name": "stderr",
          "text": [
            "Action: age:   0%|          | 0/4 [00:00<?, ?it/s]\n"
          ]
        },
        {
          "output_type": "stream",
          "name": "stdout",
          "text": [
            "  ERROR: Face could not be detected. Please confirm that the picture is a face photo or consider to set enforce_detection param to False.\n",
            "DONE: Processed 1\n",
            "\n",
            "\n",
            "Processing #3: playboycovers_1950s\n",
            "\n",
            "Mag Cover #1 found: 1959Jan.png\n"
          ]
        },
        {
          "output_type": "stream",
          "name": "stderr",
          "text": [
            "Action: age:   0%|          | 0/4 [00:00<?, ?it/s]    "
          ]
        },
        {
          "output_type": "stream",
          "name": "stdout",
          "text": [
            "1/1 [==============================] - 0s 20ms/step\n"
          ]
        },
        {
          "output_type": "stream",
          "name": "stderr",
          "text": [
            "Action: gender:  25%|██▌       | 1/4 [00:01<00:04,  1.36s/it]"
          ]
        },
        {
          "output_type": "stream",
          "name": "stdout",
          "text": [
            "1/1 [==============================] - 0s 18ms/step\n"
          ]
        },
        {
          "output_type": "stream",
          "name": "stderr",
          "text": [
            "Action: race:  50%|█████     | 2/4 [00:01<00:01,  1.47it/s]  "
          ]
        },
        {
          "output_type": "stream",
          "name": "stdout",
          "text": [
            "1/1 [==============================] - 0s 22ms/step\n"
          ]
        },
        {
          "output_type": "stream",
          "name": "stderr",
          "text": [
            "Action: emotion:  75%|███████▌  | 3/4 [00:01<00:00,  2.16it/s]"
          ]
        },
        {
          "output_type": "stream",
          "name": "stdout",
          "text": [
            "1/1 [==============================] - 0s 17ms/step\n"
          ]
        },
        {
          "output_type": "stream",
          "name": "stderr",
          "text": [
            "Action: emotion: 100%|██████████| 4/4 [00:03<00:00,  1.33it/s]\n"
          ]
        },
        {
          "output_type": "stream",
          "name": "stdout",
          "text": [
            "  SUCCESSS\n",
            "Mag Cover #2 found: 1959Oct.png\n"
          ]
        },
        {
          "output_type": "stream",
          "name": "stderr",
          "text": [
            "Action: age:   0%|          | 0/4 [00:00<?, ?it/s]\n"
          ]
        },
        {
          "output_type": "stream",
          "name": "stdout",
          "text": [
            "  ERROR: Face could not be detected. Please confirm that the picture is a face photo or consider to set enforce_detection param to False.\n",
            "Mag Cover #3 found: 1959Feb.png\n"
          ]
        },
        {
          "output_type": "stream",
          "name": "stderr",
          "text": [
            "Action: age:   0%|          | 0/4 [00:00<?, ?it/s]    "
          ]
        },
        {
          "output_type": "stream",
          "name": "stdout",
          "text": [
            "1/1 [==============================] - 0s 24ms/step\n"
          ]
        },
        {
          "output_type": "stream",
          "name": "stderr",
          "text": [
            "Action: gender:  25%|██▌       | 1/4 [00:00<00:02,  1.21it/s]"
          ]
        },
        {
          "output_type": "stream",
          "name": "stdout",
          "text": [
            "1/1 [==============================] - 0s 19ms/step\n"
          ]
        },
        {
          "output_type": "stream",
          "name": "stderr",
          "text": [
            "Action: race:  50%|█████     | 2/4 [00:01<00:00,  2.14it/s]  "
          ]
        },
        {
          "output_type": "stream",
          "name": "stdout",
          "text": [
            "1/1 [==============================] - 0s 24ms/step\n"
          ]
        },
        {
          "output_type": "stream",
          "name": "stderr",
          "text": [
            "Action: emotion:  75%|███████▌  | 3/4 [00:01<00:00,  2.87it/s]"
          ]
        },
        {
          "output_type": "stream",
          "name": "stdout",
          "text": [
            "1/1 [==============================] - 0s 22ms/step\n"
          ]
        },
        {
          "output_type": "stream",
          "name": "stderr",
          "text": [
            "Action: emotion: 100%|██████████| 4/4 [00:02<00:00,  1.96it/s]\n"
          ]
        },
        {
          "output_type": "stream",
          "name": "stdout",
          "text": [
            "  SUCCESSS\n",
            "Mag Cover #4 found: 1959Mar.png\n"
          ]
        },
        {
          "output_type": "stream",
          "name": "stderr",
          "text": [
            "Action: age:   0%|          | 0/4 [00:00<?, ?it/s]    "
          ]
        },
        {
          "output_type": "stream",
          "name": "stdout",
          "text": [
            "1/1 [==============================] - 0s 18ms/step\n"
          ]
        },
        {
          "output_type": "stream",
          "name": "stderr",
          "text": [
            "Action: gender:  25%|██▌       | 1/4 [00:00<00:02,  1.22it/s]"
          ]
        },
        {
          "output_type": "stream",
          "name": "stdout",
          "text": [
            "1/1 [==============================] - 0s 19ms/step\n"
          ]
        },
        {
          "output_type": "stream",
          "name": "stderr",
          "text": [
            "Action: race:  50%|█████     | 2/4 [00:00<00:00,  2.39it/s]  "
          ]
        },
        {
          "output_type": "stream",
          "name": "stdout",
          "text": [
            "1/1 [==============================] - 0s 19ms/step\n"
          ]
        },
        {
          "output_type": "stream",
          "name": "stderr",
          "text": [
            "Action: emotion:  75%|███████▌  | 3/4 [00:01<00:00,  3.47it/s]"
          ]
        },
        {
          "output_type": "stream",
          "name": "stdout",
          "text": [
            "1/1 [==============================] - 0s 18ms/step\n"
          ]
        },
        {
          "output_type": "stream",
          "name": "stderr",
          "text": [
            "Action: emotion: 100%|██████████| 4/4 [00:01<00:00,  2.27it/s]\n"
          ]
        },
        {
          "output_type": "stream",
          "name": "stdout",
          "text": [
            "  SUCCESSS\n",
            "Mag Cover #5 found: 1959Dec.png\n"
          ]
        },
        {
          "output_type": "stream",
          "name": "stderr",
          "text": [
            "Action: age:   0%|          | 0/4 [00:00<?, ?it/s]\n"
          ]
        },
        {
          "output_type": "stream",
          "name": "stdout",
          "text": [
            "  ERROR: Face could not be detected. Please confirm that the picture is a face photo or consider to set enforce_detection param to False.\n",
            "Mag Cover #6 found: 1959Jul.png\n"
          ]
        },
        {
          "output_type": "stream",
          "name": "stderr",
          "text": [
            "Action: age:   0%|          | 0/4 [00:00<?, ?it/s]\n"
          ]
        },
        {
          "output_type": "stream",
          "name": "stdout",
          "text": [
            "  ERROR: Face could not be detected. Please confirm that the picture is a face photo or consider to set enforce_detection param to False.\n",
            "Mag Cover #7 found: 1959Apr.png\n"
          ]
        },
        {
          "output_type": "stream",
          "name": "stderr",
          "text": [
            "Action: age:   0%|          | 0/4 [00:01<?, ?it/s]\n"
          ]
        },
        {
          "output_type": "stream",
          "name": "stdout",
          "text": [
            "  ERROR: Face could not be detected. Please confirm that the picture is a face photo or consider to set enforce_detection param to False.\n",
            "Mag Cover #8 found: 1959Jun.png\n"
          ]
        },
        {
          "output_type": "stream",
          "name": "stderr",
          "text": [
            "Action: age:   0%|          | 0/4 [00:00<?, ?it/s]    "
          ]
        },
        {
          "output_type": "stream",
          "name": "stdout",
          "text": [
            "1/1 [==============================] - 0s 19ms/step\n"
          ]
        },
        {
          "output_type": "stream",
          "name": "stderr",
          "text": [
            "Action: gender:  25%|██▌       | 1/4 [00:00<00:02,  1.11it/s]"
          ]
        },
        {
          "output_type": "stream",
          "name": "stdout",
          "text": [
            "1/1 [==============================] - 0s 20ms/step\n"
          ]
        },
        {
          "output_type": "stream",
          "name": "stderr",
          "text": [
            "Action: race:  50%|█████     | 2/4 [00:01<00:00,  2.03it/s]  "
          ]
        },
        {
          "output_type": "stream",
          "name": "stdout",
          "text": [
            "1/1 [==============================] - 0s 21ms/step\n"
          ]
        },
        {
          "output_type": "stream",
          "name": "stderr",
          "text": [
            "Action: emotion:  75%|███████▌  | 3/4 [00:01<00:00,  2.78it/s]"
          ]
        },
        {
          "output_type": "stream",
          "name": "stdout",
          "text": [
            "1/1 [==============================] - 0s 16ms/step\n"
          ]
        },
        {
          "output_type": "stream",
          "name": "stderr",
          "text": [
            "Action: emotion: 100%|██████████| 4/4 [00:02<00:00,  1.94it/s]\n"
          ]
        },
        {
          "output_type": "stream",
          "name": "stdout",
          "text": [
            "  SUCCESSS\n",
            "Mag Cover #9 found: 1959Sep.png\n"
          ]
        },
        {
          "output_type": "stream",
          "name": "stderr",
          "text": [
            "Action: age:   0%|          | 0/4 [00:00<?, ?it/s]\n"
          ]
        },
        {
          "output_type": "stream",
          "name": "stdout",
          "text": [
            "  ERROR: Face could not be detected. Please confirm that the picture is a face photo or consider to set enforce_detection param to False.\n",
            "Mag Cover #10 found: 1959Nov.png\n"
          ]
        },
        {
          "output_type": "stream",
          "name": "stderr",
          "text": [
            "Action: age:   0%|          | 0/4 [00:00<?, ?it/s]\n"
          ]
        },
        {
          "output_type": "stream",
          "name": "stdout",
          "text": [
            "  ERROR: Face could not be detected. Please confirm that the picture is a face photo or consider to set enforce_detection param to False.\n",
            "Mag Cover #11 found: 1959Aug.png\n"
          ]
        },
        {
          "output_type": "stream",
          "name": "stderr",
          "text": [
            "Action: age:   0%|          | 0/4 [00:00<?, ?it/s]\n"
          ]
        },
        {
          "output_type": "stream",
          "name": "stdout",
          "text": [
            "  ERROR: Face could not be detected. Please confirm that the picture is a face photo or consider to set enforce_detection param to False.\n",
            "Mag Cover #12 found: 1959May.png\n"
          ]
        },
        {
          "output_type": "stream",
          "name": "stderr",
          "text": [
            "Action: age:   0%|          | 0/4 [00:00<?, ?it/s]    "
          ]
        },
        {
          "output_type": "stream",
          "name": "stdout",
          "text": [
            "1/1 [==============================] - 0s 22ms/step\n"
          ]
        },
        {
          "output_type": "stream",
          "name": "stderr",
          "text": [
            "Action: gender:  25%|██▌       | 1/4 [00:01<00:03,  1.25s/it]"
          ]
        },
        {
          "output_type": "stream",
          "name": "stdout",
          "text": [
            "1/1 [==============================] - 0s 19ms/step\n"
          ]
        },
        {
          "output_type": "stream",
          "name": "stderr",
          "text": [
            "Action: race:  50%|█████     | 2/4 [00:01<00:01,  1.67it/s]  "
          ]
        },
        {
          "output_type": "stream",
          "name": "stdout",
          "text": [
            "1/1 [==============================] - 0s 26ms/step\n"
          ]
        },
        {
          "output_type": "stream",
          "name": "stderr",
          "text": [
            "Action: emotion:  75%|███████▌  | 3/4 [00:01<00:00,  2.40it/s]"
          ]
        },
        {
          "output_type": "stream",
          "name": "stdout",
          "text": [
            "1/1 [==============================] - 0s 20ms/step\n"
          ]
        },
        {
          "output_type": "stream",
          "name": "stderr",
          "text": [
            "Action: emotion: 100%|██████████| 4/4 [00:02<00:00,  1.48it/s]\n"
          ]
        },
        {
          "output_type": "stream",
          "name": "stdout",
          "text": [
            "  SUCCESSS\n",
            "Mag Cover #13 found: 1955Jun.png\n"
          ]
        },
        {
          "output_type": "stream",
          "name": "stderr",
          "text": [
            "Action: age:   0%|          | 0/4 [00:00<?, ?it/s]    "
          ]
        },
        {
          "output_type": "stream",
          "name": "stdout",
          "text": [
            "1/1 [==============================] - 0s 19ms/step\n"
          ]
        },
        {
          "output_type": "stream",
          "name": "stderr",
          "text": [
            "Action: gender:  25%|██▌       | 1/4 [00:01<00:04,  1.42s/it]"
          ]
        },
        {
          "output_type": "stream",
          "name": "stdout",
          "text": [
            "1/1 [==============================] - 0s 22ms/step\n"
          ]
        },
        {
          "output_type": "stream",
          "name": "stderr",
          "text": [
            "Action: race:  50%|█████     | 2/4 [00:01<00:01,  1.41it/s]  "
          ]
        },
        {
          "output_type": "stream",
          "name": "stdout",
          "text": [
            "1/1 [==============================] - 0s 22ms/step\n"
          ]
        },
        {
          "output_type": "stream",
          "name": "stderr",
          "text": [
            "Action: emotion:  75%|███████▌  | 3/4 [00:01<00:00,  2.07it/s]"
          ]
        },
        {
          "output_type": "stream",
          "name": "stdout",
          "text": [
            "1/1 [==============================] - 0s 18ms/step\n"
          ]
        },
        {
          "output_type": "stream",
          "name": "stderr",
          "text": [
            "Action: emotion: 100%|██████████| 4/4 [00:03<00:00,  1.28it/s]\n"
          ]
        },
        {
          "output_type": "stream",
          "name": "stdout",
          "text": [
            "  SUCCESSS\n",
            "Mag Cover #14 found: 1955Sep.png\n"
          ]
        },
        {
          "output_type": "stream",
          "name": "stderr",
          "text": [
            "Action: age:   0%|          | 0/4 [00:00<?, ?it/s]    "
          ]
        },
        {
          "output_type": "stream",
          "name": "stdout",
          "text": [
            "1/1 [==============================] - 0s 19ms/step\n"
          ]
        },
        {
          "output_type": "stream",
          "name": "stderr",
          "text": [
            "Action: gender:  25%|██▌       | 1/4 [00:01<00:04,  1.57s/it]"
          ]
        },
        {
          "output_type": "stream",
          "name": "stdout",
          "text": [
            "1/1 [==============================] - 0s 20ms/step\n"
          ]
        },
        {
          "output_type": "stream",
          "name": "stderr",
          "text": [
            "Action: race:  50%|█████     | 2/4 [00:01<00:01,  1.29it/s]  "
          ]
        },
        {
          "output_type": "stream",
          "name": "stdout",
          "text": [
            "1/1 [==============================] - 0s 20ms/step\n"
          ]
        },
        {
          "output_type": "stream",
          "name": "stderr",
          "text": [
            "Action: emotion:  75%|███████▌  | 3/4 [00:01<00:00,  2.06it/s]"
          ]
        },
        {
          "output_type": "stream",
          "name": "stdout",
          "text": [
            "1/1 [==============================] - 0s 21ms/step\n"
          ]
        },
        {
          "output_type": "stream",
          "name": "stderr",
          "text": [
            "Action: emotion: 100%|██████████| 4/4 [00:03<00:00,  1.18it/s]\n"
          ]
        },
        {
          "output_type": "stream",
          "name": "stdout",
          "text": [
            "  SUCCESSS\n",
            "Mag Cover #15 found: 1955Aug.png\n"
          ]
        },
        {
          "output_type": "stream",
          "name": "stderr",
          "text": [
            "Action: age:   0%|          | 0/4 [00:01<?, ?it/s]\n"
          ]
        },
        {
          "output_type": "stream",
          "name": "stdout",
          "text": [
            "  ERROR: Face could not be detected. Please confirm that the picture is a face photo or consider to set enforce_detection param to False.\n",
            "Mag Cover #16 found: 1955Nov.png\n"
          ]
        },
        {
          "output_type": "stream",
          "name": "stderr",
          "text": [
            "Action: age:   0%|          | 0/4 [00:00<?, ?it/s]    "
          ]
        },
        {
          "output_type": "stream",
          "name": "stdout",
          "text": [
            "1/1 [==============================] - 0s 19ms/step\n"
          ]
        },
        {
          "output_type": "stream",
          "name": "stderr",
          "text": [
            "Action: gender:  25%|██▌       | 1/4 [00:02<00:06,  2.01s/it]"
          ]
        },
        {
          "output_type": "stream",
          "name": "stdout",
          "text": [
            "1/1 [==============================] - 0s 20ms/step\n"
          ]
        },
        {
          "output_type": "stream",
          "name": "stderr",
          "text": [
            "Action: race:  50%|█████     | 2/4 [00:02<00:01,  1.10it/s]  "
          ]
        },
        {
          "output_type": "stream",
          "name": "stdout",
          "text": [
            "1/1 [==============================] - 0s 25ms/step\n"
          ]
        },
        {
          "output_type": "stream",
          "name": "stderr",
          "text": [
            "Action: emotion:  75%|███████▌  | 3/4 [00:02<00:00,  1.70it/s]"
          ]
        },
        {
          "output_type": "stream",
          "name": "stdout",
          "text": [
            "1/1 [==============================] - 0s 17ms/step\n"
          ]
        },
        {
          "output_type": "stream",
          "name": "stderr",
          "text": [
            "Action: emotion: 100%|██████████| 4/4 [00:04<00:00,  1.06s/it]\n"
          ]
        },
        {
          "output_type": "stream",
          "name": "stdout",
          "text": [
            "  SUCCESSS\n",
            "Mag Cover #17 found: 1955Jul.png\n"
          ]
        },
        {
          "output_type": "stream",
          "name": "stderr",
          "text": [
            "Action: age:   0%|          | 0/4 [00:01<?, ?it/s]\n"
          ]
        },
        {
          "output_type": "stream",
          "name": "stdout",
          "text": [
            "  ERROR: Face could not be detected. Please confirm that the picture is a face photo or consider to set enforce_detection param to False.\n",
            "Mag Cover #18 found: 1955Dec.png\n"
          ]
        },
        {
          "output_type": "stream",
          "name": "stderr",
          "text": [
            "Action: age:   0%|          | 0/4 [00:01<?, ?it/s]\n"
          ]
        },
        {
          "output_type": "stream",
          "name": "stdout",
          "text": [
            "  ERROR: Face could not be detected. Please confirm that the picture is a face photo or consider to set enforce_detection param to False.\n",
            "Mag Cover #19 found: 1955Feb.png\n"
          ]
        },
        {
          "output_type": "stream",
          "name": "stderr",
          "text": [
            "Action: age:   0%|          | 0/4 [00:00<?, ?it/s]    "
          ]
        },
        {
          "output_type": "stream",
          "name": "stdout",
          "text": [
            "1/1 [==============================] - 0s 21ms/step\n"
          ]
        },
        {
          "output_type": "stream",
          "name": "stderr",
          "text": [
            "Action: gender:  25%|██▌       | 1/4 [00:01<00:03,  1.03s/it]"
          ]
        },
        {
          "output_type": "stream",
          "name": "stdout",
          "text": [
            "1/1 [==============================] - 0s 20ms/step\n"
          ]
        },
        {
          "output_type": "stream",
          "name": "stderr",
          "text": [
            "Action: race:  50%|█████     | 2/4 [00:01<00:01,  1.83it/s]  "
          ]
        },
        {
          "output_type": "stream",
          "name": "stdout",
          "text": [
            "1/1 [==============================] - 0s 23ms/step\n"
          ]
        },
        {
          "output_type": "stream",
          "name": "stderr",
          "text": [
            "Action: emotion:  75%|███████▌  | 3/4 [00:01<00:00,  2.80it/s]"
          ]
        },
        {
          "output_type": "stream",
          "name": "stdout",
          "text": [
            "1/1 [==============================] - 0s 17ms/step\n"
          ]
        },
        {
          "output_type": "stream",
          "name": "stderr",
          "text": [
            "Action: emotion: 100%|██████████| 4/4 [00:02<00:00,  1.71it/s]\n"
          ]
        },
        {
          "output_type": "stream",
          "name": "stdout",
          "text": [
            "  SUCCESSS\n",
            "Mag Cover #20 found: 1955Oct.png\n"
          ]
        },
        {
          "output_type": "stream",
          "name": "stderr",
          "text": [
            "Action: age:   0%|          | 0/4 [00:00<?, ?it/s]    "
          ]
        },
        {
          "output_type": "stream",
          "name": "stdout",
          "text": [
            "1/1 [==============================] - 0s 19ms/step\n"
          ]
        },
        {
          "output_type": "stream",
          "name": "stderr",
          "text": [
            "Action: gender:  25%|██▌       | 1/4 [00:01<00:05,  1.84s/it]"
          ]
        },
        {
          "output_type": "stream",
          "name": "stdout",
          "text": [
            "1/1 [==============================] - 0s 22ms/step\n"
          ]
        },
        {
          "output_type": "stream",
          "name": "stderr",
          "text": [
            "Action: race:  50%|█████     | 2/4 [00:01<00:01,  1.20it/s]  "
          ]
        },
        {
          "output_type": "stream",
          "name": "stdout",
          "text": [
            "1/1 [==============================] - 0s 21ms/step\n"
          ]
        },
        {
          "output_type": "stream",
          "name": "stderr",
          "text": [
            "Action: emotion:  75%|███████▌  | 3/4 [00:02<00:00,  1.94it/s]"
          ]
        },
        {
          "output_type": "stream",
          "name": "stdout",
          "text": [
            "1/1 [==============================] - 0s 17ms/step\n"
          ]
        },
        {
          "output_type": "stream",
          "name": "stderr",
          "text": [
            "Action: emotion: 100%|██████████| 4/4 [00:03<00:00,  1.06it/s]\n"
          ]
        },
        {
          "output_type": "stream",
          "name": "stdout",
          "text": [
            "  SUCCESSS\n",
            "Mag Cover #21 found: 1955Apr.png\n"
          ]
        },
        {
          "output_type": "stream",
          "name": "stderr",
          "text": [
            "Action: age:   0%|          | 0/4 [00:00<?, ?it/s]\n"
          ]
        },
        {
          "output_type": "stream",
          "name": "stdout",
          "text": [
            "  ERROR: Face could not be detected. Please confirm that the picture is a face photo or consider to set enforce_detection param to False.\n",
            "Mag Cover #22 found: 1955Jan.png\n"
          ]
        },
        {
          "output_type": "stream",
          "name": "stderr",
          "text": [
            "Action: age:   0%|          | 0/4 [00:00<?, ?it/s]    "
          ]
        },
        {
          "output_type": "stream",
          "name": "stdout",
          "text": [
            "1/1 [==============================] - 0s 19ms/step\n"
          ]
        },
        {
          "output_type": "stream",
          "name": "stderr",
          "text": [
            "Action: gender:  25%|██▌       | 1/4 [00:01<00:04,  1.41s/it]"
          ]
        },
        {
          "output_type": "stream",
          "name": "stdout",
          "text": [
            "1/1 [==============================] - 0s 18ms/step\n"
          ]
        },
        {
          "output_type": "stream",
          "name": "stderr",
          "text": [
            "Action: race:  50%|█████     | 2/4 [00:01<00:01,  1.42it/s]  "
          ]
        },
        {
          "output_type": "stream",
          "name": "stdout",
          "text": [
            "1/1 [==============================] - 0s 18ms/step\n"
          ]
        },
        {
          "output_type": "stream",
          "name": "stderr",
          "text": [
            "Action: emotion:  75%|███████▌  | 3/4 [00:01<00:00,  2.26it/s]"
          ]
        },
        {
          "output_type": "stream",
          "name": "stdout",
          "text": [
            "1/1 [==============================] - 0s 20ms/step\n"
          ]
        },
        {
          "output_type": "stream",
          "name": "stderr",
          "text": [
            "Action: emotion: 100%|██████████| 4/4 [00:03<00:00,  1.29it/s]\n"
          ]
        },
        {
          "output_type": "stream",
          "name": "stdout",
          "text": [
            "  SUCCESSS\n",
            "Mag Cover #23 found: 1955May.png\n"
          ]
        },
        {
          "output_type": "stream",
          "name": "stderr",
          "text": [
            "Action: age:   0%|          | 0/4 [00:01<?, ?it/s]\n"
          ]
        },
        {
          "output_type": "stream",
          "name": "stdout",
          "text": [
            "  ERROR: Face could not be detected. Please confirm that the picture is a face photo or consider to set enforce_detection param to False.\n",
            "Mag Cover #24 found: 1956Apr.png\n"
          ]
        },
        {
          "output_type": "stream",
          "name": "stderr",
          "text": [
            "Action: age:   0%|          | 0/4 [00:00<?, ?it/s]\n"
          ]
        },
        {
          "output_type": "stream",
          "name": "stdout",
          "text": [
            "  ERROR: Face could not be detected. Please confirm that the picture is a face photo or consider to set enforce_detection param to False.\n",
            "Mag Cover #25 found: 1956Oct.png\n"
          ]
        },
        {
          "output_type": "stream",
          "name": "stderr",
          "text": [
            "Action: age:   0%|          | 0/4 [00:01<?, ?it/s]\n"
          ]
        },
        {
          "output_type": "stream",
          "name": "stdout",
          "text": [
            "  ERROR: Face could not be detected. Please confirm that the picture is a face photo or consider to set enforce_detection param to False.\n",
            "Mag Cover #26 found: 1956Jun.png\n"
          ]
        },
        {
          "output_type": "stream",
          "name": "stderr",
          "text": [
            "Action: age:   0%|          | 0/4 [00:00<?, ?it/s]    "
          ]
        },
        {
          "output_type": "stream",
          "name": "stdout",
          "text": [
            "1/1 [==============================] - 0s 20ms/step\n"
          ]
        },
        {
          "output_type": "stream",
          "name": "stderr",
          "text": [
            "Action: gender:  25%|██▌       | 1/4 [00:02<00:08,  2.80s/it]"
          ]
        },
        {
          "output_type": "stream",
          "name": "stdout",
          "text": [
            "1/1 [==============================] - 0s 20ms/step\n"
          ]
        },
        {
          "output_type": "stream",
          "name": "stderr",
          "text": [
            "Action: race:  50%|█████     | 2/4 [00:03<00:02,  1.27s/it]  "
          ]
        },
        {
          "output_type": "stream",
          "name": "stdout",
          "text": [
            "1/1 [==============================] - 0s 18ms/step\n"
          ]
        },
        {
          "output_type": "stream",
          "name": "stderr",
          "text": [
            "Action: emotion:  75%|███████▌  | 3/4 [00:03<00:00,  1.27it/s]"
          ]
        },
        {
          "output_type": "stream",
          "name": "stdout",
          "text": [
            "1/1 [==============================] - 0s 18ms/step\n"
          ]
        },
        {
          "output_type": "stream",
          "name": "stderr",
          "text": [
            "Action: emotion: 100%|██████████| 4/4 [00:05<00:00,  1.25s/it]\n"
          ]
        },
        {
          "output_type": "stream",
          "name": "stdout",
          "text": [
            "  SUCCESSS\n",
            "Mag Cover #27 found: 1956May.png\n"
          ]
        },
        {
          "output_type": "stream",
          "name": "stderr",
          "text": [
            "Action: age:   0%|          | 0/4 [00:00<?, ?it/s]\n"
          ]
        },
        {
          "output_type": "stream",
          "name": "stdout",
          "text": [
            "  ERROR: Face could not be detected. Please confirm that the picture is a face photo or consider to set enforce_detection param to False.\n",
            "Mag Cover #28 found: 1956Dec.png\n"
          ]
        },
        {
          "output_type": "stream",
          "name": "stderr",
          "text": [
            "Action: age:   0%|          | 0/4 [00:00<?, ?it/s]    "
          ]
        },
        {
          "output_type": "stream",
          "name": "stdout",
          "text": [
            "1/1 [==============================] - 0s 22ms/step\n"
          ]
        },
        {
          "output_type": "stream",
          "name": "stderr",
          "text": [
            "Action: gender:  25%|██▌       | 1/4 [00:00<00:02,  1.01it/s]"
          ]
        },
        {
          "output_type": "stream",
          "name": "stdout",
          "text": [
            "1/1 [==============================] - 0s 21ms/step\n"
          ]
        },
        {
          "output_type": "stream",
          "name": "stderr",
          "text": [
            "Action: race:  50%|█████     | 2/4 [00:01<00:00,  2.07it/s]  "
          ]
        },
        {
          "output_type": "stream",
          "name": "stdout",
          "text": [
            "1/1 [==============================] - 0s 21ms/step\n"
          ]
        },
        {
          "output_type": "stream",
          "name": "stderr",
          "text": [
            "Action: emotion:  75%|███████▌  | 3/4 [00:01<00:00,  3.06it/s]"
          ]
        },
        {
          "output_type": "stream",
          "name": "stdout",
          "text": [
            "1/1 [==============================] - 0s 17ms/step\n"
          ]
        },
        {
          "output_type": "stream",
          "name": "stderr",
          "text": [
            "Action: emotion: 100%|██████████| 4/4 [00:02<00:00,  1.82it/s]\n"
          ]
        },
        {
          "output_type": "stream",
          "name": "stdout",
          "text": [
            "  SUCCESSS\n",
            "Mag Cover #29 found: 1956Sep.png\n"
          ]
        },
        {
          "output_type": "stream",
          "name": "stderr",
          "text": [
            "Action: age:   0%|          | 0/4 [00:00<?, ?it/s]    "
          ]
        },
        {
          "output_type": "stream",
          "name": "stdout",
          "text": [
            "1/1 [==============================] - 0s 19ms/step\n"
          ]
        },
        {
          "output_type": "stream",
          "name": "stderr",
          "text": [
            "Action: gender:  25%|██▌       | 1/4 [00:01<00:03,  1.31s/it]"
          ]
        },
        {
          "output_type": "stream",
          "name": "stdout",
          "text": [
            "1/1 [==============================] - 0s 22ms/step\n"
          ]
        },
        {
          "output_type": "stream",
          "name": "stderr",
          "text": [
            "Action: race:  50%|█████     | 2/4 [00:01<00:01,  1.62it/s]  "
          ]
        },
        {
          "output_type": "stream",
          "name": "stdout",
          "text": [
            "1/1 [==============================] - 0s 21ms/step\n"
          ]
        },
        {
          "output_type": "stream",
          "name": "stderr",
          "text": [
            "Action: emotion:  75%|███████▌  | 3/4 [00:01<00:00,  2.33it/s]"
          ]
        },
        {
          "output_type": "stream",
          "name": "stdout",
          "text": [
            "1/1 [==============================] - 0s 17ms/step\n"
          ]
        },
        {
          "output_type": "stream",
          "name": "stderr",
          "text": [
            "Action: emotion: 100%|██████████| 4/4 [00:02<00:00,  1.40it/s]\n"
          ]
        },
        {
          "output_type": "stream",
          "name": "stdout",
          "text": [
            "  SUCCESSS\n",
            "Mag Cover #30 found: 1956Mar.png\n"
          ]
        },
        {
          "output_type": "stream",
          "name": "stderr",
          "text": [
            "Action: age:   0%|          | 0/4 [00:00<?, ?it/s]    "
          ]
        },
        {
          "output_type": "stream",
          "name": "stdout",
          "text": [
            "1/1 [==============================] - 0s 19ms/step\n"
          ]
        },
        {
          "output_type": "stream",
          "name": "stderr",
          "text": [
            "Action: gender:  25%|██▌       | 1/4 [00:01<00:03,  1.13s/it]"
          ]
        },
        {
          "output_type": "stream",
          "name": "stdout",
          "text": [
            "1/1 [==============================] - 0s 21ms/step\n"
          ]
        },
        {
          "output_type": "stream",
          "name": "stderr",
          "text": [
            "Action: race:  50%|█████     | 2/4 [00:01<00:01,  1.69it/s]  "
          ]
        },
        {
          "output_type": "stream",
          "name": "stdout",
          "text": [
            "1/1 [==============================] - 0s 20ms/step\n"
          ]
        },
        {
          "output_type": "stream",
          "name": "stderr",
          "text": [
            "Action: emotion:  75%|███████▌  | 3/4 [00:01<00:00,  2.63it/s]"
          ]
        },
        {
          "output_type": "stream",
          "name": "stdout",
          "text": [
            "1/1 [==============================] - 0s 20ms/step\n"
          ]
        },
        {
          "output_type": "stream",
          "name": "stderr",
          "text": [
            "Action: emotion: 100%|██████████| 4/4 [00:02<00:00,  1.58it/s]\n"
          ]
        },
        {
          "output_type": "stream",
          "name": "stdout",
          "text": [
            "  SUCCESSS\n",
            "Mag Cover #31 found: 1956Nov.png\n"
          ]
        },
        {
          "output_type": "stream",
          "name": "stderr",
          "text": [
            "Action: age:   0%|          | 0/4 [00:00<?, ?it/s]    "
          ]
        },
        {
          "output_type": "stream",
          "name": "stdout",
          "text": [
            "1/1 [==============================] - 0s 20ms/step\n"
          ]
        },
        {
          "output_type": "stream",
          "name": "stderr",
          "text": [
            "Action: gender:  25%|██▌       | 1/4 [00:01<00:05,  1.86s/it]"
          ]
        },
        {
          "output_type": "stream",
          "name": "stdout",
          "text": [
            "1/1 [==============================] - 0s 22ms/step\n"
          ]
        },
        {
          "output_type": "stream",
          "name": "stderr",
          "text": [
            "Action: race:  50%|█████     | 2/4 [00:02<00:01,  1.13it/s]  "
          ]
        },
        {
          "output_type": "stream",
          "name": "stdout",
          "text": [
            "1/1 [==============================] - 0s 33ms/step\n"
          ]
        },
        {
          "output_type": "stream",
          "name": "stderr",
          "text": [
            "Action: emotion:  75%|███████▌  | 3/4 [00:02<00:00,  1.83it/s]"
          ]
        },
        {
          "output_type": "stream",
          "name": "stdout",
          "text": [
            "1/1 [==============================] - 0s 18ms/step\n"
          ]
        },
        {
          "output_type": "stream",
          "name": "stderr",
          "text": [
            "Action: emotion: 100%|██████████| 4/4 [00:03<00:00,  1.03it/s]\n"
          ]
        },
        {
          "output_type": "stream",
          "name": "stdout",
          "text": [
            "  SUCCESSS\n",
            "Mag Cover #32 found: 1956Jul.png\n"
          ]
        },
        {
          "output_type": "stream",
          "name": "stderr",
          "text": [
            "Action: age:   0%|          | 0/4 [00:00<?, ?it/s]    "
          ]
        },
        {
          "output_type": "stream",
          "name": "stdout",
          "text": [
            "1/1 [==============================] - 0s 21ms/step\n"
          ]
        },
        {
          "output_type": "stream",
          "name": "stderr",
          "text": [
            "Action: gender:  25%|██▌       | 1/4 [00:01<00:03,  1.25s/it]"
          ]
        },
        {
          "output_type": "stream",
          "name": "stdout",
          "text": [
            "1/1 [==============================] - 0s 19ms/step\n"
          ]
        },
        {
          "output_type": "stream",
          "name": "stderr",
          "text": [
            "Action: race:  50%|█████     | 2/4 [00:01<00:01,  1.67it/s]  "
          ]
        },
        {
          "output_type": "stream",
          "name": "stdout",
          "text": [
            "1/1 [==============================] - 0s 22ms/step\n"
          ]
        },
        {
          "output_type": "stream",
          "name": "stderr",
          "text": [
            "Action: emotion:  75%|███████▌  | 3/4 [00:01<00:00,  2.39it/s]"
          ]
        },
        {
          "output_type": "stream",
          "name": "stdout",
          "text": [
            "1/1 [==============================] - 0s 21ms/step\n"
          ]
        },
        {
          "output_type": "stream",
          "name": "stderr",
          "text": [
            "Action: emotion: 100%|██████████| 4/4 [00:02<00:00,  1.48it/s]\n"
          ]
        },
        {
          "output_type": "stream",
          "name": "stdout",
          "text": [
            "  SUCCESSS\n",
            "Mag Cover #33 found: 1956Jan.png\n"
          ]
        },
        {
          "output_type": "stream",
          "name": "stderr",
          "text": [
            "Action: age:   0%|          | 0/4 [00:00<?, ?it/s]\n"
          ]
        },
        {
          "output_type": "stream",
          "name": "stdout",
          "text": [
            "  ERROR: Face could not be detected. Please confirm that the picture is a face photo or consider to set enforce_detection param to False.\n",
            "Mag Cover #34 found: 1956Feb.png\n"
          ]
        },
        {
          "output_type": "stream",
          "name": "stderr",
          "text": [
            "Action: age:   0%|          | 0/4 [00:00<?, ?it/s]    "
          ]
        },
        {
          "output_type": "stream",
          "name": "stdout",
          "text": [
            "1/1 [==============================] - 0s 18ms/step\n"
          ]
        },
        {
          "output_type": "stream",
          "name": "stderr",
          "text": [
            "Action: gender:  25%|██▌       | 1/4 [00:01<00:03,  1.26s/it]"
          ]
        },
        {
          "output_type": "stream",
          "name": "stdout",
          "text": [
            "1/1 [==============================] - 0s 21ms/step\n"
          ]
        },
        {
          "output_type": "stream",
          "name": "stderr",
          "text": [
            "Action: race:  50%|█████     | 2/4 [00:01<00:01,  1.56it/s]  "
          ]
        },
        {
          "output_type": "stream",
          "name": "stdout",
          "text": [
            "1/1 [==============================] - 0s 22ms/step\n"
          ]
        },
        {
          "output_type": "stream",
          "name": "stderr",
          "text": [
            "Action: emotion:  75%|███████▌  | 3/4 [00:01<00:00,  2.44it/s]"
          ]
        },
        {
          "output_type": "stream",
          "name": "stdout",
          "text": [
            "1/1 [==============================] - 0s 17ms/step\n"
          ]
        },
        {
          "output_type": "stream",
          "name": "stderr",
          "text": [
            "Action: emotion: 100%|██████████| 4/4 [00:02<00:00,  1.43it/s]\n"
          ]
        },
        {
          "output_type": "stream",
          "name": "stdout",
          "text": [
            "  SUCCESSS\n",
            "Mag Cover #35 found: 1956Aug.png\n"
          ]
        },
        {
          "output_type": "stream",
          "name": "stderr",
          "text": [
            "Action: age:   0%|          | 0/4 [00:01<?, ?it/s]\n"
          ]
        },
        {
          "output_type": "stream",
          "name": "stdout",
          "text": [
            "  ERROR: Face could not be detected. Please confirm that the picture is a face photo or consider to set enforce_detection param to False.\n",
            "Mag Cover #36 found: 1954Apr.png\n"
          ]
        },
        {
          "output_type": "stream",
          "name": "stderr",
          "text": [
            "Action: age:   0%|          | 0/4 [00:01<?, ?it/s]\n"
          ]
        },
        {
          "output_type": "stream",
          "name": "stdout",
          "text": [
            "  ERROR: Face could not be detected. Please confirm that the picture is a face photo or consider to set enforce_detection param to False.\n",
            "Mag Cover #37 found: 1954Dec.png\n"
          ]
        },
        {
          "output_type": "stream",
          "name": "stderr",
          "text": [
            "Action: age:   0%|          | 0/4 [00:00<?, ?it/s]    "
          ]
        },
        {
          "output_type": "stream",
          "name": "stdout",
          "text": [
            "1/1 [==============================] - 0s 18ms/step\n"
          ]
        },
        {
          "output_type": "stream",
          "name": "stderr",
          "text": [
            "Action: gender:  25%|██▌       | 1/4 [00:01<00:03,  1.29s/it]"
          ]
        },
        {
          "output_type": "stream",
          "name": "stdout",
          "text": [
            "1/1 [==============================] - 0s 22ms/step\n"
          ]
        },
        {
          "output_type": "stream",
          "name": "stderr",
          "text": [
            "Action: race:  50%|█████     | 2/4 [00:01<00:01,  1.53it/s]  "
          ]
        },
        {
          "output_type": "stream",
          "name": "stdout",
          "text": [
            "1/1 [==============================] - 0s 19ms/step\n"
          ]
        },
        {
          "output_type": "stream",
          "name": "stderr",
          "text": [
            "Action: emotion:  75%|███████▌  | 3/4 [00:01<00:00,  2.23it/s]"
          ]
        },
        {
          "output_type": "stream",
          "name": "stdout",
          "text": [
            "1/1 [==============================] - 0s 25ms/step\n"
          ]
        },
        {
          "output_type": "stream",
          "name": "stderr",
          "text": [
            "Action: emotion: 100%|██████████| 4/4 [00:02<00:00,  1.35it/s]\n"
          ]
        },
        {
          "output_type": "stream",
          "name": "stdout",
          "text": [
            "  SUCCESSS\n",
            "Mag Cover #38 found: 1954Jan.png\n"
          ]
        },
        {
          "output_type": "stream",
          "name": "stderr",
          "text": [
            "Action: age:   0%|          | 0/4 [00:00<?, ?it/s]    "
          ]
        },
        {
          "output_type": "stream",
          "name": "stdout",
          "text": [
            "1/1 [==============================] - 0s 20ms/step\n"
          ]
        },
        {
          "output_type": "stream",
          "name": "stderr",
          "text": [
            "Action: gender:  25%|██▌       | 1/4 [00:01<00:04,  1.38s/it]"
          ]
        },
        {
          "output_type": "stream",
          "name": "stdout",
          "text": [
            "1/1 [==============================] - 0s 21ms/step\n"
          ]
        },
        {
          "output_type": "stream",
          "name": "stderr",
          "text": [
            "Action: race:  50%|█████     | 2/4 [00:01<00:01,  1.45it/s]  "
          ]
        },
        {
          "output_type": "stream",
          "name": "stdout",
          "text": [
            "1/1 [==============================] - 0s 20ms/step\n"
          ]
        },
        {
          "output_type": "stream",
          "name": "stderr",
          "text": [
            "Action: emotion:  75%|███████▌  | 3/4 [00:01<00:00,  2.10it/s]"
          ]
        },
        {
          "output_type": "stream",
          "name": "stdout",
          "text": [
            "1/1 [==============================] - 0s 21ms/step\n"
          ]
        },
        {
          "output_type": "stream",
          "name": "stderr",
          "text": [
            "Action: emotion: 100%|██████████| 4/4 [00:03<00:00,  1.33it/s]\n"
          ]
        },
        {
          "output_type": "stream",
          "name": "stdout",
          "text": [
            "  SUCCESSS\n",
            "Mag Cover #39 found: 1954Mar.png\n"
          ]
        },
        {
          "output_type": "stream",
          "name": "stderr",
          "text": [
            "Action: age:   0%|          | 0/4 [00:00<?, ?it/s]\n"
          ]
        },
        {
          "output_type": "stream",
          "name": "stdout",
          "text": [
            "  ERROR: Face could not be detected. Please confirm that the picture is a face photo or consider to set enforce_detection param to False.\n",
            "Mag Cover #40 found: 1954Jun.png\n"
          ]
        },
        {
          "output_type": "stream",
          "name": "stderr",
          "text": [
            "Action: age:   0%|          | 0/4 [00:00<?, ?it/s]\n"
          ]
        },
        {
          "output_type": "stream",
          "name": "stdout",
          "text": [
            "  ERROR: Face could not be detected. Please confirm that the picture is a face photo or consider to set enforce_detection param to False.\n",
            "Mag Cover #41 found: 1954Oct.png\n"
          ]
        },
        {
          "output_type": "stream",
          "name": "stderr",
          "text": [
            "Action: age:   0%|          | 0/4 [00:00<?, ?it/s]    "
          ]
        },
        {
          "output_type": "stream",
          "name": "stdout",
          "text": [
            "1/1 [==============================] - 0s 18ms/step\n"
          ]
        },
        {
          "output_type": "stream",
          "name": "stderr",
          "text": [
            "Action: gender:  25%|██▌       | 1/4 [00:00<00:02,  1.43it/s]"
          ]
        },
        {
          "output_type": "stream",
          "name": "stdout",
          "text": [
            "1/1 [==============================] - 0s 24ms/step\n"
          ]
        },
        {
          "output_type": "stream",
          "name": "stderr",
          "text": [
            "Action: race:  50%|█████     | 2/4 [00:00<00:00,  2.45it/s]  "
          ]
        },
        {
          "output_type": "stream",
          "name": "stdout",
          "text": [
            "1/1 [==============================] - 0s 19ms/step\n"
          ]
        },
        {
          "output_type": "stream",
          "name": "stderr",
          "text": [
            "Action: emotion:  75%|███████▌  | 3/4 [00:01<00:00,  3.16it/s]"
          ]
        },
        {
          "output_type": "stream",
          "name": "stdout",
          "text": [
            "1/1 [==============================] - 0s 18ms/step\n"
          ]
        },
        {
          "output_type": "stream",
          "name": "stderr",
          "text": [
            "Action: emotion: 100%|██████████| 4/4 [00:01<00:00,  2.36it/s]\n"
          ]
        },
        {
          "output_type": "stream",
          "name": "stdout",
          "text": [
            "  SUCCESSS\n",
            "Mag Cover #42 found: 1954Aug.png\n"
          ]
        },
        {
          "output_type": "stream",
          "name": "stderr",
          "text": [
            "Action: age:   0%|          | 0/4 [00:00<?, ?it/s]\n"
          ]
        },
        {
          "output_type": "stream",
          "name": "stdout",
          "text": [
            "  ERROR: Face could not be detected. Please confirm that the picture is a face photo or consider to set enforce_detection param to False.\n",
            "Mag Cover #43 found: 1954Feb.png\n"
          ]
        },
        {
          "output_type": "stream",
          "name": "stderr",
          "text": [
            "Action: age:   0%|          | 0/4 [00:00<?, ?it/s]    "
          ]
        },
        {
          "output_type": "stream",
          "name": "stdout",
          "text": [
            "1/1 [==============================] - 0s 19ms/step\n"
          ]
        },
        {
          "output_type": "stream",
          "name": "stderr",
          "text": [
            "Action: gender:  25%|██▌       | 1/4 [00:01<00:03,  1.20s/it]"
          ]
        },
        {
          "output_type": "stream",
          "name": "stdout",
          "text": [
            "1/1 [==============================] - 0s 20ms/step\n"
          ]
        },
        {
          "output_type": "stream",
          "name": "stderr",
          "text": [
            "Action: race:  50%|█████     | 2/4 [00:01<00:01,  1.75it/s]  "
          ]
        },
        {
          "output_type": "stream",
          "name": "stdout",
          "text": [
            "1/1 [==============================] - 0s 21ms/step\n"
          ]
        },
        {
          "output_type": "stream",
          "name": "stderr",
          "text": [
            "Action: emotion:  75%|███████▌  | 3/4 [00:01<00:00,  2.46it/s]"
          ]
        },
        {
          "output_type": "stream",
          "name": "stdout",
          "text": [
            "1/1 [==============================] - 0s 22ms/step\n"
          ]
        },
        {
          "output_type": "stream",
          "name": "stderr",
          "text": [
            "Action: emotion: 100%|██████████| 4/4 [00:02<00:00,  1.53it/s]\n"
          ]
        },
        {
          "output_type": "stream",
          "name": "stdout",
          "text": [
            "  SUCCESSS\n",
            "Mag Cover #44 found: 1954Nov.png\n"
          ]
        },
        {
          "output_type": "stream",
          "name": "stderr",
          "text": [
            "Action: age:   0%|          | 0/4 [00:00<?, ?it/s]\n"
          ]
        },
        {
          "output_type": "stream",
          "name": "stdout",
          "text": [
            "  ERROR: Face could not be detected. Please confirm that the picture is a face photo or consider to set enforce_detection param to False.\n",
            "Mag Cover #45 found: 1954May.png\n"
          ]
        },
        {
          "output_type": "stream",
          "name": "stderr",
          "text": [
            "Action: age:   0%|          | 0/4 [00:01<?, ?it/s]\n"
          ]
        },
        {
          "output_type": "stream",
          "name": "stdout",
          "text": [
            "  ERROR: Face could not be detected. Please confirm that the picture is a face photo or consider to set enforce_detection param to False.\n",
            "Mag Cover #46 found: 1954Sep.png\n"
          ]
        },
        {
          "output_type": "stream",
          "name": "stderr",
          "text": [
            "Action: age:   0%|          | 0/4 [00:01<?, ?it/s]\n"
          ]
        },
        {
          "output_type": "stream",
          "name": "stdout",
          "text": [
            "  ERROR: Face could not be detected. Please confirm that the picture is a face photo or consider to set enforce_detection param to False.\n",
            "Mag Cover #47 found: 1954Jul.png\n"
          ]
        },
        {
          "output_type": "stream",
          "name": "stderr",
          "text": [
            "Action: age:   0%|          | 0/4 [00:00<?, ?it/s]\n"
          ]
        },
        {
          "output_type": "stream",
          "name": "stdout",
          "text": [
            "  ERROR: Face could not be detected. Please confirm that the picture is a face photo or consider to set enforce_detection param to False.\n",
            "Mag Cover #48 found: 1958Sep.png\n"
          ]
        },
        {
          "output_type": "stream",
          "name": "stderr",
          "text": [
            "Action: age:   0%|          | 0/4 [00:00<?, ?it/s]    "
          ]
        },
        {
          "output_type": "stream",
          "name": "stdout",
          "text": [
            "1/1 [==============================] - 0s 20ms/step\n"
          ]
        },
        {
          "output_type": "stream",
          "name": "stderr",
          "text": [
            "Action: gender:  25%|██▌       | 1/4 [00:01<00:04,  1.51s/it]"
          ]
        },
        {
          "output_type": "stream",
          "name": "stdout",
          "text": [
            "1/1 [==============================] - 0s 20ms/step\n"
          ]
        },
        {
          "output_type": "stream",
          "name": "stderr",
          "text": [
            "Action: race:  50%|█████     | 2/4 [00:01<00:01,  1.35it/s]  "
          ]
        },
        {
          "output_type": "stream",
          "name": "stdout",
          "text": [
            "1/1 [==============================] - 0s 20ms/step\n"
          ]
        },
        {
          "output_type": "stream",
          "name": "stderr",
          "text": [
            "Action: emotion:  75%|███████▌  | 3/4 [00:01<00:00,  2.01it/s]"
          ]
        },
        {
          "output_type": "stream",
          "name": "stdout",
          "text": [
            "1/1 [==============================] - 0s 20ms/step\n"
          ]
        },
        {
          "output_type": "stream",
          "name": "stderr",
          "text": [
            "Action: emotion: 100%|██████████| 4/4 [00:03<00:00,  1.21it/s]\n"
          ]
        },
        {
          "output_type": "stream",
          "name": "stdout",
          "text": [
            "  SUCCESSS\n",
            "Mag Cover #49 found: 1958Dec.png\n"
          ]
        },
        {
          "output_type": "stream",
          "name": "stderr",
          "text": [
            "Action: age:   0%|          | 0/4 [00:00<?, ?it/s]\n"
          ]
        },
        {
          "output_type": "stream",
          "name": "stdout",
          "text": [
            "  ERROR: Face could not be detected. Please confirm that the picture is a face photo or consider to set enforce_detection param to False.\n",
            "Mag Cover #50 found: 1958Nov.png\n"
          ]
        },
        {
          "output_type": "stream",
          "name": "stderr",
          "text": [
            "Action: age:   0%|          | 0/4 [00:00<?, ?it/s]\n"
          ]
        },
        {
          "output_type": "stream",
          "name": "stdout",
          "text": [
            "  ERROR: Face could not be detected. Please confirm that the picture is a face photo or consider to set enforce_detection param to False.\n",
            "Mag Cover #51 found: 1958Jul.png\n"
          ]
        },
        {
          "output_type": "stream",
          "name": "stderr",
          "text": [
            "Action: age:   0%|          | 0/4 [00:00<?, ?it/s]    "
          ]
        },
        {
          "output_type": "stream",
          "name": "stdout",
          "text": [
            "1/1 [==============================] - 0s 19ms/step\n"
          ]
        },
        {
          "output_type": "stream",
          "name": "stderr",
          "text": [
            "Action: gender:  25%|██▌       | 1/4 [00:01<00:03,  1.30s/it]"
          ]
        },
        {
          "output_type": "stream",
          "name": "stdout",
          "text": [
            "1/1 [==============================] - 0s 26ms/step\n"
          ]
        },
        {
          "output_type": "stream",
          "name": "stderr",
          "text": [
            "Action: race:  50%|█████     | 2/4 [00:01<00:01,  1.62it/s]  "
          ]
        },
        {
          "output_type": "stream",
          "name": "stdout",
          "text": [
            "1/1 [==============================] - 0s 19ms/step\n"
          ]
        },
        {
          "output_type": "stream",
          "name": "stderr",
          "text": [
            "Action: emotion:  75%|███████▌  | 3/4 [00:01<00:00,  2.34it/s]"
          ]
        },
        {
          "output_type": "stream",
          "name": "stdout",
          "text": [
            "1/1 [==============================] - 0s 19ms/step\n"
          ]
        },
        {
          "output_type": "stream",
          "name": "stderr",
          "text": [
            "Action: emotion: 100%|██████████| 4/4 [00:02<00:00,  1.42it/s]\n"
          ]
        },
        {
          "output_type": "stream",
          "name": "stdout",
          "text": [
            "  SUCCESSS\n",
            "Mag Cover #52 found: 1958Apr.png\n"
          ]
        },
        {
          "output_type": "stream",
          "name": "stderr",
          "text": [
            "Action: age:   0%|          | 0/4 [00:00<?, ?it/s]    "
          ]
        },
        {
          "output_type": "stream",
          "name": "stdout",
          "text": [
            "1/1 [==============================] - 0s 19ms/step\n"
          ]
        },
        {
          "output_type": "stream",
          "name": "stderr",
          "text": [
            "Action: gender:  25%|██▌       | 1/4 [00:01<00:03,  1.04s/it]"
          ]
        },
        {
          "output_type": "stream",
          "name": "stdout",
          "text": [
            "1/1 [==============================] - 0s 20ms/step\n"
          ]
        },
        {
          "output_type": "stream",
          "name": "stderr",
          "text": [
            "Action: race:  50%|█████     | 2/4 [00:01<00:01,  1.98it/s]  "
          ]
        },
        {
          "output_type": "stream",
          "name": "stdout",
          "text": [
            "1/1 [==============================] - 0s 19ms/step\n"
          ]
        },
        {
          "output_type": "stream",
          "name": "stderr",
          "text": [
            "Action: emotion:  75%|███████▌  | 3/4 [00:01<00:00,  2.68it/s]"
          ]
        },
        {
          "output_type": "stream",
          "name": "stdout",
          "text": [
            "1/1 [==============================] - 0s 20ms/step\n"
          ]
        },
        {
          "output_type": "stream",
          "name": "stderr",
          "text": [
            "Action: emotion: 100%|██████████| 4/4 [00:02<00:00,  1.71it/s]\n"
          ]
        },
        {
          "output_type": "stream",
          "name": "stdout",
          "text": [
            "  SUCCESSS\n",
            "Mag Cover #53 found: 1958Jun.png\n"
          ]
        },
        {
          "output_type": "stream",
          "name": "stderr",
          "text": [
            "Action: age:   0%|          | 0/4 [00:00<?, ?it/s]    "
          ]
        },
        {
          "output_type": "stream",
          "name": "stdout",
          "text": [
            "1/1 [==============================] - 0s 19ms/step\n"
          ]
        },
        {
          "output_type": "stream",
          "name": "stderr",
          "text": [
            "Action: gender:  25%|██▌       | 1/4 [00:00<00:02,  1.19it/s]"
          ]
        },
        {
          "output_type": "stream",
          "name": "stdout",
          "text": [
            "1/1 [==============================] - 0s 29ms/step\n"
          ]
        },
        {
          "output_type": "stream",
          "name": "stderr",
          "text": [
            "Action: race:  50%|█████     | 2/4 [00:00<00:00,  2.35it/s]  "
          ]
        },
        {
          "output_type": "stream",
          "name": "stdout",
          "text": [
            "1/1 [==============================] - 0s 19ms/step\n"
          ]
        },
        {
          "output_type": "stream",
          "name": "stderr",
          "text": [
            "Action: emotion:  75%|███████▌  | 3/4 [00:01<00:00,  3.08it/s]"
          ]
        },
        {
          "output_type": "stream",
          "name": "stdout",
          "text": [
            "1/1 [==============================] - 0s 17ms/step\n"
          ]
        },
        {
          "output_type": "stream",
          "name": "stderr",
          "text": [
            "Action: emotion: 100%|██████████| 4/4 [00:01<00:00,  2.07it/s]\n"
          ]
        },
        {
          "output_type": "stream",
          "name": "stdout",
          "text": [
            "  SUCCESSS\n",
            "Mag Cover #54 found: 1958May.png\n"
          ]
        },
        {
          "output_type": "stream",
          "name": "stderr",
          "text": [
            "Action: age:   0%|          | 0/4 [00:00<?, ?it/s]    "
          ]
        },
        {
          "output_type": "stream",
          "name": "stdout",
          "text": [
            "1/1 [==============================] - 0s 20ms/step\n"
          ]
        },
        {
          "output_type": "stream",
          "name": "stderr",
          "text": [
            "Action: gender:  25%|██▌       | 1/4 [00:01<00:03,  1.33s/it]"
          ]
        },
        {
          "output_type": "stream",
          "name": "stdout",
          "text": [
            "1/1 [==============================] - 0s 18ms/step\n"
          ]
        },
        {
          "output_type": "stream",
          "name": "stderr",
          "text": [
            "Action: race:  50%|█████     | 2/4 [00:01<00:01,  1.60it/s]  "
          ]
        },
        {
          "output_type": "stream",
          "name": "stdout",
          "text": [
            "1/1 [==============================] - 0s 19ms/step\n"
          ]
        },
        {
          "output_type": "stream",
          "name": "stderr",
          "text": [
            "Action: emotion:  75%|███████▌  | 3/4 [00:01<00:00,  2.32it/s]"
          ]
        },
        {
          "output_type": "stream",
          "name": "stdout",
          "text": [
            "1/1 [==============================] - 0s 17ms/step\n"
          ]
        },
        {
          "output_type": "stream",
          "name": "stderr",
          "text": [
            "Action: emotion: 100%|██████████| 4/4 [00:02<00:00,  1.41it/s]\n"
          ]
        },
        {
          "output_type": "stream",
          "name": "stdout",
          "text": [
            "  SUCCESSS\n",
            "Mag Cover #55 found: 1958Aug.png\n"
          ]
        },
        {
          "output_type": "stream",
          "name": "stderr",
          "text": [
            "Action: age:   0%|          | 0/4 [00:00<?, ?it/s]    "
          ]
        },
        {
          "output_type": "stream",
          "name": "stdout",
          "text": [
            "1/1 [==============================] - 0s 19ms/step\n"
          ]
        },
        {
          "output_type": "stream",
          "name": "stderr",
          "text": [
            "Action: gender:  25%|██▌       | 1/4 [00:00<00:02,  1.12it/s]"
          ]
        },
        {
          "output_type": "stream",
          "name": "stdout",
          "text": [
            "1/1 [==============================] - 0s 22ms/step\n"
          ]
        },
        {
          "output_type": "stream",
          "name": "stderr",
          "text": [
            "Action: race:  50%|█████     | 2/4 [00:01<00:00,  2.03it/s]  "
          ]
        },
        {
          "output_type": "stream",
          "name": "stdout",
          "text": [
            "1/1 [==============================] - 0s 19ms/step\n"
          ]
        },
        {
          "output_type": "stream",
          "name": "stderr",
          "text": [
            "Action: emotion:  75%|███████▌  | 3/4 [00:01<00:00,  2.78it/s]"
          ]
        },
        {
          "output_type": "stream",
          "name": "stdout",
          "text": [
            "1/1 [==============================] - 0s 19ms/step\n"
          ]
        },
        {
          "output_type": "stream",
          "name": "stderr",
          "text": [
            "Action: emotion: 100%|██████████| 4/4 [00:02<00:00,  1.97it/s]\n"
          ]
        },
        {
          "output_type": "stream",
          "name": "stdout",
          "text": [
            "  SUCCESSS\n",
            "Mag Cover #56 found: 1958Feb.png\n"
          ]
        },
        {
          "output_type": "stream",
          "name": "stderr",
          "text": [
            "Action: age:   0%|          | 0/4 [00:00<?, ?it/s]\n"
          ]
        },
        {
          "output_type": "stream",
          "name": "stdout",
          "text": [
            "  ERROR: Face could not be detected. Please confirm that the picture is a face photo or consider to set enforce_detection param to False.\n",
            "Mag Cover #57 found: 1958Oct.png\n"
          ]
        },
        {
          "output_type": "stream",
          "name": "stderr",
          "text": [
            "Action: age:   0%|          | 0/4 [00:00<?, ?it/s]    "
          ]
        },
        {
          "output_type": "stream",
          "name": "stdout",
          "text": [
            "1/1 [==============================] - 0s 18ms/step\n"
          ]
        },
        {
          "output_type": "stream",
          "name": "stderr",
          "text": [
            "Action: gender:  25%|██▌       | 1/4 [00:01<00:03,  1.17s/it]"
          ]
        },
        {
          "output_type": "stream",
          "name": "stdout",
          "text": [
            "1/1 [==============================] - 0s 22ms/step\n"
          ]
        },
        {
          "output_type": "stream",
          "name": "stderr",
          "text": [
            "Action: race:  50%|█████     | 2/4 [00:01<00:01,  1.79it/s]  "
          ]
        },
        {
          "output_type": "stream",
          "name": "stdout",
          "text": [
            "1/1 [==============================] - 0s 22ms/step\n"
          ]
        },
        {
          "output_type": "stream",
          "name": "stderr",
          "text": [
            "Action: emotion:  75%|███████▌  | 3/4 [00:01<00:00,  2.51it/s]"
          ]
        },
        {
          "output_type": "stream",
          "name": "stdout",
          "text": [
            "1/1 [==============================] - 0s 18ms/step\n"
          ]
        },
        {
          "output_type": "stream",
          "name": "stderr",
          "text": [
            "Action: emotion: 100%|██████████| 4/4 [00:02<00:00,  1.57it/s]\n"
          ]
        },
        {
          "output_type": "stream",
          "name": "stdout",
          "text": [
            "  SUCCESSS\n",
            "Mag Cover #58 found: 1958Jan.png\n"
          ]
        },
        {
          "output_type": "stream",
          "name": "stderr",
          "text": [
            "Action: age:   0%|          | 0/4 [00:00<?, ?it/s]    "
          ]
        },
        {
          "output_type": "stream",
          "name": "stdout",
          "text": [
            "1/1 [==============================] - 0s 18ms/step\n"
          ]
        },
        {
          "output_type": "stream",
          "name": "stderr",
          "text": [
            "Action: gender:  25%|██▌       | 1/4 [00:01<00:04,  1.34s/it]"
          ]
        },
        {
          "output_type": "stream",
          "name": "stdout",
          "text": [
            "1/1 [==============================] - 0s 21ms/step\n"
          ]
        },
        {
          "output_type": "stream",
          "name": "stderr",
          "text": [
            "Action: race:  50%|█████     | 2/4 [00:01<00:01,  1.59it/s]  "
          ]
        },
        {
          "output_type": "stream",
          "name": "stdout",
          "text": [
            "1/1 [==============================] - 0s 19ms/step\n"
          ]
        },
        {
          "output_type": "stream",
          "name": "stderr",
          "text": [
            "Action: emotion:  75%|███████▌  | 3/4 [00:01<00:00,  2.29it/s]"
          ]
        },
        {
          "output_type": "stream",
          "name": "stdout",
          "text": [
            "1/1 [==============================] - 0s 18ms/step\n"
          ]
        },
        {
          "output_type": "stream",
          "name": "stderr",
          "text": [
            "Action: emotion: 100%|██████████| 4/4 [00:02<00:00,  1.36it/s]\n"
          ]
        },
        {
          "output_type": "stream",
          "name": "stdout",
          "text": [
            "  SUCCESSS\n",
            "Mag Cover #59 found: 1958Mar.png\n"
          ]
        },
        {
          "output_type": "stream",
          "name": "stderr",
          "text": [
            "Action: age:   0%|          | 0/4 [00:00<?, ?it/s]    "
          ]
        },
        {
          "output_type": "stream",
          "name": "stdout",
          "text": [
            "1/1 [==============================] - 0s 21ms/step\n"
          ]
        },
        {
          "output_type": "stream",
          "name": "stderr",
          "text": [
            "Action: gender:  25%|██▌       | 1/4 [00:01<00:03,  1.15s/it]"
          ]
        },
        {
          "output_type": "stream",
          "name": "stdout",
          "text": [
            "1/1 [==============================] - 0s 20ms/step\n"
          ]
        },
        {
          "output_type": "stream",
          "name": "stderr",
          "text": [
            "Action: race:  50%|█████     | 2/4 [00:01<00:01,  1.68it/s]  "
          ]
        },
        {
          "output_type": "stream",
          "name": "stdout",
          "text": [
            "1/1 [==============================] - 0s 20ms/step\n"
          ]
        },
        {
          "output_type": "stream",
          "name": "stderr",
          "text": [
            "Action: emotion:  75%|███████▌  | 3/4 [00:01<00:00,  2.39it/s]"
          ]
        },
        {
          "output_type": "stream",
          "name": "stdout",
          "text": [
            "1/1 [==============================] - 0s 19ms/step\n"
          ]
        },
        {
          "output_type": "stream",
          "name": "stderr",
          "text": [
            "Action: emotion: 100%|██████████| 4/4 [00:02<00:00,  1.53it/s]\n"
          ]
        },
        {
          "output_type": "stream",
          "name": "stdout",
          "text": [
            "  SUCCESSS\n",
            "Mag Cover #60 found: 1957Dec.png\n"
          ]
        },
        {
          "output_type": "stream",
          "name": "stderr",
          "text": [
            "Action: age:   0%|          | 0/4 [00:00<?, ?it/s]    "
          ]
        },
        {
          "output_type": "stream",
          "name": "stdout",
          "text": [
            "1/1 [==============================] - 0s 19ms/step\n"
          ]
        },
        {
          "output_type": "stream",
          "name": "stderr",
          "text": [
            "Action: gender:  25%|██▌       | 1/4 [00:01<00:03,  1.28s/it]"
          ]
        },
        {
          "output_type": "stream",
          "name": "stdout",
          "text": [
            "1/1 [==============================] - 0s 20ms/step\n"
          ]
        },
        {
          "output_type": "stream",
          "name": "stderr",
          "text": [
            "Action: race:  50%|█████     | 2/4 [00:01<00:01,  1.55it/s]  "
          ]
        },
        {
          "output_type": "stream",
          "name": "stdout",
          "text": [
            "1/1 [==============================] - 0s 18ms/step\n"
          ]
        },
        {
          "output_type": "stream",
          "name": "stderr",
          "text": [
            "Action: emotion:  75%|███████▌  | 3/4 [00:01<00:00,  2.24it/s]"
          ]
        },
        {
          "output_type": "stream",
          "name": "stdout",
          "text": [
            "1/1 [==============================] - 0s 20ms/step\n"
          ]
        },
        {
          "output_type": "stream",
          "name": "stderr",
          "text": [
            "Action: emotion: 100%|██████████| 4/4 [00:02<00:00,  1.42it/s]\n"
          ]
        },
        {
          "output_type": "stream",
          "name": "stdout",
          "text": [
            "  SUCCESSS\n",
            "Mag Cover #61 found: 1957Jul.png\n"
          ]
        },
        {
          "output_type": "stream",
          "name": "stderr",
          "text": [
            "Action: age:   0%|          | 0/4 [00:00<?, ?it/s]    "
          ]
        },
        {
          "output_type": "stream",
          "name": "stdout",
          "text": [
            "1/1 [==============================] - 0s 19ms/step\n"
          ]
        },
        {
          "output_type": "stream",
          "name": "stderr",
          "text": [
            "Action: gender:  25%|██▌       | 1/4 [00:01<00:04,  1.61s/it]"
          ]
        },
        {
          "output_type": "stream",
          "name": "stdout",
          "text": [
            "1/1 [==============================] - 0s 19ms/step\n"
          ]
        },
        {
          "output_type": "stream",
          "name": "stderr",
          "text": [
            "Action: race:  50%|█████     | 2/4 [00:01<00:01,  1.34it/s]  "
          ]
        },
        {
          "output_type": "stream",
          "name": "stdout",
          "text": [
            "1/1 [==============================] - 0s 25ms/step\n"
          ]
        },
        {
          "output_type": "stream",
          "name": "stderr",
          "text": [
            "Action: emotion:  75%|███████▌  | 3/4 [00:01<00:00,  2.00it/s]"
          ]
        },
        {
          "output_type": "stream",
          "name": "stdout",
          "text": [
            "1/1 [==============================] - 0s 17ms/step\n"
          ]
        },
        {
          "output_type": "stream",
          "name": "stderr",
          "text": [
            "Action: emotion: 100%|██████████| 4/4 [00:03<00:00,  1.18it/s]\n"
          ]
        },
        {
          "output_type": "stream",
          "name": "stdout",
          "text": [
            "  SUCCESSS\n",
            "Mag Cover #62 found: 1957Apr.png\n"
          ]
        },
        {
          "output_type": "stream",
          "name": "stderr",
          "text": [
            "Action: age:   0%|          | 0/4 [00:00<?, ?it/s]\n"
          ]
        },
        {
          "output_type": "stream",
          "name": "stdout",
          "text": [
            "  ERROR: Face could not be detected. Please confirm that the picture is a face photo or consider to set enforce_detection param to False.\n",
            "Mag Cover #63 found: 1957Feb.png\n"
          ]
        },
        {
          "output_type": "stream",
          "name": "stderr",
          "text": [
            "Action: age:   0%|          | 0/4 [00:00<?, ?it/s]    "
          ]
        },
        {
          "output_type": "stream",
          "name": "stdout",
          "text": [
            "1/1 [==============================] - 0s 18ms/step\n"
          ]
        },
        {
          "output_type": "stream",
          "name": "stderr",
          "text": [
            "Action: gender:  25%|██▌       | 1/4 [00:01<00:03,  1.10s/it]"
          ]
        },
        {
          "output_type": "stream",
          "name": "stdout",
          "text": [
            "1/1 [==============================] - 0s 22ms/step\n"
          ]
        },
        {
          "output_type": "stream",
          "name": "stderr",
          "text": [
            "Action: race:  50%|█████     | 2/4 [00:01<00:01,  1.73it/s]  "
          ]
        },
        {
          "output_type": "stream",
          "name": "stdout",
          "text": [
            "1/1 [==============================] - 0s 21ms/step\n"
          ]
        },
        {
          "output_type": "stream",
          "name": "stderr",
          "text": [
            "Action: emotion:  75%|███████▌  | 3/4 [00:01<00:00,  2.65it/s]"
          ]
        },
        {
          "output_type": "stream",
          "name": "stdout",
          "text": [
            "1/1 [==============================] - 0s 20ms/step\n"
          ]
        },
        {
          "output_type": "stream",
          "name": "stderr",
          "text": [
            "Action: emotion: 100%|██████████| 4/4 [00:02<00:00,  1.65it/s]\n"
          ]
        },
        {
          "output_type": "stream",
          "name": "stdout",
          "text": [
            "  SUCCESSS\n",
            "Mag Cover #64 found: 1957Aug.png\n"
          ]
        },
        {
          "output_type": "stream",
          "name": "stderr",
          "text": [
            "Action: age:   0%|          | 0/4 [00:00<?, ?it/s]    "
          ]
        },
        {
          "output_type": "stream",
          "name": "stdout",
          "text": [
            "1/1 [==============================] - 0s 19ms/step\n"
          ]
        },
        {
          "output_type": "stream",
          "name": "stderr",
          "text": [
            "Action: gender:  25%|██▌       | 1/4 [00:01<00:03,  1.33s/it]"
          ]
        },
        {
          "output_type": "stream",
          "name": "stdout",
          "text": [
            "1/1 [==============================] - 0s 18ms/step\n"
          ]
        },
        {
          "output_type": "stream",
          "name": "stderr",
          "text": [
            "Action: race:  50%|█████     | 2/4 [00:01<00:01,  1.50it/s]  "
          ]
        },
        {
          "output_type": "stream",
          "name": "stdout",
          "text": [
            "1/1 [==============================] - 0s 21ms/step\n"
          ]
        },
        {
          "output_type": "stream",
          "name": "stderr",
          "text": [
            "Action: emotion:  75%|███████▌  | 3/4 [00:01<00:00,  2.36it/s]"
          ]
        },
        {
          "output_type": "stream",
          "name": "stdout",
          "text": [
            "1/1 [==============================] - 0s 21ms/step\n"
          ]
        },
        {
          "output_type": "stream",
          "name": "stderr",
          "text": [
            "Action: emotion: 100%|██████████| 4/4 [00:02<00:00,  1.41it/s]\n"
          ]
        },
        {
          "output_type": "stream",
          "name": "stdout",
          "text": [
            "  SUCCESSS\n",
            "Mag Cover #65 found: 1957Jan.png\n"
          ]
        },
        {
          "output_type": "stream",
          "name": "stderr",
          "text": [
            "Action: age:   0%|          | 0/4 [00:00<?, ?it/s]    "
          ]
        },
        {
          "output_type": "stream",
          "name": "stdout",
          "text": [
            "1/1 [==============================] - 0s 22ms/step\n"
          ]
        },
        {
          "output_type": "stream",
          "name": "stderr",
          "text": [
            "Action: gender:  25%|██▌       | 1/4 [00:01<00:03,  1.07s/it]"
          ]
        },
        {
          "output_type": "stream",
          "name": "stdout",
          "text": [
            "1/1 [==============================] - 0s 20ms/step\n"
          ]
        },
        {
          "output_type": "stream",
          "name": "stderr",
          "text": [
            "Action: race:  50%|█████     | 2/4 [00:01<00:01,  1.92it/s]  "
          ]
        },
        {
          "output_type": "stream",
          "name": "stdout",
          "text": [
            "1/1 [==============================] - 0s 21ms/step\n"
          ]
        },
        {
          "output_type": "stream",
          "name": "stderr",
          "text": [
            "Action: emotion:  75%|███████▌  | 3/4 [00:01<00:00,  2.64it/s]"
          ]
        },
        {
          "output_type": "stream",
          "name": "stdout",
          "text": [
            "1/1 [==============================] - 0s 22ms/step\n"
          ]
        },
        {
          "output_type": "stream",
          "name": "stderr",
          "text": [
            "Action: emotion: 100%|██████████| 4/4 [00:02<00:00,  1.66it/s]\n"
          ]
        },
        {
          "output_type": "stream",
          "name": "stdout",
          "text": [
            "  SUCCESSS\n",
            "Mag Cover #66 found: 1957Sep.png\n"
          ]
        },
        {
          "output_type": "stream",
          "name": "stderr",
          "text": [
            "Action: age:   0%|          | 0/4 [00:01<?, ?it/s]\n"
          ]
        },
        {
          "output_type": "stream",
          "name": "stdout",
          "text": [
            "  ERROR: Face could not be detected. Please confirm that the picture is a face photo or consider to set enforce_detection param to False.\n",
            "Mag Cover #67 found: 1957Jun.png\n"
          ]
        },
        {
          "output_type": "stream",
          "name": "stderr",
          "text": [
            "Action: age:   0%|          | 0/4 [00:00<?, ?it/s]\n"
          ]
        },
        {
          "output_type": "stream",
          "name": "stdout",
          "text": [
            "  ERROR: Face could not be detected. Please confirm that the picture is a face photo or consider to set enforce_detection param to False.\n",
            "Mag Cover #68 found: 1957Oct.png\n"
          ]
        },
        {
          "output_type": "stream",
          "name": "stderr",
          "text": [
            "Action: age:   0%|          | 0/4 [00:00<?, ?it/s]    "
          ]
        },
        {
          "output_type": "stream",
          "name": "stdout",
          "text": [
            "1/1 [==============================] - 0s 21ms/step\n"
          ]
        },
        {
          "output_type": "stream",
          "name": "stderr",
          "text": [
            "Action: gender:  25%|██▌       | 1/4 [00:01<00:03,  1.08s/it]"
          ]
        },
        {
          "output_type": "stream",
          "name": "stdout",
          "text": [
            "1/1 [==============================] - 0s 20ms/step\n"
          ]
        },
        {
          "output_type": "stream",
          "name": "stderr",
          "text": [
            "Action: race:  50%|█████     | 2/4 [00:01<00:01,  1.76it/s]  "
          ]
        },
        {
          "output_type": "stream",
          "name": "stdout",
          "text": [
            "1/1 [==============================] - 0s 23ms/step\n"
          ]
        },
        {
          "output_type": "stream",
          "name": "stderr",
          "text": [
            "Action: emotion:  75%|███████▌  | 3/4 [00:01<00:00,  2.70it/s]"
          ]
        },
        {
          "output_type": "stream",
          "name": "stdout",
          "text": [
            "1/1 [==============================] - 0s 23ms/step\n"
          ]
        },
        {
          "output_type": "stream",
          "name": "stderr",
          "text": [
            "Action: emotion: 100%|██████████| 4/4 [00:02<00:00,  1.68it/s]\n"
          ]
        },
        {
          "output_type": "stream",
          "name": "stdout",
          "text": [
            "  SUCCESSS\n",
            "Mag Cover #69 found: 1957Nov.png\n"
          ]
        },
        {
          "output_type": "stream",
          "name": "stderr",
          "text": [
            "Action: age:   0%|          | 0/4 [00:00<?, ?it/s]\n"
          ]
        },
        {
          "output_type": "stream",
          "name": "stdout",
          "text": [
            "  ERROR: Face could not be detected. Please confirm that the picture is a face photo or consider to set enforce_detection param to False.\n",
            "Mag Cover #70 found: 1957Mar.png\n"
          ]
        },
        {
          "output_type": "stream",
          "name": "stderr",
          "text": [
            "Action: age:   0%|          | 0/4 [00:00<?, ?it/s]\n"
          ]
        },
        {
          "output_type": "stream",
          "name": "stdout",
          "text": [
            "  ERROR: Face could not be detected. Please confirm that the picture is a face photo or consider to set enforce_detection param to False.\n",
            "Mag Cover #71 found: 1957May.png\n"
          ]
        },
        {
          "output_type": "stream",
          "name": "stderr",
          "text": [
            "Action: age:   0%|          | 0/4 [00:00<?, ?it/s]    "
          ]
        },
        {
          "output_type": "stream",
          "name": "stdout",
          "text": [
            "1/1 [==============================] - 0s 19ms/step\n"
          ]
        },
        {
          "output_type": "stream",
          "name": "stderr",
          "text": [
            "Action: gender:  25%|██▌       | 1/4 [00:01<00:03,  1.11s/it]"
          ]
        },
        {
          "output_type": "stream",
          "name": "stdout",
          "text": [
            "1/1 [==============================] - 0s 24ms/step\n"
          ]
        },
        {
          "output_type": "stream",
          "name": "stderr",
          "text": [
            "Action: race:  50%|█████     | 2/4 [00:01<00:01,  1.71it/s]  "
          ]
        },
        {
          "output_type": "stream",
          "name": "stdout",
          "text": [
            "1/1 [==============================] - 0s 20ms/step\n"
          ]
        },
        {
          "output_type": "stream",
          "name": "stderr",
          "text": [
            "Action: emotion:  75%|███████▌  | 3/4 [00:01<00:00,  2.42it/s]"
          ]
        },
        {
          "output_type": "stream",
          "name": "stdout",
          "text": [
            "1/1 [==============================] - 0s 17ms/step\n"
          ]
        },
        {
          "output_type": "stream",
          "name": "stderr",
          "text": [
            "Action: emotion: 100%|██████████| 4/4 [00:02<00:00,  1.56it/s]\n"
          ]
        },
        {
          "output_type": "stream",
          "name": "stdout",
          "text": [
            "  SUCCESSS\n",
            "Mag Cover #72 found: Screen Shot 2022-10-18 at 2.02.14 PM.png\n"
          ]
        },
        {
          "output_type": "stream",
          "name": "stderr",
          "text": [
            "Action: age:   0%|          | 0/4 [00:00<?, ?it/s]    "
          ]
        },
        {
          "output_type": "stream",
          "name": "stdout",
          "text": [
            "1/1 [==============================] - 0s 19ms/step\n"
          ]
        },
        {
          "output_type": "stream",
          "name": "stderr",
          "text": [
            "Action: gender:  25%|██▌       | 1/4 [00:01<00:03,  1.06s/it]"
          ]
        },
        {
          "output_type": "stream",
          "name": "stdout",
          "text": [
            "1/1 [==============================] - 0s 20ms/step\n"
          ]
        },
        {
          "output_type": "stream",
          "name": "stderr",
          "text": [
            "Action: race:  50%|█████     | 2/4 [00:01<00:01,  1.80it/s]  "
          ]
        },
        {
          "output_type": "stream",
          "name": "stdout",
          "text": [
            "1/1 [==============================] - 0s 19ms/step\n"
          ]
        },
        {
          "output_type": "stream",
          "name": "stderr",
          "text": [
            "Action: emotion:  75%|███████▌  | 3/4 [00:01<00:00,  2.74it/s]"
          ]
        },
        {
          "output_type": "stream",
          "name": "stdout",
          "text": [
            "1/1 [==============================] - 0s 18ms/step\n"
          ]
        },
        {
          "output_type": "stream",
          "name": "stderr",
          "text": [
            "Action: emotion: 100%|██████████| 4/4 [00:02<00:00,  1.74it/s]\n"
          ]
        },
        {
          "output_type": "stream",
          "name": "stdout",
          "text": [
            "  SUCCESSS\n",
            "DONE: Processed 39\n",
            "\n",
            "\n",
            "Processing #4: playboycovers_1960s\n",
            "\n",
            "Mag Cover #1 found: 1962Jun.png\n"
          ]
        },
        {
          "output_type": "stream",
          "name": "stderr",
          "text": [
            "Action: age:   0%|          | 0/4 [00:00<?, ?it/s]\n"
          ]
        },
        {
          "output_type": "stream",
          "name": "stdout",
          "text": [
            "  ERROR: Face could not be detected. Please confirm that the picture is a face photo or consider to set enforce_detection param to False.\n",
            "Mag Cover #2 found: 1962Apr.png\n"
          ]
        },
        {
          "output_type": "stream",
          "name": "stderr",
          "text": [
            "Action: age:   0%|          | 0/4 [00:00<?, ?it/s]    "
          ]
        },
        {
          "output_type": "stream",
          "name": "stdout",
          "text": [
            "1/1 [==============================] - 0s 19ms/step\n"
          ]
        },
        {
          "output_type": "stream",
          "name": "stderr",
          "text": [
            "Action: gender:  25%|██▌       | 1/4 [00:01<00:04,  1.55s/it]"
          ]
        },
        {
          "output_type": "stream",
          "name": "stdout",
          "text": [
            "1/1 [==============================] - 0s 19ms/step\n"
          ]
        },
        {
          "output_type": "stream",
          "name": "stderr",
          "text": [
            "Action: race:  50%|█████     | 2/4 [00:01<00:01,  1.31it/s]  "
          ]
        },
        {
          "output_type": "stream",
          "name": "stdout",
          "text": [
            "1/1 [==============================] - 0s 20ms/step\n"
          ]
        },
        {
          "output_type": "stream",
          "name": "stderr",
          "text": [
            "Action: emotion:  75%|███████▌  | 3/4 [00:01<00:00,  2.07it/s]"
          ]
        },
        {
          "output_type": "stream",
          "name": "stdout",
          "text": [
            "1/1 [==============================] - 0s 20ms/step\n"
          ]
        },
        {
          "output_type": "stream",
          "name": "stderr",
          "text": [
            "Action: emotion: 100%|██████████| 4/4 [00:03<00:00,  1.20it/s]\n"
          ]
        },
        {
          "output_type": "stream",
          "name": "stdout",
          "text": [
            "  SUCCESSS\n",
            "Mag Cover #3 found: 1962Oct.png\n"
          ]
        },
        {
          "output_type": "stream",
          "name": "stderr",
          "text": [
            "Action: age:   0%|          | 0/4 [00:00<?, ?it/s]\n"
          ]
        },
        {
          "output_type": "stream",
          "name": "stdout",
          "text": [
            "  ERROR: Face could not be detected. Please confirm that the picture is a face photo or consider to set enforce_detection param to False.\n",
            "Mag Cover #4 found: 1962Jan.png\n"
          ]
        },
        {
          "output_type": "stream",
          "name": "stderr",
          "text": [
            "Action: age:   0%|          | 0/4 [00:00<?, ?it/s]    "
          ]
        },
        {
          "output_type": "stream",
          "name": "stdout",
          "text": [
            "1/1 [==============================] - 0s 18ms/step\n"
          ]
        },
        {
          "output_type": "stream",
          "name": "stderr",
          "text": [
            "Action: gender:  25%|██▌       | 1/4 [00:01<00:05,  1.81s/it]"
          ]
        },
        {
          "output_type": "stream",
          "name": "stdout",
          "text": [
            "1/1 [==============================] - 0s 19ms/step\n"
          ]
        },
        {
          "output_type": "stream",
          "name": "stderr",
          "text": [
            "Action: race:  50%|█████     | 2/4 [00:01<00:01,  1.21it/s]  "
          ]
        },
        {
          "output_type": "stream",
          "name": "stdout",
          "text": [
            "1/1 [==============================] - 0s 21ms/step\n"
          ]
        },
        {
          "output_type": "stream",
          "name": "stderr",
          "text": [
            "Action: emotion:  75%|███████▌  | 3/4 [00:02<00:00,  1.96it/s]"
          ]
        },
        {
          "output_type": "stream",
          "name": "stdout",
          "text": [
            "1/1 [==============================] - 0s 18ms/step\n"
          ]
        },
        {
          "output_type": "stream",
          "name": "stderr",
          "text": [
            "Action: emotion: 100%|██████████| 4/4 [00:03<00:00,  1.07it/s]\n"
          ]
        },
        {
          "output_type": "stream",
          "name": "stdout",
          "text": [
            "  SUCCESSS\n",
            "Mag Cover #5 found: 1962Dec.png\n"
          ]
        },
        {
          "output_type": "stream",
          "name": "stderr",
          "text": [
            "Action: age:   0%|          | 0/4 [00:00<?, ?it/s]    "
          ]
        },
        {
          "output_type": "stream",
          "name": "stdout",
          "text": [
            "1/1 [==============================] - 0s 21ms/step\n"
          ]
        },
        {
          "output_type": "stream",
          "name": "stderr",
          "text": [
            "Action: gender:  25%|██▌       | 1/4 [00:01<00:03,  1.15s/it]"
          ]
        },
        {
          "output_type": "stream",
          "name": "stdout",
          "text": [
            "1/1 [==============================] - 0s 24ms/step\n"
          ]
        },
        {
          "output_type": "stream",
          "name": "stderr",
          "text": [
            "Action: race:  50%|█████     | 2/4 [00:01<00:01,  1.68it/s]  "
          ]
        },
        {
          "output_type": "stream",
          "name": "stdout",
          "text": [
            "1/1 [==============================] - 0s 19ms/step\n"
          ]
        },
        {
          "output_type": "stream",
          "name": "stderr",
          "text": [
            "Action: emotion:  75%|███████▌  | 3/4 [00:01<00:00,  2.59it/s]"
          ]
        },
        {
          "output_type": "stream",
          "name": "stdout",
          "text": [
            "1/1 [==============================] - 0s 19ms/step\n"
          ]
        },
        {
          "output_type": "stream",
          "name": "stderr",
          "text": [
            "Action: emotion: 100%|██████████| 4/4 [00:02<00:00,  1.62it/s]\n"
          ]
        },
        {
          "output_type": "stream",
          "name": "stdout",
          "text": [
            "  SUCCESSS\n",
            "Mag Cover #6 found: 1962Mar.png\n"
          ]
        },
        {
          "output_type": "stream",
          "name": "stderr",
          "text": [
            "Action: age:   0%|          | 0/4 [00:00<?, ?it/s]    "
          ]
        },
        {
          "output_type": "stream",
          "name": "stdout",
          "text": [
            "1/1 [==============================] - 0s 19ms/step\n"
          ]
        },
        {
          "output_type": "stream",
          "name": "stderr",
          "text": [
            "Action: gender:  25%|██▌       | 1/4 [00:01<00:04,  1.37s/it]"
          ]
        },
        {
          "output_type": "stream",
          "name": "stdout",
          "text": [
            "1/1 [==============================] - 0s 19ms/step\n"
          ]
        },
        {
          "output_type": "stream",
          "name": "stderr",
          "text": [
            "Action: race:  50%|█████     | 2/4 [00:01<00:01,  1.46it/s]  "
          ]
        },
        {
          "output_type": "stream",
          "name": "stdout",
          "text": [
            "1/1 [==============================] - 0s 23ms/step\n"
          ]
        },
        {
          "output_type": "stream",
          "name": "stderr",
          "text": [
            "Action: emotion:  75%|███████▌  | 3/4 [00:01<00:00,  2.12it/s]"
          ]
        },
        {
          "output_type": "stream",
          "name": "stdout",
          "text": [
            "1/1 [==============================] - 0s 22ms/step\n"
          ]
        },
        {
          "output_type": "stream",
          "name": "stderr",
          "text": [
            "Action: emotion: 100%|██████████| 4/4 [00:03<00:00,  1.30it/s]\n"
          ]
        },
        {
          "output_type": "stream",
          "name": "stdout",
          "text": [
            "  SUCCESSS\n",
            "Mag Cover #7 found: 1962Jul.png\n"
          ]
        },
        {
          "output_type": "stream",
          "name": "stderr",
          "text": [
            "Action: age:   0%|          | 0/4 [00:00<?, ?it/s]    "
          ]
        },
        {
          "output_type": "stream",
          "name": "stdout",
          "text": [
            "1/1 [==============================] - 0s 19ms/step\n"
          ]
        },
        {
          "output_type": "stream",
          "name": "stderr",
          "text": [
            "Action: gender:  25%|██▌       | 1/4 [00:00<00:02,  1.02it/s]"
          ]
        },
        {
          "output_type": "stream",
          "name": "stdout",
          "text": [
            "1/1 [==============================] - 0s 19ms/step\n"
          ]
        },
        {
          "output_type": "stream",
          "name": "stderr",
          "text": [
            "Action: race:  50%|█████     | 2/4 [00:01<00:01,  1.88it/s]  "
          ]
        },
        {
          "output_type": "stream",
          "name": "stdout",
          "text": [
            "1/1 [==============================] - 0s 21ms/step\n"
          ]
        },
        {
          "output_type": "stream",
          "name": "stderr",
          "text": [
            "Action: emotion:  75%|███████▌  | 3/4 [00:01<00:00,  2.59it/s]"
          ]
        },
        {
          "output_type": "stream",
          "name": "stdout",
          "text": [
            "1/1 [==============================] - 0s 18ms/step\n"
          ]
        },
        {
          "output_type": "stream",
          "name": "stderr",
          "text": [
            "Action: emotion: 100%|██████████| 4/4 [00:02<00:00,  1.79it/s]\n"
          ]
        },
        {
          "output_type": "stream",
          "name": "stdout",
          "text": [
            "  SUCCESSS\n",
            "Mag Cover #8 found: 1962Feb.png\n"
          ]
        },
        {
          "output_type": "stream",
          "name": "stderr",
          "text": [
            "Action: age:   0%|          | 0/4 [00:00<?, ?it/s]\n"
          ]
        },
        {
          "output_type": "stream",
          "name": "stdout",
          "text": [
            "  ERROR: Face could not be detected. Please confirm that the picture is a face photo or consider to set enforce_detection param to False.\n",
            "Mag Cover #9 found: 1962Nov.png\n"
          ]
        },
        {
          "output_type": "stream",
          "name": "stderr",
          "text": [
            "Action: age:   0%|          | 0/4 [00:00<?, ?it/s]    "
          ]
        }
      ]
    },
    {
      "cell_type": "code",
      "source": [],
      "metadata": {
        "id": "BkwGQVaQZlOd"
      },
      "execution_count": null,
      "outputs": []
    },
    {
      "cell_type": "code",
      "source": [
        "# Iterate over all subfolders\n",
        "\n",
        "for i,asubdir in enumerate(subdirs_ls):\n",
        "  print(f'Processing #{i} in subdir: {asubdir}')\n",
        "  test_face_dt = get_face_emotions(f'data/{asubdir}')"
      ],
      "metadata": {
        "id": "Jhy4y2AESqZe"
      },
      "execution_count": null,
      "outputs": []
    },
    {
      "cell_type": "code",
      "source": [],
      "metadata": {
        "id": "YvXBTkzkSqWY"
      },
      "execution_count": null,
      "outputs": []
    },
    {
      "cell_type": "code",
      "source": [
        "cover_face_dt.keys()"
      ],
      "metadata": {
        "colab": {
          "base_uri": "https://localhost:8080/"
        },
        "id": "n-9Bpn93YX-w",
        "outputId": "feaf9e5f-1444-4852-c2f8-2f1c642e816b"
      },
      "execution_count": 25,
      "outputs": [
        {
          "output_type": "execute_result",
          "data": {
            "text/plain": [
              "dict_keys(['1978Apr.png', '1978May.png', '1978Mar.png', '1978Feb.png', '1978Nov.png', '1978Jun.png', '1978Oct.png'])"
            ]
          },
          "metadata": {},
          "execution_count": 25
        }
      ]
    },
    {
      "cell_type": "code",
      "source": [
        "cover_face_dt['1978Apr.png']"
      ],
      "metadata": {
        "colab": {
          "base_uri": "https://localhost:8080/"
        },
        "id": "KS6hBaRrQZGg",
        "outputId": "73694dcc-9d98-4308-c63c-10a349195809"
      },
      "execution_count": 27,
      "outputs": [
        {
          "output_type": "execute_result",
          "data": {
            "text/plain": [
              "{'age': 30,\n",
              " 'region': {'x': 689, 'y': 532, 'w': 96, 'h': 96},\n",
              " 'gender': 'Woman',\n",
              " 'race': {'asian': 0.7697999004900397,\n",
              "  'indian': 0.752361675865154,\n",
              "  'black': 0.05664319370422922,\n",
              "  'white': 77.07255346015414,\n",
              "  'middle eastern': 14.025089980667232,\n",
              "  'latino hispanic': 7.3235568299029365},\n",
              " 'dominant_race': 'white',\n",
              " 'emotion': {'angry': 0.0811042613349855,\n",
              "  'disgust': 3.915354498951196e-09,\n",
              "  'fear': 3.0390276606340194e-05,\n",
              "  'happy': 65.71416854858398,\n",
              "  'sad': 0.12575499713420868,\n",
              "  'surprise': 0.00017327960222246475,\n",
              "  'neutral': 34.07876789569855},\n",
              " 'dominant_emotion': 'happy'}"
            ]
          },
          "metadata": {},
          "execution_count": 27
        }
      ]
    },
    {
      "cell_type": "code",
      "source": [
        "len(cover_face_dt)"
      ],
      "metadata": {
        "colab": {
          "base_uri": "https://localhost:8080/"
        },
        "id": "mmc1yPRV0ek1",
        "outputId": "0303f676-82e8-4e92-f67f-17b7017bc855"
      },
      "execution_count": 28,
      "outputs": [
        {
          "output_type": "execute_result",
          "data": {
            "text/plain": [
              "7"
            ]
          },
          "metadata": {},
          "execution_count": 28
        }
      ]
    },
    {
      "cell_type": "code",
      "source": [
        "[print(f'{x}\\n') for x in list(cover_face_dt.values())]"
      ],
      "metadata": {
        "colab": {
          "base_uri": "https://localhost:8080/"
        },
        "id": "TLeTHYXe0oW9",
        "outputId": "81703416-3f41-42ff-a77d-d632a910238d"
      },
      "execution_count": 29,
      "outputs": [
        {
          "output_type": "stream",
          "name": "stdout",
          "text": [
            "{'age': 30, 'region': {'x': 689, 'y': 532, 'w': 96, 'h': 96}, 'gender': 'Woman', 'race': {'asian': 0.7697999004900397, 'indian': 0.752361675865154, 'black': 0.05664319370422922, 'white': 77.07255346015414, 'middle eastern': 14.025089980667232, 'latino hispanic': 7.3235568299029365}, 'dominant_race': 'white', 'emotion': {'angry': 0.0811042613349855, 'disgust': 3.915354498951196e-09, 'fear': 3.0390276606340194e-05, 'happy': 65.71416854858398, 'sad': 0.12575499713420868, 'surprise': 0.00017327960222246475, 'neutral': 34.07876789569855}, 'dominant_emotion': 'happy'}\n",
            "\n",
            "{'age': 35, 'region': {'x': 466, 'y': 262, 'w': 180, 'h': 180}, 'gender': 'Woman', 'race': {'asian': 5.435488645157027e-10, 'indian': 1.2663145697319652e-10, 'black': 2.0801172900568134e-13, 'white': 99.99985694883549, 'middle eastern': 6.773074358316446e-05, 'latino hispanic': 8.043117353943196e-05}, 'dominant_race': 'white', 'emotion': {'angry': 0.1268289942453202, 'disgust': 5.191717232486899e-05, 'fear': 0.05555929132345565, 'happy': 3.3439250793412376, 'sad': 0.029610803485933153, 'surprise': 0.19650432521130592, 'neutral': 96.24751783892619}, 'dominant_emotion': 'neutral'}\n",
            "\n",
            "{'age': 32, 'region': {'x': 694, 'y': 374, 'w': 113, 'h': 113}, 'gender': 'Woman', 'race': {'asian': 0.48676224532796414, 'indian': 0.792020979048072, 'black': 0.07689624202564312, 'white': 71.02519101054615, 'middle eastern': 14.348854979804456, 'latino hispanic': 13.270276085750824}, 'dominant_race': 'white', 'emotion': {'angry': 0.11520101688802242, 'disgust': 2.0891051475541156e-10, 'fear': 6.553559750318527, 'happy': 1.527974120563158e-05, 'sad': 80.45914769172668, 'surprise': 0.0005827329005114734, 'neutral': 12.8714919090271}, 'dominant_emotion': 'sad'}\n",
            "\n",
            "{'age': 30, 'region': {'x': 450, 'y': 212, 'w': 139, 'h': 139}, 'gender': 'Woman', 'race': {'asian': 0.006201307775344418, 'indian': 0.003790193885282994, 'black': 0.00015763884933314297, 'white': 99.04409045243803, 'middle eastern': 0.4990675784091698, 'latino hispanic': 0.44668813104558774}, 'dominant_race': 'white', 'emotion': {'angry': 16.107642650604248, 'disgust': 0.0032911309972405434, 'fear': 27.731788158416748, 'happy': 0.003328810998937115, 'sad': 31.423726677894592, 'surprise': 0.017206082702614367, 'neutral': 24.71301406621933}, 'dominant_emotion': 'sad'}\n",
            "\n",
            "{'age': 28, 'region': {'x': 343, 'y': 998, 'w': 92, 'h': 92}, 'gender': 'Man', 'race': {'asian': 0.41918191127479076, 'indian': 0.8006986230611801, 'black': 0.34288184251636267, 'white': 56.51198625564575, 'middle eastern': 34.4692200422287, 'latino hispanic': 7.4560292065143585}, 'dominant_race': 'white', 'emotion': {'angry': 0.18572636181488633, 'disgust': 2.1282076101414305e-07, 'fear': 44.14812922477722, 'happy': 1.8523398786783218, 'sad': 6.694169342517853, 'surprise': 0.00466398851131089, 'neutral': 47.1149742603302}, 'dominant_emotion': 'neutral'}\n",
            "\n",
            "{'age': 38, 'region': {'x': 433, 'y': 260, 'w': 166, 'h': 166}, 'gender': 'Woman', 'race': {'asian': 9.678073098484674e-06, 'indian': 7.4870129651571915e-06, 'black': 8.929192385487283e-08, 'white': 99.96757507324219, 'middle eastern': 0.01389094686601311, 'latino hispanic': 0.018515971896704286}, 'dominant_race': 'white', 'emotion': {'angry': 0.02196014654906351, 'disgust': 9.486370509782824e-06, 'fear': 0.0002876609075467881, 'happy': 93.55037731532781, 'sad': 0.003266669253361099, 'surprise': 7.31162318365848e-05, 'neutral': 6.424027702096427}, 'dominant_emotion': 'happy'}\n",
            "\n",
            "{'age': 44, 'region': {'x': 363, 'y': 531, 'w': 334, 'h': 334}, 'gender': 'Woman', 'race': {'asian': 1.0401744743315788e-08, 'indian': 6.372955635436384e-09, 'black': 8.105696696529899e-12, 'white': 99.99953508377075, 'middle eastern': 0.00039049145925673656, 'latino hispanic': 7.396723162855778e-05}, 'dominant_race': 'white', 'emotion': {'angry': 1.7388021392700703e-06, 'disgust': 9.228883917140757e-10, 'fear': 1.5985916461153426e-05, 'happy': 99.99893903744947, 'sad': 4.416655314548875e-06, 'surprise': 1.7236056081607133e-07, 'neutral': 0.0010370290184023656}, 'dominant_emotion': 'happy'}\n",
            "\n"
          ]
        },
        {
          "output_type": "execute_result",
          "data": {
            "text/plain": [
              "[None, None, None, None, None, None, None]"
            ]
          },
          "metadata": {},
          "execution_count": 29
        }
      ]
    },
    {
      "cell_type": "code",
      "source": [
        "cover_features"
      ],
      "metadata": {
        "colab": {
          "base_uri": "https://localhost:8080/"
        },
        "id": "Zukk6P08OFSH",
        "outputId": "87973545-f071-4617-dd54-fc09e4452220"
      },
      "execution_count": 58,
      "outputs": [
        {
          "output_type": "execute_result",
          "data": {
            "text/plain": [
              "{'age': 44,\n",
              " 'region': {'x': 363, 'y': 531, 'w': 334, 'h': 334},\n",
              " 'gender': 'Woman',\n",
              " 'race': {'asian': 1.0401744743315788e-08,\n",
              "  'indian': 6.372955635436384e-09,\n",
              "  'black': 8.105696696529899e-12,\n",
              "  'white': 99.99953508377075,\n",
              "  'middle eastern': 0.00039049145925673656,\n",
              "  'latino hispanic': 7.396723162855778e-05},\n",
              " 'dominant_race': 'white',\n",
              " 'emotion': {'angry': 1.7388021392700703e-06,\n",
              "  'disgust': 9.228883917140757e-10,\n",
              "  'fear': 1.5985916461153426e-05,\n",
              "  'happy': 99.99893903744947,\n",
              "  'sad': 4.416655314548875e-06,\n",
              "  'surprise': 1.7236056081607133e-07,\n",
              "  'neutral': 0.0010370290184023656},\n",
              " 'dominant_emotion': 'happy'}"
            ]
          },
          "metadata": {},
          "execution_count": 58
        }
      ]
    },
    {
      "cell_type": "code",
      "source": [
        "# Create list of row (each a list of row elements): cover_ls_ls\n",
        "# Create list of new col names: col_new_ls\n",
        "\n",
        "cover_face_df = pd.DataFrame()\n",
        "cover_ls_ls = []\n",
        "temp_df = pd.DataFrame()\n",
        "\n",
        "for cover_date, cover_features in cover_face_dt.items():\n",
        "  print(f'Processing {cover_date}: {cover_features}')\n",
        "  temp_df = pd.json_normalize(cover_features)\n",
        "  col_new_ls = temp_df.columns.to_list() #  ['_'.join(x.split('.')[2:]) for x in temp_df.columns]\n",
        "  print(f'          [{len(temp_df.columns)} Cols]: {col_new_ls}')\n",
        "  temp_ls = temp_df.iloc[0].to_list()\n",
        "  temp_ls = [cover_date.split('.')[0]] + temp_ls\n",
        "  print(f'  {temp_ls}\\n\\n')\n",
        "  cover_ls_ls.append(temp_ls)\n",
        "  cover_face_df.append(temp_df)\n",
        "\n",
        "col_new_ls.insert(0,'date')\n",
        "# col_new_ls = ['date'] + col_new_ls # ['_'.join(x.split('.')[2:]) for x in temp_df.columns]\n",
        "# col_new_ls = ['date'] + col_new_ls\n"
      ],
      "metadata": {
        "colab": {
          "base_uri": "https://localhost:8080/",
          "height": 1000
        },
        "id": "Z19ruvIZzr79",
        "outputId": "89119e1b-ba4d-4b98-f052-3219c3bdc2cc"
      },
      "execution_count": 65,
      "outputs": [
        {
          "output_type": "stream",
          "name": "stdout",
          "text": [
            "Processing 1978Apr.png: {'age': 30, 'region': {'x': 689, 'y': 532, 'w': 96, 'h': 96}, 'gender': 'Woman', 'race': {'asian': 0.7697999004900397, 'indian': 0.752361675865154, 'black': 0.05664319370422922, 'white': 77.07255346015414, 'middle eastern': 14.025089980667232, 'latino hispanic': 7.3235568299029365}, 'dominant_race': 'white', 'emotion': {'angry': 0.0811042613349855, 'disgust': 3.915354498951196e-09, 'fear': 3.0390276606340194e-05, 'happy': 65.71416854858398, 'sad': 0.12575499713420868, 'surprise': 0.00017327960222246475, 'neutral': 34.07876789569855}, 'dominant_emotion': 'happy'}\n",
            "          [21 Cols]: ['age', 'gender', 'dominant_race', 'dominant_emotion', 'region.x', 'region.y', 'region.w', 'region.h', 'race.asian', 'race.indian', 'race.black', 'race.white', 'race.middle eastern', 'race.latino hispanic', 'emotion.angry', 'emotion.disgust', 'emotion.fear', 'emotion.happy', 'emotion.sad', 'emotion.surprise', 'emotion.neutral']\n",
            "  ['1978Apr', 30, 'Woman', 'white', 'happy', 689, 532, 96, 96, 0.7697999004900397, 0.752361675865154, 0.05664319370422922, 77.07255346015414, 14.025089980667232, 7.3235568299029365, 0.0811042613349855, 3.915354498951196e-09, 3.0390276606340194e-05, 65.71416854858398, 0.12575499713420868, 0.00017327960222246475, 34.07876789569855]\n",
            "\n",
            "\n"
          ]
        },
        {
          "output_type": "execute_result",
          "data": {
            "text/plain": [
              "   age gender dominant_race dominant_emotion  region.x  region.y  region.w  \\\n",
              "0   30  Woman         white            happy       689       532        96   \n",
              "\n",
              "   region.h  race.asian  race.indian  ...  race.white  race.middle eastern  \\\n",
              "0        96      0.7698     0.752362  ...   77.072553             14.02509   \n",
              "\n",
              "   race.latino hispanic  emotion.angry  emotion.disgust  emotion.fear  \\\n",
              "0              7.323557       0.081104     3.915354e-09       0.00003   \n",
              "\n",
              "   emotion.happy  emotion.sad  emotion.surprise  emotion.neutral  \n",
              "0      65.714169     0.125755          0.000173        34.078768  \n",
              "\n",
              "[1 rows x 21 columns]"
            ],
            "text/html": [
              "\n",
              "  <div id=\"df-3bab464a-5955-4613-a402-ed87f0ae3e9b\">\n",
              "    <div class=\"colab-df-container\">\n",
              "      <div>\n",
              "<style scoped>\n",
              "    .dataframe tbody tr th:only-of-type {\n",
              "        vertical-align: middle;\n",
              "    }\n",
              "\n",
              "    .dataframe tbody tr th {\n",
              "        vertical-align: top;\n",
              "    }\n",
              "\n",
              "    .dataframe thead th {\n",
              "        text-align: right;\n",
              "    }\n",
              "</style>\n",
              "<table border=\"1\" class=\"dataframe\">\n",
              "  <thead>\n",
              "    <tr style=\"text-align: right;\">\n",
              "      <th></th>\n",
              "      <th>age</th>\n",
              "      <th>gender</th>\n",
              "      <th>dominant_race</th>\n",
              "      <th>dominant_emotion</th>\n",
              "      <th>region.x</th>\n",
              "      <th>region.y</th>\n",
              "      <th>region.w</th>\n",
              "      <th>region.h</th>\n",
              "      <th>race.asian</th>\n",
              "      <th>race.indian</th>\n",
              "      <th>...</th>\n",
              "      <th>race.white</th>\n",
              "      <th>race.middle eastern</th>\n",
              "      <th>race.latino hispanic</th>\n",
              "      <th>emotion.angry</th>\n",
              "      <th>emotion.disgust</th>\n",
              "      <th>emotion.fear</th>\n",
              "      <th>emotion.happy</th>\n",
              "      <th>emotion.sad</th>\n",
              "      <th>emotion.surprise</th>\n",
              "      <th>emotion.neutral</th>\n",
              "    </tr>\n",
              "  </thead>\n",
              "  <tbody>\n",
              "    <tr>\n",
              "      <th>0</th>\n",
              "      <td>30</td>\n",
              "      <td>Woman</td>\n",
              "      <td>white</td>\n",
              "      <td>happy</td>\n",
              "      <td>689</td>\n",
              "      <td>532</td>\n",
              "      <td>96</td>\n",
              "      <td>96</td>\n",
              "      <td>0.7698</td>\n",
              "      <td>0.752362</td>\n",
              "      <td>...</td>\n",
              "      <td>77.072553</td>\n",
              "      <td>14.02509</td>\n",
              "      <td>7.323557</td>\n",
              "      <td>0.081104</td>\n",
              "      <td>3.915354e-09</td>\n",
              "      <td>0.00003</td>\n",
              "      <td>65.714169</td>\n",
              "      <td>0.125755</td>\n",
              "      <td>0.000173</td>\n",
              "      <td>34.078768</td>\n",
              "    </tr>\n",
              "  </tbody>\n",
              "</table>\n",
              "<p>1 rows × 21 columns</p>\n",
              "</div>\n",
              "      <button class=\"colab-df-convert\" onclick=\"convertToInteractive('df-3bab464a-5955-4613-a402-ed87f0ae3e9b')\"\n",
              "              title=\"Convert this dataframe to an interactive table.\"\n",
              "              style=\"display:none;\">\n",
              "        \n",
              "  <svg xmlns=\"http://www.w3.org/2000/svg\" height=\"24px\"viewBox=\"0 0 24 24\"\n",
              "       width=\"24px\">\n",
              "    <path d=\"M0 0h24v24H0V0z\" fill=\"none\"/>\n",
              "    <path d=\"M18.56 5.44l.94 2.06.94-2.06 2.06-.94-2.06-.94-.94-2.06-.94 2.06-2.06.94zm-11 1L8.5 8.5l.94-2.06 2.06-.94-2.06-.94L8.5 2.5l-.94 2.06-2.06.94zm10 10l.94 2.06.94-2.06 2.06-.94-2.06-.94-.94-2.06-.94 2.06-2.06.94z\"/><path d=\"M17.41 7.96l-1.37-1.37c-.4-.4-.92-.59-1.43-.59-.52 0-1.04.2-1.43.59L10.3 9.45l-7.72 7.72c-.78.78-.78 2.05 0 2.83L4 21.41c.39.39.9.59 1.41.59.51 0 1.02-.2 1.41-.59l7.78-7.78 2.81-2.81c.8-.78.8-2.07 0-2.86zM5.41 20L4 18.59l7.72-7.72 1.47 1.35L5.41 20z\"/>\n",
              "  </svg>\n",
              "      </button>\n",
              "      \n",
              "  <style>\n",
              "    .colab-df-container {\n",
              "      display:flex;\n",
              "      flex-wrap:wrap;\n",
              "      gap: 12px;\n",
              "    }\n",
              "\n",
              "    .colab-df-convert {\n",
              "      background-color: #E8F0FE;\n",
              "      border: none;\n",
              "      border-radius: 50%;\n",
              "      cursor: pointer;\n",
              "      display: none;\n",
              "      fill: #1967D2;\n",
              "      height: 32px;\n",
              "      padding: 0 0 0 0;\n",
              "      width: 32px;\n",
              "    }\n",
              "\n",
              "    .colab-df-convert:hover {\n",
              "      background-color: #E2EBFA;\n",
              "      box-shadow: 0px 1px 2px rgba(60, 64, 67, 0.3), 0px 1px 3px 1px rgba(60, 64, 67, 0.15);\n",
              "      fill: #174EA6;\n",
              "    }\n",
              "\n",
              "    [theme=dark] .colab-df-convert {\n",
              "      background-color: #3B4455;\n",
              "      fill: #D2E3FC;\n",
              "    }\n",
              "\n",
              "    [theme=dark] .colab-df-convert:hover {\n",
              "      background-color: #434B5C;\n",
              "      box-shadow: 0px 1px 3px 1px rgba(0, 0, 0, 0.15);\n",
              "      filter: drop-shadow(0px 1px 2px rgba(0, 0, 0, 0.3));\n",
              "      fill: #FFFFFF;\n",
              "    }\n",
              "  </style>\n",
              "\n",
              "      <script>\n",
              "        const buttonEl =\n",
              "          document.querySelector('#df-3bab464a-5955-4613-a402-ed87f0ae3e9b button.colab-df-convert');\n",
              "        buttonEl.style.display =\n",
              "          google.colab.kernel.accessAllowed ? 'block' : 'none';\n",
              "\n",
              "        async function convertToInteractive(key) {\n",
              "          const element = document.querySelector('#df-3bab464a-5955-4613-a402-ed87f0ae3e9b');\n",
              "          const dataTable =\n",
              "            await google.colab.kernel.invokeFunction('convertToInteractive',\n",
              "                                                     [key], {});\n",
              "          if (!dataTable) return;\n",
              "\n",
              "          const docLinkHtml = 'Like what you see? Visit the ' +\n",
              "            '<a target=\"_blank\" href=https://colab.research.google.com/notebooks/data_table.ipynb>data table notebook</a>'\n",
              "            + ' to learn more about interactive tables.';\n",
              "          element.innerHTML = '';\n",
              "          dataTable['output_type'] = 'display_data';\n",
              "          await google.colab.output.renderOutput(dataTable, element);\n",
              "          const docLink = document.createElement('div');\n",
              "          docLink.innerHTML = docLinkHtml;\n",
              "          element.appendChild(docLink);\n",
              "        }\n",
              "      </script>\n",
              "    </div>\n",
              "  </div>\n",
              "  "
            ]
          },
          "metadata": {},
          "execution_count": 65
        },
        {
          "output_type": "stream",
          "name": "stdout",
          "text": [
            "Processing 1978May.png: {'age': 35, 'region': {'x': 466, 'y': 262, 'w': 180, 'h': 180}, 'gender': 'Woman', 'race': {'asian': 5.435488645157027e-10, 'indian': 1.2663145697319652e-10, 'black': 2.0801172900568134e-13, 'white': 99.99985694883549, 'middle eastern': 6.773074358316446e-05, 'latino hispanic': 8.043117353943196e-05}, 'dominant_race': 'white', 'emotion': {'angry': 0.1268289942453202, 'disgust': 5.191717232486899e-05, 'fear': 0.05555929132345565, 'happy': 3.3439250793412376, 'sad': 0.029610803485933153, 'surprise': 0.19650432521130592, 'neutral': 96.24751783892619}, 'dominant_emotion': 'neutral'}\n",
            "          [21 Cols]: ['age', 'gender', 'dominant_race', 'dominant_emotion', 'region.x', 'region.y', 'region.w', 'region.h', 'race.asian', 'race.indian', 'race.black', 'race.white', 'race.middle eastern', 'race.latino hispanic', 'emotion.angry', 'emotion.disgust', 'emotion.fear', 'emotion.happy', 'emotion.sad', 'emotion.surprise', 'emotion.neutral']\n",
            "  ['1978May', 35, 'Woman', 'white', 'neutral', 466, 262, 180, 180, 5.435488645157027e-10, 1.2663145697319652e-10, 2.0801172900568134e-13, 99.99985694883549, 6.773074358316446e-05, 8.043117353943196e-05, 0.1268289942453202, 5.191717232486899e-05, 0.05555929132345565, 3.3439250793412376, 0.029610803485933153, 0.19650432521130592, 96.24751783892619]\n",
            "\n",
            "\n"
          ]
        },
        {
          "output_type": "execute_result",
          "data": {
            "text/plain": [
              "   age gender dominant_race dominant_emotion  region.x  region.y  region.w  \\\n",
              "0   35  Woman         white          neutral       466       262       180   \n",
              "\n",
              "   region.h    race.asian   race.indian  ...  race.white  race.middle eastern  \\\n",
              "0       180  5.435489e-10  1.266315e-10  ...   99.999857             0.000068   \n",
              "\n",
              "   race.latino hispanic  emotion.angry  emotion.disgust  emotion.fear  \\\n",
              "0               0.00008       0.126829         0.000052      0.055559   \n",
              "\n",
              "   emotion.happy  emotion.sad  emotion.surprise  emotion.neutral  \n",
              "0       3.343925     0.029611          0.196504        96.247518  \n",
              "\n",
              "[1 rows x 21 columns]"
            ],
            "text/html": [
              "\n",
              "  <div id=\"df-f8c8d4db-5d36-4f34-8a45-dd016c140bb5\">\n",
              "    <div class=\"colab-df-container\">\n",
              "      <div>\n",
              "<style scoped>\n",
              "    .dataframe tbody tr th:only-of-type {\n",
              "        vertical-align: middle;\n",
              "    }\n",
              "\n",
              "    .dataframe tbody tr th {\n",
              "        vertical-align: top;\n",
              "    }\n",
              "\n",
              "    .dataframe thead th {\n",
              "        text-align: right;\n",
              "    }\n",
              "</style>\n",
              "<table border=\"1\" class=\"dataframe\">\n",
              "  <thead>\n",
              "    <tr style=\"text-align: right;\">\n",
              "      <th></th>\n",
              "      <th>age</th>\n",
              "      <th>gender</th>\n",
              "      <th>dominant_race</th>\n",
              "      <th>dominant_emotion</th>\n",
              "      <th>region.x</th>\n",
              "      <th>region.y</th>\n",
              "      <th>region.w</th>\n",
              "      <th>region.h</th>\n",
              "      <th>race.asian</th>\n",
              "      <th>race.indian</th>\n",
              "      <th>...</th>\n",
              "      <th>race.white</th>\n",
              "      <th>race.middle eastern</th>\n",
              "      <th>race.latino hispanic</th>\n",
              "      <th>emotion.angry</th>\n",
              "      <th>emotion.disgust</th>\n",
              "      <th>emotion.fear</th>\n",
              "      <th>emotion.happy</th>\n",
              "      <th>emotion.sad</th>\n",
              "      <th>emotion.surprise</th>\n",
              "      <th>emotion.neutral</th>\n",
              "    </tr>\n",
              "  </thead>\n",
              "  <tbody>\n",
              "    <tr>\n",
              "      <th>0</th>\n",
              "      <td>35</td>\n",
              "      <td>Woman</td>\n",
              "      <td>white</td>\n",
              "      <td>neutral</td>\n",
              "      <td>466</td>\n",
              "      <td>262</td>\n",
              "      <td>180</td>\n",
              "      <td>180</td>\n",
              "      <td>5.435489e-10</td>\n",
              "      <td>1.266315e-10</td>\n",
              "      <td>...</td>\n",
              "      <td>99.999857</td>\n",
              "      <td>0.000068</td>\n",
              "      <td>0.00008</td>\n",
              "      <td>0.126829</td>\n",
              "      <td>0.000052</td>\n",
              "      <td>0.055559</td>\n",
              "      <td>3.343925</td>\n",
              "      <td>0.029611</td>\n",
              "      <td>0.196504</td>\n",
              "      <td>96.247518</td>\n",
              "    </tr>\n",
              "  </tbody>\n",
              "</table>\n",
              "<p>1 rows × 21 columns</p>\n",
              "</div>\n",
              "      <button class=\"colab-df-convert\" onclick=\"convertToInteractive('df-f8c8d4db-5d36-4f34-8a45-dd016c140bb5')\"\n",
              "              title=\"Convert this dataframe to an interactive table.\"\n",
              "              style=\"display:none;\">\n",
              "        \n",
              "  <svg xmlns=\"http://www.w3.org/2000/svg\" height=\"24px\"viewBox=\"0 0 24 24\"\n",
              "       width=\"24px\">\n",
              "    <path d=\"M0 0h24v24H0V0z\" fill=\"none\"/>\n",
              "    <path d=\"M18.56 5.44l.94 2.06.94-2.06 2.06-.94-2.06-.94-.94-2.06-.94 2.06-2.06.94zm-11 1L8.5 8.5l.94-2.06 2.06-.94-2.06-.94L8.5 2.5l-.94 2.06-2.06.94zm10 10l.94 2.06.94-2.06 2.06-.94-2.06-.94-.94-2.06-.94 2.06-2.06.94z\"/><path d=\"M17.41 7.96l-1.37-1.37c-.4-.4-.92-.59-1.43-.59-.52 0-1.04.2-1.43.59L10.3 9.45l-7.72 7.72c-.78.78-.78 2.05 0 2.83L4 21.41c.39.39.9.59 1.41.59.51 0 1.02-.2 1.41-.59l7.78-7.78 2.81-2.81c.8-.78.8-2.07 0-2.86zM5.41 20L4 18.59l7.72-7.72 1.47 1.35L5.41 20z\"/>\n",
              "  </svg>\n",
              "      </button>\n",
              "      \n",
              "  <style>\n",
              "    .colab-df-container {\n",
              "      display:flex;\n",
              "      flex-wrap:wrap;\n",
              "      gap: 12px;\n",
              "    }\n",
              "\n",
              "    .colab-df-convert {\n",
              "      background-color: #E8F0FE;\n",
              "      border: none;\n",
              "      border-radius: 50%;\n",
              "      cursor: pointer;\n",
              "      display: none;\n",
              "      fill: #1967D2;\n",
              "      height: 32px;\n",
              "      padding: 0 0 0 0;\n",
              "      width: 32px;\n",
              "    }\n",
              "\n",
              "    .colab-df-convert:hover {\n",
              "      background-color: #E2EBFA;\n",
              "      box-shadow: 0px 1px 2px rgba(60, 64, 67, 0.3), 0px 1px 3px 1px rgba(60, 64, 67, 0.15);\n",
              "      fill: #174EA6;\n",
              "    }\n",
              "\n",
              "    [theme=dark] .colab-df-convert {\n",
              "      background-color: #3B4455;\n",
              "      fill: #D2E3FC;\n",
              "    }\n",
              "\n",
              "    [theme=dark] .colab-df-convert:hover {\n",
              "      background-color: #434B5C;\n",
              "      box-shadow: 0px 1px 3px 1px rgba(0, 0, 0, 0.15);\n",
              "      filter: drop-shadow(0px 1px 2px rgba(0, 0, 0, 0.3));\n",
              "      fill: #FFFFFF;\n",
              "    }\n",
              "  </style>\n",
              "\n",
              "      <script>\n",
              "        const buttonEl =\n",
              "          document.querySelector('#df-f8c8d4db-5d36-4f34-8a45-dd016c140bb5 button.colab-df-convert');\n",
              "        buttonEl.style.display =\n",
              "          google.colab.kernel.accessAllowed ? 'block' : 'none';\n",
              "\n",
              "        async function convertToInteractive(key) {\n",
              "          const element = document.querySelector('#df-f8c8d4db-5d36-4f34-8a45-dd016c140bb5');\n",
              "          const dataTable =\n",
              "            await google.colab.kernel.invokeFunction('convertToInteractive',\n",
              "                                                     [key], {});\n",
              "          if (!dataTable) return;\n",
              "\n",
              "          const docLinkHtml = 'Like what you see? Visit the ' +\n",
              "            '<a target=\"_blank\" href=https://colab.research.google.com/notebooks/data_table.ipynb>data table notebook</a>'\n",
              "            + ' to learn more about interactive tables.';\n",
              "          element.innerHTML = '';\n",
              "          dataTable['output_type'] = 'display_data';\n",
              "          await google.colab.output.renderOutput(dataTable, element);\n",
              "          const docLink = document.createElement('div');\n",
              "          docLink.innerHTML = docLinkHtml;\n",
              "          element.appendChild(docLink);\n",
              "        }\n",
              "      </script>\n",
              "    </div>\n",
              "  </div>\n",
              "  "
            ]
          },
          "metadata": {},
          "execution_count": 65
        },
        {
          "output_type": "stream",
          "name": "stdout",
          "text": [
            "Processing 1978Mar.png: {'age': 32, 'region': {'x': 694, 'y': 374, 'w': 113, 'h': 113}, 'gender': 'Woman', 'race': {'asian': 0.48676224532796414, 'indian': 0.792020979048072, 'black': 0.07689624202564312, 'white': 71.02519101054615, 'middle eastern': 14.348854979804456, 'latino hispanic': 13.270276085750824}, 'dominant_race': 'white', 'emotion': {'angry': 0.11520101688802242, 'disgust': 2.0891051475541156e-10, 'fear': 6.553559750318527, 'happy': 1.527974120563158e-05, 'sad': 80.45914769172668, 'surprise': 0.0005827329005114734, 'neutral': 12.8714919090271}, 'dominant_emotion': 'sad'}\n",
            "          [21 Cols]: ['age', 'gender', 'dominant_race', 'dominant_emotion', 'region.x', 'region.y', 'region.w', 'region.h', 'race.asian', 'race.indian', 'race.black', 'race.white', 'race.middle eastern', 'race.latino hispanic', 'emotion.angry', 'emotion.disgust', 'emotion.fear', 'emotion.happy', 'emotion.sad', 'emotion.surprise', 'emotion.neutral']\n",
            "  ['1978Mar', 32, 'Woman', 'white', 'sad', 694, 374, 113, 113, 0.48676224532796414, 0.792020979048072, 0.07689624202564312, 71.02519101054615, 14.348854979804456, 13.270276085750824, 0.11520101688802242, 2.0891051475541156e-10, 6.553559750318527, 1.527974120563158e-05, 80.45914769172668, 0.0005827329005114734, 12.8714919090271]\n",
            "\n",
            "\n"
          ]
        },
        {
          "output_type": "execute_result",
          "data": {
            "text/plain": [
              "   age gender dominant_race dominant_emotion  region.x  region.y  region.w  \\\n",
              "0   32  Woman         white              sad       694       374       113   \n",
              "\n",
              "   region.h  race.asian  race.indian  ...  race.white  race.middle eastern  \\\n",
              "0       113    0.486762     0.792021  ...   71.025191            14.348855   \n",
              "\n",
              "   race.latino hispanic  emotion.angry  emotion.disgust  emotion.fear  \\\n",
              "0             13.270276       0.115201     2.089105e-10       6.55356   \n",
              "\n",
              "   emotion.happy  emotion.sad  emotion.surprise  emotion.neutral  \n",
              "0       0.000015    80.459148          0.000583        12.871492  \n",
              "\n",
              "[1 rows x 21 columns]"
            ],
            "text/html": [
              "\n",
              "  <div id=\"df-2f040c75-c5e5-4848-9613-ce72c55e28a5\">\n",
              "    <div class=\"colab-df-container\">\n",
              "      <div>\n",
              "<style scoped>\n",
              "    .dataframe tbody tr th:only-of-type {\n",
              "        vertical-align: middle;\n",
              "    }\n",
              "\n",
              "    .dataframe tbody tr th {\n",
              "        vertical-align: top;\n",
              "    }\n",
              "\n",
              "    .dataframe thead th {\n",
              "        text-align: right;\n",
              "    }\n",
              "</style>\n",
              "<table border=\"1\" class=\"dataframe\">\n",
              "  <thead>\n",
              "    <tr style=\"text-align: right;\">\n",
              "      <th></th>\n",
              "      <th>age</th>\n",
              "      <th>gender</th>\n",
              "      <th>dominant_race</th>\n",
              "      <th>dominant_emotion</th>\n",
              "      <th>region.x</th>\n",
              "      <th>region.y</th>\n",
              "      <th>region.w</th>\n",
              "      <th>region.h</th>\n",
              "      <th>race.asian</th>\n",
              "      <th>race.indian</th>\n",
              "      <th>...</th>\n",
              "      <th>race.white</th>\n",
              "      <th>race.middle eastern</th>\n",
              "      <th>race.latino hispanic</th>\n",
              "      <th>emotion.angry</th>\n",
              "      <th>emotion.disgust</th>\n",
              "      <th>emotion.fear</th>\n",
              "      <th>emotion.happy</th>\n",
              "      <th>emotion.sad</th>\n",
              "      <th>emotion.surprise</th>\n",
              "      <th>emotion.neutral</th>\n",
              "    </tr>\n",
              "  </thead>\n",
              "  <tbody>\n",
              "    <tr>\n",
              "      <th>0</th>\n",
              "      <td>32</td>\n",
              "      <td>Woman</td>\n",
              "      <td>white</td>\n",
              "      <td>sad</td>\n",
              "      <td>694</td>\n",
              "      <td>374</td>\n",
              "      <td>113</td>\n",
              "      <td>113</td>\n",
              "      <td>0.486762</td>\n",
              "      <td>0.792021</td>\n",
              "      <td>...</td>\n",
              "      <td>71.025191</td>\n",
              "      <td>14.348855</td>\n",
              "      <td>13.270276</td>\n",
              "      <td>0.115201</td>\n",
              "      <td>2.089105e-10</td>\n",
              "      <td>6.55356</td>\n",
              "      <td>0.000015</td>\n",
              "      <td>80.459148</td>\n",
              "      <td>0.000583</td>\n",
              "      <td>12.871492</td>\n",
              "    </tr>\n",
              "  </tbody>\n",
              "</table>\n",
              "<p>1 rows × 21 columns</p>\n",
              "</div>\n",
              "      <button class=\"colab-df-convert\" onclick=\"convertToInteractive('df-2f040c75-c5e5-4848-9613-ce72c55e28a5')\"\n",
              "              title=\"Convert this dataframe to an interactive table.\"\n",
              "              style=\"display:none;\">\n",
              "        \n",
              "  <svg xmlns=\"http://www.w3.org/2000/svg\" height=\"24px\"viewBox=\"0 0 24 24\"\n",
              "       width=\"24px\">\n",
              "    <path d=\"M0 0h24v24H0V0z\" fill=\"none\"/>\n",
              "    <path d=\"M18.56 5.44l.94 2.06.94-2.06 2.06-.94-2.06-.94-.94-2.06-.94 2.06-2.06.94zm-11 1L8.5 8.5l.94-2.06 2.06-.94-2.06-.94L8.5 2.5l-.94 2.06-2.06.94zm10 10l.94 2.06.94-2.06 2.06-.94-2.06-.94-.94-2.06-.94 2.06-2.06.94z\"/><path d=\"M17.41 7.96l-1.37-1.37c-.4-.4-.92-.59-1.43-.59-.52 0-1.04.2-1.43.59L10.3 9.45l-7.72 7.72c-.78.78-.78 2.05 0 2.83L4 21.41c.39.39.9.59 1.41.59.51 0 1.02-.2 1.41-.59l7.78-7.78 2.81-2.81c.8-.78.8-2.07 0-2.86zM5.41 20L4 18.59l7.72-7.72 1.47 1.35L5.41 20z\"/>\n",
              "  </svg>\n",
              "      </button>\n",
              "      \n",
              "  <style>\n",
              "    .colab-df-container {\n",
              "      display:flex;\n",
              "      flex-wrap:wrap;\n",
              "      gap: 12px;\n",
              "    }\n",
              "\n",
              "    .colab-df-convert {\n",
              "      background-color: #E8F0FE;\n",
              "      border: none;\n",
              "      border-radius: 50%;\n",
              "      cursor: pointer;\n",
              "      display: none;\n",
              "      fill: #1967D2;\n",
              "      height: 32px;\n",
              "      padding: 0 0 0 0;\n",
              "      width: 32px;\n",
              "    }\n",
              "\n",
              "    .colab-df-convert:hover {\n",
              "      background-color: #E2EBFA;\n",
              "      box-shadow: 0px 1px 2px rgba(60, 64, 67, 0.3), 0px 1px 3px 1px rgba(60, 64, 67, 0.15);\n",
              "      fill: #174EA6;\n",
              "    }\n",
              "\n",
              "    [theme=dark] .colab-df-convert {\n",
              "      background-color: #3B4455;\n",
              "      fill: #D2E3FC;\n",
              "    }\n",
              "\n",
              "    [theme=dark] .colab-df-convert:hover {\n",
              "      background-color: #434B5C;\n",
              "      box-shadow: 0px 1px 3px 1px rgba(0, 0, 0, 0.15);\n",
              "      filter: drop-shadow(0px 1px 2px rgba(0, 0, 0, 0.3));\n",
              "      fill: #FFFFFF;\n",
              "    }\n",
              "  </style>\n",
              "\n",
              "      <script>\n",
              "        const buttonEl =\n",
              "          document.querySelector('#df-2f040c75-c5e5-4848-9613-ce72c55e28a5 button.colab-df-convert');\n",
              "        buttonEl.style.display =\n",
              "          google.colab.kernel.accessAllowed ? 'block' : 'none';\n",
              "\n",
              "        async function convertToInteractive(key) {\n",
              "          const element = document.querySelector('#df-2f040c75-c5e5-4848-9613-ce72c55e28a5');\n",
              "          const dataTable =\n",
              "            await google.colab.kernel.invokeFunction('convertToInteractive',\n",
              "                                                     [key], {});\n",
              "          if (!dataTable) return;\n",
              "\n",
              "          const docLinkHtml = 'Like what you see? Visit the ' +\n",
              "            '<a target=\"_blank\" href=https://colab.research.google.com/notebooks/data_table.ipynb>data table notebook</a>'\n",
              "            + ' to learn more about interactive tables.';\n",
              "          element.innerHTML = '';\n",
              "          dataTable['output_type'] = 'display_data';\n",
              "          await google.colab.output.renderOutput(dataTable, element);\n",
              "          const docLink = document.createElement('div');\n",
              "          docLink.innerHTML = docLinkHtml;\n",
              "          element.appendChild(docLink);\n",
              "        }\n",
              "      </script>\n",
              "    </div>\n",
              "  </div>\n",
              "  "
            ]
          },
          "metadata": {},
          "execution_count": 65
        },
        {
          "output_type": "stream",
          "name": "stdout",
          "text": [
            "Processing 1978Feb.png: {'age': 30, 'region': {'x': 450, 'y': 212, 'w': 139, 'h': 139}, 'gender': 'Woman', 'race': {'asian': 0.006201307775344418, 'indian': 0.003790193885282994, 'black': 0.00015763884933314297, 'white': 99.04409045243803, 'middle eastern': 0.4990675784091698, 'latino hispanic': 0.44668813104558774}, 'dominant_race': 'white', 'emotion': {'angry': 16.107642650604248, 'disgust': 0.0032911309972405434, 'fear': 27.731788158416748, 'happy': 0.003328810998937115, 'sad': 31.423726677894592, 'surprise': 0.017206082702614367, 'neutral': 24.71301406621933}, 'dominant_emotion': 'sad'}\n",
            "          [21 Cols]: ['age', 'gender', 'dominant_race', 'dominant_emotion', 'region.x', 'region.y', 'region.w', 'region.h', 'race.asian', 'race.indian', 'race.black', 'race.white', 'race.middle eastern', 'race.latino hispanic', 'emotion.angry', 'emotion.disgust', 'emotion.fear', 'emotion.happy', 'emotion.sad', 'emotion.surprise', 'emotion.neutral']\n",
            "  ['1978Feb', 30, 'Woman', 'white', 'sad', 450, 212, 139, 139, 0.006201307775344418, 0.003790193885282994, 0.00015763884933314297, 99.04409045243803, 0.4990675784091698, 0.44668813104558774, 16.107642650604248, 0.0032911309972405434, 27.731788158416748, 0.003328810998937115, 31.423726677894592, 0.017206082702614367, 24.71301406621933]\n",
            "\n",
            "\n"
          ]
        },
        {
          "output_type": "execute_result",
          "data": {
            "text/plain": [
              "   age gender dominant_race dominant_emotion  region.x  region.y  region.w  \\\n",
              "0   30  Woman         white              sad       450       212       139   \n",
              "\n",
              "   region.h  race.asian  race.indian  ...  race.white  race.middle eastern  \\\n",
              "0       139    0.006201      0.00379  ...    99.04409             0.499068   \n",
              "\n",
              "   race.latino hispanic  emotion.angry  emotion.disgust  emotion.fear  \\\n",
              "0              0.446688      16.107643         0.003291     27.731788   \n",
              "\n",
              "   emotion.happy  emotion.sad  emotion.surprise  emotion.neutral  \n",
              "0       0.003329    31.423727          0.017206        24.713014  \n",
              "\n",
              "[1 rows x 21 columns]"
            ],
            "text/html": [
              "\n",
              "  <div id=\"df-2b968b34-864f-41e8-abe8-e48d1b8b08f7\">\n",
              "    <div class=\"colab-df-container\">\n",
              "      <div>\n",
              "<style scoped>\n",
              "    .dataframe tbody tr th:only-of-type {\n",
              "        vertical-align: middle;\n",
              "    }\n",
              "\n",
              "    .dataframe tbody tr th {\n",
              "        vertical-align: top;\n",
              "    }\n",
              "\n",
              "    .dataframe thead th {\n",
              "        text-align: right;\n",
              "    }\n",
              "</style>\n",
              "<table border=\"1\" class=\"dataframe\">\n",
              "  <thead>\n",
              "    <tr style=\"text-align: right;\">\n",
              "      <th></th>\n",
              "      <th>age</th>\n",
              "      <th>gender</th>\n",
              "      <th>dominant_race</th>\n",
              "      <th>dominant_emotion</th>\n",
              "      <th>region.x</th>\n",
              "      <th>region.y</th>\n",
              "      <th>region.w</th>\n",
              "      <th>region.h</th>\n",
              "      <th>race.asian</th>\n",
              "      <th>race.indian</th>\n",
              "      <th>...</th>\n",
              "      <th>race.white</th>\n",
              "      <th>race.middle eastern</th>\n",
              "      <th>race.latino hispanic</th>\n",
              "      <th>emotion.angry</th>\n",
              "      <th>emotion.disgust</th>\n",
              "      <th>emotion.fear</th>\n",
              "      <th>emotion.happy</th>\n",
              "      <th>emotion.sad</th>\n",
              "      <th>emotion.surprise</th>\n",
              "      <th>emotion.neutral</th>\n",
              "    </tr>\n",
              "  </thead>\n",
              "  <tbody>\n",
              "    <tr>\n",
              "      <th>0</th>\n",
              "      <td>30</td>\n",
              "      <td>Woman</td>\n",
              "      <td>white</td>\n",
              "      <td>sad</td>\n",
              "      <td>450</td>\n",
              "      <td>212</td>\n",
              "      <td>139</td>\n",
              "      <td>139</td>\n",
              "      <td>0.006201</td>\n",
              "      <td>0.00379</td>\n",
              "      <td>...</td>\n",
              "      <td>99.04409</td>\n",
              "      <td>0.499068</td>\n",
              "      <td>0.446688</td>\n",
              "      <td>16.107643</td>\n",
              "      <td>0.003291</td>\n",
              "      <td>27.731788</td>\n",
              "      <td>0.003329</td>\n",
              "      <td>31.423727</td>\n",
              "      <td>0.017206</td>\n",
              "      <td>24.713014</td>\n",
              "    </tr>\n",
              "  </tbody>\n",
              "</table>\n",
              "<p>1 rows × 21 columns</p>\n",
              "</div>\n",
              "      <button class=\"colab-df-convert\" onclick=\"convertToInteractive('df-2b968b34-864f-41e8-abe8-e48d1b8b08f7')\"\n",
              "              title=\"Convert this dataframe to an interactive table.\"\n",
              "              style=\"display:none;\">\n",
              "        \n",
              "  <svg xmlns=\"http://www.w3.org/2000/svg\" height=\"24px\"viewBox=\"0 0 24 24\"\n",
              "       width=\"24px\">\n",
              "    <path d=\"M0 0h24v24H0V0z\" fill=\"none\"/>\n",
              "    <path d=\"M18.56 5.44l.94 2.06.94-2.06 2.06-.94-2.06-.94-.94-2.06-.94 2.06-2.06.94zm-11 1L8.5 8.5l.94-2.06 2.06-.94-2.06-.94L8.5 2.5l-.94 2.06-2.06.94zm10 10l.94 2.06.94-2.06 2.06-.94-2.06-.94-.94-2.06-.94 2.06-2.06.94z\"/><path d=\"M17.41 7.96l-1.37-1.37c-.4-.4-.92-.59-1.43-.59-.52 0-1.04.2-1.43.59L10.3 9.45l-7.72 7.72c-.78.78-.78 2.05 0 2.83L4 21.41c.39.39.9.59 1.41.59.51 0 1.02-.2 1.41-.59l7.78-7.78 2.81-2.81c.8-.78.8-2.07 0-2.86zM5.41 20L4 18.59l7.72-7.72 1.47 1.35L5.41 20z\"/>\n",
              "  </svg>\n",
              "      </button>\n",
              "      \n",
              "  <style>\n",
              "    .colab-df-container {\n",
              "      display:flex;\n",
              "      flex-wrap:wrap;\n",
              "      gap: 12px;\n",
              "    }\n",
              "\n",
              "    .colab-df-convert {\n",
              "      background-color: #E8F0FE;\n",
              "      border: none;\n",
              "      border-radius: 50%;\n",
              "      cursor: pointer;\n",
              "      display: none;\n",
              "      fill: #1967D2;\n",
              "      height: 32px;\n",
              "      padding: 0 0 0 0;\n",
              "      width: 32px;\n",
              "    }\n",
              "\n",
              "    .colab-df-convert:hover {\n",
              "      background-color: #E2EBFA;\n",
              "      box-shadow: 0px 1px 2px rgba(60, 64, 67, 0.3), 0px 1px 3px 1px rgba(60, 64, 67, 0.15);\n",
              "      fill: #174EA6;\n",
              "    }\n",
              "\n",
              "    [theme=dark] .colab-df-convert {\n",
              "      background-color: #3B4455;\n",
              "      fill: #D2E3FC;\n",
              "    }\n",
              "\n",
              "    [theme=dark] .colab-df-convert:hover {\n",
              "      background-color: #434B5C;\n",
              "      box-shadow: 0px 1px 3px 1px rgba(0, 0, 0, 0.15);\n",
              "      filter: drop-shadow(0px 1px 2px rgba(0, 0, 0, 0.3));\n",
              "      fill: #FFFFFF;\n",
              "    }\n",
              "  </style>\n",
              "\n",
              "      <script>\n",
              "        const buttonEl =\n",
              "          document.querySelector('#df-2b968b34-864f-41e8-abe8-e48d1b8b08f7 button.colab-df-convert');\n",
              "        buttonEl.style.display =\n",
              "          google.colab.kernel.accessAllowed ? 'block' : 'none';\n",
              "\n",
              "        async function convertToInteractive(key) {\n",
              "          const element = document.querySelector('#df-2b968b34-864f-41e8-abe8-e48d1b8b08f7');\n",
              "          const dataTable =\n",
              "            await google.colab.kernel.invokeFunction('convertToInteractive',\n",
              "                                                     [key], {});\n",
              "          if (!dataTable) return;\n",
              "\n",
              "          const docLinkHtml = 'Like what you see? Visit the ' +\n",
              "            '<a target=\"_blank\" href=https://colab.research.google.com/notebooks/data_table.ipynb>data table notebook</a>'\n",
              "            + ' to learn more about interactive tables.';\n",
              "          element.innerHTML = '';\n",
              "          dataTable['output_type'] = 'display_data';\n",
              "          await google.colab.output.renderOutput(dataTable, element);\n",
              "          const docLink = document.createElement('div');\n",
              "          docLink.innerHTML = docLinkHtml;\n",
              "          element.appendChild(docLink);\n",
              "        }\n",
              "      </script>\n",
              "    </div>\n",
              "  </div>\n",
              "  "
            ]
          },
          "metadata": {},
          "execution_count": 65
        },
        {
          "output_type": "stream",
          "name": "stdout",
          "text": [
            "Processing 1978Nov.png: {'age': 28, 'region': {'x': 343, 'y': 998, 'w': 92, 'h': 92}, 'gender': 'Man', 'race': {'asian': 0.41918191127479076, 'indian': 0.8006986230611801, 'black': 0.34288184251636267, 'white': 56.51198625564575, 'middle eastern': 34.4692200422287, 'latino hispanic': 7.4560292065143585}, 'dominant_race': 'white', 'emotion': {'angry': 0.18572636181488633, 'disgust': 2.1282076101414305e-07, 'fear': 44.14812922477722, 'happy': 1.8523398786783218, 'sad': 6.694169342517853, 'surprise': 0.00466398851131089, 'neutral': 47.1149742603302}, 'dominant_emotion': 'neutral'}\n",
            "          [21 Cols]: ['age', 'gender', 'dominant_race', 'dominant_emotion', 'region.x', 'region.y', 'region.w', 'region.h', 'race.asian', 'race.indian', 'race.black', 'race.white', 'race.middle eastern', 'race.latino hispanic', 'emotion.angry', 'emotion.disgust', 'emotion.fear', 'emotion.happy', 'emotion.sad', 'emotion.surprise', 'emotion.neutral']\n",
            "  ['1978Nov', 28, 'Man', 'white', 'neutral', 343, 998, 92, 92, 0.41918191127479076, 0.8006986230611801, 0.34288184251636267, 56.51198625564575, 34.4692200422287, 7.4560292065143585, 0.18572636181488633, 2.1282076101414305e-07, 44.14812922477722, 1.8523398786783218, 6.694169342517853, 0.00466398851131089, 47.1149742603302]\n",
            "\n",
            "\n"
          ]
        },
        {
          "output_type": "execute_result",
          "data": {
            "text/plain": [
              "   age gender dominant_race dominant_emotion  region.x  region.y  region.w  \\\n",
              "0   28    Man         white          neutral       343       998        92   \n",
              "\n",
              "   region.h  race.asian  race.indian  ...  race.white  race.middle eastern  \\\n",
              "0        92    0.419182     0.800699  ...   56.511986             34.46922   \n",
              "\n",
              "   race.latino hispanic  emotion.angry  emotion.disgust  emotion.fear  \\\n",
              "0              7.456029       0.185726     2.128208e-07     44.148129   \n",
              "\n",
              "   emotion.happy  emotion.sad  emotion.surprise  emotion.neutral  \n",
              "0        1.85234     6.694169          0.004664        47.114974  \n",
              "\n",
              "[1 rows x 21 columns]"
            ],
            "text/html": [
              "\n",
              "  <div id=\"df-39fc0c56-7da0-4e9e-9fae-5b5721e14324\">\n",
              "    <div class=\"colab-df-container\">\n",
              "      <div>\n",
              "<style scoped>\n",
              "    .dataframe tbody tr th:only-of-type {\n",
              "        vertical-align: middle;\n",
              "    }\n",
              "\n",
              "    .dataframe tbody tr th {\n",
              "        vertical-align: top;\n",
              "    }\n",
              "\n",
              "    .dataframe thead th {\n",
              "        text-align: right;\n",
              "    }\n",
              "</style>\n",
              "<table border=\"1\" class=\"dataframe\">\n",
              "  <thead>\n",
              "    <tr style=\"text-align: right;\">\n",
              "      <th></th>\n",
              "      <th>age</th>\n",
              "      <th>gender</th>\n",
              "      <th>dominant_race</th>\n",
              "      <th>dominant_emotion</th>\n",
              "      <th>region.x</th>\n",
              "      <th>region.y</th>\n",
              "      <th>region.w</th>\n",
              "      <th>region.h</th>\n",
              "      <th>race.asian</th>\n",
              "      <th>race.indian</th>\n",
              "      <th>...</th>\n",
              "      <th>race.white</th>\n",
              "      <th>race.middle eastern</th>\n",
              "      <th>race.latino hispanic</th>\n",
              "      <th>emotion.angry</th>\n",
              "      <th>emotion.disgust</th>\n",
              "      <th>emotion.fear</th>\n",
              "      <th>emotion.happy</th>\n",
              "      <th>emotion.sad</th>\n",
              "      <th>emotion.surprise</th>\n",
              "      <th>emotion.neutral</th>\n",
              "    </tr>\n",
              "  </thead>\n",
              "  <tbody>\n",
              "    <tr>\n",
              "      <th>0</th>\n",
              "      <td>28</td>\n",
              "      <td>Man</td>\n",
              "      <td>white</td>\n",
              "      <td>neutral</td>\n",
              "      <td>343</td>\n",
              "      <td>998</td>\n",
              "      <td>92</td>\n",
              "      <td>92</td>\n",
              "      <td>0.419182</td>\n",
              "      <td>0.800699</td>\n",
              "      <td>...</td>\n",
              "      <td>56.511986</td>\n",
              "      <td>34.46922</td>\n",
              "      <td>7.456029</td>\n",
              "      <td>0.185726</td>\n",
              "      <td>2.128208e-07</td>\n",
              "      <td>44.148129</td>\n",
              "      <td>1.85234</td>\n",
              "      <td>6.694169</td>\n",
              "      <td>0.004664</td>\n",
              "      <td>47.114974</td>\n",
              "    </tr>\n",
              "  </tbody>\n",
              "</table>\n",
              "<p>1 rows × 21 columns</p>\n",
              "</div>\n",
              "      <button class=\"colab-df-convert\" onclick=\"convertToInteractive('df-39fc0c56-7da0-4e9e-9fae-5b5721e14324')\"\n",
              "              title=\"Convert this dataframe to an interactive table.\"\n",
              "              style=\"display:none;\">\n",
              "        \n",
              "  <svg xmlns=\"http://www.w3.org/2000/svg\" height=\"24px\"viewBox=\"0 0 24 24\"\n",
              "       width=\"24px\">\n",
              "    <path d=\"M0 0h24v24H0V0z\" fill=\"none\"/>\n",
              "    <path d=\"M18.56 5.44l.94 2.06.94-2.06 2.06-.94-2.06-.94-.94-2.06-.94 2.06-2.06.94zm-11 1L8.5 8.5l.94-2.06 2.06-.94-2.06-.94L8.5 2.5l-.94 2.06-2.06.94zm10 10l.94 2.06.94-2.06 2.06-.94-2.06-.94-.94-2.06-.94 2.06-2.06.94z\"/><path d=\"M17.41 7.96l-1.37-1.37c-.4-.4-.92-.59-1.43-.59-.52 0-1.04.2-1.43.59L10.3 9.45l-7.72 7.72c-.78.78-.78 2.05 0 2.83L4 21.41c.39.39.9.59 1.41.59.51 0 1.02-.2 1.41-.59l7.78-7.78 2.81-2.81c.8-.78.8-2.07 0-2.86zM5.41 20L4 18.59l7.72-7.72 1.47 1.35L5.41 20z\"/>\n",
              "  </svg>\n",
              "      </button>\n",
              "      \n",
              "  <style>\n",
              "    .colab-df-container {\n",
              "      display:flex;\n",
              "      flex-wrap:wrap;\n",
              "      gap: 12px;\n",
              "    }\n",
              "\n",
              "    .colab-df-convert {\n",
              "      background-color: #E8F0FE;\n",
              "      border: none;\n",
              "      border-radius: 50%;\n",
              "      cursor: pointer;\n",
              "      display: none;\n",
              "      fill: #1967D2;\n",
              "      height: 32px;\n",
              "      padding: 0 0 0 0;\n",
              "      width: 32px;\n",
              "    }\n",
              "\n",
              "    .colab-df-convert:hover {\n",
              "      background-color: #E2EBFA;\n",
              "      box-shadow: 0px 1px 2px rgba(60, 64, 67, 0.3), 0px 1px 3px 1px rgba(60, 64, 67, 0.15);\n",
              "      fill: #174EA6;\n",
              "    }\n",
              "\n",
              "    [theme=dark] .colab-df-convert {\n",
              "      background-color: #3B4455;\n",
              "      fill: #D2E3FC;\n",
              "    }\n",
              "\n",
              "    [theme=dark] .colab-df-convert:hover {\n",
              "      background-color: #434B5C;\n",
              "      box-shadow: 0px 1px 3px 1px rgba(0, 0, 0, 0.15);\n",
              "      filter: drop-shadow(0px 1px 2px rgba(0, 0, 0, 0.3));\n",
              "      fill: #FFFFFF;\n",
              "    }\n",
              "  </style>\n",
              "\n",
              "      <script>\n",
              "        const buttonEl =\n",
              "          document.querySelector('#df-39fc0c56-7da0-4e9e-9fae-5b5721e14324 button.colab-df-convert');\n",
              "        buttonEl.style.display =\n",
              "          google.colab.kernel.accessAllowed ? 'block' : 'none';\n",
              "\n",
              "        async function convertToInteractive(key) {\n",
              "          const element = document.querySelector('#df-39fc0c56-7da0-4e9e-9fae-5b5721e14324');\n",
              "          const dataTable =\n",
              "            await google.colab.kernel.invokeFunction('convertToInteractive',\n",
              "                                                     [key], {});\n",
              "          if (!dataTable) return;\n",
              "\n",
              "          const docLinkHtml = 'Like what you see? Visit the ' +\n",
              "            '<a target=\"_blank\" href=https://colab.research.google.com/notebooks/data_table.ipynb>data table notebook</a>'\n",
              "            + ' to learn more about interactive tables.';\n",
              "          element.innerHTML = '';\n",
              "          dataTable['output_type'] = 'display_data';\n",
              "          await google.colab.output.renderOutput(dataTable, element);\n",
              "          const docLink = document.createElement('div');\n",
              "          docLink.innerHTML = docLinkHtml;\n",
              "          element.appendChild(docLink);\n",
              "        }\n",
              "      </script>\n",
              "    </div>\n",
              "  </div>\n",
              "  "
            ]
          },
          "metadata": {},
          "execution_count": 65
        },
        {
          "output_type": "stream",
          "name": "stdout",
          "text": [
            "Processing 1978Jun.png: {'age': 38, 'region': {'x': 433, 'y': 260, 'w': 166, 'h': 166}, 'gender': 'Woman', 'race': {'asian': 9.678073098484674e-06, 'indian': 7.4870129651571915e-06, 'black': 8.929192385487283e-08, 'white': 99.96757507324219, 'middle eastern': 0.01389094686601311, 'latino hispanic': 0.018515971896704286}, 'dominant_race': 'white', 'emotion': {'angry': 0.02196014654906351, 'disgust': 9.486370509782824e-06, 'fear': 0.0002876609075467881, 'happy': 93.55037731532781, 'sad': 0.003266669253361099, 'surprise': 7.31162318365848e-05, 'neutral': 6.424027702096427}, 'dominant_emotion': 'happy'}\n",
            "          [21 Cols]: ['age', 'gender', 'dominant_race', 'dominant_emotion', 'region.x', 'region.y', 'region.w', 'region.h', 'race.asian', 'race.indian', 'race.black', 'race.white', 'race.middle eastern', 'race.latino hispanic', 'emotion.angry', 'emotion.disgust', 'emotion.fear', 'emotion.happy', 'emotion.sad', 'emotion.surprise', 'emotion.neutral']\n",
            "  ['1978Jun', 38, 'Woman', 'white', 'happy', 433, 260, 166, 166, 9.678073098484674e-06, 7.4870129651571915e-06, 8.929192385487283e-08, 99.96757507324219, 0.01389094686601311, 0.018515971896704286, 0.02196014654906351, 9.486370509782824e-06, 0.0002876609075467881, 93.55037731532781, 0.003266669253361099, 7.31162318365848e-05, 6.424027702096427]\n",
            "\n",
            "\n"
          ]
        },
        {
          "output_type": "execute_result",
          "data": {
            "text/plain": [
              "   age gender dominant_race dominant_emotion  region.x  region.y  region.w  \\\n",
              "0   38  Woman         white            happy       433       260       166   \n",
              "\n",
              "   region.h  race.asian  race.indian  ...  race.white  race.middle eastern  \\\n",
              "0       166     0.00001     0.000007  ...   99.967575             0.013891   \n",
              "\n",
              "   race.latino hispanic  emotion.angry  emotion.disgust  emotion.fear  \\\n",
              "0              0.018516        0.02196         0.000009      0.000288   \n",
              "\n",
              "   emotion.happy  emotion.sad  emotion.surprise  emotion.neutral  \n",
              "0      93.550377     0.003267          0.000073         6.424028  \n",
              "\n",
              "[1 rows x 21 columns]"
            ],
            "text/html": [
              "\n",
              "  <div id=\"df-8a4b4ff4-3a3a-4b99-a092-8aa181ba1d05\">\n",
              "    <div class=\"colab-df-container\">\n",
              "      <div>\n",
              "<style scoped>\n",
              "    .dataframe tbody tr th:only-of-type {\n",
              "        vertical-align: middle;\n",
              "    }\n",
              "\n",
              "    .dataframe tbody tr th {\n",
              "        vertical-align: top;\n",
              "    }\n",
              "\n",
              "    .dataframe thead th {\n",
              "        text-align: right;\n",
              "    }\n",
              "</style>\n",
              "<table border=\"1\" class=\"dataframe\">\n",
              "  <thead>\n",
              "    <tr style=\"text-align: right;\">\n",
              "      <th></th>\n",
              "      <th>age</th>\n",
              "      <th>gender</th>\n",
              "      <th>dominant_race</th>\n",
              "      <th>dominant_emotion</th>\n",
              "      <th>region.x</th>\n",
              "      <th>region.y</th>\n",
              "      <th>region.w</th>\n",
              "      <th>region.h</th>\n",
              "      <th>race.asian</th>\n",
              "      <th>race.indian</th>\n",
              "      <th>...</th>\n",
              "      <th>race.white</th>\n",
              "      <th>race.middle eastern</th>\n",
              "      <th>race.latino hispanic</th>\n",
              "      <th>emotion.angry</th>\n",
              "      <th>emotion.disgust</th>\n",
              "      <th>emotion.fear</th>\n",
              "      <th>emotion.happy</th>\n",
              "      <th>emotion.sad</th>\n",
              "      <th>emotion.surprise</th>\n",
              "      <th>emotion.neutral</th>\n",
              "    </tr>\n",
              "  </thead>\n",
              "  <tbody>\n",
              "    <tr>\n",
              "      <th>0</th>\n",
              "      <td>38</td>\n",
              "      <td>Woman</td>\n",
              "      <td>white</td>\n",
              "      <td>happy</td>\n",
              "      <td>433</td>\n",
              "      <td>260</td>\n",
              "      <td>166</td>\n",
              "      <td>166</td>\n",
              "      <td>0.00001</td>\n",
              "      <td>0.000007</td>\n",
              "      <td>...</td>\n",
              "      <td>99.967575</td>\n",
              "      <td>0.013891</td>\n",
              "      <td>0.018516</td>\n",
              "      <td>0.02196</td>\n",
              "      <td>0.000009</td>\n",
              "      <td>0.000288</td>\n",
              "      <td>93.550377</td>\n",
              "      <td>0.003267</td>\n",
              "      <td>0.000073</td>\n",
              "      <td>6.424028</td>\n",
              "    </tr>\n",
              "  </tbody>\n",
              "</table>\n",
              "<p>1 rows × 21 columns</p>\n",
              "</div>\n",
              "      <button class=\"colab-df-convert\" onclick=\"convertToInteractive('df-8a4b4ff4-3a3a-4b99-a092-8aa181ba1d05')\"\n",
              "              title=\"Convert this dataframe to an interactive table.\"\n",
              "              style=\"display:none;\">\n",
              "        \n",
              "  <svg xmlns=\"http://www.w3.org/2000/svg\" height=\"24px\"viewBox=\"0 0 24 24\"\n",
              "       width=\"24px\">\n",
              "    <path d=\"M0 0h24v24H0V0z\" fill=\"none\"/>\n",
              "    <path d=\"M18.56 5.44l.94 2.06.94-2.06 2.06-.94-2.06-.94-.94-2.06-.94 2.06-2.06.94zm-11 1L8.5 8.5l.94-2.06 2.06-.94-2.06-.94L8.5 2.5l-.94 2.06-2.06.94zm10 10l.94 2.06.94-2.06 2.06-.94-2.06-.94-.94-2.06-.94 2.06-2.06.94z\"/><path d=\"M17.41 7.96l-1.37-1.37c-.4-.4-.92-.59-1.43-.59-.52 0-1.04.2-1.43.59L10.3 9.45l-7.72 7.72c-.78.78-.78 2.05 0 2.83L4 21.41c.39.39.9.59 1.41.59.51 0 1.02-.2 1.41-.59l7.78-7.78 2.81-2.81c.8-.78.8-2.07 0-2.86zM5.41 20L4 18.59l7.72-7.72 1.47 1.35L5.41 20z\"/>\n",
              "  </svg>\n",
              "      </button>\n",
              "      \n",
              "  <style>\n",
              "    .colab-df-container {\n",
              "      display:flex;\n",
              "      flex-wrap:wrap;\n",
              "      gap: 12px;\n",
              "    }\n",
              "\n",
              "    .colab-df-convert {\n",
              "      background-color: #E8F0FE;\n",
              "      border: none;\n",
              "      border-radius: 50%;\n",
              "      cursor: pointer;\n",
              "      display: none;\n",
              "      fill: #1967D2;\n",
              "      height: 32px;\n",
              "      padding: 0 0 0 0;\n",
              "      width: 32px;\n",
              "    }\n",
              "\n",
              "    .colab-df-convert:hover {\n",
              "      background-color: #E2EBFA;\n",
              "      box-shadow: 0px 1px 2px rgba(60, 64, 67, 0.3), 0px 1px 3px 1px rgba(60, 64, 67, 0.15);\n",
              "      fill: #174EA6;\n",
              "    }\n",
              "\n",
              "    [theme=dark] .colab-df-convert {\n",
              "      background-color: #3B4455;\n",
              "      fill: #D2E3FC;\n",
              "    }\n",
              "\n",
              "    [theme=dark] .colab-df-convert:hover {\n",
              "      background-color: #434B5C;\n",
              "      box-shadow: 0px 1px 3px 1px rgba(0, 0, 0, 0.15);\n",
              "      filter: drop-shadow(0px 1px 2px rgba(0, 0, 0, 0.3));\n",
              "      fill: #FFFFFF;\n",
              "    }\n",
              "  </style>\n",
              "\n",
              "      <script>\n",
              "        const buttonEl =\n",
              "          document.querySelector('#df-8a4b4ff4-3a3a-4b99-a092-8aa181ba1d05 button.colab-df-convert');\n",
              "        buttonEl.style.display =\n",
              "          google.colab.kernel.accessAllowed ? 'block' : 'none';\n",
              "\n",
              "        async function convertToInteractive(key) {\n",
              "          const element = document.querySelector('#df-8a4b4ff4-3a3a-4b99-a092-8aa181ba1d05');\n",
              "          const dataTable =\n",
              "            await google.colab.kernel.invokeFunction('convertToInteractive',\n",
              "                                                     [key], {});\n",
              "          if (!dataTable) return;\n",
              "\n",
              "          const docLinkHtml = 'Like what you see? Visit the ' +\n",
              "            '<a target=\"_blank\" href=https://colab.research.google.com/notebooks/data_table.ipynb>data table notebook</a>'\n",
              "            + ' to learn more about interactive tables.';\n",
              "          element.innerHTML = '';\n",
              "          dataTable['output_type'] = 'display_data';\n",
              "          await google.colab.output.renderOutput(dataTable, element);\n",
              "          const docLink = document.createElement('div');\n",
              "          docLink.innerHTML = docLinkHtml;\n",
              "          element.appendChild(docLink);\n",
              "        }\n",
              "      </script>\n",
              "    </div>\n",
              "  </div>\n",
              "  "
            ]
          },
          "metadata": {},
          "execution_count": 65
        },
        {
          "output_type": "stream",
          "name": "stdout",
          "text": [
            "Processing 1978Oct.png: {'age': 44, 'region': {'x': 363, 'y': 531, 'w': 334, 'h': 334}, 'gender': 'Woman', 'race': {'asian': 1.0401744743315788e-08, 'indian': 6.372955635436384e-09, 'black': 8.105696696529899e-12, 'white': 99.99953508377075, 'middle eastern': 0.00039049145925673656, 'latino hispanic': 7.396723162855778e-05}, 'dominant_race': 'white', 'emotion': {'angry': 1.7388021392700703e-06, 'disgust': 9.228883917140757e-10, 'fear': 1.5985916461153426e-05, 'happy': 99.99893903744947, 'sad': 4.416655314548875e-06, 'surprise': 1.7236056081607133e-07, 'neutral': 0.0010370290184023656}, 'dominant_emotion': 'happy'}\n",
            "          [21 Cols]: ['age', 'gender', 'dominant_race', 'dominant_emotion', 'region.x', 'region.y', 'region.w', 'region.h', 'race.asian', 'race.indian', 'race.black', 'race.white', 'race.middle eastern', 'race.latino hispanic', 'emotion.angry', 'emotion.disgust', 'emotion.fear', 'emotion.happy', 'emotion.sad', 'emotion.surprise', 'emotion.neutral']\n",
            "  ['1978Oct', 44, 'Woman', 'white', 'happy', 363, 531, 334, 334, 1.0401744743315788e-08, 6.372955635436384e-09, 8.105696696529899e-12, 99.99953508377075, 0.00039049145925673656, 7.396723162855778e-05, 1.7388021392700703e-06, 9.228883917140757e-10, 1.5985916461153426e-05, 99.99893903744947, 4.416655314548875e-06, 1.7236056081607133e-07, 0.0010370290184023656]\n",
            "\n",
            "\n"
          ]
        },
        {
          "output_type": "execute_result",
          "data": {
            "text/plain": [
              "   age gender dominant_race dominant_emotion  region.x  region.y  region.w  \\\n",
              "0   44  Woman         white            happy       363       531       334   \n",
              "\n",
              "   region.h    race.asian   race.indian  ...  race.white  race.middle eastern  \\\n",
              "0       334  1.040174e-08  6.372956e-09  ...   99.999535              0.00039   \n",
              "\n",
              "   race.latino hispanic  emotion.angry  emotion.disgust  emotion.fear  \\\n",
              "0              0.000074       0.000002     9.228884e-10      0.000016   \n",
              "\n",
              "   emotion.happy  emotion.sad  emotion.surprise  emotion.neutral  \n",
              "0      99.998939     0.000004      1.723606e-07         0.001037  \n",
              "\n",
              "[1 rows x 21 columns]"
            ],
            "text/html": [
              "\n",
              "  <div id=\"df-86481f39-847e-49ab-a06d-6a9c696c8dcd\">\n",
              "    <div class=\"colab-df-container\">\n",
              "      <div>\n",
              "<style scoped>\n",
              "    .dataframe tbody tr th:only-of-type {\n",
              "        vertical-align: middle;\n",
              "    }\n",
              "\n",
              "    .dataframe tbody tr th {\n",
              "        vertical-align: top;\n",
              "    }\n",
              "\n",
              "    .dataframe thead th {\n",
              "        text-align: right;\n",
              "    }\n",
              "</style>\n",
              "<table border=\"1\" class=\"dataframe\">\n",
              "  <thead>\n",
              "    <tr style=\"text-align: right;\">\n",
              "      <th></th>\n",
              "      <th>age</th>\n",
              "      <th>gender</th>\n",
              "      <th>dominant_race</th>\n",
              "      <th>dominant_emotion</th>\n",
              "      <th>region.x</th>\n",
              "      <th>region.y</th>\n",
              "      <th>region.w</th>\n",
              "      <th>region.h</th>\n",
              "      <th>race.asian</th>\n",
              "      <th>race.indian</th>\n",
              "      <th>...</th>\n",
              "      <th>race.white</th>\n",
              "      <th>race.middle eastern</th>\n",
              "      <th>race.latino hispanic</th>\n",
              "      <th>emotion.angry</th>\n",
              "      <th>emotion.disgust</th>\n",
              "      <th>emotion.fear</th>\n",
              "      <th>emotion.happy</th>\n",
              "      <th>emotion.sad</th>\n",
              "      <th>emotion.surprise</th>\n",
              "      <th>emotion.neutral</th>\n",
              "    </tr>\n",
              "  </thead>\n",
              "  <tbody>\n",
              "    <tr>\n",
              "      <th>0</th>\n",
              "      <td>44</td>\n",
              "      <td>Woman</td>\n",
              "      <td>white</td>\n",
              "      <td>happy</td>\n",
              "      <td>363</td>\n",
              "      <td>531</td>\n",
              "      <td>334</td>\n",
              "      <td>334</td>\n",
              "      <td>1.040174e-08</td>\n",
              "      <td>6.372956e-09</td>\n",
              "      <td>...</td>\n",
              "      <td>99.999535</td>\n",
              "      <td>0.00039</td>\n",
              "      <td>0.000074</td>\n",
              "      <td>0.000002</td>\n",
              "      <td>9.228884e-10</td>\n",
              "      <td>0.000016</td>\n",
              "      <td>99.998939</td>\n",
              "      <td>0.000004</td>\n",
              "      <td>1.723606e-07</td>\n",
              "      <td>0.001037</td>\n",
              "    </tr>\n",
              "  </tbody>\n",
              "</table>\n",
              "<p>1 rows × 21 columns</p>\n",
              "</div>\n",
              "      <button class=\"colab-df-convert\" onclick=\"convertToInteractive('df-86481f39-847e-49ab-a06d-6a9c696c8dcd')\"\n",
              "              title=\"Convert this dataframe to an interactive table.\"\n",
              "              style=\"display:none;\">\n",
              "        \n",
              "  <svg xmlns=\"http://www.w3.org/2000/svg\" height=\"24px\"viewBox=\"0 0 24 24\"\n",
              "       width=\"24px\">\n",
              "    <path d=\"M0 0h24v24H0V0z\" fill=\"none\"/>\n",
              "    <path d=\"M18.56 5.44l.94 2.06.94-2.06 2.06-.94-2.06-.94-.94-2.06-.94 2.06-2.06.94zm-11 1L8.5 8.5l.94-2.06 2.06-.94-2.06-.94L8.5 2.5l-.94 2.06-2.06.94zm10 10l.94 2.06.94-2.06 2.06-.94-2.06-.94-.94-2.06-.94 2.06-2.06.94z\"/><path d=\"M17.41 7.96l-1.37-1.37c-.4-.4-.92-.59-1.43-.59-.52 0-1.04.2-1.43.59L10.3 9.45l-7.72 7.72c-.78.78-.78 2.05 0 2.83L4 21.41c.39.39.9.59 1.41.59.51 0 1.02-.2 1.41-.59l7.78-7.78 2.81-2.81c.8-.78.8-2.07 0-2.86zM5.41 20L4 18.59l7.72-7.72 1.47 1.35L5.41 20z\"/>\n",
              "  </svg>\n",
              "      </button>\n",
              "      \n",
              "  <style>\n",
              "    .colab-df-container {\n",
              "      display:flex;\n",
              "      flex-wrap:wrap;\n",
              "      gap: 12px;\n",
              "    }\n",
              "\n",
              "    .colab-df-convert {\n",
              "      background-color: #E8F0FE;\n",
              "      border: none;\n",
              "      border-radius: 50%;\n",
              "      cursor: pointer;\n",
              "      display: none;\n",
              "      fill: #1967D2;\n",
              "      height: 32px;\n",
              "      padding: 0 0 0 0;\n",
              "      width: 32px;\n",
              "    }\n",
              "\n",
              "    .colab-df-convert:hover {\n",
              "      background-color: #E2EBFA;\n",
              "      box-shadow: 0px 1px 2px rgba(60, 64, 67, 0.3), 0px 1px 3px 1px rgba(60, 64, 67, 0.15);\n",
              "      fill: #174EA6;\n",
              "    }\n",
              "\n",
              "    [theme=dark] .colab-df-convert {\n",
              "      background-color: #3B4455;\n",
              "      fill: #D2E3FC;\n",
              "    }\n",
              "\n",
              "    [theme=dark] .colab-df-convert:hover {\n",
              "      background-color: #434B5C;\n",
              "      box-shadow: 0px 1px 3px 1px rgba(0, 0, 0, 0.15);\n",
              "      filter: drop-shadow(0px 1px 2px rgba(0, 0, 0, 0.3));\n",
              "      fill: #FFFFFF;\n",
              "    }\n",
              "  </style>\n",
              "\n",
              "      <script>\n",
              "        const buttonEl =\n",
              "          document.querySelector('#df-86481f39-847e-49ab-a06d-6a9c696c8dcd button.colab-df-convert');\n",
              "        buttonEl.style.display =\n",
              "          google.colab.kernel.accessAllowed ? 'block' : 'none';\n",
              "\n",
              "        async function convertToInteractive(key) {\n",
              "          const element = document.querySelector('#df-86481f39-847e-49ab-a06d-6a9c696c8dcd');\n",
              "          const dataTable =\n",
              "            await google.colab.kernel.invokeFunction('convertToInteractive',\n",
              "                                                     [key], {});\n",
              "          if (!dataTable) return;\n",
              "\n",
              "          const docLinkHtml = 'Like what you see? Visit the ' +\n",
              "            '<a target=\"_blank\" href=https://colab.research.google.com/notebooks/data_table.ipynb>data table notebook</a>'\n",
              "            + ' to learn more about interactive tables.';\n",
              "          element.innerHTML = '';\n",
              "          dataTable['output_type'] = 'display_data';\n",
              "          await google.colab.output.renderOutput(dataTable, element);\n",
              "          const docLink = document.createElement('div');\n",
              "          docLink.innerHTML = docLinkHtml;\n",
              "          element.appendChild(docLink);\n",
              "        }\n",
              "      </script>\n",
              "    </div>\n",
              "  </div>\n",
              "  "
            ]
          },
          "metadata": {},
          "execution_count": 65
        }
      ]
    },
    {
      "cell_type": "code",
      "source": [
        "# Verify Correct Dimensions\n",
        "\n",
        "len(cover_ls_ls)\n",
        "print('\\n')\n",
        "len(cover_ls_ls[0])"
      ],
      "metadata": {
        "colab": {
          "base_uri": "https://localhost:8080/"
        },
        "id": "thRdlNt07fOx",
        "outputId": "c3b55538-5f43-47cf-b16c-caf01b206406"
      },
      "execution_count": 52,
      "outputs": [
        {
          "output_type": "execute_result",
          "data": {
            "text/plain": [
              "7"
            ]
          },
          "metadata": {},
          "execution_count": 52
        },
        {
          "output_type": "stream",
          "name": "stdout",
          "text": [
            "\n",
            "\n"
          ]
        },
        {
          "output_type": "execute_result",
          "data": {
            "text/plain": [
              "22"
            ]
          },
          "metadata": {},
          "execution_count": 52
        }
      ]
    },
    {
      "cell_type": "code",
      "source": [
        "# Convert into DataFrame\n",
        "\n",
        "col_newer_ls = [x.replace('.','_') for x in col_new_ls]\n",
        "cover_all_df = pd.DataFrame(columns=col_newer_ls, data=cover_ls_ls)\n",
        "cover_all_df.head() \n",
        "cover_all_df.info()"
      ],
      "metadata": {
        "colab": {
          "base_uri": "https://localhost:8080/",
          "height": 924
        },
        "id": "RGeBdAS5PAdP",
        "outputId": "882cf0ea-df60-4623-e1b2-26387fc27476"
      },
      "execution_count": 67,
      "outputs": [
        {
          "output_type": "execute_result",
          "data": {
            "text/plain": [
              "      date  age gender dominant_race dominant_emotion  region_x  region_y  \\\n",
              "0  1978Apr   30  Woman         white            happy       689       532   \n",
              "1  1978May   35  Woman         white          neutral       466       262   \n",
              "2  1978Mar   32  Woman         white              sad       694       374   \n",
              "3  1978Feb   30  Woman         white              sad       450       212   \n",
              "4  1978Nov   28    Man         white          neutral       343       998   \n",
              "\n",
              "   region_w  region_h    race_asian  ...  race_white  race_middle eastern  \\\n",
              "0        96        96  7.697999e-01  ...   77.072553            14.025090   \n",
              "1       180       180  5.435489e-10  ...   99.999857             0.000068   \n",
              "2       113       113  4.867622e-01  ...   71.025191            14.348855   \n",
              "3       139       139  6.201308e-03  ...   99.044090             0.499068   \n",
              "4        92        92  4.191819e-01  ...   56.511986            34.469220   \n",
              "\n",
              "   race_latino hispanic  emotion_angry  emotion_disgust  emotion_fear  \\\n",
              "0              7.323557       0.081104     3.915354e-09      0.000030   \n",
              "1              0.000080       0.126829     5.191717e-05      0.055559   \n",
              "2             13.270276       0.115201     2.089105e-10      6.553560   \n",
              "3              0.446688      16.107643     3.291131e-03     27.731788   \n",
              "4              7.456029       0.185726     2.128208e-07     44.148129   \n",
              "\n",
              "   emotion_happy  emotion_sad  emotion_surprise  emotion_neutral  \n",
              "0      65.714169     0.125755          0.000173        34.078768  \n",
              "1       3.343925     0.029611          0.196504        96.247518  \n",
              "2       0.000015    80.459148          0.000583        12.871492  \n",
              "3       0.003329    31.423727          0.017206        24.713014  \n",
              "4       1.852340     6.694169          0.004664        47.114974  \n",
              "\n",
              "[5 rows x 22 columns]"
            ],
            "text/html": [
              "\n",
              "  <div id=\"df-7603c24c-ac40-4e99-bd4e-0c5db5306153\">\n",
              "    <div class=\"colab-df-container\">\n",
              "      <div>\n",
              "<style scoped>\n",
              "    .dataframe tbody tr th:only-of-type {\n",
              "        vertical-align: middle;\n",
              "    }\n",
              "\n",
              "    .dataframe tbody tr th {\n",
              "        vertical-align: top;\n",
              "    }\n",
              "\n",
              "    .dataframe thead th {\n",
              "        text-align: right;\n",
              "    }\n",
              "</style>\n",
              "<table border=\"1\" class=\"dataframe\">\n",
              "  <thead>\n",
              "    <tr style=\"text-align: right;\">\n",
              "      <th></th>\n",
              "      <th>date</th>\n",
              "      <th>age</th>\n",
              "      <th>gender</th>\n",
              "      <th>dominant_race</th>\n",
              "      <th>dominant_emotion</th>\n",
              "      <th>region_x</th>\n",
              "      <th>region_y</th>\n",
              "      <th>region_w</th>\n",
              "      <th>region_h</th>\n",
              "      <th>race_asian</th>\n",
              "      <th>...</th>\n",
              "      <th>race_white</th>\n",
              "      <th>race_middle eastern</th>\n",
              "      <th>race_latino hispanic</th>\n",
              "      <th>emotion_angry</th>\n",
              "      <th>emotion_disgust</th>\n",
              "      <th>emotion_fear</th>\n",
              "      <th>emotion_happy</th>\n",
              "      <th>emotion_sad</th>\n",
              "      <th>emotion_surprise</th>\n",
              "      <th>emotion_neutral</th>\n",
              "    </tr>\n",
              "  </thead>\n",
              "  <tbody>\n",
              "    <tr>\n",
              "      <th>0</th>\n",
              "      <td>1978Apr</td>\n",
              "      <td>30</td>\n",
              "      <td>Woman</td>\n",
              "      <td>white</td>\n",
              "      <td>happy</td>\n",
              "      <td>689</td>\n",
              "      <td>532</td>\n",
              "      <td>96</td>\n",
              "      <td>96</td>\n",
              "      <td>7.697999e-01</td>\n",
              "      <td>...</td>\n",
              "      <td>77.072553</td>\n",
              "      <td>14.025090</td>\n",
              "      <td>7.323557</td>\n",
              "      <td>0.081104</td>\n",
              "      <td>3.915354e-09</td>\n",
              "      <td>0.000030</td>\n",
              "      <td>65.714169</td>\n",
              "      <td>0.125755</td>\n",
              "      <td>0.000173</td>\n",
              "      <td>34.078768</td>\n",
              "    </tr>\n",
              "    <tr>\n",
              "      <th>1</th>\n",
              "      <td>1978May</td>\n",
              "      <td>35</td>\n",
              "      <td>Woman</td>\n",
              "      <td>white</td>\n",
              "      <td>neutral</td>\n",
              "      <td>466</td>\n",
              "      <td>262</td>\n",
              "      <td>180</td>\n",
              "      <td>180</td>\n",
              "      <td>5.435489e-10</td>\n",
              "      <td>...</td>\n",
              "      <td>99.999857</td>\n",
              "      <td>0.000068</td>\n",
              "      <td>0.000080</td>\n",
              "      <td>0.126829</td>\n",
              "      <td>5.191717e-05</td>\n",
              "      <td>0.055559</td>\n",
              "      <td>3.343925</td>\n",
              "      <td>0.029611</td>\n",
              "      <td>0.196504</td>\n",
              "      <td>96.247518</td>\n",
              "    </tr>\n",
              "    <tr>\n",
              "      <th>2</th>\n",
              "      <td>1978Mar</td>\n",
              "      <td>32</td>\n",
              "      <td>Woman</td>\n",
              "      <td>white</td>\n",
              "      <td>sad</td>\n",
              "      <td>694</td>\n",
              "      <td>374</td>\n",
              "      <td>113</td>\n",
              "      <td>113</td>\n",
              "      <td>4.867622e-01</td>\n",
              "      <td>...</td>\n",
              "      <td>71.025191</td>\n",
              "      <td>14.348855</td>\n",
              "      <td>13.270276</td>\n",
              "      <td>0.115201</td>\n",
              "      <td>2.089105e-10</td>\n",
              "      <td>6.553560</td>\n",
              "      <td>0.000015</td>\n",
              "      <td>80.459148</td>\n",
              "      <td>0.000583</td>\n",
              "      <td>12.871492</td>\n",
              "    </tr>\n",
              "    <tr>\n",
              "      <th>3</th>\n",
              "      <td>1978Feb</td>\n",
              "      <td>30</td>\n",
              "      <td>Woman</td>\n",
              "      <td>white</td>\n",
              "      <td>sad</td>\n",
              "      <td>450</td>\n",
              "      <td>212</td>\n",
              "      <td>139</td>\n",
              "      <td>139</td>\n",
              "      <td>6.201308e-03</td>\n",
              "      <td>...</td>\n",
              "      <td>99.044090</td>\n",
              "      <td>0.499068</td>\n",
              "      <td>0.446688</td>\n",
              "      <td>16.107643</td>\n",
              "      <td>3.291131e-03</td>\n",
              "      <td>27.731788</td>\n",
              "      <td>0.003329</td>\n",
              "      <td>31.423727</td>\n",
              "      <td>0.017206</td>\n",
              "      <td>24.713014</td>\n",
              "    </tr>\n",
              "    <tr>\n",
              "      <th>4</th>\n",
              "      <td>1978Nov</td>\n",
              "      <td>28</td>\n",
              "      <td>Man</td>\n",
              "      <td>white</td>\n",
              "      <td>neutral</td>\n",
              "      <td>343</td>\n",
              "      <td>998</td>\n",
              "      <td>92</td>\n",
              "      <td>92</td>\n",
              "      <td>4.191819e-01</td>\n",
              "      <td>...</td>\n",
              "      <td>56.511986</td>\n",
              "      <td>34.469220</td>\n",
              "      <td>7.456029</td>\n",
              "      <td>0.185726</td>\n",
              "      <td>2.128208e-07</td>\n",
              "      <td>44.148129</td>\n",
              "      <td>1.852340</td>\n",
              "      <td>6.694169</td>\n",
              "      <td>0.004664</td>\n",
              "      <td>47.114974</td>\n",
              "    </tr>\n",
              "  </tbody>\n",
              "</table>\n",
              "<p>5 rows × 22 columns</p>\n",
              "</div>\n",
              "      <button class=\"colab-df-convert\" onclick=\"convertToInteractive('df-7603c24c-ac40-4e99-bd4e-0c5db5306153')\"\n",
              "              title=\"Convert this dataframe to an interactive table.\"\n",
              "              style=\"display:none;\">\n",
              "        \n",
              "  <svg xmlns=\"http://www.w3.org/2000/svg\" height=\"24px\"viewBox=\"0 0 24 24\"\n",
              "       width=\"24px\">\n",
              "    <path d=\"M0 0h24v24H0V0z\" fill=\"none\"/>\n",
              "    <path d=\"M18.56 5.44l.94 2.06.94-2.06 2.06-.94-2.06-.94-.94-2.06-.94 2.06-2.06.94zm-11 1L8.5 8.5l.94-2.06 2.06-.94-2.06-.94L8.5 2.5l-.94 2.06-2.06.94zm10 10l.94 2.06.94-2.06 2.06-.94-2.06-.94-.94-2.06-.94 2.06-2.06.94z\"/><path d=\"M17.41 7.96l-1.37-1.37c-.4-.4-.92-.59-1.43-.59-.52 0-1.04.2-1.43.59L10.3 9.45l-7.72 7.72c-.78.78-.78 2.05 0 2.83L4 21.41c.39.39.9.59 1.41.59.51 0 1.02-.2 1.41-.59l7.78-7.78 2.81-2.81c.8-.78.8-2.07 0-2.86zM5.41 20L4 18.59l7.72-7.72 1.47 1.35L5.41 20z\"/>\n",
              "  </svg>\n",
              "      </button>\n",
              "      \n",
              "  <style>\n",
              "    .colab-df-container {\n",
              "      display:flex;\n",
              "      flex-wrap:wrap;\n",
              "      gap: 12px;\n",
              "    }\n",
              "\n",
              "    .colab-df-convert {\n",
              "      background-color: #E8F0FE;\n",
              "      border: none;\n",
              "      border-radius: 50%;\n",
              "      cursor: pointer;\n",
              "      display: none;\n",
              "      fill: #1967D2;\n",
              "      height: 32px;\n",
              "      padding: 0 0 0 0;\n",
              "      width: 32px;\n",
              "    }\n",
              "\n",
              "    .colab-df-convert:hover {\n",
              "      background-color: #E2EBFA;\n",
              "      box-shadow: 0px 1px 2px rgba(60, 64, 67, 0.3), 0px 1px 3px 1px rgba(60, 64, 67, 0.15);\n",
              "      fill: #174EA6;\n",
              "    }\n",
              "\n",
              "    [theme=dark] .colab-df-convert {\n",
              "      background-color: #3B4455;\n",
              "      fill: #D2E3FC;\n",
              "    }\n",
              "\n",
              "    [theme=dark] .colab-df-convert:hover {\n",
              "      background-color: #434B5C;\n",
              "      box-shadow: 0px 1px 3px 1px rgba(0, 0, 0, 0.15);\n",
              "      filter: drop-shadow(0px 1px 2px rgba(0, 0, 0, 0.3));\n",
              "      fill: #FFFFFF;\n",
              "    }\n",
              "  </style>\n",
              "\n",
              "      <script>\n",
              "        const buttonEl =\n",
              "          document.querySelector('#df-7603c24c-ac40-4e99-bd4e-0c5db5306153 button.colab-df-convert');\n",
              "        buttonEl.style.display =\n",
              "          google.colab.kernel.accessAllowed ? 'block' : 'none';\n",
              "\n",
              "        async function convertToInteractive(key) {\n",
              "          const element = document.querySelector('#df-7603c24c-ac40-4e99-bd4e-0c5db5306153');\n",
              "          const dataTable =\n",
              "            await google.colab.kernel.invokeFunction('convertToInteractive',\n",
              "                                                     [key], {});\n",
              "          if (!dataTable) return;\n",
              "\n",
              "          const docLinkHtml = 'Like what you see? Visit the ' +\n",
              "            '<a target=\"_blank\" href=https://colab.research.google.com/notebooks/data_table.ipynb>data table notebook</a>'\n",
              "            + ' to learn more about interactive tables.';\n",
              "          element.innerHTML = '';\n",
              "          dataTable['output_type'] = 'display_data';\n",
              "          await google.colab.output.renderOutput(dataTable, element);\n",
              "          const docLink = document.createElement('div');\n",
              "          docLink.innerHTML = docLinkHtml;\n",
              "          element.appendChild(docLink);\n",
              "        }\n",
              "      </script>\n",
              "    </div>\n",
              "  </div>\n",
              "  "
            ]
          },
          "metadata": {},
          "execution_count": 67
        },
        {
          "output_type": "stream",
          "name": "stdout",
          "text": [
            "<class 'pandas.core.frame.DataFrame'>\n",
            "RangeIndex: 7 entries, 0 to 6\n",
            "Data columns (total 22 columns):\n",
            " #   Column                Non-Null Count  Dtype  \n",
            "---  ------                --------------  -----  \n",
            " 0   date                  7 non-null      object \n",
            " 1   age                   7 non-null      int64  \n",
            " 2   gender                7 non-null      object \n",
            " 3   dominant_race         7 non-null      object \n",
            " 4   dominant_emotion      7 non-null      object \n",
            " 5   region_x              7 non-null      int64  \n",
            " 6   region_y              7 non-null      int64  \n",
            " 7   region_w              7 non-null      int64  \n",
            " 8   region_h              7 non-null      int64  \n",
            " 9   race_asian            7 non-null      float64\n",
            " 10  race_indian           7 non-null      float64\n",
            " 11  race_black            7 non-null      float64\n",
            " 12  race_white            7 non-null      float64\n",
            " 13  race_middle eastern   7 non-null      float64\n",
            " 14  race_latino hispanic  7 non-null      float64\n",
            " 15  emotion_angry         7 non-null      float64\n",
            " 16  emotion_disgust       7 non-null      float64\n",
            " 17  emotion_fear          7 non-null      float64\n",
            " 18  emotion_happy         7 non-null      float64\n",
            " 19  emotion_sad           7 non-null      float64\n",
            " 20  emotion_surprise      7 non-null      float64\n",
            " 21  emotion_neutral       7 non-null      float64\n",
            "dtypes: float64(13), int64(5), object(4)\n",
            "memory usage: 1.3+ KB\n"
          ]
        }
      ]
    },
    {
      "cell_type": "code",
      "source": [],
      "metadata": {
        "id": "9ukcJ7C7fdj-"
      },
      "execution_count": null,
      "outputs": []
    }
  ]
}